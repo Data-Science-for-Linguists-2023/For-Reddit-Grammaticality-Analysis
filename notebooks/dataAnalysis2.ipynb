{
 "cells": [
  {
   "cell_type": "markdown",
   "id": "16b4bce0",
   "metadata": {},
   "source": [
    "# Data Analysis 2"
   ]
  },
  {
   "cell_type": "markdown",
   "id": "48f56a6c",
   "metadata": {},
   "source": [
    "This notebook is ***NEW CONTINUING*** from previous notebooks in the [notebooks](https://github.com/Data-Science-for-Linguists-2023/For-Reddit-Grammaticality-Analysis/tree/main/notebooks) folder. Therefore, before reading through this notebook, I recommend going through [Data Collection](https://github.com/Data-Science-for-Linguists-2023/For-Reddit-Grammaticality-Analysis/blob/main/notebooks/dataCollection.ipynb), [Data Organization](https://github.com/Data-Science-for-Linguists-2023/For-Reddit-Grammaticality-Analysis/blob/main/notebooks/dataOrganization.ipynb), and then [Data Analysis 1](https://github.com/Data-Science-for-Linguists-2023/For-Reddit-Grammaticality-Analysis/blob/main/notebooks/dataAnalysis1.ipynb), in that order."
   ]
  },
  {
   "cell_type": "markdown",
   "id": "5ed0280a",
   "metadata": {},
   "source": [
    "## Setting Up"
   ]
  },
  {
   "cell_type": "code",
   "execution_count": 1,
   "id": "7053dc43",
   "metadata": {},
   "outputs": [],
   "source": [
    "# Start with importing our libraries\n",
    "import language_tool_python as ltp  # Using this as a grammaticality parser\n",
    "import pandas as pd \n",
    "import numpy as np\n",
    "import nltk\n",
    "import re"
   ]
  },
  {
   "cell_type": "code",
   "execution_count": 2,
   "id": "218b1b5e",
   "metadata": {},
   "outputs": [],
   "source": [
    "# This sets up our parsing tool\n",
    "tool = ltp.LanguageTool('en-US')"
   ]
  },
  {
   "cell_type": "code",
   "execution_count": 3,
   "id": "aad69d7a",
   "metadata": {},
   "outputs": [],
   "source": [
    "# Using pandas to read csv files in \n",
    "\n",
    "legalAdvice = pd.read_csv(\"../final-data/finalLegalData.csv\", index_col = 0)\n",
    "adulting = pd.read_csv('../final-data/finalAdData.csv', index_col = 0)\n",
    "medicine = pd.read_csv('../final-data/finalMedData.csv', index_col = 0)\n",
    "highschool = pd.read_csv('../final-data/finalHsData.csv', index_col = 0)\n",
    "broadway = pd.read_csv('../final-data/finalBwayData.csv', index_col = 0)\n",
    "pittsburgh = pd.read_csv('../final-data/finalPghData.csv', index_col = 0)\n",
    "rant = pd.read_csv('../final-data/finalRantData.csv', index_col = 0)\n",
    "ccq = pd.read_csv('../final-data/finalCcqData.csv', index_col = 0)\n",
    "anime = pd.read_csv('../final-data/finalAnimeData.csv', index_col = 0)\n",
    "eli5 = pd.read_csv('../final-data/finalElifData.csv', index_col = 0)\n",
    "college = pd.read_csv('../final-data/finalCollegeData.csv', index_col = 0)\n",
    "sports = pd.read_csv('../final-data/finalSportsData.csv', index_col = 0)\n",
    "crypto = pd.read_csv('../final-data/finalCryptoData.csv', index_col = 0)\n",
    "lawyertalk = pd.read_csv('../final-data/finalLawyerData.csv', index_col = 0)\n",
    "gaming = pd.read_csv('../final-data/finalGamingData.csv', index_col = 0)"
   ]
  },
  {
   "cell_type": "code",
   "execution_count": 4,
   "id": "664ca019",
   "metadata": {
    "scrolled": true
   },
   "outputs": [
    {
     "data": {
      "text/html": [
       "<div>\n",
       "<style scoped>\n",
       "    .dataframe tbody tr th:only-of-type {\n",
       "        vertical-align: middle;\n",
       "    }\n",
       "\n",
       "    .dataframe tbody tr th {\n",
       "        vertical-align: top;\n",
       "    }\n",
       "\n",
       "    .dataframe thead th {\n",
       "        text-align: right;\n",
       "    }\n",
       "</style>\n",
       "<table border=\"1\" class=\"dataframe\">\n",
       "  <thead>\n",
       "    <tr style=\"text-align: right;\">\n",
       "      <th></th>\n",
       "      <th>Title</th>\n",
       "      <th>Id</th>\n",
       "      <th>Text</th>\n",
       "      <th>Author</th>\n",
       "      <th>Number of Comments</th>\n",
       "      <th>Number of Upvotes</th>\n",
       "      <th>Ratio of Upvotes</th>\n",
       "    </tr>\n",
       "  </thead>\n",
       "  <tbody>\n",
       "    <tr>\n",
       "      <th>0</th>\n",
       "      <td>Moon Week 37</td>\n",
       "      <td>11t058d</td>\n",
       "      <td>Hello everyone and welcome to Moon Week for ro...</td>\n",
       "      <td>MoonWeek</td>\n",
       "      <td>668</td>\n",
       "      <td>102</td>\n",
       "      <td>0.88</td>\n",
       "    </tr>\n",
       "    <tr>\n",
       "      <th>1</th>\n",
       "      <td>Daily General Discussion - March 19, 2023 (GMT+0)</td>\n",
       "      <td>11v58f9</td>\n",
       "      <td>**Welcome to the Daily General Discussion thre...</td>\n",
       "      <td>CryptoDaily-</td>\n",
       "      <td>5390</td>\n",
       "      <td>82</td>\n",
       "      <td>0.94</td>\n",
       "    </tr>\n",
       "    <tr>\n",
       "      <th>2</th>\n",
       "      <td>I went to the supermarket here in Venezuela an...</td>\n",
       "      <td>11vnevt</td>\n",
       "      <td>Hi guys, as you probably know I'm Venezuelan l...</td>\n",
       "      <td>WorkingLime</td>\n",
       "      <td>630</td>\n",
       "      <td>979</td>\n",
       "      <td>0.85</td>\n",
       "    </tr>\n",
       "    <tr>\n",
       "      <th>3</th>\n",
       "      <td>Having An Emergency Fund Is One Of The Most Im...</td>\n",
       "      <td>11vqd67</td>\n",
       "      <td>I rarely hear people recommend having an emerg...</td>\n",
       "      <td>kirtash93</td>\n",
       "      <td>172</td>\n",
       "      <td>87</td>\n",
       "      <td>0.80</td>\n",
       "    </tr>\n",
       "    <tr>\n",
       "      <th>4</th>\n",
       "      <td>I just realized i lost about 900$</td>\n",
       "      <td>11vw1ps</td>\n",
       "      <td>I was kinda active at one time in here, moved ...</td>\n",
       "      <td>KermitTheFrogo01</td>\n",
       "      <td>88</td>\n",
       "      <td>30</td>\n",
       "      <td>0.86</td>\n",
       "    </tr>\n",
       "    <tr>\n",
       "      <th>...</th>\n",
       "      <td>...</td>\n",
       "      <td>...</td>\n",
       "      <td>...</td>\n",
       "      <td>...</td>\n",
       "      <td>...</td>\n",
       "      <td>...</td>\n",
       "      <td>...</td>\n",
       "    </tr>\n",
       "    <tr>\n",
       "      <th>418</th>\n",
       "      <td>Don't Let Hackers Drain Your Crypto Wallets: S...</td>\n",
       "      <td>11t0wcb</td>\n",
       "      <td>I decided to create this post because of the e...</td>\n",
       "      <td>kirtash93</td>\n",
       "      <td>36</td>\n",
       "      <td>15</td>\n",
       "      <td>0.70</td>\n",
       "    </tr>\n",
       "    <tr>\n",
       "      <th>419</th>\n",
       "      <td>Storing Your Seed Phrase (give me a better ide...</td>\n",
       "      <td>11t0j05</td>\n",
       "      <td>Obviously, there are a lot of opinions on how ...</td>\n",
       "      <td>Nonchalant_Calypso</td>\n",
       "      <td>216</td>\n",
       "      <td>25</td>\n",
       "      <td>0.75</td>\n",
       "    </tr>\n",
       "    <tr>\n",
       "      <th>420</th>\n",
       "      <td>Noob question about cold storage</td>\n",
       "      <td>11t0bda</td>\n",
       "      <td>I've looked into it and I still have some ques...</td>\n",
       "      <td>Randompersonxxxx</td>\n",
       "      <td>26</td>\n",
       "      <td>5</td>\n",
       "      <td>0.78</td>\n",
       "    </tr>\n",
       "    <tr>\n",
       "      <th>421</th>\n",
       "      <td>Moon Week 37</td>\n",
       "      <td>11t058d</td>\n",
       "      <td>Hello everyone and welcome to Moon Week for ro...</td>\n",
       "      <td>MoonWeek</td>\n",
       "      <td>697</td>\n",
       "      <td>113</td>\n",
       "      <td>0.89</td>\n",
       "    </tr>\n",
       "    <tr>\n",
       "      <th>422</th>\n",
       "      <td>Vault access issue desktop vs. mobile</td>\n",
       "      <td>11t0255</td>\n",
       "      <td>Not sure if anyone has heard of this problem o...</td>\n",
       "      <td>misterjoego</td>\n",
       "      <td>25</td>\n",
       "      <td>4</td>\n",
       "      <td>0.83</td>\n",
       "    </tr>\n",
       "  </tbody>\n",
       "</table>\n",
       "<p>1500 rows × 7 columns</p>\n",
       "</div>"
      ],
      "text/plain": [
       "                                                 Title       Id  \\\n",
       "0                                         Moon Week 37  11t058d   \n",
       "1    Daily General Discussion - March 19, 2023 (GMT+0)  11v58f9   \n",
       "2    I went to the supermarket here in Venezuela an...  11vnevt   \n",
       "3    Having An Emergency Fund Is One Of The Most Im...  11vqd67   \n",
       "4                    I just realized i lost about 900$  11vw1ps   \n",
       "..                                                 ...      ...   \n",
       "418  Don't Let Hackers Drain Your Crypto Wallets: S...  11t0wcb   \n",
       "419  Storing Your Seed Phrase (give me a better ide...  11t0j05   \n",
       "420                   Noob question about cold storage  11t0bda   \n",
       "421                                       Moon Week 37  11t058d   \n",
       "422              Vault access issue desktop vs. mobile  11t0255   \n",
       "\n",
       "                                                  Text              Author  \\\n",
       "0    Hello everyone and welcome to Moon Week for ro...            MoonWeek   \n",
       "1    **Welcome to the Daily General Discussion thre...        CryptoDaily-   \n",
       "2    Hi guys, as you probably know I'm Venezuelan l...         WorkingLime   \n",
       "3    I rarely hear people recommend having an emerg...           kirtash93   \n",
       "4    I was kinda active at one time in here, moved ...    KermitTheFrogo01   \n",
       "..                                                 ...                 ...   \n",
       "418  I decided to create this post because of the e...           kirtash93   \n",
       "419  Obviously, there are a lot of opinions on how ...  Nonchalant_Calypso   \n",
       "420  I've looked into it and I still have some ques...    Randompersonxxxx   \n",
       "421  Hello everyone and welcome to Moon Week for ro...            MoonWeek   \n",
       "422  Not sure if anyone has heard of this problem o...         misterjoego   \n",
       "\n",
       "     Number of Comments  Number of Upvotes  Ratio of Upvotes  \n",
       "0                   668                102              0.88  \n",
       "1                  5390                 82              0.94  \n",
       "2                   630                979              0.85  \n",
       "3                   172                 87              0.80  \n",
       "4                    88                 30              0.86  \n",
       "..                  ...                ...               ...  \n",
       "418                  36                 15              0.70  \n",
       "419                 216                 25              0.75  \n",
       "420                  26                  5              0.78  \n",
       "421                 697                113              0.89  \n",
       "422                  25                  4              0.83  \n",
       "\n",
       "[1500 rows x 7 columns]"
      ]
     },
     "execution_count": 4,
     "metadata": {},
     "output_type": "execute_result"
    }
   ],
   "source": [
    "crypto"
   ]
  },
  {
   "cell_type": "code",
   "execution_count": 5,
   "id": "6d5fb690",
   "metadata": {},
   "outputs": [],
   "source": [
    "allSportsVals = list(sports['Text'].values)\n",
    "allLegalVals = list(legalAdvice['Text'].values)\n",
    "allAdultVals = list(adulting['Text'].values)\n",
    "allMedVals = list(medicine['Text'].values)\n",
    "allHsVals = list(highschool['Text'].values)\n",
    "allBwayVals = list(broadway['Text'].values)\n",
    "allPghVals = list(pittsburgh['Text'].values)\n",
    "allRantVals = list(rant['Text'].values)\n",
    "allCcqVals = list(ccq['Text'].values)\n",
    "allAnimeVals = list(anime['Text'].values)\n",
    "allEli5Vals = list(eli5['Text'].values)\n",
    "allCollegeVals = list(college['Text'].values)\n",
    "allCryptoVals = list(crypto['Text'].values)\n",
    "allLawyerVals = list(lawyertalk['Text'].values)\n",
    "allGamingVals = list(gaming['Text'].values)\n",
    "\n",
    "sportsErrors, legalErrors, adultErrors, medErrors, hsErrors, bwayErrors, pghErrors, rantErrors, ccqErrors, animeErrors, eli5Errors, collegeErrors, cryptoErrors, lawyerErrors, gamingErrors = [], [], [], [], [], [], [], [], [], [], [], [], [], [], []\n"
   ]
  },
  {
   "cell_type": "code",
   "execution_count": 22,
   "id": "7003ca13",
   "metadata": {},
   "outputs": [
    {
     "name": "stdout",
     "output_type": "stream",
     "text": [
      "Done processing\n"
     ]
    }
   ],
   "source": [
    "[sportsErrors.append(tool.check(x)) for x in allSportsVals]\n",
    "[legalErrors.append(tool.check(x)) for x in allLegalVals]\n",
    "[adultErrors.append(tool.check(x)) for x in allAdultVals]\n",
    "[medErrors.append(tool.check(x)) for x in allMedVals]\n",
    "[hsErrors.append(tool.check(x)) for x in allHsVals]\n",
    "[bwayErrors.append(tool.check(x)) for x in allBwayVals]\n",
    "[pghErrors.append(tool.check(x)) for x in allPghVals]\n",
    "[rantErrors.append(tool.check(x)) for x in allRantVals]\n",
    "[ccqErrors.append(tool.check(x)) for x in allCcqVals]\n",
    "[animeErrors.append(tool.check(x)) for x in allAnimeVals]\n",
    "[eli5Errors.append(tool.check(x)) for x in allEli5Vals]\n",
    "[collegeErrors.append(tool.check(x)) for x in allCollegeVals]\n",
    "[cryptoErrors.append(tool.check(x)) for x in allCryptoVals]\n",
    "[lawyerErrors.append(tool.check(x)) for x in allLawyerVals]\n",
    "[gamingErrors.append(tool.check(x)) for x in allGamingVals]\n",
    "print(\"Done processing\")"
   ]
  },
  {
   "cell_type": "markdown",
   "id": "d260b428",
   "metadata": {},
   "source": [
    "for later reference, let's show the errors, and then remove morfologik rules because most of them are just typos, and that doesn't really tell us much. let's all remove similar errors, such as the pokemon rule, etc and keep going through typos that appear in top 10 until we have a set of top 10 errors that make sense for our focus. After that, make some graphs. Also maybe want to try and see if the tool has any pitfalls. can we get an accuracy score? is that too ambitious? could we get the # of sentences and calculate how many sentences have errors over total number of errors"
   ]
  },
  {
   "cell_type": "markdown",
   "id": "50daf617",
   "metadata": {},
   "source": [
    "## Where Do We Go With Our Analysis?"
   ]
  },
  {
   "cell_type": "markdown",
   "id": "033d0ecc",
   "metadata": {},
   "source": [
    "After our analysis last time, we discovered the most frequently occuring grammatical errors in each of the subreddits. Here it is again for reference:\n",
    "\n",
    "**COMMA_COMPOUND_SENTENCE** - Legal Advice, Adulting, College\n",
    "\n",
    "**MORFOLOGIK_RULE_EN_US** - Medicine, Highschool, Broadway, Pittsburgh, Rant, Ccq, Anime, Eli5, Sports, Cryptocurrency, Lawyer Talk, Gaming\n",
    "\n",
    "Let's take a closer look at what each of these errors looks like."
   ]
  },
  {
   "cell_type": "code",
   "execution_count": 23,
   "id": "22003775",
   "metadata": {},
   "outputs": [
    {
     "data": {
      "text/plain": [
       "[]"
      ]
     },
     "execution_count": 23,
     "metadata": {},
     "output_type": "execute_result"
    }
   ],
   "source": [
    "hsErrors[6]"
   ]
  },
  {
   "cell_type": "markdown",
   "id": "e9462160",
   "metadata": {},
   "source": [
    "As seen above, we have two MORFOLOGIK_RULE_EN_US rules broken. Specifically, with ruleIssueType of 'misspelling'. Let's explore just how prominent 'misspelling' ruleIssueTypes are."
   ]
  },
  {
   "cell_type": "code",
   "execution_count": 24,
   "id": "66d68f26",
   "metadata": {},
   "outputs": [],
   "source": [
    "misspellingErrors = []"
   ]
  },
  {
   "cell_type": "code",
   "execution_count": 25,
   "id": "6b9b31eb",
   "metadata": {},
   "outputs": [],
   "source": [
    "def addingErrors(subreddit):\n",
    "    counter = 0\n",
    "    counterAll = 0\n",
    "    for x in subreddit:\n",
    "        if x:\n",
    "            counterAll += 1\n",
    "            for y in x:\n",
    "                if y.ruleIssueType == 'misspelling':\n",
    "                    counter += 1\n",
    "                    misspellingErrors.append(y)\n",
    "                    break\n",
    "    print(str(counter) + ', ' + str(counterAll))"
   ]
  },
  {
   "cell_type": "code",
   "execution_count": 26,
   "id": "1e52ef3a",
   "metadata": {},
   "outputs": [
    {
     "name": "stdout",
     "output_type": "stream",
     "text": [
      "1675, 1907\n",
      "1224, 2180\n",
      "1124, 2172\n",
      "1405, 1913\n",
      "1329, 1955\n",
      "1276, 1828\n",
      "1001, 1735\n",
      "1551, 2167\n",
      "1232, 1992\n",
      "1851, 2077\n",
      "657, 1381\n",
      "1171, 2161\n",
      "1886, 2188\n",
      "957, 1845\n",
      "1324, 1848\n"
     ]
    }
   ],
   "source": [
    "addingErrors(sportsErrors)\n",
    "addingErrors(legalErrors)\n",
    "addingErrors(adultErrors)\n",
    "addingErrors(medErrors)\n",
    "addingErrors(hsErrors)\n",
    "addingErrors(bwayErrors)\n",
    "addingErrors(pghErrors)\n",
    "addingErrors(rantErrors)\n",
    "addingErrors(ccqErrors)\n",
    "addingErrors(animeErrors)\n",
    "addingErrors(eli5Errors)\n",
    "addingErrors(collegeErrors)\n",
    "addingErrors(cryptoErrors)\n",
    "addingErrors(lawyerErrors)\n",
    "addingErrors(gamingErrors)"
   ]
  },
  {
   "cell_type": "code",
   "execution_count": 27,
   "id": "d78b121f",
   "metadata": {
    "scrolled": true
   },
   "outputs": [
    {
     "name": "stdout",
     "output_type": "stream",
     "text": [
      "18352\n",
      "13509\n"
     ]
    }
   ],
   "source": [
    "total1 =  1269 + 1301 + 1290 + 1231 + 1229 + 1178 + 1085 + 1340 + 1240 + 1372 + 828 + 1272 + 1423 + 1102 + 1192\n",
    "total2 = 1153 + 823 + 766 + 977 + 916+ 902+ 718+ 1032+ 860+ 1259+ 466+ 777+ 1272+ 658+ 930\n",
    "print(total1)\n",
    "print(total2)"
   ]
  },
  {
   "cell_type": "markdown",
   "id": "0d52b7bb",
   "metadata": {},
   "source": [
    "Wow. That means in all of the 18352 errors, 13509 of them are misspelling errors. That is 73.61% of all of the errors. Let's explore some of these misspelling errors to see whats going on."
   ]
  },
  {
   "cell_type": "markdown",
   "id": "e9aca352",
   "metadata": {},
   "source": [
    "In this instance, the language tool has detected a genuine spelling error. Using context, one can conclude that this person meant to say \"one\" instead of \"ione\"."
   ]
  },
  {
   "cell_type": "code",
   "execution_count": 44,
   "id": "28195e52",
   "metadata": {},
   "outputs": [
    {
     "data": {
      "text/plain": [
       "Match({'ruleId': 'MORFOLOGIK_RULE_EN_US', 'message': 'Possible spelling mistake found.', 'replacements': ['one', 'done', 'gone', 'none', 'zone', 'bone', 'tone', 'cone', 'ion', 'ions', 'lone', 'hone', 'pone', 'ICNE', 'INE', 'ONE', 'i one', 'ION'], 'offsetInContext': 26, 'context': 'I (43f) have been married ione time about 20ish years ago.  We were yo...', 'offset': 26, 'errorLength': 4, 'category': 'TYPOS', 'ruleIssueType': 'misspelling', 'sentence': 'I (43f) have been married ione time about 20ish years ago.'})"
      ]
     },
     "execution_count": 44,
     "metadata": {},
     "output_type": "execute_result"
    }
   ],
   "source": [
    "misspellingErrors[2203]"
   ]
  },
  {
   "cell_type": "markdown",
   "id": "591b82bf",
   "metadata": {},
   "source": [
    "In this instance, however, the language tool has detected a spelling error, however it is not a true spelling error. The tool has an issue with the word \"Embiid\", when this is the last name of someone(Joel Embiid, NBA player). This isn't an actual error, but the tool believes that it is. The same thing happens in the error below it, with the name of an application, 'CashApp'."
   ]
  },
  {
   "cell_type": "code",
   "execution_count": 28,
   "id": "6633b346",
   "metadata": {
    "scrolled": true
   },
   "outputs": [
    {
     "data": {
      "text/plain": [
       "Match({'ruleId': 'MORFOLOGIK_RULE_EN_US', 'message': 'Possible spelling mistake found.', 'replacements': ['Embed'], 'offsetInContext': 43, 'context': '...ng. Both have won one game a piece, but Embiid has outplayed Jokic H2H and visually lo...', 'offset': 175, 'errorLength': 6, 'category': 'TYPOS', 'ruleIssueType': 'misspelling', 'sentence': 'Both have won one game a piece, but Embiid has outplayed Jokic H2H and visually looks like the better player with more dominant scoring and defense when they play each other.'})"
      ]
     },
     "execution_count": 28,
     "metadata": {},
     "output_type": "execute_result"
    }
   ],
   "source": [
    "misspellingErrors[1226]"
   ]
  },
  {
   "cell_type": "code",
   "execution_count": 74,
   "id": "8d11ae48",
   "metadata": {
    "scrolled": true
   },
   "outputs": [
    {
     "data": {
      "text/plain": [
       "Match({'ruleId': 'MORFOLOGIK_RULE_EN_US', 'message': 'Possible spelling mistake found.', 'replacements': ['Shape', 'Cash', 'Sharp', 'Casual', 'Camshaft', 'Cascade', 'Sasha', 'Cashed', 'Cashier', 'Cassava', 'Champ', 'Mishap', 'Mishaps', 'ASAP', 'Caspar', 'Cathay', 'Cashes', 'Cashew', 'Cashing', 'Chap', 'Geisha', 'Pasha', 'Reshape', 'Casals', 'Tasha', 'Chaps', 'Carnap', 'Cassatt', 'Keisha', 'Cashews', 'Pashas', 'Carhop', 'Casuals', 'Cardsharp', 'Carhops', 'Cascara', 'Sashay', 'Sashays', 'Casaba', 'Catnaps', 'CASA', 'CCSPP', 'CESAP', 'CIAPP', 'SHARP', 'Asap', 'Canape', 'Cashback', 'Catnap', 'Chappy', 'Mashup', 'Mashups', 'ASCAP', 'Asha', 'Bashar', 'C-shaped', 'CASHU', 'Cassady', 'Castaño', 'Chapo', 'Dasha', 'Rashad', 'Rashawn', 'Canapé', 'Cashable', 'Cashout', 'Unsharp'], 'offsetInContext': 43, 'context': '...ent to pay a friend in Pennsylvania via CashApp for shipping my gear back to me here in...', 'offset': 43, 'errorLength': 7, 'category': 'TYPOS', 'ruleIssueType': 'misspelling', 'sentence': 'I went to pay a friend in Pennsylvania via CashApp for shipping my gear back to me here in Florida.'})"
      ]
     },
     "execution_count": 74,
     "metadata": {},
     "output_type": "execute_result"
    }
   ],
   "source": [
    "misspellingErrors[2311]"
   ]
  },
  {
   "cell_type": "markdown",
   "id": "9960871a",
   "metadata": {},
   "source": [
    "In this instance, the language tool detects a spelling error, but its validity is debatable. The person who wrote the post decided to shorten \"tickets\" to \"tix\", a valid way of saying tickets online. Therefore, in the context of this post, this isn't really a grammatical error of much substance."
   ]
  },
  {
   "cell_type": "code",
   "execution_count": null,
   "id": "e25f227e",
   "metadata": {},
   "outputs": [],
   "source": [
    "misspellingErrors[5555]"
   ]
  },
  {
   "cell_type": "markdown",
   "id": "1e9a3fce",
   "metadata": {},
   "source": [
    "In this instance, the language too detects a spelling error, but its validity is debatable. The tool does not like the word 'yinzer', which is a word that is used, and is seen as valid, in a particular region. Therefore, this isn't a grammatical error of much substance."
   ]
  },
  {
   "cell_type": "code",
   "execution_count": 140,
   "id": "7696dc15",
   "metadata": {},
   "outputs": [
    {
     "data": {
      "text/plain": [
       "Match({'ruleId': 'MORFOLOGIK_RULE_EN_US', 'message': 'Possible spelling mistake found.', 'replacements': ['singer', 'inner', 'winner', 'winter', 'dinner', 'inter', 'finger', 'liner', 'winger', 'Singer', 'diner', 'finer', 'ginger', 'hinder', 'infer', 'miner', 'Ginger', 'binder', 'cinder', 'finder', 'Pinter', 'kinder', 'linger', 'linker', 'pincer', 'ringer', 'sinner', 'sinker', 'tinder', 'tinker', 'yonder', 'minder', 'winder', 'hinter', 'pinker', 'sizer', 'tinier', 'mincer', 'minter', 'winker', 'zinger', 'dinker', 'pinier', 'winier', 'Finder', 'Tinder', 'linter', 'panzer', 'sinter'], 'offsetInContext': 43, 'context': '... and political junkie asking historical yinzer questions.   What if indeed there were ...', 'offset': 53, 'errorLength': 6, 'category': 'TYPOS', 'ruleIssueType': 'misspelling', 'sentence': 'Local history and political junkie asking historical yinzer questions.'})"
      ]
     },
     "execution_count": 140,
     "metadata": {},
     "output_type": "execute_result"
    }
   ],
   "source": [
    "misspellingErrors[8249]"
   ]
  },
  {
   "cell_type": "markdown",
   "id": "3a670960",
   "metadata": {},
   "source": [
    "In the instances below, the language tool detects spelling errors that are more relevant to what I am looking for. For example, it detects an issue with using 'an' instead of 'a', not uppercasing the letter 'I', an adjective not fitting in a sentence, and not adding an apostrophe to a word. "
   ]
  },
  {
   "cell_type": "code",
   "execution_count": 33,
   "id": "5b34d82a",
   "metadata": {},
   "outputs": [
    {
     "data": {
      "text/plain": [
       "Match({'ruleId': 'EN_A_VS_AN', 'message': 'Use “an” instead of ‘a’ if the following word starts with a vowel sound, e.g. ‘an article’, ‘an hour’.', 'replacements': ['an'], 'offsetInContext': 11, 'context': '67 wins is a 82% win percentage, which no other team...', 'offset': 11, 'errorLength': 1, 'category': 'MISC', 'ruleIssueType': 'misspelling', 'sentence': '67 wins is a 82% win percentage, which no other team besides the 2016-17 Warriors reached after the Spurs.'})"
      ]
     },
     "execution_count": 33,
     "metadata": {},
     "output_type": "execute_result"
    }
   ],
   "source": [
    "misspellingErrors[70]"
   ]
  },
  {
   "cell_type": "code",
   "execution_count": 77,
   "id": "9a235d17",
   "metadata": {},
   "outputs": [
    {
     "data": {
      "text/plain": [
       "Match({'ruleId': 'EN_CONTRACTION_SPELLING', 'message': 'Possible spelling mistake found.', 'replacements': [\"I'm\"], 'offsetInContext': 43, 'context': '... don’t feel like they would understand. Im 22f my birthday is next Wednesday and I...', 'offset': 89, 'errorLength': 2, 'category': 'TYPOS', 'ruleIssueType': 'misspelling', 'sentence': \"Im 22f my birthday is next Wednesday and I've never been more discouraged.\"})"
      ]
     },
     "execution_count": 77,
     "metadata": {},
     "output_type": "execute_result"
    }
   ],
   "source": [
    "misspellingErrors[3310]"
   ]
  },
  {
   "cell_type": "code",
   "execution_count": 35,
   "id": "48c8a7bd",
   "metadata": {},
   "outputs": [
    {
     "data": {
      "text/plain": [
       "Match({'ruleId': 'I_LOWERCASE', 'message': 'The personal pronoun “I” should be uppercase.', 'replacements': ['I'], 'offsetInContext': 0, 'context': 'i want to be fucking done with high schoo...', 'offset': 0, 'errorLength': 1, 'category': 'TYPOS', 'ruleIssueType': 'misspelling', 'sentence': 'i want to be fucking done with high school.'})"
      ]
     },
     "execution_count": 35,
     "metadata": {},
     "output_type": "execute_result"
    }
   ],
   "source": [
    "misspellingErrors[6246]"
   ]
  },
  {
   "cell_type": "code",
   "execution_count": 36,
   "id": "4896cd6f",
   "metadata": {},
   "outputs": [
    {
     "data": {
      "text/plain": [
       "Match({'ruleId': 'ADJECTIVE_ADVERB', 'message': 'The word “simple” is an adjective and doesn’t fit in this context. Did you mean the adverb “simply”?', 'replacements': ['simply'], 'offsetInContext': 43, 'context': '...e out. I want to be independent, but we simple can’t afford it and don’t have anyone w...', 'offset': 398, 'errorLength': 6, 'category': 'CONFUSED_WORDS', 'ruleIssueType': 'misspelling', 'sentence': \"I want to be independent, but we simple can't afford it and don't have anyone who wants to move out.\"})"
      ]
     },
     "execution_count": 36,
     "metadata": {},
     "output_type": "execute_result"
    }
   ],
   "source": [
    "misspellingErrors[2936]"
   ]
  },
  {
   "cell_type": "markdown",
   "id": "4ad9aaf9",
   "metadata": {},
   "source": [
    "So... what does that mean for our analysis?\n",
    "\n",
    "Well, as we saw above, the language tool isn't always correct. It categorizes people's names, regional words, and internet slang as misspellings. Although the language tool is benefical as a whole, it was not meant to deal with online discourse in a lot of ways demonstrated over. For the purposes of this project, I believe it would be best to remove matches that have both 'ruleId' equal to 'MORFOLOGIK_RULE_EN_US' and 'ruleIssueType' equal to 'misspelling'. This would remove many of the non-typos from consideration. However, this would remove genuine typos from these errors. However, errors do not really say a lot about the grammaticality of a post in the first place."
   ]
  },
  {
   "cell_type": "code",
   "execution_count": 141,
   "id": "f9317f68",
   "metadata": {},
   "outputs": [
    {
     "name": "stdout",
     "output_type": "stream",
     "text": [
      "Done\n"
     ]
    }
   ],
   "source": [
    "# For each subreddit, append the rule id to the list\n",
    "simplifiedColErrors, simplifiedSportsErrors, simplifiedLegalErrors, simplifiedAdultErrors, simplifiedMedErrors, simplifiedHsErrors, simplifiedBwayErrors, simplifiedPghErrors, simplifiedRantErrors, simplifiedCcqErrors, simplifiedAnimeErrors, simplifiedEli5Errors, simplifiedCryptoErrors, simplifiedLawyerErrors, simplifiedGamingErrors  = [], [], [], [], [], [], [], [], [], [], [], [], [], [], []\n",
    "[simplifiedColErrors.append(y.ruleId) for x in collegeErrors for y in x]\n",
    "\n",
    "[simplifiedSportsErrors.append(y.ruleId) for x in sportsErrors for y in x]\n",
    "[simplifiedLegalErrors.append(y.ruleId) for x in legalErrors for y in x]\n",
    "[simplifiedAdultErrors.append(y.ruleId) for x in adultErrors for y in x]\n",
    "[simplifiedMedErrors.append(y.ruleId) for x in medErrors for y in x]\n",
    "[simplifiedHsErrors.append(y.ruleId) for x in hsErrors for y in x]\n",
    "[simplifiedBwayErrors.append(y.ruleId) for x in bwayErrors for y in x]\n",
    "[simplifiedPghErrors.append(y.ruleId) for x in pghErrors for y in x]\n",
    "[simplifiedRantErrors.append(y.ruleId) for x in rantErrors for y in x]\n",
    "[simplifiedCcqErrors.append(y.ruleId) for x in ccqErrors for y in x]\n",
    "[simplifiedAnimeErrors.append(y.ruleId) for x in animeErrors for y in x]\n",
    "[simplifiedEli5Errors.append(y.ruleId) for x in eli5Errors for y in x]\n",
    "[simplifiedCryptoErrors.append(y.ruleId) for x in cryptoErrors for y in x]\n",
    "[simplifiedLawyerErrors.append(y.ruleId) for x in lawyerErrors for y in x]\n",
    "[simplifiedGamingErrors.append(y.ruleId) for x in gamingErrors for y in x]\n",
    "\n",
    "print(\"Done\")"
   ]
  },
  {
   "cell_type": "code",
   "execution_count": 231,
   "id": "66396c19",
   "metadata": {},
   "outputs": [],
   "source": [
    "allErrors = set(simplifiedColErrors + simplifiedSportsErrors + simplifiedLegalErrors + simplifiedAdultErrors \n",
    "    + simplifiedMedErrors + simplifiedHsErrors + simplifiedBwayErrors + simplifiedPghErrors + simplifiedRantErrors\n",
    "   + simplifiedCcqErrors + simplifiedAnimeErrors + simplifiedEli5Errors + simplifiedCryptoErrors + \n",
    "   simplifiedLawyerErrors + simplifiedGamingErrors)\n",
    "allErrors.remove('MORFOLOGIK_RULE_EN_US')\n",
    "allErrors.remove('IDK')\n",
    "allErrors.remove('POKEMON')\n",
    "allErrors.remove('ENGLISH_WORD_REPEAT_BEGINNING_RULE')"
   ]
  },
  {
   "cell_type": "code",
   "execution_count": 232,
   "id": "a41838ed",
   "metadata": {},
   "outputs": [],
   "source": [
    "def countThis(errors, new):\n",
    "    for x in allErrors:\n",
    "        y = errors.count(x)\n",
    "        new.append((x, y))"
   ]
  },
  {
   "cell_type": "code",
   "execution_count": 233,
   "id": "40df37eb",
   "metadata": {},
   "outputs": [],
   "source": [
    "# Declaring a bunch of lists\n",
    "col, sp, le, ad, med, hs, bway, pgh, rant, ccq, ani, eli5, cry, law, gam = [], [], [], [], [], [], [], [], [], [], [], [], [], [], []\n",
    "\n",
    "countThis(simplifiedColErrors, col)\n",
    "countThis(simplifiedSportsErrors, sp)\n",
    "countThis(simplifiedLegalErrors, le)\n",
    "countThis(simplifiedAdultErrors, ad)\n",
    "countThis(simplifiedMedErrors, med)\n",
    "countThis(simplifiedHsErrors, hs)\n",
    "countThis(simplifiedBwayErrors, bway)\n",
    "countThis(simplifiedPghErrors, pgh)\n",
    "countThis(simplifiedRantErrors, rant)\n",
    "countThis(simplifiedCcqErrors, ccq)\n",
    "countThis(simplifiedAnimeErrors, ani)\n",
    "countThis(simplifiedEli5Errors, eli5)\n",
    "countThis(simplifiedCryptoErrors, cry)\n",
    "countThis(simplifiedLawyerErrors, law)\n",
    "countThis(simplifiedGamingErrors, gam)"
   ]
  },
  {
   "cell_type": "code",
   "execution_count": 234,
   "id": "8d1a175d",
   "metadata": {},
   "outputs": [
    {
     "data": {
      "text/plain": [
       "[('WANNA', 104),\n",
       " ('COMMA_PARENTHESIS_WHITESPACE', 143),\n",
       " ('EN_COMPOUNDS', 184),\n",
       " ('COMMA_COMPOUND_SENTENCE_2', 213),\n",
       " ('WHITESPACE_RULE', 220),\n",
       " ('EN_CONTRACTION_SPELLING', 259),\n",
       " ('UPPERCASE_SENTENCE_START', 677),\n",
       " ('I_LOWERCASE', 1509),\n",
       " ('COMMA_COMPOUND_SENTENCE', 2185)]"
      ]
     },
     "execution_count": 234,
     "metadata": {},
     "output_type": "execute_result"
    }
   ],
   "source": [
    "col.sort(key = lambda x: x[1])\n",
    "col[1013:]"
   ]
  },
  {
   "cell_type": "code",
   "execution_count": 235,
   "id": "6ff977c4",
   "metadata": {},
   "outputs": [
    {
     "data": {
      "text/plain": [
       "[('COMMA_PARENTHESIS_WHITESPACE', 89),\n",
       " ('EN_CONTRACTION_SPELLING', 91),\n",
       " ('UPPERCASE_SENTENCE_START', 109),\n",
       " ('SENTENCE_WHITESPACE', 113),\n",
       " ('COMMA_COMPOUND_SENTENCE_2', 122),\n",
       " ('EN_DIACRITICS_REPLACE', 138),\n",
       " ('EN_UNPAIRED_BRACKETS', 148),\n",
       " ('COMMA_COMPOUND_SENTENCE', 456),\n",
       " ('WHITESPACE_RULE', 1821)]"
      ]
     },
     "execution_count": 235,
     "metadata": {},
     "output_type": "execute_result"
    }
   ],
   "source": [
    "sp.sort(key = lambda x: x[1])\n",
    "sp[1013:]"
   ]
  },
  {
   "cell_type": "code",
   "execution_count": 236,
   "id": "50fbe393",
   "metadata": {},
   "outputs": [
    {
     "data": {
      "text/plain": [
       "[('POSSESSIVE_APOSTROPHE', 140),\n",
       " ('COMMA_PARENTHESIS_WHITESPACE', 181),\n",
       " ('EN_CONTRACTION_SPELLING', 203),\n",
       " ('EN_COMPOUNDS', 310),\n",
       " ('COMMA_COMPOUND_SENTENCE_2', 325),\n",
       " ('WHITESPACE_RULE', 458),\n",
       " ('UPPERCASE_SENTENCE_START', 575),\n",
       " ('I_LOWERCASE', 851),\n",
       " ('COMMA_COMPOUND_SENTENCE', 2911)]"
      ]
     },
     "execution_count": 236,
     "metadata": {},
     "output_type": "execute_result"
    }
   ],
   "source": [
    "le.sort(key = lambda x: x[1])\n",
    "le[1013:]"
   ]
  },
  {
   "cell_type": "code",
   "execution_count": 237,
   "id": "e9fe41f0",
   "metadata": {},
   "outputs": [
    {
     "data": {
      "text/plain": [
       "[('ETC_PERIOD', 105),\n",
       " ('COMMA_PARENTHESIS_WHITESPACE', 138),\n",
       " ('EN_CONTRACTION_SPELLING', 229),\n",
       " ('COMMA_COMPOUND_SENTENCE_2', 265),\n",
       " ('EN_COMPOUNDS', 268),\n",
       " ('UPPERCASE_SENTENCE_START', 502),\n",
       " ('WHITESPACE_RULE', 769),\n",
       " ('I_LOWERCASE', 993),\n",
       " ('COMMA_COMPOUND_SENTENCE', 2640)]"
      ]
     },
     "execution_count": 237,
     "metadata": {},
     "output_type": "execute_result"
    }
   ],
   "source": [
    "ad.sort(key = lambda x: x[1])\n",
    "ad[1013:]"
   ]
  },
  {
   "cell_type": "code",
   "execution_count": 238,
   "id": "653147d6",
   "metadata": {},
   "outputs": [
    {
     "data": {
      "text/plain": [
       "[('EN_UNPAIRED_BRACKETS', 74),\n",
       " ('I_LOWERCASE', 78),\n",
       " ('COMMA_PARENTHESIS_WHITESPACE', 79),\n",
       " ('COMMA_COMPOUND_SENTENCE_2', 124),\n",
       " ('EN_CONTRACTION_SPELLING', 143),\n",
       " ('UPPERCASE_SENTENCE_START', 174),\n",
       " ('EN_COMPOUNDS', 178),\n",
       " ('WHITESPACE_RULE', 598),\n",
       " ('COMMA_COMPOUND_SENTENCE', 765)]"
      ]
     },
     "execution_count": 238,
     "metadata": {},
     "output_type": "execute_result"
    }
   ],
   "source": [
    "med.sort(key = lambda x: x[1])\n",
    "med[1013:]"
   ]
  },
  {
   "cell_type": "code",
   "execution_count": 239,
   "id": "40d25052",
   "metadata": {},
   "outputs": [
    {
     "data": {
      "text/plain": [
       "[('WANNA', 117),\n",
       " ('GONNA', 132),\n",
       " ('COMMA_PARENTHESIS_WHITESPACE', 162),\n",
       " ('COMMA_COMPOUND_SENTENCE_2', 200),\n",
       " ('WHITESPACE_RULE', 338),\n",
       " ('EN_CONTRACTION_SPELLING', 361),\n",
       " ('UPPERCASE_SENTENCE_START', 1128),\n",
       " ('COMMA_COMPOUND_SENTENCE', 1879),\n",
       " ('I_LOWERCASE', 2041)]"
      ]
     },
     "execution_count": 239,
     "metadata": {},
     "output_type": "execute_result"
    }
   ],
   "source": [
    "hs.sort(key = lambda x: x[1])\n",
    "hs[1013:]"
   ]
  },
  {
   "cell_type": "code",
   "execution_count": 240,
   "id": "af28d5b6",
   "metadata": {},
   "outputs": [
    {
     "data": {
      "text/plain": [
       "[('COMMA_PARENTHESIS_WHITESPACE', 65),\n",
       " ('DOUBLE_PUNCTUATION', 66),\n",
       " ('EN_COMPOUNDS', 96),\n",
       " ('I_LOWERCASE', 105),\n",
       " ('UPPERCASE_SENTENCE_START', 117),\n",
       " ('COMMA_COMPOUND_SENTENCE_2', 120),\n",
       " ('HE_VERB_AGR', 173),\n",
       " ('WHITESPACE_RULE', 234),\n",
       " ('COMMA_COMPOUND_SENTENCE', 697)]"
      ]
     },
     "execution_count": 240,
     "metadata": {},
     "output_type": "execute_result"
    }
   ],
   "source": [
    "pgh.sort(key = lambda x: x[1])\n",
    "pgh[1013:]"
   ]
  },
  {
   "cell_type": "code",
   "execution_count": 241,
   "id": "9fdf2dfb",
   "metadata": {},
   "outputs": [
    {
     "data": {
      "text/plain": [
       "[('GONNA', 165),\n",
       " ('COMMA_PARENTHESIS_WHITESPACE', 239),\n",
       " ('COMMA_COMPOUND_SENTENCE_2', 277),\n",
       " ('WHITESPACE_RULE', 361),\n",
       " ('EN_COMPOUNDS', 402),\n",
       " ('EN_CONTRACTION_SPELLING', 535),\n",
       " ('UPPERCASE_SENTENCE_START', 1142),\n",
       " ('I_LOWERCASE', 1854),\n",
       " ('COMMA_COMPOUND_SENTENCE', 2627)]"
      ]
     },
     "execution_count": 241,
     "metadata": {},
     "output_type": "execute_result"
    }
   ],
   "source": [
    "rant.sort(key = lambda x: x[1])\n",
    "rant[1013:]"
   ]
  },
  {
   "cell_type": "code",
   "execution_count": 242,
   "id": "3e90affb",
   "metadata": {},
   "outputs": [
    {
     "data": {
      "text/plain": [
       "[('SENT_START_CONJUNCTIVE_LINKING_ADVERB_COMMA', 122),\n",
       " ('COMMA_PARENTHESIS_WHITESPACE', 147),\n",
       " ('UPPERCASE_SENTENCE_START', 192),\n",
       " ('EN_CONTRACTION_SPELLING', 197),\n",
       " ('COMMA_COMPOUND_SENTENCE_2', 199),\n",
       " ('EN_COMPOUNDS', 211),\n",
       " ('I_LOWERCASE', 447),\n",
       " ('WHITESPACE_RULE', 634),\n",
       " ('COMMA_COMPOUND_SENTENCE', 1659)]"
      ]
     },
     "execution_count": 242,
     "metadata": {},
     "output_type": "execute_result"
    }
   ],
   "source": [
    "ccq.sort(key = lambda x: x[1])\n",
    "ccq[1013:]"
   ]
  },
  {
   "cell_type": "code",
   "execution_count": 243,
   "id": "f0514665",
   "metadata": {},
   "outputs": [
    {
     "data": {
      "text/plain": [
       "[('EN_COMPOUNDS', 128),\n",
       " ('EN_UNPAIRED_BRACKETS', 128),\n",
       " ('EN_CONTRACTION_SPELLING', 135),\n",
       " ('COMMA_PARENTHESIS_WHITESPACE', 278),\n",
       " ('UPPERCASE_SENTENCE_START', 309),\n",
       " ('SENTENCE_WHITESPACE', 328),\n",
       " ('I_LOWERCASE', 488),\n",
       " ('WHITESPACE_RULE', 623),\n",
       " ('COMMA_COMPOUND_SENTENCE', 687)]"
      ]
     },
     "execution_count": 243,
     "metadata": {},
     "output_type": "execute_result"
    }
   ],
   "source": [
    "ani.sort(key = lambda x: x[1])\n",
    "ani[1013:]"
   ]
  },
  {
   "cell_type": "code",
   "execution_count": 244,
   "id": "ff35689b",
   "metadata": {},
   "outputs": [
    {
     "data": {
      "text/plain": [
       "[('COMMA_PARENTHESIS_WHITESPACE', 41),\n",
       " ('UNIT_SPACE', 44),\n",
       " ('EN_COMPOUNDS', 53),\n",
       " ('EN_CONTRACTION_SPELLING', 73),\n",
       " ('WHITESPACE_RULE', 99),\n",
       " ('UPPERCASE_SENTENCE_START', 116),\n",
       " ('I_LOWERCASE', 134),\n",
       " ('COMMA_COMPOUND_SENTENCE_2', 157),\n",
       " ('COMMA_COMPOUND_SENTENCE', 374)]"
      ]
     },
     "execution_count": 244,
     "metadata": {},
     "output_type": "execute_result"
    }
   ],
   "source": [
    "eli5.sort(key = lambda x: x[1])\n",
    "eli5[1013:]"
   ]
  },
  {
   "cell_type": "code",
   "execution_count": 245,
   "id": "fac629ac",
   "metadata": {},
   "outputs": [
    {
     "data": {
      "text/plain": [
       "[('EN_CONTRACTION_SPELLING', 206),\n",
       " ('EN_UNPAIRED_BRACKETS', 231),\n",
       " ('COMMA_COMPOUND_SENTENCE_2', 233),\n",
       " ('I_LOWERCASE', 306),\n",
       " ('EN_COMPOUNDS', 315),\n",
       " ('UPPERCASE_SENTENCE_START', 318),\n",
       " ('COMMA_PARENTHESIS_WHITESPACE', 411),\n",
       " ('COMMA_COMPOUND_SENTENCE', 1330),\n",
       " ('WHITESPACE_RULE', 4413)]"
      ]
     },
     "execution_count": 245,
     "metadata": {},
     "output_type": "execute_result"
    }
   ],
   "source": [
    "cry.sort(key = lambda x: x[1])\n",
    "cry[1013:]"
   ]
  },
  {
   "cell_type": "code",
   "execution_count": 246,
   "id": "c64191f5",
   "metadata": {},
   "outputs": [
    {
     "data": {
      "text/plain": [
       "[('AM_I', 76),\n",
       " ('EN_CONTRACTION_SPELLING', 85),\n",
       " ('HE_VERB_AGR', 100),\n",
       " ('COMMA_COMPOUND_SENTENCE_2', 159),\n",
       " ('EN_COMPOUNDS', 229),\n",
       " ('UPPERCASE_SENTENCE_START', 244),\n",
       " ('WHITESPACE_RULE', 245),\n",
       " ('I_LOWERCASE', 273),\n",
       " ('COMMA_COMPOUND_SENTENCE', 1143)]"
      ]
     },
     "execution_count": 246,
     "metadata": {},
     "output_type": "execute_result"
    }
   ],
   "source": [
    "law.sort(key = lambda x: x[1])\n",
    "law[1013:]"
   ]
  },
  {
   "cell_type": "code",
   "execution_count": 247,
   "id": "16343bd0",
   "metadata": {},
   "outputs": [
    {
     "data": {
      "text/plain": [
       "[('EN_COMPOUNDS', 129),\n",
       " ('COMMA_COMPOUND_SENTENCE_2', 180),\n",
       " ('COMMA_PARENTHESIS_WHITESPACE', 194),\n",
       " ('EN_SPECIFIC_CASE', 247),\n",
       " ('EN_CONTRACTION_SPELLING', 262),\n",
       " ('WHITESPACE_RULE', 355),\n",
       " ('UPPERCASE_SENTENCE_START', 356),\n",
       " ('I_LOWERCASE', 576),\n",
       " ('COMMA_COMPOUND_SENTENCE', 964)]"
      ]
     },
     "execution_count": 247,
     "metadata": {},
     "output_type": "execute_result"
    }
   ],
   "source": [
    "gam.sort(key = lambda x: x[1])\n",
    "gam[1013:]"
   ]
  },
  {
   "cell_type": "markdown",
   "id": "5cc0c443",
   "metadata": {},
   "source": [
    "Let's take a closer look at COMMA_COMPOUND_SENTENCE, as it is in the top 2 most common errors for all of the subreddits"
   ]
  },
  {
   "cell_type": "code",
   "execution_count": 179,
   "id": "53dfd36f",
   "metadata": {},
   "outputs": [
    {
     "data": {
      "text/plain": [
       "[Match({'ruleId': 'COMMA_COMPOUND_SENTENCE', 'message': 'Use a comma before ‘and’ if it connects two independent clauses (unless they are closely connected and short).', 'replacements': [', and'], 'offsetInContext': 43, 'context': '.... “They’re still young, they’re talented and you can’t take anybody lightly, especia...', 'offset': 386, 'errorLength': 4, 'category': 'PUNCTUATION', 'ruleIssueType': 'typographical', 'sentence': \"“They're still young, they're talented and you can't take anybody lightly, especially at this point in the season.”\"}),\n",
       " Match({'ruleId': 'MORFOLOGIK_RULE_EN_US', 'message': 'Possible spelling mistake found.', 'replacements': ['Galen', 'Jaden', 'Jaylen', 'Jaén'], 'offsetInContext': 43, 'context': '...ul generation of the Rockets club. With Jalen Green, Alperen Sengun, and Jabari Smith...', 'offset': 619, 'errorLength': 5, 'category': 'TYPOS', 'ruleIssueType': 'misspelling', 'sentence': 'With Jalen Green, Alperen Sengun, and Jabari Smith Jr., Houston is currently taking its time for a gradual rebuilding phase following the Harden era.\\xa0'}),\n",
       " Match({'ruleId': 'MORFOLOGIK_RULE_EN_US', 'message': 'Possible spelling mistake found.', 'replacements': ['Appear', 'Appears', 'Learn', 'Altered', 'Clean', 'Altar', 'Allan', 'Altars', 'Aldermen', 'Algiers', 'Alpert', 'Allergen', 'Ampere', 'Amperes', 'Altair', 'Alvaro', 'Alpaca', 'Glean', 'Aldan', 'Alphard', 'Amparo', 'Alain', 'Calpain', 'Álvaro'], 'offsetInContext': 43, 'context': '... of the Rockets club. With Jalen Green, Alperen Sengun, and Jabari Smith Jr., Houston i...', 'offset': 632, 'errorLength': 7, 'category': 'TYPOS', 'ruleIssueType': 'misspelling', 'sentence': 'With Jalen Green, Alperen Sengun, and Jabari Smith Jr., Houston is currently taking its time for a gradual rebuilding phase following the Harden era.\\xa0'}),\n",
       " Match({'ruleId': 'MORFOLOGIK_RULE_EN_US', 'message': 'Possible spelling mistake found.', 'replacements': ['Sen gun'], 'offsetInContext': 43, 'context': '...Rockets club. With Jalen Green, Alperen Sengun, and Jabari Smith Jr., Houston is curre...', 'offset': 640, 'errorLength': 6, 'category': 'TYPOS', 'ruleIssueType': 'misspelling', 'sentence': 'With Jalen Green, Alperen Sengun, and Jabari Smith Jr., Houston is currently taking its time for a gradual rebuilding phase following the Harden era.\\xa0'}),\n",
       " Match({'ruleId': 'MORFOLOGIK_RULE_EN_US', 'message': 'Possible spelling mistake found.', 'replacements': ['Atari', 'Safari', 'Jamar', 'Qatari', 'Harari', 'Janeiro', 'Abaci', 'Tabard'], 'offsetInContext': 43, 'context': '.... With Jalen Green, Alperen Sengun, and Jabari Smith Jr., Houston is currently taking ...', 'offset': 652, 'errorLength': 6, 'category': 'TYPOS', 'ruleIssueType': 'misspelling', 'sentence': 'With Jalen Green, Alperen Sengun, and Jabari Smith Jr., Houston is currently taking its time for a gradual rebuilding phase following the Harden era.\\xa0'}),\n",
       " Match({'ruleId': 'EN_UNPAIRED_BRACKETS', 'message': 'Unpaired symbol: ‘”’ seems to be missing', 'replacements': [], 'offsetInContext': 43, 'context': '...is,” Thompson continued in his\\xa0presser. “The Rockets I used to play in the 2010s ...', 'offset': 863, 'errorLength': 1, 'category': 'PUNCTUATION', 'ruleIssueType': 'typographical', 'sentence': '“The Rockets I used to play in the 2010s were seasoned vets, all littered throughout that roster.'}),\n",
       " Match({'ruleId': 'COMMA_COMPOUND_SENTENCE', 'message': 'Use a comma before ‘and’ if it connects two independent clauses (unless they are closely connected and short).', 'replacements': [', and'], 'offsetInContext': 43, 'context': '...best players in that franchise’s history and they brought on CP too.  > “They had su...', 'offset': 1032, 'errorLength': 4, 'category': 'PUNCTUATION', 'ruleIssueType': 'typographical', 'sentence': \"Obviously, James is one of the best players in that franchise's history and they brought on CP too.\"}),\n",
       " Match({'ruleId': 'COMMA_COMPOUND_SENTENCE', 'message': 'Use a comma before ‘and’ if it connects two independent clauses (unless they are closely connected and short).', 'replacements': [', and'], 'offsetInContext': 43, 'context': '... a great team that almost knocked us off and I had a lot of respect for those Rocket...', 'offset': 1118, 'errorLength': 4, 'category': 'PUNCTUATION', 'ruleIssueType': 'typographical', 'sentence': '> “They had such a great team that almost knocked us off and I had a lot of respect for those Rockets teams and now I just feel old playing these young bucks.”'}),\n",
       " Match({'ruleId': 'COMMA_COMPOUND_SENTENCE', 'message': 'Use a comma before ‘and’ if it connects two independent clauses (unless they are closely connected and short).', 'replacements': [', and'], 'offsetInContext': 43, 'context': '...a lot of respect for those Rockets teams and now I just feel old playing these young...', 'offset': 1169, 'errorLength': 4, 'category': 'PUNCTUATION', 'ruleIssueType': 'typographical', 'sentence': '> “They had such a great team that almost knocked us off and I had a lot of respect for those Rockets teams and now I just feel old playing these young bucks.”'}),\n",
       " Match({'ruleId': 'MORFOLOGIK_RULE_EN_US', 'message': 'Possible spelling mistake found.', 'replacements': ['Play', 'Lay', 'Clay', 'Kay', 'Klein', 'Klan', 'Slay', 'Flay', 'Olay'], 'offsetInContext': 43, 'context': '...old playing these young bucks.”   Same, Klay, same. Time really flies so fast. That ...', 'offset': 1230, 'errorLength': 4, 'category': 'TYPOS', 'ruleIssueType': 'misspelling', 'sentence': 'Same, Klay, same.'})]"
      ]
     },
     "execution_count": 179,
     "metadata": {},
     "output_type": "execute_result"
    }
   ],
   "source": [
    "sportsErrors[1]"
   ]
  },
  {
   "cell_type": "markdown",
   "id": "e279ef4b",
   "metadata": {},
   "source": [
    "\"They're still young, they're talented and you can't take anybody lightly, especially at this point in the season.\"\n",
    "\n",
    "\"Obviously, James is one of the best players in that franchise's history and they brought on CP too.\"\n",
    "\n",
    "\"They had such a great team that almost knocked us off and I had a lot of respect for those Rockets teams and now I just feel old playing these young bucks\"\n",
    "\n",
    "These are just a few of the example sentences that the language tool believes is breaking the COMMA_COMPOUND_SENTENCE rule. In online discourse, it seems like this rule is most often forgotten. It could be that be due to a variety of reasons, such as someone not knowing where to appropriately place a comma in a compound sentence, or someone just not caring when it comes to online writing. In any case, it seems like this rule is the most forgotten across all of the subreddits. In fact, the ELI5 subreddit actually has COMMA_COMPOUND_SENTENCE as the top error and COMMA_COMPOUND_SENTENCE_2 as their second most common error. The COMMA_COMPOUND_SENTENCE_2 is shown below. It is a variation of the COMMA_COMPOUND_SENTENCE rule, but deals with the word 'but' instead of 'and'"
   ]
  },
  {
   "cell_type": "code",
   "execution_count": 192,
   "id": "125037a7",
   "metadata": {},
   "outputs": [
    {
     "data": {
      "text/plain": [
       "[Match({'ruleId': 'COMMA_COMPOUND_SENTENCE_2', 'message': 'Use a comma before ‘but’ if it connects two independent clauses (unless they are closely connected and short).', 'replacements': [', but'], 'offsetInContext': 43, 'context': '... higher the zoom the higher the aperture but that is the best I understood from like...', 'offset': 57, 'errorLength': 4, 'category': 'PUNCTUATION', 'ruleIssueType': 'typographical', 'sentence': 'So apparently the higher the zoom the higher the aperture but that is the best I understood from like 10 different articles.'})]"
      ]
     },
     "execution_count": 192,
     "metadata": {},
     "output_type": "execute_result"
    }
   ],
   "source": [
    "eli5Errors[13]"
   ]
  },
  {
   "cell_type": "markdown",
   "id": "e652fb30",
   "metadata": {},
   "source": [
    "Let's explore other errors that occur in the top 3 of each subreddit."
   ]
  },
  {
   "cell_type": "markdown",
   "id": "05b3123b",
   "metadata": {},
   "source": [
    "I_LOWERCASE is also another fairly common error. This one occurs when a person does not make 'I' uppercase. An example of this can be seen below. This error is most likely due to people either not caring or not realizing that it is not uppercase. In any case, a lowercase 'I' does not affect the meaning of the sentence while reading, and therefore people may not care enough to correct it."
   ]
  },
  {
   "cell_type": "code",
   "execution_count": 201,
   "id": "1f10fd9f",
   "metadata": {
    "scrolled": true
   },
   "outputs": [
    {
     "data": {
      "text/plain": [
       "[Match({'ruleId': 'I_LOWERCASE', 'message': 'The personal pronoun “I” should be uppercase.', 'replacements': ['I'], 'offsetInContext': 7, 'context': 'How do i get batter at the game? I keep dying in...', 'offset': 7, 'errorLength': 1, 'category': 'TYPOS', 'ruleIssueType': 'misspelling', 'sentence': 'How do i get batter at the game?'}),\n",
       " Match({'ruleId': 'COMMA_COMPOUND_SENTENCE', 'message': 'Use a comma before ‘and’ if it connects two independent clauses (unless they are closely connected and short).', 'replacements': [', and'], 'offsetInContext': 43, 'context': \"...ything at this point. I'm also burnt out and I'm only in the third area. (Undead vil...\", 'offset': 235, 'errorLength': 4, 'category': 'PUNCTUATION', 'ruleIssueType': 'typographical', 'sentence': \"I'm also burnt out and I'm only in the third area.\"})]"
      ]
     },
     "execution_count": 201,
     "metadata": {},
     "output_type": "execute_result"
    }
   ],
   "source": [
    "gamingErrors[8]"
   ]
  },
  {
   "cell_type": "markdown",
   "id": "31ec89c0",
   "metadata": {},
   "source": [
    "UPPERCASE_SENTENCE_START can be seen below. The name implies what the error is, which is that a person does not uppercase the letter at the beginning of a sentence. The cause of this error can be hypothesized similarly to the error above, which is just due to the fact that not uppercasing the first letter of a sentence has no effect on the meaning of a sentence."
   ]
  },
  {
   "cell_type": "code",
   "execution_count": 229,
   "id": "8ded9692",
   "metadata": {},
   "outputs": [
    {
     "data": {
      "text/plain": [
       "[Match({'ruleId': 'UPPERCASE_SENTENCE_START', 'message': 'This sentence does not start with an uppercase letter.', 'replacements': ['Or'], 'offsetInContext': 37, 'context': 'A new game living up to your hype?   or   A game that exceeds all your expectat...', 'offset': 37, 'errorLength': 2, 'category': 'CASING', 'ruleIssueType': 'typographical', 'sentence': 'or'}),\n",
       " Match({'ruleId': 'COMMA_COMPOUND_SENTENCE', 'message': 'Use a comma before ‘but’ if it connects two independent clauses (unless they are closely connected and short).', 'replacements': [', but'], 'offsetInContext': 43, 'context': '...Thinking it would be mid or bad at first but you end up loving it when you actually ...', 'offset': 125, 'errorLength': 4, 'category': 'PUNCTUATION', 'ruleIssueType': 'typographical', 'sentence': 'A game that exceeds all your expectations (Thinking it would be mid or bad at first but you end up loving it when you actually play it)?'})]"
      ]
     },
     "execution_count": 229,
     "metadata": {},
     "output_type": "execute_result"
    }
   ],
   "source": [
    "gamingErrors[45]"
   ]
  },
  {
   "cell_type": "markdown",
   "id": "cb9e83ad",
   "metadata": {},
   "source": [
    "COMMA_PARENTHESIS_WHITESPACE is regarding putting a space in between a word and a comma. This is a very simple error to make, just simply adding an extra space on accident. I don't think this has a huge effect on the grammaticality of a sentence."
   ]
  },
  {
   "cell_type": "code",
   "execution_count": 260,
   "id": "5b7bac88",
   "metadata": {},
   "outputs": [
    {
     "data": {
      "text/plain": [
       "[Match({'ruleId': 'EN_COMPOUNDS', 'message': 'This word is normally spelled with a hyphen.', 'replacements': ['back-ups'], 'offsetInContext': 43, 'context': '...honest most of us do not have necessary back ups or plans for all of them. Will you be a...', 'offset': 106, 'errorLength': 8, 'category': 'MISC', 'ruleIssueType': 'misspelling', 'sentence': \"There are many things that can go wrong with crypto, and let's be honest most of us do not have necessary back ups or plans for all of them.\"}),\n",
       " Match({'ruleId': 'COMMA_PARENTHESIS_WHITESPACE', 'message': 'Put a space after the comma, but not before the comma.', 'replacements': [','], 'offsetInContext': 43, 'context': '...These are questions we never want to see , but we *should* be able to answer them ...', 'offset': 655, 'errorLength': 2, 'category': 'TYPOGRAPHY', 'ruleIssueType': 'whitespace', 'sentence': 'These are questions we never want to see , but we *should* be able to answer them just in case.'}),\n",
       " Match({'ruleId': 'EVERYDAY_EVERY_DAY', 'message': '‘Everyday’ is an adjective. Did you mean “every day”?', 'replacements': ['every day'], 'offsetInContext': 43, 'context': '...likely things happen to a lot of people everyday...   So with that being said, please do...', 'offset': 988, 'errorLength': 8, 'category': 'CONFUSED_WORDS', 'ruleIssueType': 'misspelling', 'sentence': \"I thought well that's an extremely unlikely thing but extremely unlikely things happen to a lot of people everyday...\"})]"
      ]
     },
     "execution_count": 260,
     "metadata": {},
     "output_type": "execute_result"
    }
   ],
   "source": [
    "cryptoErrors[13]"
   ]
  },
  {
   "cell_type": "markdown",
   "id": "942b8860",
   "metadata": {},
   "source": [
    "WHITESPACE_RULE is similar to the error above. It just entails adding an additional space in between words. Again, this doesn't tell me a lot about the grammaticality of a post."
   ]
  },
  {
   "cell_type": "code",
   "execution_count": 276,
   "id": "ef2a6f10",
   "metadata": {},
   "outputs": [
    {
     "data": {
      "text/plain": [
       "[Match({'ruleId': 'WHITESPACE_RULE', 'message': 'Possible typo: you repeated a whitespace', 'replacements': [' '], 'offsetInContext': 8, 'context': 'What are  some of  the examples of characters savi...', 'offset': 8, 'errorLength': 2, 'category': 'TYPOGRAPHY', 'ruleIssueType': 'whitespace', 'sentence': \"What are  some of  the examples of characters saving others while the person himself doesn't move out of the way and just stand there like he accepted his fate\"}),\n",
       " Match({'ruleId': 'SOME_OF_THE', 'message': 'If the text is a generality, ‘of the’ is not necessary.', 'replacements': ['some'], 'offsetInContext': 10, 'context': 'What are  some of  the examples of characters saving others wh...', 'offset': 10, 'errorLength': 12, 'category': 'REDUNDANCY', 'ruleIssueType': 'style', 'sentence': \"What are  some of  the examples of characters saving others while the person himself doesn't move out of the way and just stand there like he accepted his fate\"})]"
      ]
     },
     "execution_count": 276,
     "metadata": {},
     "output_type": "execute_result"
    }
   ],
   "source": [
    "animeErrors[40]"
   ]
  },
  {
   "cell_type": "markdown",
   "id": "f985d529",
   "metadata": {},
   "source": [
    "**SUMMARY**\n",
    "\n",
    "What have I discovered? Well, it seems like the language tool, while overall beneficial, also has its own issues in regards to what I am trying to analyze. Specifically, this tool is not equipped to deal with people's names, internet slang, or regional words. It marks these words as errors, which is not helpful for my analysis. In addition, it often has an issue with the way sentences are formatted, such as adding an additional space in between words. Although this is an error when parsing, it is not a helpful error for my project. \n",
    "\n",
    "However, I did uncover some interesting things about the top errors of the subreddits. COMMA_COMPOUND_SENTENCE s"
   ]
  }
 ],
 "metadata": {
  "kernelspec": {
   "display_name": "Python 3 (ipykernel)",
   "language": "python",
   "name": "python3"
  },
  "language_info": {
   "codemirror_mode": {
    "name": "ipython",
    "version": 3
   },
   "file_extension": ".py",
   "mimetype": "text/x-python",
   "name": "python",
   "nbconvert_exporter": "python",
   "pygments_lexer": "ipython3",
   "version": "3.9.13"
  }
 },
 "nbformat": 4,
 "nbformat_minor": 5
}
