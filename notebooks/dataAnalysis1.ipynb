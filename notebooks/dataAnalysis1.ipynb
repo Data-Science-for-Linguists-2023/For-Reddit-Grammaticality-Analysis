{
 "cells": [
  {
   "cell_type": "markdown",
   "id": "6a3be5fd",
   "metadata": {},
   "source": [
    "# Data Analysis"
   ]
  },
  {
   "cell_type": "markdown",
   "id": "7ca863bc",
   "metadata": {},
   "source": [
    "This notebook is ***NEW CONTINUING*** from previous notebooks in the [notebooks](https://github.com/Data-Science-for-Linguists-2023/For-Reddit-Grammaticality-Analysis/tree/main/notebooks) folder. Therefore, Before reading through this notebook, I recommend going through:\n",
    "1. [Data Collection](https://github.com/Data-Science-for-Linguists-2023/For-Reddit-Grammaticality-Analysis/blob/main/notebooks/dataCollection.ipynb)\n",
    "2. [Data Organization](https://github.com/Data-Science-for-Linguists-2023/For-Reddit-Grammaticality-Analysis/blob/main/notebooks/dataOrganization.ipynb)"
   ]
  },
  {
   "cell_type": "markdown",
   "id": "7015f71b",
   "metadata": {},
   "source": [
    "In notebooks prior, I have worked on collecting the data from various subreddits and cleaning up that data in a dataframe. In this notebook, I will begin the process of data analysis. Specifically, I will be using [language-tool-python](https://pypi.org/project/language-tool-python/) to parse through the various posts in different subreddits. Let's begin!"
   ]
  },
  {
   "cell_type": "code",
   "execution_count": 1,
   "id": "321b5f17",
   "metadata": {},
   "outputs": [
    {
     "name": "stdout",
     "output_type": "stream",
     "text": [
      "Requirement already satisfied: language-tool-python in /Users/camrynsimons/opt/anaconda3/lib/python3.9/site-packages (2.7.1)\n",
      "Requirement already satisfied: requests in /Users/camrynsimons/opt/anaconda3/lib/python3.9/site-packages (from language-tool-python) (2.28.1)\n",
      "Requirement already satisfied: tqdm in /Users/camrynsimons/opt/anaconda3/lib/python3.9/site-packages (from language-tool-python) (4.64.1)\n",
      "Requirement already satisfied: certifi>=2017.4.17 in /Users/camrynsimons/opt/anaconda3/lib/python3.9/site-packages (from requests->language-tool-python) (2022.9.24)\n",
      "Requirement already satisfied: urllib3<1.27,>=1.21.1 in /Users/camrynsimons/opt/anaconda3/lib/python3.9/site-packages (from requests->language-tool-python) (1.26.11)\n",
      "Requirement already satisfied: idna<4,>=2.5 in /Users/camrynsimons/opt/anaconda3/lib/python3.9/site-packages (from requests->language-tool-python) (3.3)\n",
      "Requirement already satisfied: charset-normalizer<3,>=2 in /Users/camrynsimons/opt/anaconda3/lib/python3.9/site-packages (from requests->language-tool-python) (2.0.4)\n",
      "Note: you may need to restart the kernel to use updated packages.\n"
     ]
    }
   ],
   "source": [
    "pip install language-tool-python"
   ]
  },
  {
   "cell_type": "code",
   "execution_count": 2,
   "id": "16a381b3",
   "metadata": {},
   "outputs": [],
   "source": [
    "# Start with importing our libraries\n",
    "import language_tool_python as ltp  # Using this as a grammaticality parser\n",
    "import pandas as pd \n",
    "import numpy as np\n",
    "import nltk\n",
    "import re"
   ]
  },
  {
   "cell_type": "code",
   "execution_count": 3,
   "id": "43ad399a",
   "metadata": {},
   "outputs": [],
   "source": [
    "# This sets up our parsing tool\n",
    "tool = ltp.LanguageTool('en-US')"
   ]
  },
  {
   "cell_type": "markdown",
   "id": "b173142e",
   "metadata": {},
   "source": [
    "Let's begin by reading in our final CSV files, created in the dataOrganization notebook."
   ]
  },
  {
   "cell_type": "code",
   "execution_count": 4,
   "id": "62ddb0f0",
   "metadata": {},
   "outputs": [],
   "source": [
    "# Using pandas to read csv files in \n",
    "\n",
    "legalAdvice = pd.read_csv(\"../final-data/finalLegalData.csv\")\n",
    "adulting = pd.read_csv('../final-data/finalAdData.csv')\n",
    "medicine = pd.read_csv('../final-data/finalMedData.csv')\n",
    "highschool = pd.read_csv('../final-data/finalHsData.csv')\n",
    "broadway = pd.read_csv('../final-data/finalBwayData.csv')\n",
    "pittsburgh = pd.read_csv('../final-data/finalPghData.csv')\n",
    "rant = pd.read_csv('../final-data/finalRantData.csv')\n",
    "ccq = pd.read_csv('../final-data/finalCcqData.csv')\n",
    "anime = pd.read_csv('../final-data/finalAnimeData.csv')\n",
    "eli5 = pd.read_csv('../final-data/finalElifData.csv')\n",
    "college = pd.read_csv('../final-data/finalCollegeData.csv')\n",
    "sports = pd.read_csv('../final-data/finalSportsData.csv')\n",
    "crypto = pd.read_csv('../final-data/finalCryptoData.csv')\n",
    "lawyertalk = pd.read_csv('../final-data/finalLawyerData.csv')\n",
    "gaming = pd.read_csv('../final-data/finalGamingData.csv')"
   ]
  },
  {
   "cell_type": "markdown",
   "id": "e3f3d833",
   "metadata": {},
   "source": [
    "Removing the random column from the CSV files"
   ]
  },
  {
   "cell_type": "code",
   "execution_count": 5,
   "id": "397d7155",
   "metadata": {},
   "outputs": [],
   "source": [
    "# Drop the \"Unnamed: 0\" column\n",
    "legalAdvice = legalAdvice.drop('Unnamed: 0', axis = 1)\n",
    "adulting = adulting.drop('Unnamed: 0', axis = 1)\n",
    "medicine = medicine.drop('Unnamed: 0', axis = 1)\n",
    "highschool = highschool.drop('Unnamed: 0', axis = 1)\n",
    "broadway = broadway.drop('Unnamed: 0', axis = 1)\n",
    "pittsburgh = pittsburgh.drop('Unnamed: 0', axis = 1)\n",
    "rant = rant.drop('Unnamed: 0', axis = 1)\n",
    "ccq = ccq.drop('Unnamed: 0', axis = 1)\n",
    "anime = anime.drop('Unnamed: 0', axis = 1)\n",
    "eli5 = eli5.drop('Unnamed: 0', axis = 1)\n",
    "college = college.drop('Unnamed: 0', axis = 1)\n",
    "sports = sports.drop('Unnamed: 0', axis = 1)\n",
    "crypto = crypto.drop('Unnamed: 0', axis = 1)\n",
    "lawyertalk = lawyertalk.drop('Unnamed: 0', axis = 1)\n",
    "gaming = gaming.drop('Unnamed: 0', axis = 1)"
   ]
  },
  {
   "cell_type": "markdown",
   "id": "53983b8b",
   "metadata": {},
   "source": [
    "Let's get a refresher on what the dataframe looks like. Each subreddit dataframe contains:\n",
    "1. Title - The title of the post\n",
    "2. Id - The ID of the post\n",
    "3. Text - The actual contents of the post\n",
    "4. Author - The user that wrote the post\n",
    "5. Number of Comments - The number of comments the post has\n",
    "6. Number of upvotes - The number of upvotes the post has\n",
    "7. Ratio of Upvotes - The ratio of upvotes to downvotes\n",
    "\n",
    "**1, 2 4**: Not super relevant for our purposes right now, mostly to keep track of these posts if they need to be searched on Reddit\n",
    "\n",
    "**3**: Relevant for our purposes right now, will be working with this part shortly\n",
    "\n",
    "**5 - 7**: Not super relevant to our purposes right now, will potentially work with this information in the future."
   ]
  },
  {
   "cell_type": "code",
   "execution_count": 6,
   "id": "d0b902cc",
   "metadata": {},
   "outputs": [
    {
     "data": {
      "text/html": [
       "<div>\n",
       "<style scoped>\n",
       "    .dataframe tbody tr th:only-of-type {\n",
       "        vertical-align: middle;\n",
       "    }\n",
       "\n",
       "    .dataframe tbody tr th {\n",
       "        vertical-align: top;\n",
       "    }\n",
       "\n",
       "    .dataframe thead th {\n",
       "        text-align: right;\n",
       "    }\n",
       "</style>\n",
       "<table border=\"1\" class=\"dataframe\">\n",
       "  <thead>\n",
       "    <tr style=\"text-align: right;\">\n",
       "      <th></th>\n",
       "      <th>Title</th>\n",
       "      <th>Id</th>\n",
       "      <th>Text</th>\n",
       "      <th>Author</th>\n",
       "      <th>Number of Comments</th>\n",
       "      <th>Number of upvotes</th>\n",
       "      <th>Ratio of Upvotes</th>\n",
       "    </tr>\n",
       "  </thead>\n",
       "  <tbody>\n",
       "    <tr>\n",
       "      <th>0</th>\n",
       "      <td>Big N Discussion - March 19, 2023</td>\n",
       "      <td>11ve46y</td>\n",
       "      <td>Please use this thread to have discussions abo...</td>\n",
       "      <td>CSCQMods</td>\n",
       "      <td>7</td>\n",
       "      <td>5</td>\n",
       "      <td>0.73</td>\n",
       "    </tr>\n",
       "    <tr>\n",
       "      <th>1</th>\n",
       "      <td>Daily Chat Thread - March 19, 2023</td>\n",
       "      <td>11ve5o1</td>\n",
       "      <td>Please use this thread to chat, have casual di...</td>\n",
       "      <td>CSCQMods</td>\n",
       "      <td>0</td>\n",
       "      <td>1</td>\n",
       "      <td>0.60</td>\n",
       "    </tr>\n",
       "    <tr>\n",
       "      <th>2</th>\n",
       "      <td>Is it acceptable to do lunch 12-1pm at work? A...</td>\n",
       "      <td>11voie0</td>\n",
       "      <td>Asking as a new grad who is trying to understa...</td>\n",
       "      <td>TheCockatoo</td>\n",
       "      <td>214</td>\n",
       "      <td>225</td>\n",
       "      <td>0.74</td>\n",
       "    </tr>\n",
       "    <tr>\n",
       "      <th>3</th>\n",
       "      <td>Number of Open Tech Jobs has increased for 2 c...</td>\n",
       "      <td>11vqmgd</td>\n",
       "      <td>https://www.trueup.io/job-trend\\n\\nThis is a f...</td>\n",
       "      <td>TheCopyPasteLife</td>\n",
       "      <td>46</td>\n",
       "      <td>95</td>\n",
       "      <td>0.89</td>\n",
       "    </tr>\n",
       "    <tr>\n",
       "      <th>4</th>\n",
       "      <td>How to enforce good practices in my workplace?</td>\n",
       "      <td>11viy3c</td>\n",
       "      <td>My team doesn't enforce good practices, and my...</td>\n",
       "      <td>Old-Fennel9061</td>\n",
       "      <td>58</td>\n",
       "      <td>149</td>\n",
       "      <td>0.91</td>\n",
       "    </tr>\n",
       "    <tr>\n",
       "      <th>...</th>\n",
       "      <td>...</td>\n",
       "      <td>...</td>\n",
       "      <td>...</td>\n",
       "      <td>...</td>\n",
       "      <td>...</td>\n",
       "      <td>...</td>\n",
       "      <td>...</td>\n",
       "    </tr>\n",
       "    <tr>\n",
       "      <th>1495</th>\n",
       "      <td>Nerves about starting first SWE Role</td>\n",
       "      <td>11k8to9</td>\n",
       "      <td>I’m graduating from a top CS university this s...</td>\n",
       "      <td>BringMeTheBRBS</td>\n",
       "      <td>3</td>\n",
       "      <td>0</td>\n",
       "      <td>0.33</td>\n",
       "    </tr>\n",
       "    <tr>\n",
       "      <th>1496</th>\n",
       "      <td>Reaching out to someone for help with a position</td>\n",
       "      <td>11k87kz</td>\n",
       "      <td>Hello all, to cut to the chase, I was recently...</td>\n",
       "      <td>businessbee89</td>\n",
       "      <td>1</td>\n",
       "      <td>1</td>\n",
       "      <td>1.00</td>\n",
       "    </tr>\n",
       "    <tr>\n",
       "      <th>1497</th>\n",
       "      <td>Portfolio projects - better to create somethin...</td>\n",
       "      <td>11k7q3y</td>\n",
       "      <td>So I'm getting started creating a project for ...</td>\n",
       "      <td>GroundFallsOnly</td>\n",
       "      <td>4</td>\n",
       "      <td>5</td>\n",
       "      <td>1.00</td>\n",
       "    </tr>\n",
       "    <tr>\n",
       "      <th>1498</th>\n",
       "      <td>SWEs in the UK, what is your day-to-day actual...</td>\n",
       "      <td>11k7dz7</td>\n",
       "      <td>We see lots of YouTube videos where young SWEs...</td>\n",
       "      <td>nonbog</td>\n",
       "      <td>7</td>\n",
       "      <td>3</td>\n",
       "      <td>0.80</td>\n",
       "    </tr>\n",
       "    <tr>\n",
       "      <th>1499</th>\n",
       "      <td>Switching to a CS path: low-code, Java or Python?</td>\n",
       "      <td>11k52mf</td>\n",
       "      <td>Hi guys, just looking for opinions here. I wor...</td>\n",
       "      <td>coffeeandwomen</td>\n",
       "      <td>5</td>\n",
       "      <td>2</td>\n",
       "      <td>1.00</td>\n",
       "    </tr>\n",
       "  </tbody>\n",
       "</table>\n",
       "<p>1500 rows × 7 columns</p>\n",
       "</div>"
      ],
      "text/plain": [
       "                                                  Title       Id  \\\n",
       "0                     Big N Discussion - March 19, 2023  11ve46y   \n",
       "1                    Daily Chat Thread - March 19, 2023  11ve5o1   \n",
       "2     Is it acceptable to do lunch 12-1pm at work? A...  11voie0   \n",
       "3     Number of Open Tech Jobs has increased for 2 c...  11vqmgd   \n",
       "4        How to enforce good practices in my workplace?  11viy3c   \n",
       "...                                                 ...      ...   \n",
       "1495               Nerves about starting first SWE Role  11k8to9   \n",
       "1496   Reaching out to someone for help with a position  11k87kz   \n",
       "1497  Portfolio projects - better to create somethin...  11k7q3y   \n",
       "1498  SWEs in the UK, what is your day-to-day actual...  11k7dz7   \n",
       "1499  Switching to a CS path: low-code, Java or Python?  11k52mf   \n",
       "\n",
       "                                                   Text            Author  \\\n",
       "0     Please use this thread to have discussions abo...          CSCQMods   \n",
       "1     Please use this thread to chat, have casual di...          CSCQMods   \n",
       "2     Asking as a new grad who is trying to understa...       TheCockatoo   \n",
       "3     https://www.trueup.io/job-trend\\n\\nThis is a f...  TheCopyPasteLife   \n",
       "4     My team doesn't enforce good practices, and my...    Old-Fennel9061   \n",
       "...                                                 ...               ...   \n",
       "1495  I’m graduating from a top CS university this s...    BringMeTheBRBS   \n",
       "1496  Hello all, to cut to the chase, I was recently...     businessbee89   \n",
       "1497  So I'm getting started creating a project for ...   GroundFallsOnly   \n",
       "1498  We see lots of YouTube videos where young SWEs...            nonbog   \n",
       "1499  Hi guys, just looking for opinions here. I wor...    coffeeandwomen   \n",
       "\n",
       "      Number of Comments  Number of upvotes  Ratio of Upvotes  \n",
       "0                      7                  5              0.73  \n",
       "1                      0                  1              0.60  \n",
       "2                    214                225              0.74  \n",
       "3                     46                 95              0.89  \n",
       "4                     58                149              0.91  \n",
       "...                  ...                ...               ...  \n",
       "1495                   3                  0              0.33  \n",
       "1496                   1                  1              1.00  \n",
       "1497                   4                  5              1.00  \n",
       "1498                   7                  3              0.80  \n",
       "1499                   5                  2              1.00  \n",
       "\n",
       "[1500 rows x 7 columns]"
      ]
     },
     "execution_count": 6,
     "metadata": {},
     "output_type": "execute_result"
    }
   ],
   "source": [
    "# Show some entries of the ccq(CS Career Questions) dataframe\n",
    "ccq"
   ]
  },
  {
   "cell_type": "markdown",
   "id": "fed556a5",
   "metadata": {},
   "source": [
    "Now, let's just focus in on one post from that subreddit"
   ]
  },
  {
   "cell_type": "markdown",
   "id": "bc2a5b49",
   "metadata": {},
   "source": [
    "Posts can potentially contain a lot of characters that the grammaticality library may not like. By not removing them, this could lead to unfair results as *technically* these posts are grammatical, they just contain words such as \"Reddit\" or \"Subreddit\". Potentially, as I am working on this analysis, because there are so many cases to consider, I can look at later whether these types of errors fall within the same category so that I could just ignore that category."
   ]
  },
  {
   "cell_type": "code",
   "execution_count": 7,
   "id": "09d0167e",
   "metadata": {
    "scrolled": true
   },
   "outputs": [
    {
     "data": {
      "text/plain": [
       "\"https://www.trueup.io/job-trend\\n\\nThis is a follow up from [last week's post.](https://old.reddit.com/r/cscareerquestions/comments/11odfe7/number_of_open_tech_jobs_has_increased_for_the/) It definitely seems like the market is starting to turn around. I also have anecdotal evidence of my own. Feel free to add yours.\\n\\nPossible risks include reduced lending to startups due to regional bank liquidity. Also another wave of layoffs, like Facebook, but I think that Facebook's layoffs come from a dying business, not an industry-wide concern.\""
      ]
     },
     "execution_count": 7,
     "metadata": {},
     "output_type": "execute_result"
    }
   ],
   "source": [
    "onePost = ccq['Text'][3]\n",
    "onePost"
   ]
  },
  {
   "cell_type": "markdown",
   "id": "872de04e",
   "metadata": {},
   "source": [
    "Essentially, for each error, it will put the entire error in parentheses, preceded by \"Match\". The tool says what type of error it is, provides a bit of an explanation, and then suggests fixes. For the post above, there are two errors."
   ]
  },
  {
   "cell_type": "code",
   "execution_count": 8,
   "id": "10fdb39a",
   "metadata": {
    "scrolled": true
   },
   "outputs": [
    {
     "data": {
      "text/plain": [
       "[Match({'ruleId': 'VERB_NOUN_CONFUSION', 'message': 'When ‘follow-up’ is used as a noun or modifier, it needs to be hyphenated.', 'replacements': ['follow-up'], 'offsetInContext': 43, 'context': \"...ps://www.trueup.io/job-trend  This is a follow up from [last week's post.](https://old.re...\", 'offset': 43, 'errorLength': 9, 'category': 'COMPOUNDING', 'ruleIssueType': 'uncategorized', 'sentence': \"This is a follow up from [last week's post.](https://old.reddit.com/r/cscareerquestions/comments/11odfe7/number_of_open_tech_jobs_has_increased_for_the/) It definitely seems like the market is starting to turn around.\"}),\n",
       " Match({'ruleId': 'SENT_START_CONJUNCTIVE_LINKING_ADVERB_COMMA', 'message': 'A comma may be missing after the conjunctive/linking adverb ‘Also’.', 'replacements': ['Also,'], 'offsetInContext': 43, 'context': '...tartups due to regional bank liquidity. Also another wave of layoffs, like Facebook,...', 'offset': 401, 'errorLength': 4, 'category': 'PUNCTUATION', 'ruleIssueType': 'typographical', 'sentence': \"Also another wave of layoffs, like Facebook, but I think that Facebook's layoffs come from a dying business, not an industry-wide concern.\"})]"
      ]
     },
     "execution_count": 8,
     "metadata": {},
     "output_type": "execute_result"
    }
   ],
   "source": [
    "# Use the tool to see what it will give us for the post above\n",
    "oneCcqPost = tool.check(onePost)\n",
    "oneCcqPost"
   ]
  },
  {
   "cell_type": "code",
   "execution_count": 9,
   "id": "cb8afc6a",
   "metadata": {},
   "outputs": [
    {
     "data": {
      "text/plain": [
       "'VERB_NOUN_CONFUSION'"
      ]
     },
     "execution_count": 9,
     "metadata": {},
     "output_type": "execute_result"
    }
   ],
   "source": [
    "# This syntax will be important... will allow us to directly access the errors of each paragraph\n",
    "oneCcqPost[0].ruleId"
   ]
  },
  {
   "cell_type": "code",
   "execution_count": 10,
   "id": "c848d850",
   "metadata": {},
   "outputs": [
    {
     "data": {
      "text/plain": [
       "'SENT_START_CONJUNCTIVE_LINKING_ADVERB_COMMA'"
      ]
     },
     "execution_count": 10,
     "metadata": {},
     "output_type": "execute_result"
    }
   ],
   "source": [
    "oneCcqPost[1].ruleId"
   ]
  },
  {
   "cell_type": "code",
   "execution_count": 11,
   "id": "1e0a9a8a",
   "metadata": {},
   "outputs": [
    {
     "data": {
      "text/plain": [
       "\"Please use this thread to chat, have casual discussions, and ask casual questions. Moderation will be light, but don't be a jerk.\\n\\nThis thread is posted **every day at midnight PST**. Previous Daily Chat Threads can be found [here](https://www.reddit.com/r/cscareerquestions/search?q=Daily+Chat+Thread&restrict_sr=on&sort=new&t=all).\""
      ]
     },
     "execution_count": 11,
     "metadata": {},
     "output_type": "execute_result"
    }
   ],
   "source": [
    "onePost = ccq['Text'][1]\n",
    "onePost"
   ]
  },
  {
   "cell_type": "markdown",
   "id": "a3d4a9cc",
   "metadata": {},
   "source": [
    "If the post has no errors, it will run silently like below!"
   ]
  },
  {
   "cell_type": "code",
   "execution_count": 12,
   "id": "a9a01523",
   "metadata": {
    "scrolled": true
   },
   "outputs": [
    {
     "data": {
      "text/plain": [
       "[]"
      ]
     },
     "execution_count": 12,
     "metadata": {},
     "output_type": "execute_result"
    }
   ],
   "source": [
    "oneCcqPost = tool.check(onePost)\n",
    "oneCcqPost"
   ]
  },
  {
   "cell_type": "code",
   "execution_count": 13,
   "id": "9f360e08",
   "metadata": {
    "scrolled": true
   },
   "outputs": [
    {
     "data": {
      "text/plain": [
       "\"Crossposting from r/AskAcademia \\\\- thought I could get some useful knowledge from a different group of folks.\\n\\nI'm in a really tough situation and have been feeling acutely ill over making a decision. I would be really grateful for some advice.\\n\\nI graduated from a prestigious university with a bachelors in CS last spring, and have been working and making a really comfortable salary in a big tech company (return offer on a summer 2021 internship). I had worked with an assistant professor on ML research for the last two years and had a good and productive time; the professor really believed in me, and towards the last semester, suggested that I apply for PhD programs in that area.\\n\\nI did not believe that I could get into any PhD programs this cycle, as this particular subfield is extremely competitive, and so figured that I would not seriously decide whether or not to do a PhD unless I get in. I only targeted very competitive places and applied to my undergrad's fully-funded, research-focused MS program (most likely I'd be working with the same advisor again) as a backup.\\n\\nAll my results came in, and I have gotten into a number of very good PhD programs, as well as the MSCS backup. Among my PhD offers, one is from a non-top 4 CS school which ranks among the top 3 of my subfield, and the advisor that I got is very, very good. The prospective PhD advisor is extremely well-connected and super nice, and my undergraduate advisor was previously affiliated with their group and could not have anything more positive to say.\\n\\nAmong the academic folks whom I've spoken to, the overwhelming consensus is that I should just go to the state school and work with that professor. And I feel like if I were to pursue a PhD, I would definitely take up the offer. But I've been getting very cold feet about the whole business of doing a PhD; my undergrad experience was very stressful and I just could not imagine 6 more years of lowish pay (that particular school gives the lowest stipend, despite being located in a fairly expensive city). I have zero interest in becoming a professor and would ideally like to be in research-oriented roles in the industry, and that's why I'm seriously considering the MSCS backup. At this point, I'm pretty set on going back to school, given the turbulence and ongoing layoffs in the tech industry.\\n\\nHere are some direct concerns about going into the PhD:\\n\\n1. Earning a livable wage and having savings are definitely very important to me and I can't justify walking away from an six-figure annual salary and living for 5-6 years on a $30K-ish PhD stipend. Comparatively, the MSCS stipend is on the higher end (\\\\~$50K) with a good exit opportunity to industry after 2 years.\\n2. I love parts of the research process, but I won't deny that it was highly stressful and I came out of undergrad feeling extremely burnt out, with horrible work-life balance and a lot of unprocessed emotional issues. My quality of life has greatly improved since getting into a normal 9-5, but I just can't imagine 6 more years of going through that again.\\n3. Maybe the one slightly negative thing (and it's not a big issue) is that the PhD advisor is pretty hands-off given that they already have tenure and are affiliated with some industry connections. I am definitely not a very skilled researcher and would need a lot of hands-on guidance, especially in the first few years. The group is very nice, with senior students, but for the most part it seems decentralized (some people are remote / WFH), so I worry that I wouldn't be getting enough mentorship.\\n4. Not a huge factor, but something I'd have to mentally come to terms with: the PhD program itself has incredible prestige within the subarea, but the school's lay prestige is much lower than my undergrad's.\\n\\nThe primary reason for moving forward with the PhD is that this is really a once-in-a-lifetime opportunity; this advisor is the dream advisor for many other applicants and I feel that I would not get as good of an offer again were I to decide later on in life to pursue a PhD. I am also feeling extremely pressured by a lot of people in academia to just go do the PhD and not even consider the MSCS (not a good feeling).\""
      ]
     },
     "execution_count": 13,
     "metadata": {},
     "output_type": "execute_result"
    }
   ],
   "source": [
    "onePost = ccq['Text'][22]\n",
    "onePost"
   ]
  },
  {
   "cell_type": "markdown",
   "id": "6a936ecb",
   "metadata": {},
   "source": [
    "As seen below however, words such as 'r/AskAcademia' are marked as a spelling mistake. This is problematic, as a lot of posts refer to r/subredditname, but that does not make them ungrammatical in the perspective that I wish to look at it. This poses an issue with the parser."
   ]
  },
  {
   "cell_type": "code",
   "execution_count": 14,
   "id": "2193f5d6",
   "metadata": {},
   "outputs": [
    {
     "data": {
      "text/plain": [
       "[Match({'ruleId': 'MORFOLOGIK_RULE_EN_US', 'message': 'Possible spelling mistake found.', 'replacements': ['Cross posting'], 'offsetInContext': 0, 'context': 'Crossposting from r/AskAcademia \\\\- thought I could g...', 'offset': 0, 'errorLength': 12, 'category': 'TYPOS', 'ruleIssueType': 'misspelling', 'sentence': 'Crossposting from r/AskAcademia \\\\- thought I could get some useful knowledge from a different group of folks.'}),\n",
       " Match({'ruleId': 'MORFOLOGIK_RULE_EN_US', 'message': 'Possible spelling mistake found.', 'replacements': ['Academia'], 'offsetInContext': 20, 'context': 'Crossposting from r/AskAcademia \\\\- thought I could get some useful know...', 'offset': 20, 'errorLength': 11, 'category': 'TYPOS', 'ruleIssueType': 'misspelling', 'sentence': 'Crossposting from r/AskAcademia \\\\- thought I could get some useful knowledge from a different group of folks.'}),\n",
       " Match({'ruleId': 'ENGLISH_WORD_REPEAT_BEGINNING_RULE', 'message': 'Three successive sentences begin with the same word. Consider rewording the sentence or use a thesaurus to find a synonym.', 'replacements': ['Furthermore, I', 'Likewise, I', 'Not only that, but I'], 'offsetInContext': 43, 'context': '...ld be really grateful for some advice.  I graduated from a prestigious university...', 'offset': 246, 'errorLength': 1, 'category': 'STYLE', 'ruleIssueType': 'style', 'sentence': 'I graduated from a prestigious university with a bachelors in CS last spring, and have been working and making a really comfortable salary in a big tech company (return offer on a summer 2021 internship).'}),\n",
       " Match({'ruleId': 'A_BACHELORS_IN', 'message': 'It seems that a possessive apostrophe is missing.', 'replacements': [\"bachelor's\", \"bachelor's degree\"], 'offsetInContext': 43, 'context': '...ed from a prestigious university with a bachelors in CS last spring, and have been workin...', 'offset': 295, 'errorLength': 9, 'category': 'GRAMMAR', 'ruleIssueType': 'grammar', 'sentence': 'I graduated from a prestigious university with a bachelors in CS last spring, and have been working and making a really comfortable salary in a big tech company (return offer on a summer 2021 internship).'}),\n",
       " Match({'ruleId': 'ENGLISH_WORD_REPEAT_BEGINNING_RULE', 'message': 'Three successive sentences begin with the same word. Consider rewording the sentence or use a thesaurus to find a synonym.', 'replacements': ['Furthermore, I', 'Likewise, I', 'Not only that, but I'], 'offsetInContext': 43, 'context': '...urn offer on a summer 2021 internship). I had worked with an assistant professor ...', 'offset': 451, 'errorLength': 1, 'category': 'STYLE', 'ruleIssueType': 'style', 'sentence': 'I had worked with an assistant professor on ML research for the last two years and had a good and productive time; the professor really believed in me, and towards the last semester, suggested that I apply for PhD programs in that area.'}),\n",
       " Match({'ruleId': 'ENGLISH_WORD_REPEAT_BEGINNING_RULE', 'message': 'Three successive sentences begin with the same word. Consider rewording the sentence or use a thesaurus to find a synonym.', 'replacements': ['Furthermore, I', 'Likewise, I', 'Not only that, but I'], 'offsetInContext': 43, 'context': '...I apply for PhD programs in that area.  I did not believe that I could get into a...', 'offset': 689, 'errorLength': 1, 'category': 'STYLE', 'ruleIssueType': 'style', 'sentence': 'I did not believe that I could get into any PhD programs this cycle, as this particular subfield is extremely competitive, and so figured that I would not seriously decide whether or not to do a PhD unless I get in.'}),\n",
       " Match({'ruleId': 'WHETHER', 'message': 'Consider shortening this phrase to just “whether”. It is correct though if you mean ‘regardless of whether’.', 'replacements': ['whether'], 'offsetInContext': 43, 'context': '...gured that I would not seriously decide whether or not to do a PhD unless I get in. I only tar...', 'offset': 861, 'errorLength': 14, 'category': 'REDUNDANCY', 'ruleIssueType': 'style', 'sentence': 'I did not believe that I could get into any PhD programs this cycle, as this particular subfield is extremely competitive, and so figured that I would not seriously decide whether or not to do a PhD unless I get in.'}),\n",
       " Match({'ruleId': 'ENGLISH_WORD_REPEAT_BEGINNING_RULE', 'message': 'Three successive sentences begin with the same word. Consider rewording the sentence or use a thesaurus to find a synonym.', 'replacements': ['Furthermore, I', 'Likewise, I', 'Not only that, but I'], 'offsetInContext': 43, 'context': '...her or not to do a PhD unless I get in. I only targeted very competitive places a...', 'offset': 905, 'errorLength': 1, 'category': 'STYLE', 'ruleIssueType': 'style', 'sentence': \"I only targeted very competitive places and applied to my undergrad's fully-funded, research-focused MS program (most likely I'd be working with the same advisor again) as a backup.\"}),\n",
       " Match({'ruleId': 'COMMA_COMPOUND_SENTENCE', 'message': 'Use a comma before ‘and’ if it connects two independent clauses (unless they are closely connected and short).', 'replacements': [', and'], 'offsetInContext': 43, 'context': '... undergrad experience was very stressful and I just could not imagine 6 more years o...', 'offset': 1889, 'errorLength': 4, 'category': 'PUNCTUATION', 'ruleIssueType': 'typographical', 'sentence': \"But I've been getting very cold feet about the whole business of doing a PhD; my undergrad experience was very stressful and I just could not imagine 6 more years of lowish pay (that particular school gives the lowest stipend, despite being located in a fairly expensive city).\"}),\n",
       " Match({'ruleId': 'EN_A_VS_AN', 'message': 'Use “a” instead of ‘an’ if the following word doesn’t start with a vowel sound, e.g. ‘a sentence’, ‘a university’.', 'replacements': ['a'], 'offsetInContext': 43, 'context': \"...e and I can't justify walking away from an six-figure annual salary and living for...\", 'offset': 2518, 'errorLength': 2, 'category': 'MISC', 'ruleIssueType': 'misspelling', 'sentence': \"Earning a livable wage and having savings are definitely very important to me and I can't justify walking away from an six-figure annual salary and living for 5-6 years on a $30K-ish PhD stipend.\"}),\n",
       " Match({'ruleId': 'COMMA_COMPOUND_SENTENCE', 'message': 'Use a comma before ‘and’ if it connects two independent clauses (unless they are closely connected and short).', 'replacements': [', and'], 'offsetInContext': 43, 'context': \"... won't deny that it was highly stressful and I came out of undergrad feeling extreme...\", 'offset': 2802, 'errorLength': 4, 'category': 'PUNCTUATION', 'ruleIssueType': 'typographical', 'sentence': \"I love parts of the research process, but I won't deny that it was highly stressful and I came out of undergrad feeling extremely burnt out, with horrible work-life balance and a lot of unprocessed emotional issues.\"})]"
      ]
     },
     "execution_count": 14,
     "metadata": {},
     "output_type": "execute_result"
    }
   ],
   "source": [
    "oneCcqPost = tool.check(onePost)\n",
    "oneCcqPost"
   ]
  },
  {
   "cell_type": "markdown",
   "id": "adcb89cc",
   "metadata": {},
   "source": [
    "However, if we use regex to substitute out \"reddit\", the parser does not mark this as an error. This may be helpful in my pursuit of finding meaninful grammatical errors in the future."
   ]
  },
  {
   "cell_type": "code",
   "execution_count": 15,
   "id": "14dd6805",
   "metadata": {
    "scrolled": false
   },
   "outputs": [
    {
     "data": {
      "text/plain": [
       "\"Crossposting from -- \\\\- thought I could get some useful knowledge from a different group of folks.\\n\\nI'm in a really tough situation and have been feeling acutely ill over making a decision. I would be really grateful for some advice.\\n\\nI graduated from a prestigious university with a bachelors in CS last spring, and have been working and making a really comfortable salary in a big tech company (return offer on a summer 2021 internship). I had worked with an assistant professor on ML research for the last two years and had a good and productive time; the professor really believed in me, and towards the last semester, suggested that I apply for PhD programs in that area.\\n\\nI did not believe that I could get into any PhD programs this cycle, as this particular subfield is extremely competitive, and so figured that I would not seriously decide whether or not to do a PhD unless I get in. I only targeted very competitive places and applied to my undergrad's fully-funded, research-focused MS program (most likely I'd be working with the same advisor again) as a backup.\\n\\nAll my results came in, and I have gotten into a number of very good PhD programs, as well as the MSCS backup. Among my PhD offers, one is from a non-top 4 CS school which ranks among the top 3 of my subfield, and the advisor that I got is very, very good. The prospective PhD advisor is extremely well-connected and super nice, and my undergraduate advisor was previously affiliated with their group and could not have anything more positive to say.\\n\\nAmong the academic folks whom I've spoken to, the overwhelming consensus is that I should just go to the state school and work with that professor. And I feel like if I were to pursue a PhD, I would definitely take up the offer. But I've been getting very cold feet about the whole business of doing a PhD; my undergrad experience was very stressful and I just could not imagine 6 more years of lowish pay (that particular school gives the lowest stipend, despite being located in a fairly expensive city). I have zero interest in becoming a professor and would ideally like to be in research-oriented roles in the industry, and that's why I'm seriously considering the MSCS backup. At this point, I'm pretty set on going back to school, given the turbulence and ongoing layoffs in the tech industry.\\n\\nHere are some direct concerns about going into the PhD:\\n\\n1. Earning a livable wage and having savings are definitely very important to me and I can't justify walking away from an six-figure annual salary and living for 5-6 years on a $30K-ish PhD stipend. Comparatively, the MSCS stipend is on the higher end (\\\\~$50K) with a good exit opportunity to industry after 2 years.\\n2. I love parts of the research process, but I won't deny that it was highly stressful and I came out of undergrad feeling extremely burnt out, with horrible work-life balance and a lot of unprocessed emotional issues. My quality of life has greatly improved since getting into a normal 9-5, but I just can't imagine 6 more years of going through that again.\\n3. Maybe the one slightly negative thing (and it's not a big issue) is that the PhD advisor is pretty hands-off given that they already have tenure and are affiliated with some industry connections. I am definitely not a very skilled researcher and would need a lot of hands-on guidance, especially in the first few years. The group is very nice, with senior students, but for the most part it seems decentralized (some people are remote / WFH), so I worry that I wouldn't be getting enough mentorship.\\n4. Not a huge factor, but something I'd have to mentally come to terms with: the PhD program itself has incredible prestige within the subarea, but the school's lay prestige is much lower than my undergrad's.\\n\\nThe primary reason for moving forward with the PhD is that this is really a once-in-a-lifetime opportunity; this advisor is the dream advisor for many other applicants and I feel that I would not get as good of an offer again were I to decide later on in life to pursue a PhD. I am also feeling extremely pressured by a lot of people in academia to just go do the PhD and not even consider the MSCS (not a good feeling).\""
      ]
     },
     "execution_count": 15,
     "metadata": {},
     "output_type": "execute_result"
    }
   ],
   "source": [
    "onePost = re.sub(r\"[rR]\\/\\S+\", \"--\", onePost)\n",
    "onePost = re.sub(r\"[s/S]ubreddit\", \"--\", onePost)\n",
    "onePost"
   ]
  },
  {
   "cell_type": "code",
   "execution_count": 16,
   "id": "875359d5",
   "metadata": {},
   "outputs": [
    {
     "data": {
      "text/plain": [
       "[Match({'ruleId': 'MORFOLOGIK_RULE_EN_US', 'message': 'Possible spelling mistake found.', 'replacements': ['Cross posting'], 'offsetInContext': 0, 'context': 'Crossposting from -- \\\\- thought I could get some use...', 'offset': 0, 'errorLength': 12, 'category': 'TYPOS', 'ruleIssueType': 'misspelling', 'sentence': 'Crossposting from -- \\\\- thought I could get some useful knowledge from a different group of folks.'}),\n",
       " Match({'ruleId': 'ENGLISH_WORD_REPEAT_BEGINNING_RULE', 'message': 'Three successive sentences begin with the same word. Consider rewording the sentence or use a thesaurus to find a synonym.', 'replacements': ['Furthermore, I', 'Likewise, I', 'Not only that, but I'], 'offsetInContext': 43, 'context': '...ld be really grateful for some advice.  I graduated from a prestigious university...', 'offset': 235, 'errorLength': 1, 'category': 'STYLE', 'ruleIssueType': 'style', 'sentence': 'I graduated from a prestigious university with a bachelors in CS last spring, and have been working and making a really comfortable salary in a big tech company (return offer on a summer 2021 internship).'}),\n",
       " Match({'ruleId': 'A_BACHELORS_IN', 'message': 'It seems that a possessive apostrophe is missing.', 'replacements': [\"bachelor's\", \"bachelor's degree\"], 'offsetInContext': 43, 'context': '...ed from a prestigious university with a bachelors in CS last spring, and have been workin...', 'offset': 284, 'errorLength': 9, 'category': 'GRAMMAR', 'ruleIssueType': 'grammar', 'sentence': 'I graduated from a prestigious university with a bachelors in CS last spring, and have been working and making a really comfortable salary in a big tech company (return offer on a summer 2021 internship).'}),\n",
       " Match({'ruleId': 'ENGLISH_WORD_REPEAT_BEGINNING_RULE', 'message': 'Three successive sentences begin with the same word. Consider rewording the sentence or use a thesaurus to find a synonym.', 'replacements': ['Furthermore, I', 'Likewise, I', 'Not only that, but I'], 'offsetInContext': 43, 'context': '...urn offer on a summer 2021 internship). I had worked with an assistant professor ...', 'offset': 440, 'errorLength': 1, 'category': 'STYLE', 'ruleIssueType': 'style', 'sentence': 'I had worked with an assistant professor on ML research for the last two years and had a good and productive time; the professor really believed in me, and towards the last semester, suggested that I apply for PhD programs in that area.'}),\n",
       " Match({'ruleId': 'ENGLISH_WORD_REPEAT_BEGINNING_RULE', 'message': 'Three successive sentences begin with the same word. Consider rewording the sentence or use a thesaurus to find a synonym.', 'replacements': ['Furthermore, I', 'Likewise, I', 'Not only that, but I'], 'offsetInContext': 43, 'context': '...I apply for PhD programs in that area.  I did not believe that I could get into a...', 'offset': 678, 'errorLength': 1, 'category': 'STYLE', 'ruleIssueType': 'style', 'sentence': 'I did not believe that I could get into any PhD programs this cycle, as this particular subfield is extremely competitive, and so figured that I would not seriously decide whether or not to do a PhD unless I get in.'}),\n",
       " Match({'ruleId': 'WHETHER', 'message': 'Consider shortening this phrase to just “whether”. It is correct though if you mean ‘regardless of whether’.', 'replacements': ['whether'], 'offsetInContext': 43, 'context': '...gured that I would not seriously decide whether or not to do a PhD unless I get in. I only tar...', 'offset': 850, 'errorLength': 14, 'category': 'REDUNDANCY', 'ruleIssueType': 'style', 'sentence': 'I did not believe that I could get into any PhD programs this cycle, as this particular subfield is extremely competitive, and so figured that I would not seriously decide whether or not to do a PhD unless I get in.'}),\n",
       " Match({'ruleId': 'ENGLISH_WORD_REPEAT_BEGINNING_RULE', 'message': 'Three successive sentences begin with the same word. Consider rewording the sentence or use a thesaurus to find a synonym.', 'replacements': ['Furthermore, I', 'Likewise, I', 'Not only that, but I'], 'offsetInContext': 43, 'context': '...her or not to do a PhD unless I get in. I only targeted very competitive places a...', 'offset': 894, 'errorLength': 1, 'category': 'STYLE', 'ruleIssueType': 'style', 'sentence': \"I only targeted very competitive places and applied to my undergrad's fully-funded, research-focused MS program (most likely I'd be working with the same advisor again) as a backup.\"}),\n",
       " Match({'ruleId': 'COMMA_COMPOUND_SENTENCE', 'message': 'Use a comma before ‘and’ if it connects two independent clauses (unless they are closely connected and short).', 'replacements': [', and'], 'offsetInContext': 43, 'context': '... undergrad experience was very stressful and I just could not imagine 6 more years o...', 'offset': 1878, 'errorLength': 4, 'category': 'PUNCTUATION', 'ruleIssueType': 'typographical', 'sentence': \"But I've been getting very cold feet about the whole business of doing a PhD; my undergrad experience was very stressful and I just could not imagine 6 more years of lowish pay (that particular school gives the lowest stipend, despite being located in a fairly expensive city).\"}),\n",
       " Match({'ruleId': 'EN_A_VS_AN', 'message': 'Use “a” instead of ‘an’ if the following word doesn’t start with a vowel sound, e.g. ‘a sentence’, ‘a university’.', 'replacements': ['a'], 'offsetInContext': 43, 'context': \"...e and I can't justify walking away from an six-figure annual salary and living for...\", 'offset': 2507, 'errorLength': 2, 'category': 'MISC', 'ruleIssueType': 'misspelling', 'sentence': \"Earning a livable wage and having savings are definitely very important to me and I can't justify walking away from an six-figure annual salary and living for 5-6 years on a $30K-ish PhD stipend.\"}),\n",
       " Match({'ruleId': 'COMMA_COMPOUND_SENTENCE', 'message': 'Use a comma before ‘and’ if it connects two independent clauses (unless they are closely connected and short).', 'replacements': [', and'], 'offsetInContext': 43, 'context': \"... won't deny that it was highly stressful and I came out of undergrad feeling extreme...\", 'offset': 2791, 'errorLength': 4, 'category': 'PUNCTUATION', 'ruleIssueType': 'typographical', 'sentence': \"I love parts of the research process, but I won't deny that it was highly stressful and I came out of undergrad feeling extremely burnt out, with horrible work-life balance and a lot of unprocessed emotional issues.\"})]"
      ]
     },
     "execution_count": 16,
     "metadata": {},
     "output_type": "execute_result"
    }
   ],
   "source": [
    "oneCcqPost = tool.check(onePost)\n",
    "oneCcqPost"
   ]
  },
  {
   "cell_type": "markdown",
   "id": "56a6cece",
   "metadata": {},
   "source": [
    "Now, for analysis purposes, we want to grab all of the CSV files \"Text\" columns and put them into a list for iteration"
   ]
  },
  {
   "cell_type": "code",
   "execution_count": 17,
   "id": "91240bbd",
   "metadata": {},
   "outputs": [],
   "source": [
    "# Creating list of 'Text' values\n",
    "\n",
    "allSportsVals = list(sports['Text'].values)\n",
    "allLegalVals = list(legalAdvice['Text'].values)\n",
    "allAdultVals = list(adulting['Text'].values)\n",
    "allMedVals = list(medicine['Text'].values)\n",
    "allHsVals = list(highschool['Text'].values)\n",
    "allBwayVals = list(broadway['Text'].values)\n",
    "allPghVals = list(pittsburgh['Text'].values)\n",
    "allRantVals = list(rant['Text'].values)\n",
    "allCcqVals = list(ccq['Text'].values)\n",
    "allAnimeVals = list(anime['Text'].values)\n",
    "allEli5Vals = list(eli5['Text'].values)\n",
    "allCollegeVals = list(college['Text'].values)\n",
    "allCryptoVals = list(crypto['Text'].values)\n",
    "allLawyerVals = list(lawyertalk['Text'].values)\n",
    "allGamingVals = list(gaming['Text'].values)"
   ]
  },
  {
   "cell_type": "code",
   "execution_count": null,
   "id": "eded59f9",
   "metadata": {},
   "outputs": [],
   "source": [
    "# Empty lists\n",
    "sportsErrors = []\n",
    "legalErrors = []\n",
    "adultErrors = []\n",
    "medErrors = []\n",
    "hsErrors = []\n",
    "bwayErrors = []\n",
    "pghErrors = []\n",
    "rantErrors = []\n",
    "ccqErrors = []\n",
    "animeErrors = []\n",
    "eli5Errors = []\n",
    "collegeErrors = []\n",
    "cryptoErrors = []\n",
    "lawyerErrors = [] \n",
    "gamingErrors = []\n",
    "\n",
    "# Appending the output of the language tool to a list\n",
    "[sportsErrors.append(tool.check(x)) for x in allSportsVals]\n",
    "[legalErrors.append(tool.check(x)) for x in allLegalVals]\n",
    "[adultErrors.append(tool.check(x)) for x in allAdultVals]\n",
    "[medErrors.append(tool.check(x)) for x in allMedVals]\n",
    "[hsErrors.append(tool.check(x)) for x in allHsVals]\n",
    "[bwayErrors.append(tool.check(x)) for x in allBwayVals]\n",
    "[pghErrors.append(tool.check(x)) for x in allPghVals]\n",
    "[rantErrors.append(tool.check(x)) for x in allRantVals]\n",
    "[ccqErrors.append(tool.check(x)) for x in allCcqVals]\n",
    "[animeErrors.append(tool.check(x)) for x in allAnimeVals]\n",
    "[eli5Errors.append(tool.check(x)) for x in allEli5Vals]\n",
    "[collegeErrors.append(tool.check(x)) for x in allCollegeVals]\n",
    "[cryptoErrors.append(tool.check(x)) for x in allCryptoVals]\n",
    "[lawyerErrors.append(tool.check(x)) for x in allLawyerVals]\n",
    "[gamingErrors.append(tool.check(x)) for x in allGamingVals]"
   ]
  },
  {
   "cell_type": "code",
   "execution_count": null,
   "id": "2bf6061e",
   "metadata": {},
   "outputs": [],
   "source": [
    "# Just making sure it is formatted correctly\n",
    "\n",
    "collegeErrors[0]"
   ]
  },
  {
   "cell_type": "code",
   "execution_count": null,
   "id": "7153afbf",
   "metadata": {},
   "outputs": [],
   "source": [
    "# For each subreddit, append the rule id to the list\n",
    "simplifiedColErrors = []\n",
    "[simplifiedColErrors.append(y.ruleId) for x in collegeErrors for y in x]\n",
    "\n",
    "simplifiedSportsErrors = []\n",
    "[simplifiedSportsErrors.append(y.ruleId) for x in sportsErrors for y in x]\n",
    "\n",
    "simplifiedLegalErrors = []\n",
    "[simplifiedLegalErrors.append(y.ruleId) for x in legalErrors for y in x]\n",
    "\n",
    "simplifiedAdultErrors = []\n",
    "[simplifiedAdultErrors.append(y.ruleId) for x in adultErrors for y in x]\n",
    "\n",
    "simplifiedMedErrors = []\n",
    "[simplifiedMedErrors.append(y.ruleId) for x in medErrors for y in x]\n",
    "\n",
    "simplifiedHsErrors = []\n",
    "[simplifiedHsErrors.append(y.ruleId) for x in hsErrors for y in x]\n",
    "\n",
    "simplifiedBwayErrors = []\n",
    "[simplifiedBwayErrors.append(y.ruleId) for x in bwayErrors for y in x]\n",
    "\n",
    "simplifiedPghErrors = []\n",
    "[simplifiedPghErrors.append(y.ruleId) for x in pghErrors for y in x]\n",
    "\n",
    "simplifiedRantErrors = []\n",
    "[simplifiedRantErrors.append(y.ruleId) for x in rantErrors for y in x]\n",
    "\n",
    "simplifiedCcqErrors = []\n",
    "[simplifiedCcqErrors.append(y.ruleId) for x in ccqErrors for y in x]\n",
    "\n",
    "simplifiedAnimeErrors = []\n",
    "[simplifiedAnimeErrors.append(y.ruleId) for x in animeErrors for y in x]\n",
    "\n",
    "simplifiedEli5Errors = []\n",
    "[simplifiedEli5Errors.append(y.ruleId) for x in eli5Errors for y in x]\n",
    "\n",
    "simplifiedCryptoErrors = []\n",
    "[simplifiedCryptoErrors.append(y.ruleId) for x in cryptoErrors for y in x]\n",
    "\n",
    "simplifiedLawyerErrors = []\n",
    "[simplifiedLawyerErrors.append(y.ruleId) for x in lawyerErrors for y in x]\n",
    "\n",
    "simplifiedGamingErrors = []\n",
    "[simplifiedGamingErrors.append(y.ruleId) for x in gamingErrors for y in x]"
   ]
  },
  {
   "cell_type": "code",
   "execution_count": null,
   "id": "a0909dab",
   "metadata": {},
   "outputs": [],
   "source": [
    "simplifiedGamingErrors[50:]"
   ]
  },
  {
   "cell_type": "markdown",
   "id": "a5ea96a6",
   "metadata": {},
   "source": [
    "Ok that's it! Thats the entire project! Anime clearly is the most ungrammatical subreddit out of the 15. Just kidding...time to look further into all of this!"
   ]
  },
  {
   "cell_type": "code",
   "execution_count": null,
   "id": "6e7a98a5",
   "metadata": {
    "scrolled": true
   },
   "outputs": [],
   "source": [
    "# Printing the length of each list, which is the number of errors in each subreddit\n",
    "\n",
    "print(len(simplifiedColErrors))\n",
    "print(len(simplifiedSportsErrors)) \n",
    "print(len(simplifiedLegalErrors)) \n",
    "print(len(simplifiedAdultErrors ))\n",
    "print(len(simplifiedMedErrors))\n",
    "print(len(simplifiedHsErrors))\n",
    "print(len(simplifiedBwayErrors ))\n",
    "print(len(simplifiedPghErrors ))\n",
    "print(len(simplifiedRantErrors ))\n",
    "print(len(simplifiedCcqErrors ))\n",
    "print(len(simplifiedAnimeErrors))\n",
    "print(len(simplifiedEli5Errors ))\n",
    "print(len(simplifiedCryptoErrors))\n",
    "print(len(simplifiedLawyerErrors))\n",
    "print(len(simplifiedGamingErrors ))"
   ]
  },
  {
   "cell_type": "markdown",
   "id": "a68f8259",
   "metadata": {},
   "source": [
    "Listed below is all of the possible errors across all of the subreddits."
   ]
  },
  {
   "cell_type": "code",
   "execution_count": null,
   "id": "f6018a8a",
   "metadata": {},
   "outputs": [],
   "source": [
    "allErrors = set(simplifiedColErrors + simplifiedSportsErrors + simplifiedLegalErrors + simplifiedAdultErrors \n",
    "    + simplifiedMedErrors + simplifiedHsErrors + simplifiedBwayErrors + simplifiedPghErrors + simplifiedRantErrors\n",
    "   + simplifiedCcqErrors + simplifiedAnimeErrors + simplifiedEli5Errors + simplifiedCryptoErrors + \n",
    "   simplifiedLawyerErrors + simplifiedGamingErrors)\n",
    "print(allErrors)"
   ]
  },
  {
   "cell_type": "code",
   "execution_count": null,
   "id": "26a16bc7",
   "metadata": {},
   "outputs": [],
   "source": [
    "col, sp, le, ad, med, hs, bway, pgh, rant, ccq, ani, eli5, cry, law, gam = [], [], [], [], [], [], [], [], [], [], [], [], [], [], []\n",
    "for x in allErrors:\n",
    "    \n",
    "    y = simplifiedColErrors.count(x)\n",
    "    col.append((x, y))\n",
    "    \n",
    "    y = simplifiedSportsErrors.count(x)\n",
    "    sp.append((x, y))\n",
    "    \n",
    "    y = simplifiedLegalErrors.count(x)\n",
    "    le.append((x, y))\n",
    "    \n",
    "    y = simplifiedAdultErrors.count(x)\n",
    "    ad.append((x, y))\n",
    "    \n",
    "    y = simplifiedMedErrors.count(x)\n",
    "    med.append((x, y))\n",
    "    \n",
    "    y = simplifiedHsErrors.count(x)\n",
    "    hs.append((x, y))\n",
    "    \n",
    "    y = simplifiedBwayErrors.count(x)\n",
    "    bway.append((x, y))\n",
    "    \n",
    "    y = simplifiedPghErrors.count(x)\n",
    "    pgh.append((x, y))\n",
    "    \n",
    "    y = simplifiedRantErrors.count(x)\n",
    "    rant.append((x, y))\n",
    "    \n",
    "    y = simplifiedCcqErrors.count(x)\n",
    "    ccq.append((x, y))\n",
    "    \n",
    "    y = simplifiedAnimeErrors.count(x)\n",
    "    ani.append((x, y))\n",
    "    \n",
    "    y = simplifiedEli5Errors.count(x)\n",
    "    eli5.append((x, y))\n",
    "    \n",
    "    y = simplifiedCryptoErrors.count(x)\n",
    "    cry.append((x, y))\n",
    "    \n",
    "    y = simplifiedLawyerErrors.count(x)\n",
    "    law.append((x, y))\n",
    "    \n",
    "    y = simplifiedGamingErrors.count(x)\n",
    "    gam.append((x, y))"
   ]
  },
  {
   "cell_type": "code",
   "execution_count": null,
   "id": "82c62c0b",
   "metadata": {},
   "outputs": [],
   "source": [
    "col.sort(key = lambda x: x[1])\n",
    "col[1011:]"
   ]
  },
  {
   "cell_type": "code",
   "execution_count": null,
   "id": "5a6d959c",
   "metadata": {},
   "outputs": [],
   "source": [
    "sp.sort(key = lambda x: x[1])\n",
    "sp[1011:]"
   ]
  },
  {
   "cell_type": "code",
   "execution_count": null,
   "id": "86a364d3",
   "metadata": {},
   "outputs": [],
   "source": [
    "le.sort(key = lambda x: x[1])\n",
    "le[1011:]"
   ]
  },
  {
   "cell_type": "code",
   "execution_count": null,
   "id": "070e7b83",
   "metadata": {},
   "outputs": [],
   "source": [
    "ad.sort(key = lambda x: x[1])\n",
    "ad[1011:]"
   ]
  },
  {
   "cell_type": "code",
   "execution_count": null,
   "id": "f8db7b3a",
   "metadata": {},
   "outputs": [],
   "source": [
    "med.sort(key = lambda x: x[1])\n",
    "med[1011:]"
   ]
  },
  {
   "cell_type": "code",
   "execution_count": null,
   "id": "32ef232d",
   "metadata": {},
   "outputs": [],
   "source": [
    "hs.sort(key = lambda x: x[1])\n",
    "hs[1011:]"
   ]
  },
  {
   "cell_type": "code",
   "execution_count": null,
   "id": "0a873207",
   "metadata": {},
   "outputs": [],
   "source": [
    "bway.sort(key = lambda x: x[1])\n",
    "bway[1011:]"
   ]
  },
  {
   "cell_type": "code",
   "execution_count": null,
   "id": "5f5079a7",
   "metadata": {},
   "outputs": [],
   "source": [
    "pgh.sort(key = lambda x: x[1])\n",
    "pgh[1011:]"
   ]
  },
  {
   "cell_type": "code",
   "execution_count": null,
   "id": "789548cd",
   "metadata": {},
   "outputs": [],
   "source": [
    "rant.sort(key = lambda x: x[1])\n",
    "rant[1011:]"
   ]
  },
  {
   "cell_type": "code",
   "execution_count": null,
   "id": "785b346a",
   "metadata": {},
   "outputs": [],
   "source": [
    "ccq.sort(key = lambda x: x[1])\n",
    "ccq[1011:]"
   ]
  },
  {
   "cell_type": "code",
   "execution_count": null,
   "id": "f318673b",
   "metadata": {},
   "outputs": [],
   "source": [
    "ani.sort(key = lambda x: x[1])\n",
    "ani[1011:]"
   ]
  },
  {
   "cell_type": "code",
   "execution_count": null,
   "id": "0d60706d",
   "metadata": {},
   "outputs": [],
   "source": [
    "eli5.sort(key = lambda x: x[1])\n",
    "eli5[1011:]"
   ]
  },
  {
   "cell_type": "code",
   "execution_count": null,
   "id": "06be105d",
   "metadata": {},
   "outputs": [],
   "source": [
    "cry.sort(key = lambda x: x[1])\n",
    "cry[1011:]"
   ]
  },
  {
   "cell_type": "code",
   "execution_count": null,
   "id": "61c59df5",
   "metadata": {},
   "outputs": [],
   "source": [
    "law.sort(key = lambda x: x[1])\n",
    "law[1011:]"
   ]
  },
  {
   "cell_type": "code",
   "execution_count": null,
   "id": "b77fb48f",
   "metadata": {},
   "outputs": [],
   "source": [
    "gam.sort(key = lambda x: x[1])\n",
    "gam[1011:]"
   ]
  },
  {
   "cell_type": "markdown",
   "id": "7283d8d4",
   "metadata": {},
   "source": [
    "**Top Errors for each subreddit**:\n",
    "Legal Advice - COMMA_COMPOUND_SENTENCE\n",
    "\n",
    "Adulting - COMMA_COMPOUND_SENTENCE\n",
    "\n",
    "Medicine -  MORFOLOGIK_RULE_EN_US\n",
    "\n",
    "Highschool - MORFOLOGIK_RULE_EN_US\n",
    "\n",
    "Broadway - MORFOLOGIK_RULE_EN_US\n",
    "\n",
    "Pittsburgh - MORFOLOGIK_RULE_EN_US\n",
    "\n",
    "Rant - MORFOLOGIK_RULE_EN_US\n",
    "\n",
    "Ccq -  MORFOLOGIK_RULE_EN_US\n",
    "\n",
    "Anime - MORFOLOGIK_RULE_EN_US\n",
    "\n",
    "Eli5 -  MORFOLOGIK_RULE_EN_US\n",
    "\n",
    "College - COMMA_COMPOUND_SENTENCE\n",
    "\n",
    "Sports -  MORFOLOGIK_RULE_EN_US\n",
    "\n",
    "Cryptocurrency - MORFOLOGIK_RULE_EN_US\n",
    "\n",
    "Lawyer Talk - MORFOLOGIK_RULE_EN_US\n",
    "\n",
    "Gaming - MORFOLOGIK_RULE_EN_US"
   ]
  },
  {
   "cell_type": "markdown",
   "id": "e88a5152",
   "metadata": {},
   "source": [
    "Does this really tell us much, though? Most of the MORFOLOGIK_RULE_EN_US errors are due to spelling errors, and while spelling is important to grammaticality, typos don't really tell me much, especially when 12/15 subreddits top error is  MORFOLOGIK_RULE_EN_US. Therefore, while I will consider this in my further analysis, I am also curious as to how this holds for the second most common errors in each subreddit."
   ]
  },
  {
   "cell_type": "markdown",
   "id": "c98ed534",
   "metadata": {},
   "source": [
    " **Second Top Errors for each subreddit**:\n",
    " \n",
    "Legal Advice - MORFOLOGIK_RULE_EN_US\n",
    "\n",
    "Adulting - MORFOLOGIK_RULE_EN_US\n",
    "\n",
    "Medicine -  COMMA_COMPOUND_SENTENCE\n",
    "\n",
    "Highschool - I_LOWERCASE\n",
    "\n",
    "Broadway - COMMA_COMPOUND_SENTENCE\n",
    "\n",
    "Pittsburgh - COMMA_COMPOUND_SENTENCE\n",
    "\n",
    "Rant - COMMA_COMPOUND_SENTENCE\n",
    "\n",
    "Ccq -  COMMA_COMPOUND_SENTENCE\n",
    "\n",
    "Anime - COMMA_COMPOUND_SENTENCE\n",
    "\n",
    "Eli5 -  COMMA_COMPOUND_SENTENCE\n",
    "\n",
    "College - MORFOLOGIK_RULE_EN_US\n",
    "\n",
    "Sports -  WHITESPACE_RULE\n",
    "\n",
    "Cryptocurrency - WHITESPACE_RULE\n",
    "\n",
    "Lawyer Talk - COMMA_COMPOUND_SENTENCE\n",
    "\n",
    "Gaming - COMMA_COMPOUND_SENTENCE"
   ]
  },
  {
   "cell_type": "markdown",
   "id": "25ec7298",
   "metadata": {},
   "source": [
    "If the subreddit's top error was MORFOLOGIK_RULE_EN_US before, it turned into COMMA_COMPOUND_SENTENCE for the majority of the subreddits. If it was COMMA_COMPOUND_SENTENCE, then it became MORFOLOGIK_RULE_EN_US. The other cases were the whitespace rule, and I lowercase. Whitespace rule relates to how much whitespace is in between words, sentences, etc. I lower case relates to putting a lowercase i instead of an uppercase one."
   ]
  },
  {
   "cell_type": "markdown",
   "id": "f219d5d1",
   "metadata": {},
   "source": [
    "In fact, if you look at the top three highest occurring errors for any subreddit, it will be some combination of COMMA_COMPOUND_SENTENCE, WHITESPACE_RULE, MORFOLOGIK_RULE_EN_US, and ENGLISH_WORD_REPEAT_BEGINNING_RULE. Other top 15 errors, that may not occur in other subreddits, will be interesting to explore."
   ]
  }
 ],
 "metadata": {
  "kernelspec": {
   "display_name": "Python 3 (ipykernel)",
   "language": "python",
   "name": "python3"
  },
  "language_info": {
   "codemirror_mode": {
    "name": "ipython",
    "version": 3
   },
   "file_extension": ".py",
   "mimetype": "text/x-python",
   "name": "python",
   "nbconvert_exporter": "python",
   "pygments_lexer": "ipython3",
   "version": "3.9.13"
  }
 },
 "nbformat": 4,
 "nbformat_minor": 5
}
