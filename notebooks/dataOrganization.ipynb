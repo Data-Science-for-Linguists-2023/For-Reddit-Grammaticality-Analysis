{
 "cells": [
  {
   "cell_type": "markdown",
   "id": "79f14a66",
   "metadata": {},
   "source": [
    "# Data Organization"
   ]
  },
  {
   "cell_type": "markdown",
   "id": "6c0b30a1",
   "metadata": {},
   "source": [
    "**Outline**\n",
    "1. [Legal Talk](#Legal-Talk)\n",
    "2. [Adulting](#Adulting)\n",
    "3. [Medicine](#Medicine)\n",
    "4. [High School](#High-School)\n",
    "5. [Broadway](#Broadway)\n",
    "6. [Pittsburgh](#Pittsburgh)\n",
    "7. [Rant](#Rant)\n",
    "8. [CS Career Questions](#CS-Career-Questions)\n",
    "9. [Anime](#Anime)\n",
    "10. [Explain Like I'm Five](#Explain-Like-I'm-Five)\n",
    "11. [College](#College)\n",
    "12. [NBA](#NBA)\n",
    "13. [Cryptocurrency](#Cryptocurrency)\n",
    "14. [Lawyer Talk](#Lawyer-Talk)\n",
    "15. [Gaming](#Gaming)\n",
    "16. [Calculations](#Calculations)\n",
    "17. [Dropping Entries](#Dropping-Entries)\n",
    "18. [Cleaning Up](#Cleaning-Up)\n",
    "19. [Final Dataframes](#Final-Dataframes)\n",
    "20. [New CSV Files](#New-CSV-Files)"
   ]
  },
  {
   "cell_type": "markdown",
   "id": "19a74ea2",
   "metadata": {},
   "source": [
    "## Purpose\n"
   ]
  },
  {
   "cell_type": "markdown",
   "id": "5ac89c4a",
   "metadata": {},
   "source": [
    "The purpose of this notebook is to combine the two .csv files per subreddit and ensure equal posts across all subreddits for analysis purposes. One .csv file corresponds to 'hot' posts and one .csv file corresponds to 'new' posts."
   ]
  },
  {
   "cell_type": "code",
   "execution_count": 1,
   "id": "26a608f8",
   "metadata": {},
   "outputs": [],
   "source": [
    "import pandas as pd"
   ]
  },
  {
   "cell_type": "code",
   "execution_count": 2,
   "id": "206df411",
   "metadata": {},
   "outputs": [],
   "source": [
    "# This will keep track of the size of all of the combined csv files\n",
    "entriesCount = []"
   ]
  },
  {
   "cell_type": "markdown",
   "id": "67d63fce",
   "metadata": {},
   "source": [
    "## Legal Talk"
   ]
  },
  {
   "cell_type": "code",
   "execution_count": 3,
   "id": "f4ac4a18",
   "metadata": {},
   "outputs": [],
   "source": [
    "# Reading in the csv files\n",
    "legalDataNew = pd.read_csv(\"../data/legalData.csv\")\n",
    "legalDataHot = pd.read_csv(\"../data/legalData2.csv\")"
   ]
  },
  {
   "cell_type": "code",
   "execution_count": 4,
   "id": "d0971c55",
   "metadata": {},
   "outputs": [
    {
     "data": {
      "text/plain": [
       "(986, 8)"
      ]
     },
     "execution_count": 4,
     "metadata": {},
     "output_type": "execute_result"
    }
   ],
   "source": [
    "# Getting the shape\n",
    "legalDataNew.shape"
   ]
  },
  {
   "cell_type": "code",
   "execution_count": 5,
   "id": "539bb6b6",
   "metadata": {
    "scrolled": true
   },
   "outputs": [
    {
     "data": {
      "text/plain": [
       "(990, 8)"
      ]
     },
     "execution_count": 5,
     "metadata": {},
     "output_type": "execute_result"
    }
   ],
   "source": [
    "legalDataHot.shape"
   ]
  },
  {
   "cell_type": "code",
   "execution_count": 6,
   "id": "80f5aa4f",
   "metadata": {
    "scrolled": true
   },
   "outputs": [
    {
     "data": {
      "text/plain": [
       "(1976, 8)"
      ]
     },
     "execution_count": 6,
     "metadata": {},
     "output_type": "execute_result"
    }
   ],
   "source": [
    "# Concatinating the dataframes together, to make one big dataframe\n",
    "legalData = pd.concat([legalDataHot, legalDataNew])\n",
    "legalData.shape"
   ]
  },
  {
   "cell_type": "code",
   "execution_count": 7,
   "id": "5c85a923",
   "metadata": {},
   "outputs": [],
   "source": [
    "# Dropping duplicates\n",
    "legalData = legalData.drop_duplicates(keep=False)"
   ]
  },
  {
   "cell_type": "code",
   "execution_count": 8,
   "id": "6434dd47",
   "metadata": {},
   "outputs": [
    {
     "data": {
      "text/plain": [
       "(1962, 8)"
      ]
     },
     "execution_count": 8,
     "metadata": {},
     "output_type": "execute_result"
    }
   ],
   "source": [
    "# Final shape\n",
    "legalData.shape"
   ]
  },
  {
   "cell_type": "code",
   "execution_count": 9,
   "id": "6efea116",
   "metadata": {},
   "outputs": [],
   "source": [
    "# Keeping track of the size of all of the final dataframes\n",
    "entriesCount.append(legalData.shape[0])"
   ]
  },
  {
   "cell_type": "markdown",
   "id": "fc72c2d8",
   "metadata": {},
   "source": [
    "The process outlined above for the legalData is repeated for every subreddit...."
   ]
  },
  {
   "cell_type": "markdown",
   "id": "b6b5eee8",
   "metadata": {},
   "source": [
    "## Adulting"
   ]
  },
  {
   "cell_type": "code",
   "execution_count": 10,
   "id": "1f9d2caf",
   "metadata": {},
   "outputs": [],
   "source": [
    "adDataNew = pd.read_csv(\"../data/adData.csv\")\n",
    "adDataHot = pd.read_csv(\"../data/adData2.csv\")"
   ]
  },
  {
   "cell_type": "code",
   "execution_count": 11,
   "id": "e57f9e26",
   "metadata": {},
   "outputs": [
    {
     "data": {
      "text/plain": [
       "(823, 8)"
      ]
     },
     "execution_count": 11,
     "metadata": {},
     "output_type": "execute_result"
    }
   ],
   "source": [
    "adDataNew.shape"
   ]
  },
  {
   "cell_type": "code",
   "execution_count": 12,
   "id": "2efd0b3a",
   "metadata": {},
   "outputs": [
    {
     "data": {
      "text/plain": [
       "(847, 8)"
      ]
     },
     "execution_count": 12,
     "metadata": {},
     "output_type": "execute_result"
    }
   ],
   "source": [
    "adDataHot.shape"
   ]
  },
  {
   "cell_type": "code",
   "execution_count": 13,
   "id": "1daaf67f",
   "metadata": {},
   "outputs": [
    {
     "data": {
      "text/plain": [
       "(1670, 8)"
      ]
     },
     "execution_count": 13,
     "metadata": {},
     "output_type": "execute_result"
    }
   ],
   "source": [
    "adData = pd.concat([adDataHot, adDataNew])\n",
    "adData.shape"
   ]
  },
  {
   "cell_type": "code",
   "execution_count": 14,
   "id": "f6d9fc4a",
   "metadata": {},
   "outputs": [],
   "source": [
    "adData = adData.drop_duplicates(keep=False)"
   ]
  },
  {
   "cell_type": "code",
   "execution_count": 15,
   "id": "79654a2f",
   "metadata": {},
   "outputs": [
    {
     "data": {
      "text/plain": [
       "(1670, 8)"
      ]
     },
     "execution_count": 15,
     "metadata": {},
     "output_type": "execute_result"
    }
   ],
   "source": [
    "adData.shape"
   ]
  },
  {
   "cell_type": "code",
   "execution_count": 16,
   "id": "1879d760",
   "metadata": {},
   "outputs": [],
   "source": [
    "entriesCount.append(adData.shape[0])"
   ]
  },
  {
   "cell_type": "markdown",
   "id": "720212a6",
   "metadata": {},
   "source": [
    "## Medicine"
   ]
  },
  {
   "cell_type": "code",
   "execution_count": 17,
   "id": "763cdd35",
   "metadata": {},
   "outputs": [],
   "source": [
    "medDataNew = pd.read_csv(\"../data/medData.csv\")\n",
    "medDataHot = pd.read_csv(\"../data/medData2.csv\")"
   ]
  },
  {
   "cell_type": "code",
   "execution_count": 18,
   "id": "c48c839a",
   "metadata": {},
   "outputs": [
    {
     "data": {
      "text/plain": [
       "(759, 8)"
      ]
     },
     "execution_count": 18,
     "metadata": {},
     "output_type": "execute_result"
    }
   ],
   "source": [
    "medDataNew.shape"
   ]
  },
  {
   "cell_type": "code",
   "execution_count": 19,
   "id": "bcdfdcfd",
   "metadata": {},
   "outputs": [
    {
     "data": {
      "text/plain": [
       "(973, 8)"
      ]
     },
     "execution_count": 19,
     "metadata": {},
     "output_type": "execute_result"
    }
   ],
   "source": [
    "medDataHot.shape"
   ]
  },
  {
   "cell_type": "code",
   "execution_count": 20,
   "id": "b3c0e5ba",
   "metadata": {},
   "outputs": [
    {
     "data": {
      "text/plain": [
       "(1732, 8)"
      ]
     },
     "execution_count": 20,
     "metadata": {},
     "output_type": "execute_result"
    }
   ],
   "source": [
    "medData = pd.concat([medDataHot, medDataNew])\n",
    "medData.shape"
   ]
  },
  {
   "cell_type": "code",
   "execution_count": 21,
   "id": "a746a438",
   "metadata": {},
   "outputs": [],
   "source": [
    "medData = medData.drop_duplicates(keep=False)"
   ]
  },
  {
   "cell_type": "code",
   "execution_count": 22,
   "id": "77d7e3f8",
   "metadata": {},
   "outputs": [
    {
     "data": {
      "text/plain": [
       "(1732, 8)"
      ]
     },
     "execution_count": 22,
     "metadata": {},
     "output_type": "execute_result"
    }
   ],
   "source": [
    "medData.shape"
   ]
  },
  {
   "cell_type": "code",
   "execution_count": 23,
   "id": "8d50f434",
   "metadata": {},
   "outputs": [],
   "source": [
    "entriesCount.append(medData.shape[0])"
   ]
  },
  {
   "cell_type": "markdown",
   "id": "6782528d",
   "metadata": {},
   "source": [
    "## High School"
   ]
  },
  {
   "cell_type": "code",
   "execution_count": 24,
   "id": "f1cfac01",
   "metadata": {},
   "outputs": [],
   "source": [
    "hsDataNew = pd.read_csv(\"../data/hsData.csv\")\n",
    "hsDataHot = pd.read_csv(\"../data/hsData2.csv\")"
   ]
  },
  {
   "cell_type": "code",
   "execution_count": 25,
   "id": "d96e5268",
   "metadata": {},
   "outputs": [
    {
     "data": {
      "text/plain": [
       "(774, 8)"
      ]
     },
     "execution_count": 25,
     "metadata": {},
     "output_type": "execute_result"
    }
   ],
   "source": [
    "hsDataNew.shape"
   ]
  },
  {
   "cell_type": "code",
   "execution_count": 26,
   "id": "758c79df",
   "metadata": {},
   "outputs": [
    {
     "data": {
      "text/plain": [
       "(805, 8)"
      ]
     },
     "execution_count": 26,
     "metadata": {},
     "output_type": "execute_result"
    }
   ],
   "source": [
    "hsDataHot.shape"
   ]
  },
  {
   "cell_type": "code",
   "execution_count": 27,
   "id": "26bd9ca3",
   "metadata": {},
   "outputs": [
    {
     "data": {
      "text/plain": [
       "(1579, 8)"
      ]
     },
     "execution_count": 27,
     "metadata": {},
     "output_type": "execute_result"
    }
   ],
   "source": [
    "hsData = pd.concat([hsDataHot, hsDataNew])\n",
    "hsData.shape"
   ]
  },
  {
   "cell_type": "code",
   "execution_count": 28,
   "id": "0167f044",
   "metadata": {},
   "outputs": [],
   "source": [
    "hsData = hsData.drop_duplicates(keep=False)"
   ]
  },
  {
   "cell_type": "code",
   "execution_count": 29,
   "id": "da651715",
   "metadata": {
    "scrolled": true
   },
   "outputs": [
    {
     "data": {
      "text/plain": [
       "(1579, 8)"
      ]
     },
     "execution_count": 29,
     "metadata": {},
     "output_type": "execute_result"
    }
   ],
   "source": [
    "hsData.shape"
   ]
  },
  {
   "cell_type": "code",
   "execution_count": 30,
   "id": "768bef72",
   "metadata": {},
   "outputs": [],
   "source": [
    "entriesCount.append(hsData.shape[0])"
   ]
  },
  {
   "cell_type": "markdown",
   "id": "8a5268d5",
   "metadata": {},
   "source": [
    "## Broadway"
   ]
  },
  {
   "cell_type": "code",
   "execution_count": 31,
   "id": "1271aaad",
   "metadata": {},
   "outputs": [],
   "source": [
    "bwayDataNew = pd.read_csv(\"../data/bwayData.csv\")\n",
    "bwayDataNew2 = pd.read_csv(\"../data/bwayData3.csv\")\n",
    "bwayDataHot = pd.read_csv(\"../data/bwayData2.csv\")"
   ]
  },
  {
   "cell_type": "code",
   "execution_count": 32,
   "id": "c55790f3",
   "metadata": {},
   "outputs": [
    {
     "data": {
      "text/plain": [
       "(642, 8)"
      ]
     },
     "execution_count": 32,
     "metadata": {},
     "output_type": "execute_result"
    }
   ],
   "source": [
    "bwayDataNew.shape"
   ]
  },
  {
   "cell_type": "code",
   "execution_count": 33,
   "id": "0a19b92d",
   "metadata": {},
   "outputs": [
    {
     "data": {
      "text/plain": [
       "(633, 8)"
      ]
     },
     "execution_count": 33,
     "metadata": {},
     "output_type": "execute_result"
    }
   ],
   "source": [
    "bwayDataHot.shape"
   ]
  },
  {
   "cell_type": "code",
   "execution_count": 34,
   "id": "c9beef07",
   "metadata": {},
   "outputs": [
    {
     "data": {
      "text/plain": [
       "(629, 8)"
      ]
     },
     "execution_count": 34,
     "metadata": {},
     "output_type": "execute_result"
    }
   ],
   "source": [
    "bwayDataNew2.shape"
   ]
  },
  {
   "cell_type": "code",
   "execution_count": 35,
   "id": "b1097eed",
   "metadata": {},
   "outputs": [
    {
     "data": {
      "text/plain": [
       "(1904, 8)"
      ]
     },
     "execution_count": 35,
     "metadata": {},
     "output_type": "execute_result"
    }
   ],
   "source": [
    "bwayData = pd.concat([bwayDataHot, bwayDataNew, bwayDataNew2])\n",
    "bwayData.shape"
   ]
  },
  {
   "cell_type": "code",
   "execution_count": 36,
   "id": "c3699a77",
   "metadata": {},
   "outputs": [],
   "source": [
    "bwayData = bwayData.drop_duplicates(keep=False)"
   ]
  },
  {
   "cell_type": "code",
   "execution_count": 37,
   "id": "a3ca6cd1",
   "metadata": {
    "scrolled": true
   },
   "outputs": [
    {
     "data": {
      "text/plain": [
       "(1900, 8)"
      ]
     },
     "execution_count": 37,
     "metadata": {},
     "output_type": "execute_result"
    }
   ],
   "source": [
    "bwayData.shape"
   ]
  },
  {
   "cell_type": "code",
   "execution_count": 38,
   "id": "a3a28d3f",
   "metadata": {},
   "outputs": [],
   "source": [
    "entriesCount.append(bwayData.shape[0])"
   ]
  },
  {
   "cell_type": "markdown",
   "id": "6c3d44fa",
   "metadata": {},
   "source": [
    "## Pittsburgh"
   ]
  },
  {
   "cell_type": "code",
   "execution_count": 39,
   "id": "c46dec9b",
   "metadata": {},
   "outputs": [],
   "source": [
    "pghDataNew = pd.read_csv(\"../data/pghData.csv\")\n",
    "pghDataNew2 = pd.read_csv(\"../data/pghData3.csv\")\n",
    "pghDataHot = pd.read_csv(\"../data/pghData2.csv\")"
   ]
  },
  {
   "cell_type": "code",
   "execution_count": 40,
   "id": "b99f912a",
   "metadata": {},
   "outputs": [
    {
     "data": {
      "text/plain": [
       "(624, 8)"
      ]
     },
     "execution_count": 40,
     "metadata": {},
     "output_type": "execute_result"
    }
   ],
   "source": [
    "pghDataNew.shape"
   ]
  },
  {
   "cell_type": "code",
   "execution_count": 41,
   "id": "1245f168",
   "metadata": {},
   "outputs": [
    {
     "data": {
      "text/plain": [
       "(606, 8)"
      ]
     },
     "execution_count": 41,
     "metadata": {},
     "output_type": "execute_result"
    }
   ],
   "source": [
    "pghDataNew2.shape"
   ]
  },
  {
   "cell_type": "code",
   "execution_count": 42,
   "id": "9364a603",
   "metadata": {},
   "outputs": [
    {
     "data": {
      "text/plain": [
       "(549, 8)"
      ]
     },
     "execution_count": 42,
     "metadata": {},
     "output_type": "execute_result"
    }
   ],
   "source": [
    "pghDataHot.shape"
   ]
  },
  {
   "cell_type": "code",
   "execution_count": 43,
   "id": "d0e3efb7",
   "metadata": {},
   "outputs": [
    {
     "data": {
      "text/plain": [
       "(1779, 8)"
      ]
     },
     "execution_count": 43,
     "metadata": {},
     "output_type": "execute_result"
    }
   ],
   "source": [
    "pghData = pd.concat([pghDataHot, pghDataNew, pghDataNew2])\n",
    "pghData.shape"
   ]
  },
  {
   "cell_type": "code",
   "execution_count": 44,
   "id": "2465c6ed",
   "metadata": {},
   "outputs": [],
   "source": [
    "pghData = pghData.drop_duplicates(keep=False)"
   ]
  },
  {
   "cell_type": "code",
   "execution_count": 45,
   "id": "4e7fa3cb",
   "metadata": {
    "scrolled": true
   },
   "outputs": [
    {
     "data": {
      "text/plain": [
       "(1775, 8)"
      ]
     },
     "execution_count": 45,
     "metadata": {},
     "output_type": "execute_result"
    }
   ],
   "source": [
    "pghData.shape"
   ]
  },
  {
   "cell_type": "code",
   "execution_count": 46,
   "id": "8baa1ad2",
   "metadata": {},
   "outputs": [],
   "source": [
    "entriesCount.append(pghData.shape[0])"
   ]
  },
  {
   "cell_type": "markdown",
   "id": "d1b9503c",
   "metadata": {},
   "source": [
    "## Rant"
   ]
  },
  {
   "cell_type": "code",
   "execution_count": 47,
   "id": "55980cf7",
   "metadata": {},
   "outputs": [],
   "source": [
    "rantDataNew = pd.read_csv(\"../data/rantData.csv\")\n",
    "rantDataNew2 = pd.read_csv(\"../data/rantData3.csv\")\n",
    "rantDataHot = pd.read_csv(\"../data/rantData2.csv\")"
   ]
  },
  {
   "cell_type": "code",
   "execution_count": 48,
   "id": "0a6065fb",
   "metadata": {},
   "outputs": [
    {
     "data": {
      "text/plain": [
       "(936, 8)"
      ]
     },
     "execution_count": 48,
     "metadata": {},
     "output_type": "execute_result"
    }
   ],
   "source": [
    "rantDataNew.shape"
   ]
  },
  {
   "cell_type": "code",
   "execution_count": 49,
   "id": "f3987b87",
   "metadata": {},
   "outputs": [
    {
     "data": {
      "text/plain": [
       "(934, 8)"
      ]
     },
     "execution_count": 49,
     "metadata": {},
     "output_type": "execute_result"
    }
   ],
   "source": [
    "rantDataNew2.shape"
   ]
  },
  {
   "cell_type": "code",
   "execution_count": 50,
   "id": "1e499d29",
   "metadata": {},
   "outputs": [
    {
     "data": {
      "text/plain": [
       "(537, 8)"
      ]
     },
     "execution_count": 50,
     "metadata": {},
     "output_type": "execute_result"
    }
   ],
   "source": [
    "rantDataHot.shape"
   ]
  },
  {
   "cell_type": "code",
   "execution_count": 51,
   "id": "5c37b78d",
   "metadata": {},
   "outputs": [
    {
     "data": {
      "text/plain": [
       "(2407, 8)"
      ]
     },
     "execution_count": 51,
     "metadata": {},
     "output_type": "execute_result"
    }
   ],
   "source": [
    "rantData = pd.concat([rantDataHot, rantDataNew, rantDataNew2])\n",
    "rantData.shape"
   ]
  },
  {
   "cell_type": "code",
   "execution_count": 52,
   "id": "1f873ffc",
   "metadata": {},
   "outputs": [],
   "source": [
    "rantData = rantData.drop_duplicates(keep=False)"
   ]
  },
  {
   "cell_type": "code",
   "execution_count": 53,
   "id": "95ab3f1a",
   "metadata": {},
   "outputs": [
    {
     "data": {
      "text/plain": [
       "(2395, 8)"
      ]
     },
     "execution_count": 53,
     "metadata": {},
     "output_type": "execute_result"
    }
   ],
   "source": [
    "rantData.shape"
   ]
  },
  {
   "cell_type": "code",
   "execution_count": 54,
   "id": "ce2d1ae2",
   "metadata": {},
   "outputs": [],
   "source": [
    "entriesCount.append(rantData.shape[0])"
   ]
  },
  {
   "cell_type": "markdown",
   "id": "ddf97ba4",
   "metadata": {},
   "source": [
    "## CS Career Questions"
   ]
  },
  {
   "cell_type": "code",
   "execution_count": 55,
   "id": "d1402296",
   "metadata": {},
   "outputs": [],
   "source": [
    "ccqDataNew = pd.read_csv(\"../data/ccqData.csv\")\n",
    "ccqDataHot = pd.read_csv(\"../data/ccqData2.csv\")"
   ]
  },
  {
   "cell_type": "code",
   "execution_count": 56,
   "id": "f4526c0d",
   "metadata": {},
   "outputs": [
    {
     "data": {
      "text/plain": [
       "(990, 8)"
      ]
     },
     "execution_count": 56,
     "metadata": {},
     "output_type": "execute_result"
    }
   ],
   "source": [
    "ccqDataNew.shape"
   ]
  },
  {
   "cell_type": "code",
   "execution_count": 57,
   "id": "fb8fcad2",
   "metadata": {},
   "outputs": [
    {
     "data": {
      "text/plain": [
       "(581, 8)"
      ]
     },
     "execution_count": 57,
     "metadata": {},
     "output_type": "execute_result"
    }
   ],
   "source": [
    "ccqDataHot.shape"
   ]
  },
  {
   "cell_type": "code",
   "execution_count": 58,
   "id": "17a1b4ef",
   "metadata": {},
   "outputs": [
    {
     "data": {
      "text/plain": [
       "(1571, 8)"
      ]
     },
     "execution_count": 58,
     "metadata": {},
     "output_type": "execute_result"
    }
   ],
   "source": [
    "ccqData = pd.concat([ccqDataHot, ccqDataNew])\n",
    "ccqData.shape"
   ]
  },
  {
   "cell_type": "code",
   "execution_count": 59,
   "id": "ff2c812f",
   "metadata": {},
   "outputs": [],
   "source": [
    "ccqData = ccqData.drop_duplicates(keep=False)"
   ]
  },
  {
   "cell_type": "code",
   "execution_count": 60,
   "id": "67553aa8",
   "metadata": {},
   "outputs": [
    {
     "data": {
      "text/plain": [
       "(1565, 8)"
      ]
     },
     "execution_count": 60,
     "metadata": {},
     "output_type": "execute_result"
    }
   ],
   "source": [
    "ccqData.shape"
   ]
  },
  {
   "cell_type": "code",
   "execution_count": 61,
   "id": "c10c7d31",
   "metadata": {},
   "outputs": [],
   "source": [
    "entriesCount.append(ccqData.shape[0])"
   ]
  },
  {
   "cell_type": "markdown",
   "id": "316da458",
   "metadata": {},
   "source": [
    "## Anime"
   ]
  },
  {
   "cell_type": "code",
   "execution_count": 62,
   "id": "7e08fc57",
   "metadata": {},
   "outputs": [],
   "source": [
    "animeDataNew = pd.read_csv(\"../data/animeData.csv\")\n",
    "animeDataNew2 = pd.read_csv(\"../data/animeData3.csv\")\n",
    "animeDataHot = pd.read_csv(\"../data/animeData2.csv\")"
   ]
  },
  {
   "cell_type": "code",
   "execution_count": 63,
   "id": "997633ff",
   "metadata": {},
   "outputs": [
    {
     "data": {
      "text/plain": [
       "(761, 8)"
      ]
     },
     "execution_count": 63,
     "metadata": {},
     "output_type": "execute_result"
    }
   ],
   "source": [
    "animeDataNew.shape"
   ]
  },
  {
   "cell_type": "code",
   "execution_count": 64,
   "id": "f7b957a5",
   "metadata": {},
   "outputs": [
    {
     "data": {
      "text/plain": [
       "(593, 8)"
      ]
     },
     "execution_count": 64,
     "metadata": {},
     "output_type": "execute_result"
    }
   ],
   "source": [
    "animeDataNew2.shape"
   ]
  },
  {
   "cell_type": "code",
   "execution_count": 65,
   "id": "6e88ee3a",
   "metadata": {
    "scrolled": true
   },
   "outputs": [
    {
     "data": {
      "text/plain": [
       "(194, 8)"
      ]
     },
     "execution_count": 65,
     "metadata": {},
     "output_type": "execute_result"
    }
   ],
   "source": [
    "animeDataHot.shape"
   ]
  },
  {
   "cell_type": "code",
   "execution_count": 66,
   "id": "7b7aa4f2",
   "metadata": {},
   "outputs": [
    {
     "data": {
      "text/plain": [
       "(1548, 8)"
      ]
     },
     "execution_count": 66,
     "metadata": {},
     "output_type": "execute_result"
    }
   ],
   "source": [
    "animeData = pd.concat([animeDataHot, animeDataNew, animeDataNew2])\n",
    "animeData.shape"
   ]
  },
  {
   "cell_type": "code",
   "execution_count": 67,
   "id": "cb65ce06",
   "metadata": {},
   "outputs": [],
   "source": [
    "animeData = animeData.drop_duplicates(keep=False)"
   ]
  },
  {
   "cell_type": "code",
   "execution_count": 68,
   "id": "1541177c",
   "metadata": {},
   "outputs": [
    {
     "data": {
      "text/plain": [
       "(1548, 8)"
      ]
     },
     "execution_count": 68,
     "metadata": {},
     "output_type": "execute_result"
    }
   ],
   "source": [
    "animeData.shape"
   ]
  },
  {
   "cell_type": "code",
   "execution_count": 69,
   "id": "15921917",
   "metadata": {},
   "outputs": [],
   "source": [
    "entriesCount.append(animeData.shape[0])"
   ]
  },
  {
   "cell_type": "markdown",
   "id": "3b40729a",
   "metadata": {},
   "source": [
    "## Explain Like I'm Five"
   ]
  },
  {
   "cell_type": "code",
   "execution_count": 70,
   "id": "9e2c7332",
   "metadata": {},
   "outputs": [],
   "source": [
    "elifDataNew = pd.read_csv(\"../data/elifData.csv\")\n",
    "elifDataNew2 = pd.read_csv(\"../data/elifData3.csv\")\n",
    "elifDataNew3 = pd.read_csv(\"../data/elifData4.csv\")\n",
    "elifDataHot = pd.read_csv(\"../data/elifData2.csv\")"
   ]
  },
  {
   "cell_type": "code",
   "execution_count": 71,
   "id": "05bc9ba6",
   "metadata": {
    "scrolled": true
   },
   "outputs": [
    {
     "data": {
      "text/plain": [
       "(588, 8)"
      ]
     },
     "execution_count": 71,
     "metadata": {},
     "output_type": "execute_result"
    }
   ],
   "source": [
    "elifDataNew.shape"
   ]
  },
  {
   "cell_type": "code",
   "execution_count": 72,
   "id": "46a97824",
   "metadata": {},
   "outputs": [
    {
     "data": {
      "text/plain": [
       "(589, 8)"
      ]
     },
     "execution_count": 72,
     "metadata": {},
     "output_type": "execute_result"
    }
   ],
   "source": [
    "elifDataNew2.shape"
   ]
  },
  {
   "cell_type": "code",
   "execution_count": 73,
   "id": "bd82cd96",
   "metadata": {},
   "outputs": [
    {
     "data": {
      "text/plain": [
       "(594, 8)"
      ]
     },
     "execution_count": 73,
     "metadata": {},
     "output_type": "execute_result"
    }
   ],
   "source": [
    "elifDataNew3.shape"
   ]
  },
  {
   "cell_type": "code",
   "execution_count": 74,
   "id": "22dbf13d",
   "metadata": {},
   "outputs": [
    {
     "data": {
      "text/plain": [
       "(316, 8)"
      ]
     },
     "execution_count": 74,
     "metadata": {},
     "output_type": "execute_result"
    }
   ],
   "source": [
    "elifDataHot.shape"
   ]
  },
  {
   "cell_type": "code",
   "execution_count": 75,
   "id": "7f45bdb2",
   "metadata": {},
   "outputs": [
    {
     "data": {
      "text/plain": [
       "(2087, 8)"
      ]
     },
     "execution_count": 75,
     "metadata": {},
     "output_type": "execute_result"
    }
   ],
   "source": [
    "elifData = pd.concat([elifDataHot, elifDataNew, elifDataNew2, elifDataNew3])\n",
    "elifData.shape"
   ]
  },
  {
   "cell_type": "code",
   "execution_count": 76,
   "id": "594cf435",
   "metadata": {},
   "outputs": [],
   "source": [
    "elifData = elifData.drop_duplicates(keep=False)"
   ]
  },
  {
   "cell_type": "code",
   "execution_count": 77,
   "id": "512f05aa",
   "metadata": {},
   "outputs": [
    {
     "data": {
      "text/plain": [
       "(2077, 8)"
      ]
     },
     "execution_count": 77,
     "metadata": {},
     "output_type": "execute_result"
    }
   ],
   "source": [
    "elifData.shape"
   ]
  },
  {
   "cell_type": "code",
   "execution_count": 78,
   "id": "e4e90a63",
   "metadata": {},
   "outputs": [],
   "source": [
    "entriesCount.append(elifData.shape[0])"
   ]
  },
  {
   "cell_type": "markdown",
   "id": "c2f73244",
   "metadata": {},
   "source": [
    "## College"
   ]
  },
  {
   "cell_type": "code",
   "execution_count": 79,
   "id": "a828d90c",
   "metadata": {},
   "outputs": [],
   "source": [
    "collegeDataNew = pd.read_csv(\"../data/collegeData.csv\")\n",
    "collegeDataHot = pd.read_csv(\"../data/collegeData2.csv\")"
   ]
  },
  {
   "cell_type": "code",
   "execution_count": 80,
   "id": "dcb9532e",
   "metadata": {},
   "outputs": [
    {
     "data": {
      "text/plain": [
       "(934, 8)"
      ]
     },
     "execution_count": 80,
     "metadata": {},
     "output_type": "execute_result"
    }
   ],
   "source": [
    "collegeDataNew.shape"
   ]
  },
  {
   "cell_type": "code",
   "execution_count": 81,
   "id": "88eea63d",
   "metadata": {},
   "outputs": [
    {
     "data": {
      "text/plain": [
       "(749, 8)"
      ]
     },
     "execution_count": 81,
     "metadata": {},
     "output_type": "execute_result"
    }
   ],
   "source": [
    "collegeDataHot.shape"
   ]
  },
  {
   "cell_type": "code",
   "execution_count": 82,
   "id": "5277f7e9",
   "metadata": {},
   "outputs": [
    {
     "data": {
      "text/plain": [
       "(1683, 8)"
      ]
     },
     "execution_count": 82,
     "metadata": {},
     "output_type": "execute_result"
    }
   ],
   "source": [
    "collegeData = pd.concat([collegeDataHot, collegeDataNew])\n",
    "collegeData.shape"
   ]
  },
  {
   "cell_type": "code",
   "execution_count": 83,
   "id": "f30c6c43",
   "metadata": {},
   "outputs": [],
   "source": [
    "collegeData = collegeData.drop_duplicates(keep=False)"
   ]
  },
  {
   "cell_type": "code",
   "execution_count": 84,
   "id": "8000154d",
   "metadata": {},
   "outputs": [
    {
     "data": {
      "text/plain": [
       "(1683, 8)"
      ]
     },
     "execution_count": 84,
     "metadata": {},
     "output_type": "execute_result"
    }
   ],
   "source": [
    "collegeData.shape"
   ]
  },
  {
   "cell_type": "code",
   "execution_count": 85,
   "id": "e7d89b4a",
   "metadata": {},
   "outputs": [],
   "source": [
    "entriesCount.append(collegeData.shape[0])"
   ]
  },
  {
   "cell_type": "markdown",
   "id": "11e9604d",
   "metadata": {},
   "source": [
    "## NBA"
   ]
  },
  {
   "cell_type": "code",
   "execution_count": 86,
   "id": "358ade2b",
   "metadata": {},
   "outputs": [],
   "source": [
    "sportsDataNew = pd.read_csv(\"../data/sportsData.csv\")\n",
    "sportsDataNew2 = pd.read_csv(\"../data/sportsData3.csv\")\n",
    "sportsDataNew3 = pd.read_csv(\"../data/sportsData4.csv\")\n",
    "sportsDataHot = pd.read_csv(\"../data/sportsData2.csv\")"
   ]
  },
  {
   "cell_type": "code",
   "execution_count": 87,
   "id": "602beafc",
   "metadata": {
    "scrolled": true
   },
   "outputs": [
    {
     "data": {
      "text/plain": [
       "(639, 8)"
      ]
     },
     "execution_count": 87,
     "metadata": {},
     "output_type": "execute_result"
    }
   ],
   "source": [
    "sportsDataNew.shape"
   ]
  },
  {
   "cell_type": "code",
   "execution_count": 88,
   "id": "509e42c4",
   "metadata": {},
   "outputs": [
    {
     "data": {
      "text/plain": [
       "(68, 8)"
      ]
     },
     "execution_count": 88,
     "metadata": {},
     "output_type": "execute_result"
    }
   ],
   "source": [
    "sportsDataHot.shape"
   ]
  },
  {
   "cell_type": "code",
   "execution_count": 89,
   "id": "8e448847",
   "metadata": {},
   "outputs": [
    {
     "data": {
      "text/plain": [
       "(641, 8)"
      ]
     },
     "execution_count": 89,
     "metadata": {},
     "output_type": "execute_result"
    }
   ],
   "source": [
    "sportsDataNew2.shape"
   ]
  },
  {
   "cell_type": "code",
   "execution_count": 90,
   "id": "ddacbbc2",
   "metadata": {},
   "outputs": [
    {
     "data": {
      "text/plain": [
       "(650, 8)"
      ]
     },
     "execution_count": 90,
     "metadata": {},
     "output_type": "execute_result"
    }
   ],
   "source": [
    "sportsDataNew3.shape"
   ]
  },
  {
   "cell_type": "code",
   "execution_count": 91,
   "id": "ddbe83d4",
   "metadata": {},
   "outputs": [
    {
     "data": {
      "text/plain": [
       "(1998, 8)"
      ]
     },
     "execution_count": 91,
     "metadata": {},
     "output_type": "execute_result"
    }
   ],
   "source": [
    "sportsData = pd.concat([sportsDataHot, sportsDataNew, sportsDataNew2, sportsDataNew3])\n",
    "sportsData.shape"
   ]
  },
  {
   "cell_type": "code",
   "execution_count": 92,
   "id": "8dc7f045",
   "metadata": {},
   "outputs": [],
   "source": [
    "sportsData = sportsData.drop_duplicates(keep=False)"
   ]
  },
  {
   "cell_type": "code",
   "execution_count": 93,
   "id": "8748f62d",
   "metadata": {},
   "outputs": [
    {
     "data": {
      "text/plain": [
       "(1998, 8)"
      ]
     },
     "execution_count": 93,
     "metadata": {},
     "output_type": "execute_result"
    }
   ],
   "source": [
    "sportsData.shape"
   ]
  },
  {
   "cell_type": "code",
   "execution_count": 94,
   "id": "d1ca8e85",
   "metadata": {},
   "outputs": [],
   "source": [
    "entriesCount.append(sportsData.shape[0])"
   ]
  },
  {
   "cell_type": "markdown",
   "id": "9b215df2",
   "metadata": {},
   "source": [
    "## Cryptocurrency"
   ]
  },
  {
   "cell_type": "code",
   "execution_count": 95,
   "id": "8c309329",
   "metadata": {},
   "outputs": [],
   "source": [
    "cryptoDataNew = pd.read_csv(\"../data/cryptoData.csv\")\n",
    "cryptoDataNew2 = pd.read_csv(\"../data/cryptoData3.csv\")\n",
    "cryptoDataNew3 = pd.read_csv(\"../data/cryptoData4.csv\")\n",
    "cryptoDataHot = pd.read_csv(\"../data/cryptoData2.csv\")"
   ]
  },
  {
   "cell_type": "code",
   "execution_count": 96,
   "id": "09f58ff3",
   "metadata": {},
   "outputs": [
    {
     "data": {
      "text/plain": [
       "(323, 8)"
      ]
     },
     "execution_count": 96,
     "metadata": {},
     "output_type": "execute_result"
    }
   ],
   "source": [
    "cryptoDataNew.shape"
   ]
  },
  {
   "cell_type": "code",
   "execution_count": 97,
   "id": "66bbee60",
   "metadata": {},
   "outputs": [
    {
     "data": {
      "text/plain": [
       "(309, 8)"
      ]
     },
     "execution_count": 97,
     "metadata": {},
     "output_type": "execute_result"
    }
   ],
   "source": [
    "cryptoDataHot.shape"
   ]
  },
  {
   "cell_type": "code",
   "execution_count": 98,
   "id": "a093dba5",
   "metadata": {},
   "outputs": [
    {
     "data": {
      "text/plain": [
       "(445, 8)"
      ]
     },
     "execution_count": 98,
     "metadata": {},
     "output_type": "execute_result"
    }
   ],
   "source": [
    "cryptoDataNew2.shape"
   ]
  },
  {
   "cell_type": "code",
   "execution_count": 99,
   "id": "2b6acdbb",
   "metadata": {},
   "outputs": [
    {
     "data": {
      "text/plain": [
       "(449, 8)"
      ]
     },
     "execution_count": 99,
     "metadata": {},
     "output_type": "execute_result"
    }
   ],
   "source": [
    "cryptoDataNew3.shape"
   ]
  },
  {
   "cell_type": "code",
   "execution_count": 100,
   "id": "33d99605",
   "metadata": {},
   "outputs": [
    {
     "data": {
      "text/plain": [
       "(1526, 8)"
      ]
     },
     "execution_count": 100,
     "metadata": {},
     "output_type": "execute_result"
    }
   ],
   "source": [
    "cryptoData = pd.concat([cryptoDataHot, cryptoDataNew, cryptoDataNew2, cryptoDataNew3])\n",
    "cryptoData.shape"
   ]
  },
  {
   "cell_type": "code",
   "execution_count": 101,
   "id": "15e809a0",
   "metadata": {},
   "outputs": [],
   "source": [
    "cryptoData = cryptoData.drop_duplicates(keep=False)"
   ]
  },
  {
   "cell_type": "code",
   "execution_count": 102,
   "id": "93addb15",
   "metadata": {},
   "outputs": [
    {
     "data": {
      "text/plain": [
       "(1526, 8)"
      ]
     },
     "execution_count": 102,
     "metadata": {},
     "output_type": "execute_result"
    }
   ],
   "source": [
    "cryptoData.shape"
   ]
  },
  {
   "cell_type": "code",
   "execution_count": 103,
   "id": "f9a42a98",
   "metadata": {},
   "outputs": [],
   "source": [
    "entriesCount.append(cryptoData.shape[0])"
   ]
  },
  {
   "cell_type": "markdown",
   "id": "51a9821e",
   "metadata": {},
   "source": [
    "## Lawyer Talk"
   ]
  },
  {
   "cell_type": "code",
   "execution_count": 104,
   "id": "dc007ef6",
   "metadata": {},
   "outputs": [],
   "source": [
    "lawyerDataNew = pd.read_csv(\"../data/lawyerData.csv\")\n",
    "lawyerDataHot = pd.read_csv(\"../data/lawyerData2.csv\")"
   ]
  },
  {
   "cell_type": "code",
   "execution_count": 105,
   "id": "448a3005",
   "metadata": {},
   "outputs": [
    {
     "data": {
      "text/plain": [
       "(719, 8)"
      ]
     },
     "execution_count": 105,
     "metadata": {},
     "output_type": "execute_result"
    }
   ],
   "source": [
    "lawyerDataNew.shape"
   ]
  },
  {
   "cell_type": "code",
   "execution_count": 106,
   "id": "7dc2f2f0",
   "metadata": {},
   "outputs": [
    {
     "data": {
      "text/plain": [
       "(799, 8)"
      ]
     },
     "execution_count": 106,
     "metadata": {},
     "output_type": "execute_result"
    }
   ],
   "source": [
    "lawyerDataHot.shape"
   ]
  },
  {
   "cell_type": "code",
   "execution_count": 107,
   "id": "e7e0c558",
   "metadata": {},
   "outputs": [
    {
     "data": {
      "text/plain": [
       "(1518, 8)"
      ]
     },
     "execution_count": 107,
     "metadata": {},
     "output_type": "execute_result"
    }
   ],
   "source": [
    "lawyerData = pd.concat([lawyerDataHot, lawyerDataNew])\n",
    "lawyerData.shape"
   ]
  },
  {
   "cell_type": "code",
   "execution_count": 108,
   "id": "a9242bf8",
   "metadata": {},
   "outputs": [],
   "source": [
    "lawyerData = lawyerData.drop_duplicates(keep=False)"
   ]
  },
  {
   "cell_type": "code",
   "execution_count": 109,
   "id": "dd9430a2",
   "metadata": {},
   "outputs": [
    {
     "data": {
      "text/plain": [
       "(1518, 8)"
      ]
     },
     "execution_count": 109,
     "metadata": {},
     "output_type": "execute_result"
    }
   ],
   "source": [
    "lawyerData.shape"
   ]
  },
  {
   "cell_type": "code",
   "execution_count": 110,
   "id": "2ce7b4ec",
   "metadata": {},
   "outputs": [],
   "source": [
    "entriesCount.append(lawyerData.shape[0])"
   ]
  },
  {
   "cell_type": "markdown",
   "id": "bce0a9ad",
   "metadata": {},
   "source": [
    "## Gaming"
   ]
  },
  {
   "cell_type": "code",
   "execution_count": 111,
   "id": "0b13a21a",
   "metadata": {},
   "outputs": [],
   "source": [
    "gamingDataNew = pd.read_csv(\"../data/gamingData.csv\")\n",
    "gamingDataNew2 = pd.read_csv(\"../data/gamingData3.csv\")\n",
    "gamingDataNew3 = pd.read_csv(\"../data/gamingData4.csv\")\n",
    "gamingDataNew4 = pd.read_csv(\"../data/gamingData5.csv\")\n",
    "gamingDataHot = pd.read_csv(\"../data/gamingData2.csv\")\n",
    "gamingDataHot2 = pd.read_csv(\"../data/gamingData6.csv\")"
   ]
  },
  {
   "cell_type": "code",
   "execution_count": 112,
   "id": "ee17f426",
   "metadata": {},
   "outputs": [
    {
     "data": {
      "text/plain": [
       "(463, 8)"
      ]
     },
     "execution_count": 112,
     "metadata": {},
     "output_type": "execute_result"
    }
   ],
   "source": [
    "gamingDataNew.shape"
   ]
  },
  {
   "cell_type": "code",
   "execution_count": 113,
   "id": "4601b171",
   "metadata": {},
   "outputs": [
    {
     "data": {
      "text/plain": [
       "(368, 8)"
      ]
     },
     "execution_count": 113,
     "metadata": {},
     "output_type": "execute_result"
    }
   ],
   "source": [
    "gamingDataNew2.shape"
   ]
  },
  {
   "cell_type": "code",
   "execution_count": 114,
   "id": "eb204e48",
   "metadata": {},
   "outputs": [
    {
     "data": {
      "text/plain": [
       "(368, 8)"
      ]
     },
     "execution_count": 114,
     "metadata": {},
     "output_type": "execute_result"
    }
   ],
   "source": [
    "gamingDataNew3.shape"
   ]
  },
  {
   "cell_type": "code",
   "execution_count": 115,
   "id": "59cb439c",
   "metadata": {},
   "outputs": [
    {
     "data": {
      "text/plain": [
       "(371, 8)"
      ]
     },
     "execution_count": 115,
     "metadata": {},
     "output_type": "execute_result"
    }
   ],
   "source": [
    "gamingDataNew4.shape"
   ]
  },
  {
   "cell_type": "code",
   "execution_count": 116,
   "id": "3f14ba62",
   "metadata": {},
   "outputs": [
    {
     "data": {
      "text/plain": [
       "(89, 8)"
      ]
     },
     "execution_count": 116,
     "metadata": {},
     "output_type": "execute_result"
    }
   ],
   "source": [
    "gamingDataHot.shape"
   ]
  },
  {
   "cell_type": "code",
   "execution_count": 117,
   "id": "a3481317",
   "metadata": {},
   "outputs": [
    {
     "data": {
      "text/plain": [
       "(1742, 8)"
      ]
     },
     "execution_count": 117,
     "metadata": {},
     "output_type": "execute_result"
    }
   ],
   "source": [
    "gamingData = pd.concat([gamingDataHot, gamingDataHot2, gamingDataNew, gamingDataNew2, gamingDataNew3, gamingDataNew4])\n",
    "gamingData.shape"
   ]
  },
  {
   "cell_type": "code",
   "execution_count": 118,
   "id": "dd8c8655",
   "metadata": {},
   "outputs": [],
   "source": [
    "gamingData = gamingData.drop_duplicates(keep=False)"
   ]
  },
  {
   "cell_type": "code",
   "execution_count": 119,
   "id": "7d3c86f1",
   "metadata": {},
   "outputs": [
    {
     "data": {
      "text/plain": [
       "(1542, 8)"
      ]
     },
     "execution_count": 119,
     "metadata": {},
     "output_type": "execute_result"
    }
   ],
   "source": [
    "gamingData.shape"
   ]
  },
  {
   "cell_type": "code",
   "execution_count": 120,
   "id": "e6992993",
   "metadata": {},
   "outputs": [],
   "source": [
    "entriesCount.append(gamingData.shape[0])"
   ]
  },
  {
   "cell_type": "markdown",
   "id": "99be9d46",
   "metadata": {},
   "source": [
    "### Notes\n",
    "\n",
    "The reason why some of the subreddits have multiple csv files, instead of just 2-3, is because the initial query did not return enough values. As discussed below, I decided that all of the final dataframes will have 1500 rows. However, some of the files did not have enough for 1500 rows which required me to go back into the dataCollection notebook and create more csv files with more posts. gamingData gave me the most trouble, which I hypothesize is due to many of the posts on that subreddit only have images or videos in the main post."
   ]
  },
  {
   "cell_type": "markdown",
   "id": "f4914b02",
   "metadata": {},
   "source": [
    "## Calculations"
   ]
  },
  {
   "cell_type": "code",
   "execution_count": 121,
   "id": "8cc08bd3",
   "metadata": {},
   "outputs": [
    {
     "data": {
      "text/plain": [
       "[1962,\n",
       " 1670,\n",
       " 1732,\n",
       " 1579,\n",
       " 1900,\n",
       " 1775,\n",
       " 2395,\n",
       " 1565,\n",
       " 1548,\n",
       " 2077,\n",
       " 1683,\n",
       " 1998,\n",
       " 1526,\n",
       " 1518,\n",
       " 1542]"
      ]
     },
     "execution_count": 121,
     "metadata": {},
     "output_type": "execute_result"
    }
   ],
   "source": [
    "# Show all of the counts\n",
    "entriesCount"
   ]
  },
  {
   "cell_type": "code",
   "execution_count": 122,
   "id": "44f4f9a5",
   "metadata": {},
   "outputs": [
    {
     "data": {
      "text/plain": [
       "15"
      ]
     },
     "execution_count": 122,
     "metadata": {},
     "output_type": "execute_result"
    }
   ],
   "source": [
    "# Ensuring that all 15 subreddits are in the list\n",
    "len(entriesCount)"
   ]
  },
  {
   "cell_type": "code",
   "execution_count": 123,
   "id": "a14da87e",
   "metadata": {},
   "outputs": [
    {
     "data": {
      "text/plain": [
       "1518"
      ]
     },
     "execution_count": 123,
     "metadata": {},
     "output_type": "execute_result"
    }
   ],
   "source": [
    "# Finding the minimum to see where all of the dataframes can be cut off to be the same size\n",
    "min(entriesCount)"
   ]
  },
  {
   "cell_type": "markdown",
   "id": "8f4962ed",
   "metadata": {},
   "source": [
    "## Dropping Entries"
   ]
  },
  {
   "cell_type": "markdown",
   "id": "aab9e944",
   "metadata": {},
   "source": [
    "In the part, I drop posts from the dataframes so that they are all 1500 rows."
   ]
  },
  {
   "cell_type": "code",
   "execution_count": 124,
   "id": "ba61a336",
   "metadata": {},
   "outputs": [],
   "source": [
    "legalData = legalData[:1499]"
   ]
  },
  {
   "cell_type": "code",
   "execution_count": 125,
   "id": "4eb9cb93",
   "metadata": {},
   "outputs": [],
   "source": [
    "adData = adData[:1499]"
   ]
  },
  {
   "cell_type": "code",
   "execution_count": 126,
   "id": "e566fce5",
   "metadata": {},
   "outputs": [],
   "source": [
    "medData = medData[:1499]"
   ]
  },
  {
   "cell_type": "code",
   "execution_count": 127,
   "id": "4244035c",
   "metadata": {},
   "outputs": [],
   "source": [
    "hsData = hsData[:1499]"
   ]
  },
  {
   "cell_type": "code",
   "execution_count": 128,
   "id": "3e3d9c8b",
   "metadata": {},
   "outputs": [],
   "source": [
    "bwayData = bwayData[:1499]"
   ]
  },
  {
   "cell_type": "code",
   "execution_count": 129,
   "id": "9f9419d1",
   "metadata": {},
   "outputs": [],
   "source": [
    "pghData = pghData[:1499]"
   ]
  },
  {
   "cell_type": "code",
   "execution_count": 130,
   "id": "90b8abaa",
   "metadata": {},
   "outputs": [],
   "source": [
    "rantData = rantData[:1499]"
   ]
  },
  {
   "cell_type": "code",
   "execution_count": 131,
   "id": "eed093f9",
   "metadata": {},
   "outputs": [],
   "source": [
    "ccqData = ccqData[:1499]"
   ]
  },
  {
   "cell_type": "code",
   "execution_count": 132,
   "id": "de099bb3",
   "metadata": {},
   "outputs": [],
   "source": [
    "animeData = animeData[:1499]"
   ]
  },
  {
   "cell_type": "code",
   "execution_count": 133,
   "id": "0a4811fe",
   "metadata": {},
   "outputs": [],
   "source": [
    "elifData = elifData[:1499]"
   ]
  },
  {
   "cell_type": "code",
   "execution_count": 134,
   "id": "f92f8688",
   "metadata": {},
   "outputs": [],
   "source": [
    "collegeData = collegeData[:1499]"
   ]
  },
  {
   "cell_type": "code",
   "execution_count": 135,
   "id": "27fbe23f",
   "metadata": {},
   "outputs": [],
   "source": [
    "sportsData = sportsData[:1499]"
   ]
  },
  {
   "cell_type": "code",
   "execution_count": 136,
   "id": "f6fdd207",
   "metadata": {},
   "outputs": [],
   "source": [
    "cryptoData = cryptoData[:1499]"
   ]
  },
  {
   "cell_type": "code",
   "execution_count": 137,
   "id": "bf4ba628",
   "metadata": {},
   "outputs": [],
   "source": [
    "lawyerData = lawyerData[:1499]"
   ]
  },
  {
   "cell_type": "code",
   "execution_count": 138,
   "id": "d4e407ee",
   "metadata": {},
   "outputs": [],
   "source": [
    "gamingData = gamingData[:1499]"
   ]
  },
  {
   "cell_type": "markdown",
   "id": "02ac568c",
   "metadata": {},
   "source": [
    "## Cleaning Up"
   ]
  },
  {
   "cell_type": "markdown",
   "id": "56e92ac9",
   "metadata": {},
   "source": [
    "While reading in the data, some weird column was added. I will be removing this column from all of the dataframes."
   ]
  },
  {
   "cell_type": "code",
   "execution_count": 139,
   "id": "b71dc6a9",
   "metadata": {},
   "outputs": [],
   "source": [
    "gamingData = gamingData.drop('Unnamed: 0', axis=1)"
   ]
  },
  {
   "cell_type": "code",
   "execution_count": 140,
   "id": "4c2dd622",
   "metadata": {},
   "outputs": [],
   "source": [
    "laywerData = lawyerData.drop('Unnamed: 0', axis=1)"
   ]
  },
  {
   "cell_type": "code",
   "execution_count": 141,
   "id": "a8fcf688",
   "metadata": {},
   "outputs": [],
   "source": [
    "cryptoData = cryptoData.drop('Unnamed: 0', axis=1)"
   ]
  },
  {
   "cell_type": "code",
   "execution_count": 142,
   "id": "9e033659",
   "metadata": {},
   "outputs": [],
   "source": [
    "sportsData = sportsData.drop('Unnamed: 0', axis=1)"
   ]
  },
  {
   "cell_type": "code",
   "execution_count": 143,
   "id": "65ebf366",
   "metadata": {},
   "outputs": [],
   "source": [
    "collegeData = collegeData.drop('Unnamed: 0', axis=1)"
   ]
  },
  {
   "cell_type": "code",
   "execution_count": 144,
   "id": "12096dc2",
   "metadata": {},
   "outputs": [],
   "source": [
    "elifData = elifData.drop('Unnamed: 0', axis=1)"
   ]
  },
  {
   "cell_type": "code",
   "execution_count": 145,
   "id": "2de5ae69",
   "metadata": {},
   "outputs": [],
   "source": [
    "animeData = animeData.drop('Unnamed: 0', axis=1)"
   ]
  },
  {
   "cell_type": "code",
   "execution_count": 146,
   "id": "66d5539f",
   "metadata": {},
   "outputs": [],
   "source": [
    "ccqData = ccqData.drop('Unnamed: 0', axis=1)"
   ]
  },
  {
   "cell_type": "code",
   "execution_count": 147,
   "id": "182decf2",
   "metadata": {},
   "outputs": [],
   "source": [
    "rantData = rantData.drop('Unnamed: 0', axis=1)"
   ]
  },
  {
   "cell_type": "code",
   "execution_count": 148,
   "id": "8266dfb7",
   "metadata": {},
   "outputs": [],
   "source": [
    "pghData = pghData.drop('Unnamed: 0', axis=1)"
   ]
  },
  {
   "cell_type": "code",
   "execution_count": 149,
   "id": "f8c5dc8c",
   "metadata": {},
   "outputs": [],
   "source": [
    "bwayData = bwayData.drop('Unnamed: 0', axis=1)"
   ]
  },
  {
   "cell_type": "code",
   "execution_count": 150,
   "id": "cbdeee40",
   "metadata": {},
   "outputs": [],
   "source": [
    "hsData = hsData.drop('Unnamed: 0', axis=1)"
   ]
  },
  {
   "cell_type": "code",
   "execution_count": 151,
   "id": "f82d98ee",
   "metadata": {},
   "outputs": [],
   "source": [
    "medData = medData.drop('Unnamed: 0', axis=1)"
   ]
  },
  {
   "cell_type": "code",
   "execution_count": 152,
   "id": "5c4ecdda",
   "metadata": {},
   "outputs": [],
   "source": [
    "adData = adData.drop('Unnamed: 0', axis=1)"
   ]
  },
  {
   "cell_type": "code",
   "execution_count": 153,
   "id": "51980c1d",
   "metadata": {},
   "outputs": [],
   "source": [
    "legalData = legalData.drop('Unnamed: 0', axis=1)"
   ]
  },
  {
   "cell_type": "markdown",
   "id": "f10748dc",
   "metadata": {},
   "source": [
    "## Final Dataframes"
   ]
  },
  {
   "cell_type": "markdown",
   "id": "b2596767",
   "metadata": {},
   "source": [
    "Show all of the dataframes, so that all of the columns and size looks correct."
   ]
  },
  {
   "cell_type": "code",
   "execution_count": 154,
   "id": "abb253fb",
   "metadata": {},
   "outputs": [
    {
     "data": {
      "text/html": [
       "<div>\n",
       "<style scoped>\n",
       "    .dataframe tbody tr th:only-of-type {\n",
       "        vertical-align: middle;\n",
       "    }\n",
       "\n",
       "    .dataframe tbody tr th {\n",
       "        vertical-align: top;\n",
       "    }\n",
       "\n",
       "    .dataframe thead th {\n",
       "        text-align: right;\n",
       "    }\n",
       "</style>\n",
       "<table border=\"1\" class=\"dataframe\">\n",
       "  <thead>\n",
       "    <tr style=\"text-align: right;\">\n",
       "      <th></th>\n",
       "      <th>Title</th>\n",
       "      <th>Id</th>\n",
       "      <th>Text</th>\n",
       "      <th>Author</th>\n",
       "      <th>Number of Comments</th>\n",
       "      <th>Number of Upvotes</th>\n",
       "      <th>Ratio of Upvotes</th>\n",
       "    </tr>\n",
       "  </thead>\n",
       "  <tbody>\n",
       "    <tr>\n",
       "      <th>324</th>\n",
       "      <td>I was only 9 years old.</td>\n",
       "      <td>11pk3k2</td>\n",
       "      <td>&amp;#x200B;\\n\\nhttps://preview.redd.it/4qwzhpc0ec...</td>\n",
       "      <td>ElectronicFirstcom</td>\n",
       "      <td>2</td>\n",
       "      <td>0</td>\n",
       "      <td>0.32</td>\n",
       "    </tr>\n",
       "    <tr>\n",
       "      <th>67</th>\n",
       "      <td>What game should I play next?</td>\n",
       "      <td>11ukbpo</td>\n",
       "      <td>I’m looking for a bit of inspiration here. Whi...</td>\n",
       "      <td>skafkaesque</td>\n",
       "      <td>27</td>\n",
       "      <td>0</td>\n",
       "      <td>0.41</td>\n",
       "    </tr>\n",
       "    <tr>\n",
       "      <th>97</th>\n",
       "      <td>Any tips for improving at strategy games like ...</td>\n",
       "      <td>11uaic5</td>\n",
       "      <td>I really want to get into these games and I ha...</td>\n",
       "      <td>JackBoyEditor</td>\n",
       "      <td>6</td>\n",
       "      <td>0</td>\n",
       "      <td>0.50</td>\n",
       "    </tr>\n",
       "    <tr>\n",
       "      <th>245</th>\n",
       "      <td>What are the best games that can be completed ...</td>\n",
       "      <td>11qupr2</td>\n",
       "      <td>I always loved the short and sweet games like ...</td>\n",
       "      <td>MedicalNote</td>\n",
       "      <td>48</td>\n",
       "      <td>5</td>\n",
       "      <td>0.69</td>\n",
       "    </tr>\n",
       "    <tr>\n",
       "      <th>355</th>\n",
       "      <td>Games for Couples on switch?</td>\n",
       "      <td>118a9z8</td>\n",
       "      <td>Hey Folks, I was looking for some online switc...</td>\n",
       "      <td>NocturnalMee166</td>\n",
       "      <td>10</td>\n",
       "      <td>1</td>\n",
       "      <td>1.00</td>\n",
       "    </tr>\n",
       "    <tr>\n",
       "      <th>61</th>\n",
       "      <td>Tried hyperdimension Neptunia re;birth 1. Not ...</td>\n",
       "      <td>11v1yil</td>\n",
       "      <td>I’ve played it for about an hour and it’s kind...</td>\n",
       "      <td>ZenKoko</td>\n",
       "      <td>6</td>\n",
       "      <td>0</td>\n",
       "      <td>0.46</td>\n",
       "    </tr>\n",
       "    <tr>\n",
       "      <th>319</th>\n",
       "      <td>Rain World’s interesting world building doesn’...</td>\n",
       "      <td>118j8zc</td>\n",
       "      <td>I really wanted to enjoy Rain World; I wanted ...</td>\n",
       "      <td>RogerPeculiar</td>\n",
       "      <td>12</td>\n",
       "      <td>1</td>\n",
       "      <td>0.50</td>\n",
       "    </tr>\n",
       "    <tr>\n",
       "      <th>327</th>\n",
       "      <td>What are your favorite games of all time?</td>\n",
       "      <td>118hhjs</td>\n",
       "      <td>I wanted to know what your favorite games are ...</td>\n",
       "      <td>sebascq</td>\n",
       "      <td>29</td>\n",
       "      <td>2</td>\n",
       "      <td>0.55</td>\n",
       "    </tr>\n",
       "    <tr>\n",
       "      <th>273</th>\n",
       "      <td>Any recommendations for a nice game to play wi...</td>\n",
       "      <td>11qgfrt</td>\n",
       "      <td>6 months ago, one of my best friends moved to ...</td>\n",
       "      <td>SirMegalomaniac</td>\n",
       "      <td>12</td>\n",
       "      <td>7</td>\n",
       "      <td>0.74</td>\n",
       "    </tr>\n",
       "    <tr>\n",
       "      <th>52</th>\n",
       "      <td>Have you ever played online competetive game a...</td>\n",
       "      <td>11uv3ze</td>\n",
       "      <td>Just curiois, for me it's chess xD</td>\n",
       "      <td>AleksanderMerk</td>\n",
       "      <td>19</td>\n",
       "      <td>0</td>\n",
       "      <td>0.50</td>\n",
       "    </tr>\n",
       "  </tbody>\n",
       "</table>\n",
       "</div>"
      ],
      "text/plain": [
       "                                                 Title       Id  \\\n",
       "324                            I was only 9 years old.  11pk3k2   \n",
       "67                       What game should I play next?  11ukbpo   \n",
       "97   Any tips for improving at strategy games like ...  11uaic5   \n",
       "245  What are the best games that can be completed ...  11qupr2   \n",
       "355                       Games for Couples on switch?  118a9z8   \n",
       "61   Tried hyperdimension Neptunia re;birth 1. Not ...  11v1yil   \n",
       "319  Rain World’s interesting world building doesn’...  118j8zc   \n",
       "327          What are your favorite games of all time?  118hhjs   \n",
       "273  Any recommendations for a nice game to play wi...  11qgfrt   \n",
       "52   Have you ever played online competetive game a...  11uv3ze   \n",
       "\n",
       "                                                  Text              Author  \\\n",
       "324  &#x200B;\\n\\nhttps://preview.redd.it/4qwzhpc0ec...  ElectronicFirstcom   \n",
       "67   I’m looking for a bit of inspiration here. Whi...         skafkaesque   \n",
       "97   I really want to get into these games and I ha...       JackBoyEditor   \n",
       "245  I always loved the short and sweet games like ...         MedicalNote   \n",
       "355  Hey Folks, I was looking for some online switc...     NocturnalMee166   \n",
       "61   I’ve played it for about an hour and it’s kind...             ZenKoko   \n",
       "319  I really wanted to enjoy Rain World; I wanted ...       RogerPeculiar   \n",
       "327  I wanted to know what your favorite games are ...             sebascq   \n",
       "273  6 months ago, one of my best friends moved to ...     SirMegalomaniac   \n",
       "52                  Just curiois, for me it's chess xD      AleksanderMerk   \n",
       "\n",
       "     Number of Comments  Number of Upvotes  Ratio of Upvotes  \n",
       "324                   2                  0              0.32  \n",
       "67                   27                  0              0.41  \n",
       "97                    6                  0              0.50  \n",
       "245                  48                  5              0.69  \n",
       "355                  10                  1              1.00  \n",
       "61                    6                  0              0.46  \n",
       "319                  12                  1              0.50  \n",
       "327                  29                  2              0.55  \n",
       "273                  12                  7              0.74  \n",
       "52                   19                  0              0.50  "
      ]
     },
     "execution_count": 154,
     "metadata": {},
     "output_type": "execute_result"
    }
   ],
   "source": [
    "gamingData.sample(10)"
   ]
  },
  {
   "cell_type": "code",
   "execution_count": 155,
   "id": "9caa5208",
   "metadata": {},
   "outputs": [
    {
     "data": {
      "text/html": [
       "<div>\n",
       "<style scoped>\n",
       "    .dataframe tbody tr th:only-of-type {\n",
       "        vertical-align: middle;\n",
       "    }\n",
       "\n",
       "    .dataframe tbody tr th {\n",
       "        vertical-align: top;\n",
       "    }\n",
       "\n",
       "    .dataframe thead th {\n",
       "        text-align: right;\n",
       "    }\n",
       "</style>\n",
       "<table border=\"1\" class=\"dataframe\">\n",
       "  <thead>\n",
       "    <tr style=\"text-align: right;\">\n",
       "      <th></th>\n",
       "      <th>Title</th>\n",
       "      <th>Id</th>\n",
       "      <th>Text</th>\n",
       "      <th>Author</th>\n",
       "      <th>Number of Comments</th>\n",
       "      <th>Number of Upvotes</th>\n",
       "      <th>Ratio of Upvotes</th>\n",
       "    </tr>\n",
       "  </thead>\n",
       "  <tbody>\n",
       "    <tr>\n",
       "      <th>38</th>\n",
       "      <td>Any recommendations/insights from in house cor...</td>\n",
       "      <td>11sq44z</td>\n",
       "      <td>Recently started a new role as in-house corpor...</td>\n",
       "      <td>itchyblood</td>\n",
       "      <td>0</td>\n",
       "      <td>2</td>\n",
       "      <td>0.75</td>\n",
       "    </tr>\n",
       "    <tr>\n",
       "      <th>47</th>\n",
       "      <td>Corporate Franchise Tax</td>\n",
       "      <td>11s6fz0</td>\n",
       "      <td>Does anybody have any recommendations for grou...</td>\n",
       "      <td>amaz50</td>\n",
       "      <td>3</td>\n",
       "      <td>1</td>\n",
       "      <td>1.00</td>\n",
       "    </tr>\n",
       "    <tr>\n",
       "      <th>502</th>\n",
       "      <td>GPT3 passes The Bar</td>\n",
       "      <td>101olmo</td>\n",
       "      <td>https://arxiv.org/abs/2212.14402\\n\\nWhat does ...</td>\n",
       "      <td>plowfaster</td>\n",
       "      <td>19</td>\n",
       "      <td>5</td>\n",
       "      <td>0.69</td>\n",
       "    </tr>\n",
       "    <tr>\n",
       "      <th>664</th>\n",
       "      <td>What does your life look like as a lawyer</td>\n",
       "      <td>zkiq98</td>\n",
       "      <td>Ever since I was little, people have always to...</td>\n",
       "      <td>TheKillBosby</td>\n",
       "      <td>48</td>\n",
       "      <td>28</td>\n",
       "      <td>0.78</td>\n",
       "    </tr>\n",
       "    <tr>\n",
       "      <th>458</th>\n",
       "      <td>Information Systems or Other business major fo...</td>\n",
       "      <td>1067qzm</td>\n",
       "      <td>Ok, bear with me for this one. I’m a freshman ...</td>\n",
       "      <td>Elegant_Release_6054</td>\n",
       "      <td>4</td>\n",
       "      <td>0</td>\n",
       "      <td>0.50</td>\n",
       "    </tr>\n",
       "    <tr>\n",
       "      <th>678</th>\n",
       "      <td>Getting reported for refusing a case?</td>\n",
       "      <td>ziadef</td>\n",
       "      <td>I decided I didn’t want to work with this guy,...</td>\n",
       "      <td>seedsnearth</td>\n",
       "      <td>36</td>\n",
       "      <td>71</td>\n",
       "      <td>0.95</td>\n",
       "    </tr>\n",
       "    <tr>\n",
       "      <th>585</th>\n",
       "      <td>What force/weight does a subpoena from Special...</td>\n",
       "      <td>zrx2nt</td>\n",
       "      <td>Not a legal advice request, LOL.</td>\n",
       "      <td>El-Kabongg</td>\n",
       "      <td>6</td>\n",
       "      <td>0</td>\n",
       "      <td>0.40</td>\n",
       "    </tr>\n",
       "    <tr>\n",
       "      <th>759</th>\n",
       "      <td>FOR WORKIN LAWYERS</td>\n",
       "      <td>100wjbv</td>\n",
       "      <td>What problems do you face with being a lawyer ...</td>\n",
       "      <td>TSJMEDIA</td>\n",
       "      <td>12</td>\n",
       "      <td>0</td>\n",
       "      <td>0.19</td>\n",
       "    </tr>\n",
       "    <tr>\n",
       "      <th>425</th>\n",
       "      <td>How many hours do big law associates really work?</td>\n",
       "      <td>108mzle</td>\n",
       "      <td>Basically the title, I know most bill at least...</td>\n",
       "      <td>tossd55</td>\n",
       "      <td>14</td>\n",
       "      <td>10</td>\n",
       "      <td>1.00</td>\n",
       "    </tr>\n",
       "    <tr>\n",
       "      <th>655</th>\n",
       "      <td>ISO Best Locations for Trial Attorneys</td>\n",
       "      <td>zlcljf</td>\n",
       "      <td>Hi all!!! I live in a city where everything se...</td>\n",
       "      <td>humanitydaily93</td>\n",
       "      <td>23</td>\n",
       "      <td>4</td>\n",
       "      <td>0.70</td>\n",
       "    </tr>\n",
       "  </tbody>\n",
       "</table>\n",
       "</div>"
      ],
      "text/plain": [
       "                                                 Title       Id  \\\n",
       "38   Any recommendations/insights from in house cor...  11sq44z   \n",
       "47                             Corporate Franchise Tax  11s6fz0   \n",
       "502                                GPT3 passes The Bar  101olmo   \n",
       "664          What does your life look like as a lawyer   zkiq98   \n",
       "458  Information Systems or Other business major fo...  1067qzm   \n",
       "678              Getting reported for refusing a case?   ziadef   \n",
       "585  What force/weight does a subpoena from Special...   zrx2nt   \n",
       "759                                 FOR WORKIN LAWYERS  100wjbv   \n",
       "425  How many hours do big law associates really work?  108mzle   \n",
       "655             ISO Best Locations for Trial Attorneys   zlcljf   \n",
       "\n",
       "                                                  Text                Author  \\\n",
       "38   Recently started a new role as in-house corpor...            itchyblood   \n",
       "47   Does anybody have any recommendations for grou...                amaz50   \n",
       "502  https://arxiv.org/abs/2212.14402\\n\\nWhat does ...            plowfaster   \n",
       "664  Ever since I was little, people have always to...          TheKillBosby   \n",
       "458  Ok, bear with me for this one. I’m a freshman ...  Elegant_Release_6054   \n",
       "678  I decided I didn’t want to work with this guy,...           seedsnearth   \n",
       "585                   Not a legal advice request, LOL.            El-Kabongg   \n",
       "759  What problems do you face with being a lawyer ...              TSJMEDIA   \n",
       "425  Basically the title, I know most bill at least...               tossd55   \n",
       "655  Hi all!!! I live in a city where everything se...       humanitydaily93   \n",
       "\n",
       "     Number of Comments  Number of Upvotes  Ratio of Upvotes  \n",
       "38                    0                  2              0.75  \n",
       "47                    3                  1              1.00  \n",
       "502                  19                  5              0.69  \n",
       "664                  48                 28              0.78  \n",
       "458                   4                  0              0.50  \n",
       "678                  36                 71              0.95  \n",
       "585                   6                  0              0.40  \n",
       "759                  12                  0              0.19  \n",
       "425                  14                 10              1.00  \n",
       "655                  23                  4              0.70  "
      ]
     },
     "execution_count": 155,
     "metadata": {},
     "output_type": "execute_result"
    }
   ],
   "source": [
    "laywerData.sample(10)"
   ]
  },
  {
   "cell_type": "code",
   "execution_count": 156,
   "id": "51d9b8cc",
   "metadata": {},
   "outputs": [
    {
     "data": {
      "text/html": [
       "<div>\n",
       "<style scoped>\n",
       "    .dataframe tbody tr th:only-of-type {\n",
       "        vertical-align: middle;\n",
       "    }\n",
       "\n",
       "    .dataframe tbody tr th {\n",
       "        vertical-align: top;\n",
       "    }\n",
       "\n",
       "    .dataframe thead th {\n",
       "        text-align: right;\n",
       "    }\n",
       "</style>\n",
       "<table border=\"1\" class=\"dataframe\">\n",
       "  <thead>\n",
       "    <tr style=\"text-align: right;\">\n",
       "      <th></th>\n",
       "      <th>Title</th>\n",
       "      <th>Id</th>\n",
       "      <th>Text</th>\n",
       "      <th>Author</th>\n",
       "      <th>Number of Comments</th>\n",
       "      <th>Number of Upvotes</th>\n",
       "      <th>Ratio of Upvotes</th>\n",
       "    </tr>\n",
       "  </thead>\n",
       "  <tbody>\n",
       "    <tr>\n",
       "      <th>179</th>\n",
       "      <td>Let’s talk about Plutus</td>\n",
       "      <td>11uznm8</td>\n",
       "      <td>I have been a user of Plutus. For those of you...</td>\n",
       "      <td>yldf</td>\n",
       "      <td>14</td>\n",
       "      <td>0</td>\n",
       "      <td>0.44</td>\n",
       "    </tr>\n",
       "    <tr>\n",
       "      <th>12</th>\n",
       "      <td>Buying Moons on Sushi Swap with Metamask: how ...</td>\n",
       "      <td>11vqbbo</td>\n",
       "      <td>Today I successfully bought my first Moons thr...</td>\n",
       "      <td>poeselkots</td>\n",
       "      <td>93</td>\n",
       "      <td>20</td>\n",
       "      <td>0.74</td>\n",
       "    </tr>\n",
       "    <tr>\n",
       "      <th>361</th>\n",
       "      <td>Up we go again!</td>\n",
       "      <td>11tjfim</td>\n",
       "      <td>Bitcoin pushing past $25k and very close to pa...</td>\n",
       "      <td>R0Y-BATTY</td>\n",
       "      <td>93</td>\n",
       "      <td>8</td>\n",
       "      <td>0.62</td>\n",
       "    </tr>\n",
       "    <tr>\n",
       "      <th>195</th>\n",
       "      <td>IRL Karma for r/cc Tippers: the Arbitrum airdrop</td>\n",
       "      <td>11ubyeg</td>\n",
       "      <td>Many of you have probably seen scam links/prom...</td>\n",
       "      <td>LATech99</td>\n",
       "      <td>130</td>\n",
       "      <td>18</td>\n",
       "      <td>0.78</td>\n",
       "    </tr>\n",
       "    <tr>\n",
       "      <th>197</th>\n",
       "      <td>Coinbase Wallet is Trash</td>\n",
       "      <td>118eld5</td>\n",
       "      <td>I've been using Coinbase and Coinbase pro for ...</td>\n",
       "      <td>TwoStepLaunch</td>\n",
       "      <td>19</td>\n",
       "      <td>1</td>\n",
       "      <td>0.57</td>\n",
       "    </tr>\n",
       "    <tr>\n",
       "      <th>252</th>\n",
       "      <td>Capital Gains Tax free allowance is changing f...</td>\n",
       "      <td>11tolag</td>\n",
       "      <td>If you live in the UK first £12,300 of profits...</td>\n",
       "      <td>rootpl</td>\n",
       "      <td>115</td>\n",
       "      <td>20</td>\n",
       "      <td>0.78</td>\n",
       "    </tr>\n",
       "    <tr>\n",
       "      <th>133</th>\n",
       "      <td>What is the most creative way of hiding the se...</td>\n",
       "      <td>11vhfp5</td>\n",
       "      <td>Just a friendly reminder that your seed phrase...</td>\n",
       "      <td>mbouhda</td>\n",
       "      <td>231</td>\n",
       "      <td>34</td>\n",
       "      <td>0.81</td>\n",
       "    </tr>\n",
       "    <tr>\n",
       "      <th>114</th>\n",
       "      <td>I think I know how CBDCs will be introduced in...</td>\n",
       "      <td>11vmpng</td>\n",
       "      <td>The primary issue we're facing now is that ban...</td>\n",
       "      <td>TheQuantumPhysicist</td>\n",
       "      <td>30</td>\n",
       "      <td>8</td>\n",
       "      <td>0.83</td>\n",
       "    </tr>\n",
       "    <tr>\n",
       "      <th>28</th>\n",
       "      <td>A discussion - could Reddit Moons be considere...</td>\n",
       "      <td>11a9afo</td>\n",
       "      <td>We’ve seen the recent SEC enforcement actions ...</td>\n",
       "      <td>bingorunner</td>\n",
       "      <td>104</td>\n",
       "      <td>21</td>\n",
       "      <td>0.72</td>\n",
       "    </tr>\n",
       "    <tr>\n",
       "      <th>237</th>\n",
       "      <td>Finally had to lie to family about losing mone...</td>\n",
       "      <td>117xpla</td>\n",
       "      <td>Welp… officially lied straight to my family an...</td>\n",
       "      <td>moonRekt</td>\n",
       "      <td>53</td>\n",
       "      <td>2</td>\n",
       "      <td>0.50</td>\n",
       "    </tr>\n",
       "  </tbody>\n",
       "</table>\n",
       "</div>"
      ],
      "text/plain": [
       "                                                 Title       Id  \\\n",
       "179                            Let’s talk about Plutus  11uznm8   \n",
       "12   Buying Moons on Sushi Swap with Metamask: how ...  11vqbbo   \n",
       "361                                    Up we go again!  11tjfim   \n",
       "195   IRL Karma for r/cc Tippers: the Arbitrum airdrop  11ubyeg   \n",
       "197                           Coinbase Wallet is Trash  118eld5   \n",
       "252  Capital Gains Tax free allowance is changing f...  11tolag   \n",
       "133  What is the most creative way of hiding the se...  11vhfp5   \n",
       "114  I think I know how CBDCs will be introduced in...  11vmpng   \n",
       "28   A discussion - could Reddit Moons be considere...  11a9afo   \n",
       "237  Finally had to lie to family about losing mone...  117xpla   \n",
       "\n",
       "                                                  Text               Author  \\\n",
       "179  I have been a user of Plutus. For those of you...                 yldf   \n",
       "12   Today I successfully bought my first Moons thr...           poeselkots   \n",
       "361  Bitcoin pushing past $25k and very close to pa...            R0Y-BATTY   \n",
       "195  Many of you have probably seen scam links/prom...             LATech99   \n",
       "197  I've been using Coinbase and Coinbase pro for ...        TwoStepLaunch   \n",
       "252  If you live in the UK first £12,300 of profits...               rootpl   \n",
       "133  Just a friendly reminder that your seed phrase...              mbouhda   \n",
       "114  The primary issue we're facing now is that ban...  TheQuantumPhysicist   \n",
       "28   We’ve seen the recent SEC enforcement actions ...          bingorunner   \n",
       "237  Welp… officially lied straight to my family an...             moonRekt   \n",
       "\n",
       "     Number of Comments  Number of Upvotes  Ratio of Upvotes  \n",
       "179                  14                  0              0.44  \n",
       "12                   93                 20              0.74  \n",
       "361                  93                  8              0.62  \n",
       "195                 130                 18              0.78  \n",
       "197                  19                  1              0.57  \n",
       "252                 115                 20              0.78  \n",
       "133                 231                 34              0.81  \n",
       "114                  30                  8              0.83  \n",
       "28                  104                 21              0.72  \n",
       "237                  53                  2              0.50  "
      ]
     },
     "execution_count": 156,
     "metadata": {},
     "output_type": "execute_result"
    }
   ],
   "source": [
    "cryptoData.sample(10)"
   ]
  },
  {
   "cell_type": "code",
   "execution_count": 157,
   "id": "470f4995",
   "metadata": {},
   "outputs": [
    {
     "data": {
      "text/html": [
       "<div>\n",
       "<style scoped>\n",
       "    .dataframe tbody tr th:only-of-type {\n",
       "        vertical-align: middle;\n",
       "    }\n",
       "\n",
       "    .dataframe tbody tr th {\n",
       "        vertical-align: top;\n",
       "    }\n",
       "\n",
       "    .dataframe thead th {\n",
       "        text-align: right;\n",
       "    }\n",
       "</style>\n",
       "<table border=\"1\" class=\"dataframe\">\n",
       "  <thead>\n",
       "    <tr style=\"text-align: right;\">\n",
       "      <th></th>\n",
       "      <th>Title</th>\n",
       "      <th>Id</th>\n",
       "      <th>Text</th>\n",
       "      <th>Author</th>\n",
       "      <th>Number of Comments</th>\n",
       "      <th>Number of upvotes</th>\n",
       "      <th>Ratio of Upvotes</th>\n",
       "    </tr>\n",
       "  </thead>\n",
       "  <tbody>\n",
       "    <tr>\n",
       "      <th>47</th>\n",
       "      <td>Best Starting Lineup of 2-Way Players?</td>\n",
       "      <td>11vp2v4</td>\n",
       "      <td>2-way players are my favorite to watch because...</td>\n",
       "      <td>DJFunkenstein69</td>\n",
       "      <td>43</td>\n",
       "      <td>3</td>\n",
       "      <td>0.64</td>\n",
       "    </tr>\n",
       "    <tr>\n",
       "      <th>261</th>\n",
       "      <td>Charles Barley used to wear uniforms into the ...</td>\n",
       "      <td>11u9p63</td>\n",
       "      <td>Here is Charles talking about having to wear u...</td>\n",
       "      <td>thepobv</td>\n",
       "      <td>16</td>\n",
       "      <td>73</td>\n",
       "      <td>0.90</td>\n",
       "    </tr>\n",
       "    <tr>\n",
       "      <th>573</th>\n",
       "      <td>[Mavs PR] Tim Hardaway Jr. (left calf contusio...</td>\n",
       "      <td>11rnqsp</td>\n",
       "      <td>According to Mavs PR, Luka will miss tomorrow'...</td>\n",
       "      <td>BayonettaBasher</td>\n",
       "      <td>30</td>\n",
       "      <td>41</td>\n",
       "      <td>0.90</td>\n",
       "    </tr>\n",
       "    <tr>\n",
       "      <th>341</th>\n",
       "      <td>Pascal Siakam Ends His Recent Slump With a Win...</td>\n",
       "      <td>11tdjwx</td>\n",
       "      <td>On:\\n\\n9/19 FG\\n\\n3/5 3P\\n\\n4/8 FT\\n\\nAfter a ...</td>\n",
       "      <td>CazOnReddit</td>\n",
       "      <td>20</td>\n",
       "      <td>137</td>\n",
       "      <td>0.93</td>\n",
       "    </tr>\n",
       "    <tr>\n",
       "      <th>81</th>\n",
       "      <td>Warriors now have perfectly inverse home (29-7...</td>\n",
       "      <td>11v9vj3</td>\n",
       "      <td>What a peculiar team to have such contrasting ...</td>\n",
       "      <td>rptd333</td>\n",
       "      <td>20</td>\n",
       "      <td>151</td>\n",
       "      <td>0.92</td>\n",
       "    </tr>\n",
       "    <tr>\n",
       "      <th>105</th>\n",
       "      <td>The Sixers just played their 9th game in March...</td>\n",
       "      <td>11v7pjl</td>\n",
       "      <td>[Source -- Brock Landes](https://twitter.com/L...</td>\n",
       "      <td>NorthCoastToast</td>\n",
       "      <td>50</td>\n",
       "      <td>439</td>\n",
       "      <td>0.87</td>\n",
       "    </tr>\n",
       "    <tr>\n",
       "      <th>76</th>\n",
       "      <td>How far does the all-hate squad go</td>\n",
       "      <td>11vx3bp</td>\n",
       "      <td>Chris Paul\\n\\nKyrie Irving\\n\\nDillon Brooks\\n\\...</td>\n",
       "      <td>Ok_Librarian2474</td>\n",
       "      <td>59</td>\n",
       "      <td>17</td>\n",
       "      <td>0.72</td>\n",
       "    </tr>\n",
       "    <tr>\n",
       "      <th>620</th>\n",
       "      <td>GAME THREAD: New York Knicks (40-30) @ Portlan...</td>\n",
       "      <td>11rh0r8</td>\n",
       "      <td>##General Information\\n    **TIME**     |**MED...</td>\n",
       "      <td>NBA_MOD</td>\n",
       "      <td>43</td>\n",
       "      <td>8</td>\n",
       "      <td>0.76</td>\n",
       "    </tr>\n",
       "    <tr>\n",
       "      <th>67</th>\n",
       "      <td>Jayson Tatum hasn’t shot 50%+ in back to back ...</td>\n",
       "      <td>11vqogh</td>\n",
       "      <td>Despite averaging 30 ppg on a very respectable...</td>\n",
       "      <td>noideawhatsgoingon45</td>\n",
       "      <td>158</td>\n",
       "      <td>759</td>\n",
       "      <td>0.92</td>\n",
       "    </tr>\n",
       "    <tr>\n",
       "      <th>305</th>\n",
       "      <td>Giannis: I'm not as talented as Steph. I'm not...</td>\n",
       "      <td>11tw5sz</td>\n",
       "      <td>https://twitter.com/SportsCenter/status/163672...</td>\n",
       "      <td>0dias_Chrysalis</td>\n",
       "      <td>1559</td>\n",
       "      <td>13658</td>\n",
       "      <td>0.93</td>\n",
       "    </tr>\n",
       "  </tbody>\n",
       "</table>\n",
       "</div>"
      ],
      "text/plain": [
       "                                                 Title       Id  \\\n",
       "47              Best Starting Lineup of 2-Way Players?  11vp2v4   \n",
       "261  Charles Barley used to wear uniforms into the ...  11u9p63   \n",
       "573  [Mavs PR] Tim Hardaway Jr. (left calf contusio...  11rnqsp   \n",
       "341  Pascal Siakam Ends His Recent Slump With a Win...  11tdjwx   \n",
       "81   Warriors now have perfectly inverse home (29-7...  11v9vj3   \n",
       "105  The Sixers just played their 9th game in March...  11v7pjl   \n",
       "76                  How far does the all-hate squad go  11vx3bp   \n",
       "620  GAME THREAD: New York Knicks (40-30) @ Portlan...  11rh0r8   \n",
       "67   Jayson Tatum hasn’t shot 50%+ in back to back ...  11vqogh   \n",
       "305  Giannis: I'm not as talented as Steph. I'm not...  11tw5sz   \n",
       "\n",
       "                                                  Text                Author  \\\n",
       "47   2-way players are my favorite to watch because...       DJFunkenstein69   \n",
       "261  Here is Charles talking about having to wear u...               thepobv   \n",
       "573  According to Mavs PR, Luka will miss tomorrow'...       BayonettaBasher   \n",
       "341  On:\\n\\n9/19 FG\\n\\n3/5 3P\\n\\n4/8 FT\\n\\nAfter a ...           CazOnReddit   \n",
       "81   What a peculiar team to have such contrasting ...               rptd333   \n",
       "105  [Source -- Brock Landes](https://twitter.com/L...       NorthCoastToast   \n",
       "76   Chris Paul\\n\\nKyrie Irving\\n\\nDillon Brooks\\n\\...      Ok_Librarian2474   \n",
       "620  ##General Information\\n    **TIME**     |**MED...               NBA_MOD   \n",
       "67   Despite averaging 30 ppg on a very respectable...  noideawhatsgoingon45   \n",
       "305  https://twitter.com/SportsCenter/status/163672...       0dias_Chrysalis   \n",
       "\n",
       "     Number of Comments  Number of upvotes  Ratio of Upvotes  \n",
       "47                   43                  3              0.64  \n",
       "261                  16                 73              0.90  \n",
       "573                  30                 41              0.90  \n",
       "341                  20                137              0.93  \n",
       "81                   20                151              0.92  \n",
       "105                  50                439              0.87  \n",
       "76                   59                 17              0.72  \n",
       "620                  43                  8              0.76  \n",
       "67                  158                759              0.92  \n",
       "305                1559              13658              0.93  "
      ]
     },
     "execution_count": 157,
     "metadata": {},
     "output_type": "execute_result"
    }
   ],
   "source": [
    "sportsData.sample(10)"
   ]
  },
  {
   "cell_type": "code",
   "execution_count": 158,
   "id": "06e3a4b8",
   "metadata": {},
   "outputs": [
    {
     "data": {
      "text/html": [
       "<div>\n",
       "<style scoped>\n",
       "    .dataframe tbody tr th:only-of-type {\n",
       "        vertical-align: middle;\n",
       "    }\n",
       "\n",
       "    .dataframe tbody tr th {\n",
       "        vertical-align: top;\n",
       "    }\n",
       "\n",
       "    .dataframe thead th {\n",
       "        text-align: right;\n",
       "    }\n",
       "</style>\n",
       "<table border=\"1\" class=\"dataframe\">\n",
       "  <thead>\n",
       "    <tr style=\"text-align: right;\">\n",
       "      <th></th>\n",
       "      <th>Title</th>\n",
       "      <th>Id</th>\n",
       "      <th>Text</th>\n",
       "      <th>Author</th>\n",
       "      <th>Number of Comments</th>\n",
       "      <th>Number of upvotes</th>\n",
       "      <th>Ratio of Upvotes</th>\n",
       "    </tr>\n",
       "  </thead>\n",
       "  <tbody>\n",
       "    <tr>\n",
       "      <th>413</th>\n",
       "      <td>How do close friends around each other so much...</td>\n",
       "      <td>1140yss</td>\n",
       "      <td>It doesn’t really make much sense to me how ur...</td>\n",
       "      <td>sucktig</td>\n",
       "      <td>10</td>\n",
       "      <td>0</td>\n",
       "      <td>0.40</td>\n",
       "    </tr>\n",
       "    <tr>\n",
       "      <th>366</th>\n",
       "      <td>Questions about choosing the best school</td>\n",
       "      <td>114tmo6</td>\n",
       "      <td>Hello all, I am looking to return to college a...</td>\n",
       "      <td>repairasaurus</td>\n",
       "      <td>2</td>\n",
       "      <td>2</td>\n",
       "      <td>1.00</td>\n",
       "    </tr>\n",
       "    <tr>\n",
       "      <th>88</th>\n",
       "      <td>So I’ve considered changing my major from comp...</td>\n",
       "      <td>11ubpla</td>\n",
       "      <td>So I’m currently majoring in computer science ...</td>\n",
       "      <td>IceMan420_</td>\n",
       "      <td>4</td>\n",
       "      <td>2</td>\n",
       "      <td>1.00</td>\n",
       "    </tr>\n",
       "    <tr>\n",
       "      <th>577</th>\n",
       "      <td>What are some good preparations to make before...</td>\n",
       "      <td>111isi7</td>\n",
       "      <td>Hello everybody, I\\[m18\\] am hopefully  gonna ...</td>\n",
       "      <td>AuthenticSteveRogers</td>\n",
       "      <td>3</td>\n",
       "      <td>10</td>\n",
       "      <td>1.00</td>\n",
       "    </tr>\n",
       "    <tr>\n",
       "      <th>211</th>\n",
       "      <td>Incoming freshman wants to be my roommate next...</td>\n",
       "      <td>11rcm30</td>\n",
       "      <td>I'll be a junior next year and am currently lo...</td>\n",
       "      <td>bottleoftrash</td>\n",
       "      <td>38</td>\n",
       "      <td>104</td>\n",
       "      <td>0.94</td>\n",
       "    </tr>\n",
       "    <tr>\n",
       "      <th>540</th>\n",
       "      <td>Backup Major Suggestions</td>\n",
       "      <td>11lkwdq</td>\n",
       "      <td>Hello! I’m currently an undergraduate freshman...</td>\n",
       "      <td>itzz-icey</td>\n",
       "      <td>2</td>\n",
       "      <td>1</td>\n",
       "      <td>1.00</td>\n",
       "    </tr>\n",
       "    <tr>\n",
       "      <th>619</th>\n",
       "      <td>Need some perspective on being a student leader?</td>\n",
       "      <td>110rd99</td>\n",
       "      <td>**Background**: Hi all, I am a college student...</td>\n",
       "      <td>PineTreePuffin</td>\n",
       "      <td>2</td>\n",
       "      <td>2</td>\n",
       "      <td>0.67</td>\n",
       "    </tr>\n",
       "    <tr>\n",
       "      <th>606</th>\n",
       "      <td>Not sure about my choice...(epic clickbait)</td>\n",
       "      <td>11jzuj1</td>\n",
       "      <td>I am not sure if this is the proper subreddit ...</td>\n",
       "      <td>Shudderer</td>\n",
       "      <td>0</td>\n",
       "      <td>2</td>\n",
       "      <td>1.00</td>\n",
       "    </tr>\n",
       "    <tr>\n",
       "      <th>504</th>\n",
       "      <td>Turn it in and chat GPT</td>\n",
       "      <td>11metq7</td>\n",
       "      <td>Has turn it in caught on to Chat GPT yet pls l...</td>\n",
       "      <td>brandon2155</td>\n",
       "      <td>7</td>\n",
       "      <td>0</td>\n",
       "      <td>0.30</td>\n",
       "    </tr>\n",
       "    <tr>\n",
       "      <th>14</th>\n",
       "      <td>How do I get into the habit of studying?</td>\n",
       "      <td>11adz89</td>\n",
       "      <td>4th semester at a CC, and now I'm getting worr...</td>\n",
       "      <td>Mr-MuffinMan</td>\n",
       "      <td>2</td>\n",
       "      <td>2</td>\n",
       "      <td>1.00</td>\n",
       "    </tr>\n",
       "  </tbody>\n",
       "</table>\n",
       "</div>"
      ],
      "text/plain": [
       "                                                 Title       Id  \\\n",
       "413  How do close friends around each other so much...  1140yss   \n",
       "366           Questions about choosing the best school  114tmo6   \n",
       "88   So I’ve considered changing my major from comp...  11ubpla   \n",
       "577  What are some good preparations to make before...  111isi7   \n",
       "211  Incoming freshman wants to be my roommate next...  11rcm30   \n",
       "540                           Backup Major Suggestions  11lkwdq   \n",
       "619   Need some perspective on being a student leader?  110rd99   \n",
       "606        Not sure about my choice...(epic clickbait)  11jzuj1   \n",
       "504                            Turn it in and chat GPT  11metq7   \n",
       "14            How do I get into the habit of studying?  11adz89   \n",
       "\n",
       "                                                  Text                Author  \\\n",
       "413  It doesn’t really make much sense to me how ur...               sucktig   \n",
       "366  Hello all, I am looking to return to college a...         repairasaurus   \n",
       "88   So I’m currently majoring in computer science ...            IceMan420_   \n",
       "577  Hello everybody, I\\[m18\\] am hopefully  gonna ...  AuthenticSteveRogers   \n",
       "211  I'll be a junior next year and am currently lo...         bottleoftrash   \n",
       "540  Hello! I’m currently an undergraduate freshman...             itzz-icey   \n",
       "619  **Background**: Hi all, I am a college student...        PineTreePuffin   \n",
       "606  I am not sure if this is the proper subreddit ...             Shudderer   \n",
       "504  Has turn it in caught on to Chat GPT yet pls l...           brandon2155   \n",
       "14   4th semester at a CC, and now I'm getting worr...          Mr-MuffinMan   \n",
       "\n",
       "     Number of Comments  Number of upvotes  Ratio of Upvotes  \n",
       "413                  10                  0              0.40  \n",
       "366                   2                  2              1.00  \n",
       "88                    4                  2              1.00  \n",
       "577                   3                 10              1.00  \n",
       "211                  38                104              0.94  \n",
       "540                   2                  1              1.00  \n",
       "619                   2                  2              0.67  \n",
       "606                   0                  2              1.00  \n",
       "504                   7                  0              0.30  \n",
       "14                    2                  2              1.00  "
      ]
     },
     "execution_count": 158,
     "metadata": {},
     "output_type": "execute_result"
    }
   ],
   "source": [
    "collegeData.sample(10)"
   ]
  },
  {
   "cell_type": "code",
   "execution_count": 159,
   "id": "ad6eeafa",
   "metadata": {},
   "outputs": [
    {
     "data": {
      "text/html": [
       "<div>\n",
       "<style scoped>\n",
       "    .dataframe tbody tr th:only-of-type {\n",
       "        vertical-align: middle;\n",
       "    }\n",
       "\n",
       "    .dataframe tbody tr th {\n",
       "        vertical-align: top;\n",
       "    }\n",
       "\n",
       "    .dataframe thead th {\n",
       "        text-align: right;\n",
       "    }\n",
       "</style>\n",
       "<table border=\"1\" class=\"dataframe\">\n",
       "  <thead>\n",
       "    <tr style=\"text-align: right;\">\n",
       "      <th></th>\n",
       "      <th>Title</th>\n",
       "      <th>Id</th>\n",
       "      <th>Text</th>\n",
       "      <th>Author</th>\n",
       "      <th>Number of Comments</th>\n",
       "      <th>Number of upvotes</th>\n",
       "      <th>Ratio of Upvotes</th>\n",
       "    </tr>\n",
       "  </thead>\n",
       "  <tbody>\n",
       "    <tr>\n",
       "      <th>380</th>\n",
       "      <td>eli5: why are flammable gasses flammable</td>\n",
       "      <td>11nrug9</td>\n",
       "      <td>Well the title explains it but why are flammab...</td>\n",
       "      <td>CriticalTruth283</td>\n",
       "      <td>7</td>\n",
       "      <td>0</td>\n",
       "      <td>0.30</td>\n",
       "    </tr>\n",
       "    <tr>\n",
       "      <th>81</th>\n",
       "      <td>Eli5: Helicopter down wash</td>\n",
       "      <td>11u3pca</td>\n",
       "      <td>Can someone please explain to me why down wash...</td>\n",
       "      <td>Sagittarius1996</td>\n",
       "      <td>20</td>\n",
       "      <td>0</td>\n",
       "      <td>0.38</td>\n",
       "    </tr>\n",
       "    <tr>\n",
       "      <th>197</th>\n",
       "      <td>ELI5 how does LED and smart lights generate di...</td>\n",
       "      <td>11s592g</td>\n",
       "      <td>The smart light bulbs and led have options to ...</td>\n",
       "      <td>Miserable-Scallion87</td>\n",
       "      <td>3</td>\n",
       "      <td>0</td>\n",
       "      <td>0.44</td>\n",
       "    </tr>\n",
       "    <tr>\n",
       "      <th>450</th>\n",
       "      <td>Eli5: How do plenty of low sound cumulate?</td>\n",
       "      <td>11m5kcl</td>\n",
       "      <td>Lets imagine that someone whisper something to...</td>\n",
       "      <td>ImSupposedToStudy</td>\n",
       "      <td>4</td>\n",
       "      <td>0</td>\n",
       "      <td>0.50</td>\n",
       "    </tr>\n",
       "    <tr>\n",
       "      <th>205</th>\n",
       "      <td>Eli5: how does equal day/normalized reporting ...</td>\n",
       "      <td>11rnkus</td>\n",
       "      <td>I understand normalised accounting is normaliz...</td>\n",
       "      <td>Airyrelic</td>\n",
       "      <td>3</td>\n",
       "      <td>4</td>\n",
       "      <td>0.76</td>\n",
       "    </tr>\n",
       "    <tr>\n",
       "      <th>81</th>\n",
       "      <td>ELI5:How do companies avoid using the same bar...</td>\n",
       "      <td>11t3odz</td>\n",
       "      <td>How do they avoid using the same barcode more ...</td>\n",
       "      <td>DJ_Micoh</td>\n",
       "      <td>144</td>\n",
       "      <td>396</td>\n",
       "      <td>0.90</td>\n",
       "    </tr>\n",
       "    <tr>\n",
       "      <th>156</th>\n",
       "      <td>ELI5: When you sell stock through a brokerage ...</td>\n",
       "      <td>11ss9ut</td>\n",
       "      <td>If I decide to unload some stock, who’s actual...</td>\n",
       "      <td>Strayriffs</td>\n",
       "      <td>8</td>\n",
       "      <td>14</td>\n",
       "      <td>0.69</td>\n",
       "    </tr>\n",
       "    <tr>\n",
       "      <th>17</th>\n",
       "      <td>ELI5: How Bond Markets work</td>\n",
       "      <td>11vlise</td>\n",
       "      <td>I understand that Bond prices fall as interest...</td>\n",
       "      <td>2WeekTraveller</td>\n",
       "      <td>12</td>\n",
       "      <td>4</td>\n",
       "      <td>0.60</td>\n",
       "    </tr>\n",
       "    <tr>\n",
       "      <th>232</th>\n",
       "      <td>ELI5: How do atoms create DNA?</td>\n",
       "      <td>11rphfg</td>\n",
       "      <td>How do they come together to create DNA? How d...</td>\n",
       "      <td>Ivebeendoingurmom</td>\n",
       "      <td>7</td>\n",
       "      <td>0</td>\n",
       "      <td>0.36</td>\n",
       "    </tr>\n",
       "    <tr>\n",
       "      <th>178</th>\n",
       "      <td>ELI5: Why does the London Underground have wir...</td>\n",
       "      <td>11s2kxc</td>\n",
       "      <td>Everywhere when I am on the Underground, I alw...</td>\n",
       "      <td>Comfortable-Table-57</td>\n",
       "      <td>8</td>\n",
       "      <td>5</td>\n",
       "      <td>0.67</td>\n",
       "    </tr>\n",
       "  </tbody>\n",
       "</table>\n",
       "</div>"
      ],
      "text/plain": [
       "                                                 Title       Id  \\\n",
       "380           eli5: why are flammable gasses flammable  11nrug9   \n",
       "81                          Eli5: Helicopter down wash  11u3pca   \n",
       "197  ELI5 how does LED and smart lights generate di...  11s592g   \n",
       "450         Eli5: How do plenty of low sound cumulate?  11m5kcl   \n",
       "205  Eli5: how does equal day/normalized reporting ...  11rnkus   \n",
       "81   ELI5:How do companies avoid using the same bar...  11t3odz   \n",
       "156  ELI5: When you sell stock through a brokerage ...  11ss9ut   \n",
       "17                         ELI5: How Bond Markets work  11vlise   \n",
       "232                     ELI5: How do atoms create DNA?  11rphfg   \n",
       "178  ELI5: Why does the London Underground have wir...  11s2kxc   \n",
       "\n",
       "                                                  Text                Author  \\\n",
       "380  Well the title explains it but why are flammab...      CriticalTruth283   \n",
       "81   Can someone please explain to me why down wash...       Sagittarius1996   \n",
       "197  The smart light bulbs and led have options to ...  Miserable-Scallion87   \n",
       "450  Lets imagine that someone whisper something to...     ImSupposedToStudy   \n",
       "205  I understand normalised accounting is normaliz...             Airyrelic   \n",
       "81   How do they avoid using the same barcode more ...              DJ_Micoh   \n",
       "156  If I decide to unload some stock, who’s actual...            Strayriffs   \n",
       "17   I understand that Bond prices fall as interest...        2WeekTraveller   \n",
       "232  How do they come together to create DNA? How d...     Ivebeendoingurmom   \n",
       "178  Everywhere when I am on the Underground, I alw...  Comfortable-Table-57   \n",
       "\n",
       "     Number of Comments  Number of upvotes  Ratio of Upvotes  \n",
       "380                   7                  0              0.30  \n",
       "81                   20                  0              0.38  \n",
       "197                   3                  0              0.44  \n",
       "450                   4                  0              0.50  \n",
       "205                   3                  4              0.76  \n",
       "81                  144                396              0.90  \n",
       "156                   8                 14              0.69  \n",
       "17                   12                  4              0.60  \n",
       "232                   7                  0              0.36  \n",
       "178                   8                  5              0.67  "
      ]
     },
     "execution_count": 159,
     "metadata": {},
     "output_type": "execute_result"
    }
   ],
   "source": [
    "elifData.sample(10)"
   ]
  },
  {
   "cell_type": "code",
   "execution_count": 160,
   "id": "29ba1705",
   "metadata": {},
   "outputs": [
    {
     "data": {
      "text/html": [
       "<div>\n",
       "<style scoped>\n",
       "    .dataframe tbody tr th:only-of-type {\n",
       "        vertical-align: middle;\n",
       "    }\n",
       "\n",
       "    .dataframe tbody tr th {\n",
       "        vertical-align: top;\n",
       "    }\n",
       "\n",
       "    .dataframe thead th {\n",
       "        text-align: right;\n",
       "    }\n",
       "</style>\n",
       "<table border=\"1\" class=\"dataframe\">\n",
       "  <thead>\n",
       "    <tr style=\"text-align: right;\">\n",
       "      <th></th>\n",
       "      <th>Title</th>\n",
       "      <th>Id</th>\n",
       "      <th>Text</th>\n",
       "      <th>Author</th>\n",
       "      <th>Number of Comments</th>\n",
       "      <th>Number of upvotes</th>\n",
       "      <th>Ratio of Upvotes</th>\n",
       "    </tr>\n",
       "  </thead>\n",
       "  <tbody>\n",
       "    <tr>\n",
       "      <th>238</th>\n",
       "      <td>Kyuuketsuki Sugu Shinu Season 2 • The Vampire ...</td>\n",
       "      <td>11qais9</td>\n",
       "      <td>*Kyuuketsuki Sugu Shinu Season 2*, episode 10\\...</td>\n",
       "      <td>AutoLovepon</td>\n",
       "      <td>31</td>\n",
       "      <td>176</td>\n",
       "      <td>0.92</td>\n",
       "    </tr>\n",
       "    <tr>\n",
       "      <th>212</th>\n",
       "      <td>Common Criticisms You Disagree With</td>\n",
       "      <td>118emr3</td>\n",
       "      <td>There are a lot of constructive criticism for ...</td>\n",
       "      <td>Born-Procedure-5908</td>\n",
       "      <td>445</td>\n",
       "      <td>104</td>\n",
       "      <td>0.87</td>\n",
       "    </tr>\n",
       "    <tr>\n",
       "      <th>247</th>\n",
       "      <td>Cap Kakumei Bottleman DX - Episode 49 discussion</td>\n",
       "      <td>11pwhct</td>\n",
       "      <td>*Cap Kakumei Bottleman DX*, episode 49\\n\\n\\n\\n...</td>\n",
       "      <td>AutoLovepon</td>\n",
       "      <td>1</td>\n",
       "      <td>1</td>\n",
       "      <td>0.54</td>\n",
       "    </tr>\n",
       "    <tr>\n",
       "      <th>345</th>\n",
       "      <td>[Do You Remember Love - Macross Franchise 40th...</td>\n",
       "      <td>11o3omw</td>\n",
       "      <td>#**Episode 22 - [Extreme Bravery](https://i.im...</td>\n",
       "      <td>Shimmering-Sky</td>\n",
       "      <td>47</td>\n",
       "      <td>28</td>\n",
       "      <td>0.90</td>\n",
       "    </tr>\n",
       "    <tr>\n",
       "      <th>514</th>\n",
       "      <td>Trigun Stampede - Episode 7 discussion</td>\n",
       "      <td>115hxl8</td>\n",
       "      <td>*Trigun Stampede*, episode 7\\n\\n\\n\\n# [Rate th...</td>\n",
       "      <td>AutoLovepon</td>\n",
       "      <td>232</td>\n",
       "      <td>807</td>\n",
       "      <td>0.95</td>\n",
       "    </tr>\n",
       "    <tr>\n",
       "      <th>15</th>\n",
       "      <td>Otonari no Tenshi-sama ni Itsunomanika Dame Ni...</td>\n",
       "      <td>11uqr5s</td>\n",
       "      <td>*Otonari no Tenshi-sama ni Itsunomanika Dame N...</td>\n",
       "      <td>AutoLovepon</td>\n",
       "      <td>363</td>\n",
       "      <td>1113</td>\n",
       "      <td>0.95</td>\n",
       "    </tr>\n",
       "    <tr>\n",
       "      <th>290</th>\n",
       "      <td>The Familiar of Zero Lent In Violent Easter Re...</td>\n",
       "      <td>117isy1</td>\n",
       "      <td>Hello everyone! I am Holofan4life.\\n\\nWelcome ...</td>\n",
       "      <td>Holofan4life</td>\n",
       "      <td>95</td>\n",
       "      <td>26</td>\n",
       "      <td>0.85</td>\n",
       "    </tr>\n",
       "    <tr>\n",
       "      <th>720</th>\n",
       "      <td>Looking for stuff similar to Ginga Eiyuu Dense...</td>\n",
       "      <td>113jgbr</td>\n",
       "      <td>So about 2 months ago I finished the original ...</td>\n",
       "      <td>pardewje</td>\n",
       "      <td>18</td>\n",
       "      <td>0</td>\n",
       "      <td>0.50</td>\n",
       "    </tr>\n",
       "    <tr>\n",
       "      <th>624</th>\n",
       "      <td>The Vision of Escaflowne</td>\n",
       "      <td>114buio</td>\n",
       "      <td>So, I just finished watching this anime for th...</td>\n",
       "      <td>Librirgo</td>\n",
       "      <td>18</td>\n",
       "      <td>0</td>\n",
       "      <td>0.50</td>\n",
       "    </tr>\n",
       "    <tr>\n",
       "      <th>72</th>\n",
       "      <td>Which one should I watch next?</td>\n",
       "      <td>119zl01</td>\n",
       "      <td>Which anime should I start from these?\\n- nats...</td>\n",
       "      <td>Luleinn</td>\n",
       "      <td>4</td>\n",
       "      <td>0</td>\n",
       "      <td>0.45</td>\n",
       "    </tr>\n",
       "  </tbody>\n",
       "</table>\n",
       "</div>"
      ],
      "text/plain": [
       "                                                 Title       Id  \\\n",
       "238  Kyuuketsuki Sugu Shinu Season 2 • The Vampire ...  11qais9   \n",
       "212                Common Criticisms You Disagree With  118emr3   \n",
       "247   Cap Kakumei Bottleman DX - Episode 49 discussion  11pwhct   \n",
       "345  [Do You Remember Love - Macross Franchise 40th...  11o3omw   \n",
       "514             Trigun Stampede - Episode 7 discussion  115hxl8   \n",
       "15   Otonari no Tenshi-sama ni Itsunomanika Dame Ni...  11uqr5s   \n",
       "290  The Familiar of Zero Lent In Violent Easter Re...  117isy1   \n",
       "720  Looking for stuff similar to Ginga Eiyuu Dense...  113jgbr   \n",
       "624                           The Vision of Escaflowne  114buio   \n",
       "72                      Which one should I watch next?  119zl01   \n",
       "\n",
       "                                                  Text               Author  \\\n",
       "238  *Kyuuketsuki Sugu Shinu Season 2*, episode 10\\...          AutoLovepon   \n",
       "212  There are a lot of constructive criticism for ...  Born-Procedure-5908   \n",
       "247  *Cap Kakumei Bottleman DX*, episode 49\\n\\n\\n\\n...          AutoLovepon   \n",
       "345  #**Episode 22 - [Extreme Bravery](https://i.im...       Shimmering-Sky   \n",
       "514  *Trigun Stampede*, episode 7\\n\\n\\n\\n# [Rate th...          AutoLovepon   \n",
       "15   *Otonari no Tenshi-sama ni Itsunomanika Dame N...          AutoLovepon   \n",
       "290  Hello everyone! I am Holofan4life.\\n\\nWelcome ...         Holofan4life   \n",
       "720  So about 2 months ago I finished the original ...             pardewje   \n",
       "624  So, I just finished watching this anime for th...             Librirgo   \n",
       "72   Which anime should I start from these?\\n- nats...              Luleinn   \n",
       "\n",
       "     Number of Comments  Number of upvotes  Ratio of Upvotes  \n",
       "238                  31                176              0.92  \n",
       "212                 445                104              0.87  \n",
       "247                   1                  1              0.54  \n",
       "345                  47                 28              0.90  \n",
       "514                 232                807              0.95  \n",
       "15                  363               1113              0.95  \n",
       "290                  95                 26              0.85  \n",
       "720                  18                  0              0.50  \n",
       "624                  18                  0              0.50  \n",
       "72                    4                  0              0.45  "
      ]
     },
     "execution_count": 160,
     "metadata": {},
     "output_type": "execute_result"
    }
   ],
   "source": [
    "animeData.sample(10)"
   ]
  },
  {
   "cell_type": "code",
   "execution_count": 161,
   "id": "e019ea32",
   "metadata": {},
   "outputs": [
    {
     "data": {
      "text/html": [
       "<div>\n",
       "<style scoped>\n",
       "    .dataframe tbody tr th:only-of-type {\n",
       "        vertical-align: middle;\n",
       "    }\n",
       "\n",
       "    .dataframe tbody tr th {\n",
       "        vertical-align: top;\n",
       "    }\n",
       "\n",
       "    .dataframe thead th {\n",
       "        text-align: right;\n",
       "    }\n",
       "</style>\n",
       "<table border=\"1\" class=\"dataframe\">\n",
       "  <thead>\n",
       "    <tr style=\"text-align: right;\">\n",
       "      <th></th>\n",
       "      <th>Title</th>\n",
       "      <th>Id</th>\n",
       "      <th>Text</th>\n",
       "      <th>Author</th>\n",
       "      <th>Number of Comments</th>\n",
       "      <th>Number of upvotes</th>\n",
       "      <th>Ratio of Upvotes</th>\n",
       "    </tr>\n",
       "  </thead>\n",
       "  <tbody>\n",
       "    <tr>\n",
       "      <th>173</th>\n",
       "      <td>I'll be starting work with a major bank in two...</td>\n",
       "      <td>11tbini</td>\n",
       "      <td>The job will most likely be Python and cloud r...</td>\n",
       "      <td>oculusface</td>\n",
       "      <td>7</td>\n",
       "      <td>1</td>\n",
       "      <td>0.66</td>\n",
       "    </tr>\n",
       "    <tr>\n",
       "      <th>81</th>\n",
       "      <td>Cyber security question</td>\n",
       "      <td>11uipce</td>\n",
       "      <td>Hi I am a 15 year old currently in my 4th year...</td>\n",
       "      <td>NotOriqi_</td>\n",
       "      <td>3</td>\n",
       "      <td>2</td>\n",
       "      <td>0.76</td>\n",
       "    </tr>\n",
       "    <tr>\n",
       "      <th>383</th>\n",
       "      <td>What’s your specialization?</td>\n",
       "      <td>11r55sj</td>\n",
       "      <td>I’m currently planning on going back for maste...</td>\n",
       "      <td>4bangbrz</td>\n",
       "      <td>5</td>\n",
       "      <td>0</td>\n",
       "      <td>0.50</td>\n",
       "    </tr>\n",
       "    <tr>\n",
       "      <th>637</th>\n",
       "      <td>A CS fresh grad in a third-world country, look...</td>\n",
       "      <td>11nom4o</td>\n",
       "      <td>Hey. So I'm a fresh graduate currently living ...</td>\n",
       "      <td>EgyptianPhantoming</td>\n",
       "      <td>23</td>\n",
       "      <td>2</td>\n",
       "      <td>0.60</td>\n",
       "    </tr>\n",
       "    <tr>\n",
       "      <th>270</th>\n",
       "      <td>Where to Go From Here (web dev).</td>\n",
       "      <td>11sabx5</td>\n",
       "      <td>Hi all,   \\nI have been diving into coding for...</td>\n",
       "      <td>OmarAlhussari</td>\n",
       "      <td>5</td>\n",
       "      <td>1</td>\n",
       "      <td>1.00</td>\n",
       "    </tr>\n",
       "    <tr>\n",
       "      <th>738</th>\n",
       "      <td>Is this normal?</td>\n",
       "      <td>11mi8m6</td>\n",
       "      <td>I work for a big company that's pretty corpora...</td>\n",
       "      <td>ineedajobasap00</td>\n",
       "      <td>22</td>\n",
       "      <td>0</td>\n",
       "      <td>0.40</td>\n",
       "    </tr>\n",
       "    <tr>\n",
       "      <th>122</th>\n",
       "      <td>Is this a bit too sketch?</td>\n",
       "      <td>11u1rgd</td>\n",
       "      <td>I will graduating with a BSCS in May, so I've ...</td>\n",
       "      <td>MushroomPepper</td>\n",
       "      <td>5</td>\n",
       "      <td>0</td>\n",
       "      <td>0.50</td>\n",
       "    </tr>\n",
       "    <tr>\n",
       "      <th>791</th>\n",
       "      <td>What is your favorite aspect of coding logic o...</td>\n",
       "      <td>11lx6gc</td>\n",
       "      <td>Mine are template strings, or arrays.  These a...</td>\n",
       "      <td>Alternative_Draft_76</td>\n",
       "      <td>16</td>\n",
       "      <td>1</td>\n",
       "      <td>0.56</td>\n",
       "    </tr>\n",
       "    <tr>\n",
       "      <th>205</th>\n",
       "      <td>Undergrad looking intk becoming a SWE with foc...</td>\n",
       "      <td>11t06kt</td>\n",
       "      <td>CC freshman here... so i have been researching...</td>\n",
       "      <td>SnooPineapples7791</td>\n",
       "      <td>0</td>\n",
       "      <td>0</td>\n",
       "      <td>0.33</td>\n",
       "    </tr>\n",
       "    <tr>\n",
       "      <th>529</th>\n",
       "      <td>future safe line of industry</td>\n",
       "      <td>11p9f66</td>\n",
       "      <td>I have a background on \\[C\\] embedded/firmware...</td>\n",
       "      <td>ntn8888</td>\n",
       "      <td>0</td>\n",
       "      <td>0</td>\n",
       "      <td>0.50</td>\n",
       "    </tr>\n",
       "  </tbody>\n",
       "</table>\n",
       "</div>"
      ],
      "text/plain": [
       "                                                 Title       Id  \\\n",
       "173  I'll be starting work with a major bank in two...  11tbini   \n",
       "81                             Cyber security question  11uipce   \n",
       "383                        What’s your specialization?  11r55sj   \n",
       "637  A CS fresh grad in a third-world country, look...  11nom4o   \n",
       "270                   Where to Go From Here (web dev).  11sabx5   \n",
       "738                                    Is this normal?  11mi8m6   \n",
       "122                          Is this a bit too sketch?  11u1rgd   \n",
       "791  What is your favorite aspect of coding logic o...  11lx6gc   \n",
       "205  Undergrad looking intk becoming a SWE with foc...  11t06kt   \n",
       "529                       future safe line of industry  11p9f66   \n",
       "\n",
       "                                                  Text                Author  \\\n",
       "173  The job will most likely be Python and cloud r...            oculusface   \n",
       "81   Hi I am a 15 year old currently in my 4th year...             NotOriqi_   \n",
       "383  I’m currently planning on going back for maste...              4bangbrz   \n",
       "637  Hey. So I'm a fresh graduate currently living ...    EgyptianPhantoming   \n",
       "270  Hi all,   \\nI have been diving into coding for...         OmarAlhussari   \n",
       "738  I work for a big company that's pretty corpora...       ineedajobasap00   \n",
       "122  I will graduating with a BSCS in May, so I've ...        MushroomPepper   \n",
       "791  Mine are template strings, or arrays.  These a...  Alternative_Draft_76   \n",
       "205  CC freshman here... so i have been researching...    SnooPineapples7791   \n",
       "529  I have a background on \\[C\\] embedded/firmware...               ntn8888   \n",
       "\n",
       "     Number of Comments  Number of upvotes  Ratio of Upvotes  \n",
       "173                   7                  1              0.66  \n",
       "81                    3                  2              0.76  \n",
       "383                   5                  0              0.50  \n",
       "637                  23                  2              0.60  \n",
       "270                   5                  1              1.00  \n",
       "738                  22                  0              0.40  \n",
       "122                   5                  0              0.50  \n",
       "791                  16                  1              0.56  \n",
       "205                   0                  0              0.33  \n",
       "529                   0                  0              0.50  "
      ]
     },
     "execution_count": 161,
     "metadata": {},
     "output_type": "execute_result"
    }
   ],
   "source": [
    "ccqData.sample(10)"
   ]
  },
  {
   "cell_type": "code",
   "execution_count": 162,
   "id": "fadffb04",
   "metadata": {},
   "outputs": [
    {
     "data": {
      "text/html": [
       "<div>\n",
       "<style scoped>\n",
       "    .dataframe tbody tr th:only-of-type {\n",
       "        vertical-align: middle;\n",
       "    }\n",
       "\n",
       "    .dataframe tbody tr th {\n",
       "        vertical-align: top;\n",
       "    }\n",
       "\n",
       "    .dataframe thead th {\n",
       "        text-align: right;\n",
       "    }\n",
       "</style>\n",
       "<table border=\"1\" class=\"dataframe\">\n",
       "  <thead>\n",
       "    <tr style=\"text-align: right;\">\n",
       "      <th></th>\n",
       "      <th>Title</th>\n",
       "      <th>Id</th>\n",
       "      <th>Text</th>\n",
       "      <th>Author</th>\n",
       "      <th>Number of Comments</th>\n",
       "      <th>Number of upvotes</th>\n",
       "      <th>Ratio of Upvotes</th>\n",
       "    </tr>\n",
       "  </thead>\n",
       "  <tbody>\n",
       "    <tr>\n",
       "      <th>250</th>\n",
       "      <td>Cringey people…</td>\n",
       "      <td>11r9w68</td>\n",
       "      <td>There is nobody I find cringier on social medi...</td>\n",
       "      <td>Dry_Average2082</td>\n",
       "      <td>4</td>\n",
       "      <td>3</td>\n",
       "      <td>0.72</td>\n",
       "    </tr>\n",
       "    <tr>\n",
       "      <th>360</th>\n",
       "      <td>Is it hard to understand that it’s better not ...</td>\n",
       "      <td>11pccjs</td>\n",
       "      <td>I have seen this happen a lot! People always h...</td>\n",
       "      <td>GoodAd6197</td>\n",
       "      <td>0</td>\n",
       "      <td>5</td>\n",
       "      <td>0.65</td>\n",
       "    </tr>\n",
       "    <tr>\n",
       "      <th>464</th>\n",
       "      <td>Pitched an idea and had POS try and do me dirt...</td>\n",
       "      <td>11n7kj6</td>\n",
       "      <td>Seriously??! HOLY SHIT, is this DIRTY! Like - ...</td>\n",
       "      <td>Lionoras</td>\n",
       "      <td>0</td>\n",
       "      <td>1</td>\n",
       "      <td>1.00</td>\n",
       "    </tr>\n",
       "    <tr>\n",
       "      <th>810</th>\n",
       "      <td>I hate how holier-than-thou my friends can be</td>\n",
       "      <td>11et1to</td>\n",
       "      <td>So I joined a new school in September and made...</td>\n",
       "      <td>justan_overthinker</td>\n",
       "      <td>0</td>\n",
       "      <td>2</td>\n",
       "      <td>1.00</td>\n",
       "    </tr>\n",
       "    <tr>\n",
       "      <th>186</th>\n",
       "      <td>Bullying can’t be stopped</td>\n",
       "      <td>11sitt5</td>\n",
       "      <td>I was bullied for years, until I left school I...</td>\n",
       "      <td>_gay_gremlin_</td>\n",
       "      <td>0</td>\n",
       "      <td>2</td>\n",
       "      <td>0.75</td>\n",
       "    </tr>\n",
       "    <tr>\n",
       "      <th>697</th>\n",
       "      <td>Stop asking me how I’m doing, I found out my b...</td>\n",
       "      <td>11hl1og</td>\n",
       "      <td>I don’t live at my parents house and residence...</td>\n",
       "      <td>Owlbelle0</td>\n",
       "      <td>0</td>\n",
       "      <td>4</td>\n",
       "      <td>1.00</td>\n",
       "    </tr>\n",
       "    <tr>\n",
       "      <th>546</th>\n",
       "      <td>Why do so many people have super bright LED he...</td>\n",
       "      <td>11lf4p8</td>\n",
       "      <td>I’m so sick and tired of being blinded by thes...</td>\n",
       "      <td>moistdragons</td>\n",
       "      <td>21</td>\n",
       "      <td>67</td>\n",
       "      <td>0.95</td>\n",
       "    </tr>\n",
       "    <tr>\n",
       "      <th>359</th>\n",
       "      <td>As an artist, I am fascinated by the potential...</td>\n",
       "      <td>11pf9op</td>\n",
       "      <td>Firstly, I worry about the devaluation of huma...</td>\n",
       "      <td>oooooooooooh12</td>\n",
       "      <td>2</td>\n",
       "      <td>6</td>\n",
       "      <td>1.00</td>\n",
       "    </tr>\n",
       "    <tr>\n",
       "      <th>12</th>\n",
       "      <td>I hate when people make comments or remarks th...</td>\n",
       "      <td>11vqspi</td>\n",
       "      <td>I was playing a game and I saw two teammates f...</td>\n",
       "      <td>dweebmushu</td>\n",
       "      <td>0</td>\n",
       "      <td>2</td>\n",
       "      <td>0.75</td>\n",
       "    </tr>\n",
       "    <tr>\n",
       "      <th>842</th>\n",
       "      <td>I'm tired of my ADHD and memory</td>\n",
       "      <td>11e3abf</td>\n",
       "      <td>My memory has always been a massive problem, a...</td>\n",
       "      <td>Steve_the_sequel</td>\n",
       "      <td>2</td>\n",
       "      <td>4</td>\n",
       "      <td>1.00</td>\n",
       "    </tr>\n",
       "  </tbody>\n",
       "</table>\n",
       "</div>"
      ],
      "text/plain": [
       "                                                 Title       Id  \\\n",
       "250                                    Cringey people…  11r9w68   \n",
       "360  Is it hard to understand that it’s better not ...  11pccjs   \n",
       "464  Pitched an idea and had POS try and do me dirt...  11n7kj6   \n",
       "810      I hate how holier-than-thou my friends can be  11et1to   \n",
       "186                          Bullying can’t be stopped  11sitt5   \n",
       "697  Stop asking me how I’m doing, I found out my b...  11hl1og   \n",
       "546  Why do so many people have super bright LED he...  11lf4p8   \n",
       "359  As an artist, I am fascinated by the potential...  11pf9op   \n",
       "12   I hate when people make comments or remarks th...  11vqspi   \n",
       "842                    I'm tired of my ADHD and memory  11e3abf   \n",
       "\n",
       "                                                  Text              Author  \\\n",
       "250  There is nobody I find cringier on social medi...     Dry_Average2082   \n",
       "360  I have seen this happen a lot! People always h...          GoodAd6197   \n",
       "464  Seriously??! HOLY SHIT, is this DIRTY! Like - ...            Lionoras   \n",
       "810  So I joined a new school in September and made...  justan_overthinker   \n",
       "186  I was bullied for years, until I left school I...       _gay_gremlin_   \n",
       "697  I don’t live at my parents house and residence...           Owlbelle0   \n",
       "546  I’m so sick and tired of being blinded by thes...        moistdragons   \n",
       "359  Firstly, I worry about the devaluation of huma...      oooooooooooh12   \n",
       "12   I was playing a game and I saw two teammates f...          dweebmushu   \n",
       "842  My memory has always been a massive problem, a...    Steve_the_sequel   \n",
       "\n",
       "     Number of Comments  Number of upvotes  Ratio of Upvotes  \n",
       "250                   4                  3              0.72  \n",
       "360                   0                  5              0.65  \n",
       "464                   0                  1              1.00  \n",
       "810                   0                  2              1.00  \n",
       "186                   0                  2              0.75  \n",
       "697                   0                  4              1.00  \n",
       "546                  21                 67              0.95  \n",
       "359                   2                  6              1.00  \n",
       "12                    0                  2              0.75  \n",
       "842                   2                  4              1.00  "
      ]
     },
     "execution_count": 162,
     "metadata": {},
     "output_type": "execute_result"
    }
   ],
   "source": [
    "rantData.sample(10)"
   ]
  },
  {
   "cell_type": "code",
   "execution_count": 163,
   "id": "e2daaaa0",
   "metadata": {},
   "outputs": [
    {
     "data": {
      "text/html": [
       "<div>\n",
       "<style scoped>\n",
       "    .dataframe tbody tr th:only-of-type {\n",
       "        vertical-align: middle;\n",
       "    }\n",
       "\n",
       "    .dataframe tbody tr th {\n",
       "        vertical-align: top;\n",
       "    }\n",
       "\n",
       "    .dataframe thead th {\n",
       "        text-align: right;\n",
       "    }\n",
       "</style>\n",
       "<table border=\"1\" class=\"dataframe\">\n",
       "  <thead>\n",
       "    <tr style=\"text-align: right;\">\n",
       "      <th></th>\n",
       "      <th>Title</th>\n",
       "      <th>Id</th>\n",
       "      <th>Text</th>\n",
       "      <th>Author</th>\n",
       "      <th>Number of Comments</th>\n",
       "      <th>Number of upvotes</th>\n",
       "      <th>Ratio of Upvotes</th>\n",
       "    </tr>\n",
       "  </thead>\n",
       "  <tbody>\n",
       "    <tr>\n",
       "      <th>250</th>\n",
       "      <td>Lemon Twigs Tonight</td>\n",
       "      <td>11mucn3</td>\n",
       "      <td>Any Lemon Twig fans in the house going to the ...</td>\n",
       "      <td>FanofBobRooney</td>\n",
       "      <td>0</td>\n",
       "      <td>0</td>\n",
       "      <td>0.47</td>\n",
       "    </tr>\n",
       "    <tr>\n",
       "      <th>168</th>\n",
       "      <td>Getgo order</td>\n",
       "      <td>11qs7u7</td>\n",
       "      <td>What's your getgo food order?  What's your fav...</td>\n",
       "      <td>8perfectsteps</td>\n",
       "      <td>15</td>\n",
       "      <td>0</td>\n",
       "      <td>0.25</td>\n",
       "    </tr>\n",
       "    <tr>\n",
       "      <th>242</th>\n",
       "      <td>How safe is the area around Coltart Ave (Oakla...</td>\n",
       "      <td>11nc2o3</td>\n",
       "      <td>I won’t post the exact street, but I’m I’m mov...</td>\n",
       "      <td>willy_glove</td>\n",
       "      <td>20</td>\n",
       "      <td>0</td>\n",
       "      <td>0.50</td>\n",
       "    </tr>\n",
       "    <tr>\n",
       "      <th>72</th>\n",
       "      <td>Interim Tax Assessment for New Construction</td>\n",
       "      <td>1182flh</td>\n",
       "      <td>Kind of urgent. We received our interim tax as...</td>\n",
       "      <td>totorostar</td>\n",
       "      <td>16</td>\n",
       "      <td>0</td>\n",
       "      <td>0.39</td>\n",
       "    </tr>\n",
       "    <tr>\n",
       "      <th>402</th>\n",
       "      <td>Looking for Bingo spots in Southern Pittsburgh</td>\n",
       "      <td>10xe3zn</td>\n",
       "      <td>Looking for bingo spots for my mom and I. We d...</td>\n",
       "      <td>Cheddar-chonk</td>\n",
       "      <td>7</td>\n",
       "      <td>5</td>\n",
       "      <td>0.63</td>\n",
       "    </tr>\n",
       "    <tr>\n",
       "      <th>357</th>\n",
       "      <td>Funny Library book display - \"Have you seen my...</td>\n",
       "      <td>10yxu4m</td>\n",
       "      <td>Saw [this post](https://www.facebook.com/north...</td>\n",
       "      <td>DIY_Creative</td>\n",
       "      <td>6</td>\n",
       "      <td>71</td>\n",
       "      <td>0.93</td>\n",
       "    </tr>\n",
       "    <tr>\n",
       "      <th>110</th>\n",
       "      <td>Pittsburgh to century 3 Mall</td>\n",
       "      <td>11sfavp</td>\n",
       "      <td>Hello all, thank you all in advance for your h...</td>\n",
       "      <td>Ready-to-learn</td>\n",
       "      <td>19</td>\n",
       "      <td>9</td>\n",
       "      <td>0.70</td>\n",
       "    </tr>\n",
       "    <tr>\n",
       "      <th>373</th>\n",
       "      <td>Where can I register a car in the Oakland area?</td>\n",
       "      <td>10y8fuc</td>\n",
       "      <td>Google gives me ambiguous results, and I’ve he...</td>\n",
       "      <td>Watahberry</td>\n",
       "      <td>5</td>\n",
       "      <td>0</td>\n",
       "      <td>0.33</td>\n",
       "    </tr>\n",
       "    <tr>\n",
       "      <th>270</th>\n",
       "      <td>Where to get fresh Cappelletti?</td>\n",
       "      <td>111rq2w</td>\n",
       "      <td>Does anyone know where to get fresh Cappellett...</td>\n",
       "      <td>duker_mf_lincoln</td>\n",
       "      <td>6</td>\n",
       "      <td>0</td>\n",
       "      <td>0.39</td>\n",
       "    </tr>\n",
       "    <tr>\n",
       "      <th>448</th>\n",
       "      <td>Question about PA Car Tilting</td>\n",
       "      <td>11f5u7o</td>\n",
       "      <td>Moving to Pittsburgh this summer and had a car...</td>\n",
       "      <td>Dr_Squirt_RM_MD</td>\n",
       "      <td>11</td>\n",
       "      <td>0</td>\n",
       "      <td>0.42</td>\n",
       "    </tr>\n",
       "  </tbody>\n",
       "</table>\n",
       "</div>"
      ],
      "text/plain": [
       "                                                 Title       Id  \\\n",
       "250                                Lemon Twigs Tonight  11mucn3   \n",
       "168                                        Getgo order  11qs7u7   \n",
       "242  How safe is the area around Coltart Ave (Oakla...  11nc2o3   \n",
       "72         Interim Tax Assessment for New Construction  1182flh   \n",
       "402     Looking for Bingo spots in Southern Pittsburgh  10xe3zn   \n",
       "357  Funny Library book display - \"Have you seen my...  10yxu4m   \n",
       "110                       Pittsburgh to century 3 Mall  11sfavp   \n",
       "373    Where can I register a car in the Oakland area?  10y8fuc   \n",
       "270                    Where to get fresh Cappelletti?  111rq2w   \n",
       "448                      Question about PA Car Tilting  11f5u7o   \n",
       "\n",
       "                                                  Text            Author  \\\n",
       "250  Any Lemon Twig fans in the house going to the ...    FanofBobRooney   \n",
       "168  What's your getgo food order?  What's your fav...     8perfectsteps   \n",
       "242  I won’t post the exact street, but I’m I’m mov...       willy_glove   \n",
       "72   Kind of urgent. We received our interim tax as...        totorostar   \n",
       "402  Looking for bingo spots for my mom and I. We d...     Cheddar-chonk   \n",
       "357  Saw [this post](https://www.facebook.com/north...      DIY_Creative   \n",
       "110  Hello all, thank you all in advance for your h...    Ready-to-learn   \n",
       "373  Google gives me ambiguous results, and I’ve he...        Watahberry   \n",
       "270  Does anyone know where to get fresh Cappellett...  duker_mf_lincoln   \n",
       "448  Moving to Pittsburgh this summer and had a car...   Dr_Squirt_RM_MD   \n",
       "\n",
       "     Number of Comments  Number of upvotes  Ratio of Upvotes  \n",
       "250                   0                  0              0.47  \n",
       "168                  15                  0              0.25  \n",
       "242                  20                  0              0.50  \n",
       "72                   16                  0              0.39  \n",
       "402                   7                  5              0.63  \n",
       "357                   6                 71              0.93  \n",
       "110                  19                  9              0.70  \n",
       "373                   5                  0              0.33  \n",
       "270                   6                  0              0.39  \n",
       "448                  11                  0              0.42  "
      ]
     },
     "execution_count": 163,
     "metadata": {},
     "output_type": "execute_result"
    }
   ],
   "source": [
    "pghData.sample(10)"
   ]
  },
  {
   "cell_type": "code",
   "execution_count": 164,
   "id": "bbdafbcc",
   "metadata": {},
   "outputs": [
    {
     "data": {
      "text/html": [
       "<div>\n",
       "<style scoped>\n",
       "    .dataframe tbody tr th:only-of-type {\n",
       "        vertical-align: middle;\n",
       "    }\n",
       "\n",
       "    .dataframe tbody tr th {\n",
       "        vertical-align: top;\n",
       "    }\n",
       "\n",
       "    .dataframe thead th {\n",
       "        text-align: right;\n",
       "    }\n",
       "</style>\n",
       "<table border=\"1\" class=\"dataframe\">\n",
       "  <thead>\n",
       "    <tr style=\"text-align: right;\">\n",
       "      <th></th>\n",
       "      <th>Title</th>\n",
       "      <th>Id</th>\n",
       "      <th>Text</th>\n",
       "      <th>Author</th>\n",
       "      <th>Number of Comments</th>\n",
       "      <th>Number of upvotes</th>\n",
       "      <th>Ratio of Upvotes</th>\n",
       "    </tr>\n",
       "  </thead>\n",
       "  <tbody>\n",
       "    <tr>\n",
       "      <th>284</th>\n",
       "      <td>How far in advanced do I need to buy tickets?</td>\n",
       "      <td>10ygbrh</td>\n",
       "      <td>I’ll be visiting at the end of the month and I...</td>\n",
       "      <td>jsoss</td>\n",
       "      <td>8</td>\n",
       "      <td>9</td>\n",
       "      <td>0.84</td>\n",
       "    </tr>\n",
       "    <tr>\n",
       "      <th>349</th>\n",
       "      <td>Ideal Broadway (or another) show for me and my...</td>\n",
       "      <td>11lj42o</td>\n",
       "      <td>I'm 19 and she's &gt;40. Any show recommendations...</td>\n",
       "      <td>Far_Atmosphere9627</td>\n",
       "      <td>10</td>\n",
       "      <td>3</td>\n",
       "      <td>0.67</td>\n",
       "    </tr>\n",
       "    <tr>\n",
       "      <th>519</th>\n",
       "      <td>Curious question: What’s the longest time a pl...</td>\n",
       "      <td>10o7et5</td>\n",
       "      <td>It is widely known that it takes many years of...</td>\n",
       "      <td>LavishnessFrequent19</td>\n",
       "      <td>13</td>\n",
       "      <td>17</td>\n",
       "      <td>0.91</td>\n",
       "    </tr>\n",
       "    <tr>\n",
       "      <th>292</th>\n",
       "      <td>Favorite showstoppers?</td>\n",
       "      <td>11n7ng3</td>\n",
       "      <td>What are your guys’ favorite show stopping num...</td>\n",
       "      <td>yetiupsettispaghetti</td>\n",
       "      <td>23</td>\n",
       "      <td>2</td>\n",
       "      <td>0.75</td>\n",
       "    </tr>\n",
       "    <tr>\n",
       "      <th>134</th>\n",
       "      <td>Parade matinee canceled on 4/5?</td>\n",
       "      <td>11s5xyc</td>\n",
       "      <td>Hi everyone I just got an email from Telecharg...</td>\n",
       "      <td>TicoDreams</td>\n",
       "      <td>10</td>\n",
       "      <td>1</td>\n",
       "      <td>0.67</td>\n",
       "    </tr>\n",
       "    <tr>\n",
       "      <th>175</th>\n",
       "      <td>Seeing Shucked tomorrow!</td>\n",
       "      <td>11pvyg2</td>\n",
       "      <td>I’m just excited for a laugh! I wanted to see ...</td>\n",
       "      <td>FilmBuffer1000</td>\n",
       "      <td>6</td>\n",
       "      <td>15</td>\n",
       "      <td>0.76</td>\n",
       "    </tr>\n",
       "    <tr>\n",
       "      <th>386</th>\n",
       "      <td>Broadway Themed WiFi names wanted!</td>\n",
       "      <td>10txwcx</td>\n",
       "      <td>hello!\\n\\nI just recently moved into an apartm...</td>\n",
       "      <td>TheRealMShady22</td>\n",
       "      <td>124</td>\n",
       "      <td>177</td>\n",
       "      <td>0.94</td>\n",
       "    </tr>\n",
       "    <tr>\n",
       "      <th>165</th>\n",
       "      <td>Kimberly Akimbo in July???</td>\n",
       "      <td>11r8jbm</td>\n",
       "      <td>I noticed that Kimberly Akimbo tickets stop be...</td>\n",
       "      <td>bubz99</td>\n",
       "      <td>4</td>\n",
       "      <td>0</td>\n",
       "      <td>0.50</td>\n",
       "    </tr>\n",
       "    <tr>\n",
       "      <th>630</th>\n",
       "      <td>Musical Recommendation Thread</td>\n",
       "      <td>10j48zt</td>\n",
       "      <td>I feel like it can sometimes get a little tire...</td>\n",
       "      <td>MellonPhotos</td>\n",
       "      <td>41</td>\n",
       "      <td>4</td>\n",
       "      <td>0.67</td>\n",
       "    </tr>\n",
       "    <tr>\n",
       "      <th>188</th>\n",
       "      <td>Underrated Shows Playing Now?</td>\n",
       "      <td>11qce4y</td>\n",
       "      <td>Headed up to NY the weekend after next (Billy ...</td>\n",
       "      <td>Lady_Disdain2014</td>\n",
       "      <td>79</td>\n",
       "      <td>60</td>\n",
       "      <td>0.93</td>\n",
       "    </tr>\n",
       "  </tbody>\n",
       "</table>\n",
       "</div>"
      ],
      "text/plain": [
       "                                                 Title       Id  \\\n",
       "284      How far in advanced do I need to buy tickets?  10ygbrh   \n",
       "349  Ideal Broadway (or another) show for me and my...  11lj42o   \n",
       "519  Curious question: What’s the longest time a pl...  10o7et5   \n",
       "292                             Favorite showstoppers?  11n7ng3   \n",
       "134                    Parade matinee canceled on 4/5?  11s5xyc   \n",
       "175                           Seeing Shucked tomorrow!  11pvyg2   \n",
       "386                 Broadway Themed WiFi names wanted!  10txwcx   \n",
       "165                         Kimberly Akimbo in July???  11r8jbm   \n",
       "630                      Musical Recommendation Thread  10j48zt   \n",
       "188                      Underrated Shows Playing Now?  11qce4y   \n",
       "\n",
       "                                                  Text                Author  \\\n",
       "284  I’ll be visiting at the end of the month and I...                 jsoss   \n",
       "349  I'm 19 and she's >40. Any show recommendations...    Far_Atmosphere9627   \n",
       "519  It is widely known that it takes many years of...  LavishnessFrequent19   \n",
       "292  What are your guys’ favorite show stopping num...  yetiupsettispaghetti   \n",
       "134  Hi everyone I just got an email from Telecharg...            TicoDreams   \n",
       "175  I’m just excited for a laugh! I wanted to see ...        FilmBuffer1000   \n",
       "386  hello!\\n\\nI just recently moved into an apartm...       TheRealMShady22   \n",
       "165  I noticed that Kimberly Akimbo tickets stop be...                bubz99   \n",
       "630  I feel like it can sometimes get a little tire...          MellonPhotos   \n",
       "188  Headed up to NY the weekend after next (Billy ...      Lady_Disdain2014   \n",
       "\n",
       "     Number of Comments  Number of upvotes  Ratio of Upvotes  \n",
       "284                   8                  9              0.84  \n",
       "349                  10                  3              0.67  \n",
       "519                  13                 17              0.91  \n",
       "292                  23                  2              0.75  \n",
       "134                  10                  1              0.67  \n",
       "175                   6                 15              0.76  \n",
       "386                 124                177              0.94  \n",
       "165                   4                  0              0.50  \n",
       "630                  41                  4              0.67  \n",
       "188                  79                 60              0.93  "
      ]
     },
     "execution_count": 164,
     "metadata": {},
     "output_type": "execute_result"
    }
   ],
   "source": [
    "bwayData.sample(10)"
   ]
  },
  {
   "cell_type": "code",
   "execution_count": 165,
   "id": "b09d1fd4",
   "metadata": {},
   "outputs": [
    {
     "data": {
      "text/html": [
       "<div>\n",
       "<style scoped>\n",
       "    .dataframe tbody tr th:only-of-type {\n",
       "        vertical-align: middle;\n",
       "    }\n",
       "\n",
       "    .dataframe tbody tr th {\n",
       "        vertical-align: top;\n",
       "    }\n",
       "\n",
       "    .dataframe thead th {\n",
       "        text-align: right;\n",
       "    }\n",
       "</style>\n",
       "<table border=\"1\" class=\"dataframe\">\n",
       "  <thead>\n",
       "    <tr style=\"text-align: right;\">\n",
       "      <th></th>\n",
       "      <th>Title</th>\n",
       "      <th>Id</th>\n",
       "      <th>Text</th>\n",
       "      <th>Author</th>\n",
       "      <th>Number of Comments</th>\n",
       "      <th>Number of upvotes</th>\n",
       "      <th>Ratio of Upvotes</th>\n",
       "    </tr>\n",
       "  </thead>\n",
       "  <tbody>\n",
       "    <tr>\n",
       "      <th>754</th>\n",
       "      <td>My child wants to leave our home</td>\n",
       "      <td>10s39zo</td>\n",
       "      <td>It’s official, my marriage is over. My relatio...</td>\n",
       "      <td>ess3335</td>\n",
       "      <td>26</td>\n",
       "      <td>50</td>\n",
       "      <td>0.79</td>\n",
       "    </tr>\n",
       "    <tr>\n",
       "      <th>416</th>\n",
       "      <td>big school vs small school</td>\n",
       "      <td>119p990</td>\n",
       "      <td>I currently go to a pretty small school and fo...</td>\n",
       "      <td>Limenail</td>\n",
       "      <td>0</td>\n",
       "      <td>1</td>\n",
       "      <td>1.00</td>\n",
       "    </tr>\n",
       "    <tr>\n",
       "      <th>378</th>\n",
       "      <td>HONOR ROLL HELP</td>\n",
       "      <td>10tpqp0</td>\n",
       "      <td>\\n\\nIf i pass all my other class with 90+ avg ...</td>\n",
       "      <td>RubyRoseTurner</td>\n",
       "      <td>47</td>\n",
       "      <td>1</td>\n",
       "      <td>0.48</td>\n",
       "    </tr>\n",
       "    <tr>\n",
       "      <th>690</th>\n",
       "      <td>TGR3M1 (Communications Technology: Radio, Audi...</td>\n",
       "      <td>10b9ftk</td>\n",
       "      <td>I'm rethinking about my course selection.\\n\\nH...</td>\n",
       "      <td>jijaku</td>\n",
       "      <td>0</td>\n",
       "      <td>1</td>\n",
       "      <td>1.00</td>\n",
       "    </tr>\n",
       "    <tr>\n",
       "      <th>131</th>\n",
       "      <td>Student Parlement Debate</td>\n",
       "      <td>115809s</td>\n",
       "      <td>Hi, just joined Reddit because I needed some o...</td>\n",
       "      <td>SparkyBoomer23</td>\n",
       "      <td>2</td>\n",
       "      <td>2</td>\n",
       "      <td>1.00</td>\n",
       "    </tr>\n",
       "    <tr>\n",
       "      <th>67</th>\n",
       "      <td>Junior year schedule, suggestions?</td>\n",
       "      <td>1186p0a</td>\n",
       "      <td>Ap csa\\nUS history honors (might appeal for ap...</td>\n",
       "      <td>justinezoo</td>\n",
       "      <td>1</td>\n",
       "      <td>0</td>\n",
       "      <td>0.50</td>\n",
       "    </tr>\n",
       "    <tr>\n",
       "      <th>649</th>\n",
       "      <td>Math Tutor for SAT</td>\n",
       "      <td>10e0uj9</td>\n",
       "      <td>Hi - I am looking for a math tutor for my kid ...</td>\n",
       "      <td>krish727</td>\n",
       "      <td>2</td>\n",
       "      <td>1</td>\n",
       "      <td>0.67</td>\n",
       "    </tr>\n",
       "    <tr>\n",
       "      <th>164</th>\n",
       "      <td>I’m in grade 12, 17 years old and about to fin...</td>\n",
       "      <td>113i9bt</td>\n",
       "      <td>Pls someone give me advice I’ve been\\n depress...</td>\n",
       "      <td>BookGlittering4671</td>\n",
       "      <td>6</td>\n",
       "      <td>9</td>\n",
       "      <td>1.00</td>\n",
       "    </tr>\n",
       "    <tr>\n",
       "      <th>15</th>\n",
       "      <td>have you know anyone who failed classes and go...</td>\n",
       "      <td>11a5nfi</td>\n",
       "      <td>Or do they end up on poor jobs</td>\n",
       "      <td>Boring-Coat-5478</td>\n",
       "      <td>22</td>\n",
       "      <td>14</td>\n",
       "      <td>0.81</td>\n",
       "    </tr>\n",
       "    <tr>\n",
       "      <th>543</th>\n",
       "      <td>I need help deciding for my grade 12 course se...</td>\n",
       "      <td>113aodt</td>\n",
       "      <td>I have few problems...\\n\\n1. I'm not sure whet...</td>\n",
       "      <td>Extension_Show_821</td>\n",
       "      <td>0</td>\n",
       "      <td>1</td>\n",
       "      <td>1.00</td>\n",
       "    </tr>\n",
       "  </tbody>\n",
       "</table>\n",
       "</div>"
      ],
      "text/plain": [
       "                                                 Title       Id  \\\n",
       "754                   My child wants to leave our home  10s39zo   \n",
       "416                         big school vs small school  119p990   \n",
       "378                                    HONOR ROLL HELP  10tpqp0   \n",
       "690  TGR3M1 (Communications Technology: Radio, Audi...  10b9ftk   \n",
       "131                           Student Parlement Debate  115809s   \n",
       "67                  Junior year schedule, suggestions?  1186p0a   \n",
       "649                                 Math Tutor for SAT  10e0uj9   \n",
       "164  I’m in grade 12, 17 years old and about to fin...  113i9bt   \n",
       "15   have you know anyone who failed classes and go...  11a5nfi   \n",
       "543  I need help deciding for my grade 12 course se...  113aodt   \n",
       "\n",
       "                                                  Text              Author  \\\n",
       "754  It’s official, my marriage is over. My relatio...             ess3335   \n",
       "416  I currently go to a pretty small school and fo...            Limenail   \n",
       "378  \\n\\nIf i pass all my other class with 90+ avg ...      RubyRoseTurner   \n",
       "690  I'm rethinking about my course selection.\\n\\nH...              jijaku   \n",
       "131  Hi, just joined Reddit because I needed some o...      SparkyBoomer23   \n",
       "67   Ap csa\\nUS history honors (might appeal for ap...          justinezoo   \n",
       "649  Hi - I am looking for a math tutor for my kid ...            krish727   \n",
       "164  Pls someone give me advice I’ve been\\n depress...  BookGlittering4671   \n",
       "15                      Or do they end up on poor jobs    Boring-Coat-5478   \n",
       "543  I have few problems...\\n\\n1. I'm not sure whet...  Extension_Show_821   \n",
       "\n",
       "     Number of Comments  Number of upvotes  Ratio of Upvotes  \n",
       "754                  26                 50              0.79  \n",
       "416                   0                  1              1.00  \n",
       "378                  47                  1              0.48  \n",
       "690                   0                  1              1.00  \n",
       "131                   2                  2              1.00  \n",
       "67                    1                  0              0.50  \n",
       "649                   2                  1              0.67  \n",
       "164                   6                  9              1.00  \n",
       "15                   22                 14              0.81  \n",
       "543                   0                  1              1.00  "
      ]
     },
     "execution_count": 165,
     "metadata": {},
     "output_type": "execute_result"
    }
   ],
   "source": [
    "hsData.sample(10)"
   ]
  },
  {
   "cell_type": "code",
   "execution_count": 166,
   "id": "3c84498d",
   "metadata": {},
   "outputs": [
    {
     "data": {
      "text/html": [
       "<div>\n",
       "<style scoped>\n",
       "    .dataframe tbody tr th:only-of-type {\n",
       "        vertical-align: middle;\n",
       "    }\n",
       "\n",
       "    .dataframe tbody tr th {\n",
       "        vertical-align: top;\n",
       "    }\n",
       "\n",
       "    .dataframe thead th {\n",
       "        text-align: right;\n",
       "    }\n",
       "</style>\n",
       "<table border=\"1\" class=\"dataframe\">\n",
       "  <thead>\n",
       "    <tr style=\"text-align: right;\">\n",
       "      <th></th>\n",
       "      <th>Title</th>\n",
       "      <th>Id</th>\n",
       "      <th>Text</th>\n",
       "      <th>Author</th>\n",
       "      <th>Number of Comments</th>\n",
       "      <th>Number of upvotes</th>\n",
       "      <th>Ratio of Upvotes</th>\n",
       "    </tr>\n",
       "  </thead>\n",
       "  <tbody>\n",
       "    <tr>\n",
       "      <th>286</th>\n",
       "      <td>Death Notes</td>\n",
       "      <td>109oqfo</td>\n",
       "      <td>Do any of you have a sign off/tag line when yo...</td>\n",
       "      <td>chickaboom_</td>\n",
       "      <td>69</td>\n",
       "      <td>73</td>\n",
       "      <td>0.97</td>\n",
       "    </tr>\n",
       "    <tr>\n",
       "      <th>328</th>\n",
       "      <td>Why do we accept yelling/harassment in medicine?</td>\n",
       "      <td>10tj8e3</td>\n",
       "      <td>In what other civilian professional occupation...</td>\n",
       "      <td>boonknuck</td>\n",
       "      <td>160</td>\n",
       "      <td>570</td>\n",
       "      <td>0.95</td>\n",
       "    </tr>\n",
       "    <tr>\n",
       "      <th>378</th>\n",
       "      <td>Does it financially or practically make sense ...</td>\n",
       "      <td>10pn4wn</td>\n",
       "      <td>By simple labs I mean CBC/CMP, bacterial cultu...</td>\n",
       "      <td>hopeforgreater</td>\n",
       "      <td>69</td>\n",
       "      <td>27</td>\n",
       "      <td>0.78</td>\n",
       "    </tr>\n",
       "    <tr>\n",
       "      <th>209</th>\n",
       "      <td>Woman goes viral for sharing how ER doctors di...</td>\n",
       "      <td>116fen2</td>\n",
       "      <td>NaN</td>\n",
       "      <td>FaFaRog</td>\n",
       "      <td>281</td>\n",
       "      <td>622</td>\n",
       "      <td>0.92</td>\n",
       "    </tr>\n",
       "    <tr>\n",
       "      <th>202</th>\n",
       "      <td>Amazon's new drug prescription program</td>\n",
       "      <td>10kafmh</td>\n",
       "      <td>Forgive me if this has already been posted but...</td>\n",
       "      <td>kingjames106</td>\n",
       "      <td>160</td>\n",
       "      <td>220</td>\n",
       "      <td>0.96</td>\n",
       "    </tr>\n",
       "    <tr>\n",
       "      <th>56</th>\n",
       "      <td>A follow-up</td>\n",
       "      <td>110vqbo</td>\n",
       "      <td>This is a follow-up of my previous post regard...</td>\n",
       "      <td>Shady31413</td>\n",
       "      <td>4</td>\n",
       "      <td>43</td>\n",
       "      <td>0.94</td>\n",
       "    </tr>\n",
       "    <tr>\n",
       "      <th>871</th>\n",
       "      <td>Do you think doctors or residents should rotat...</td>\n",
       "      <td>z50q7n</td>\n",
       "      <td>Hello,\\n\\nJust looking for perspective on if M...</td>\n",
       "      <td>Ainaelewr</td>\n",
       "      <td>95</td>\n",
       "      <td>60</td>\n",
       "      <td>0.75</td>\n",
       "    </tr>\n",
       "    <tr>\n",
       "      <th>83</th>\n",
       "      <td>Anybody know how to MacGuyver a nebulizer into...</td>\n",
       "      <td>10xr5q7</td>\n",
       "      <td>[Papers says it not only works but has even su...</td>\n",
       "      <td>noobREDUX</td>\n",
       "      <td>34</td>\n",
       "      <td>9</td>\n",
       "      <td>1.00</td>\n",
       "    </tr>\n",
       "    <tr>\n",
       "      <th>342</th>\n",
       "      <td>Female doctor changing last name after marriage</td>\n",
       "      <td>zzt3md</td>\n",
       "      <td>I am getting married soon, and I am having an ...</td>\n",
       "      <td>PotentialWhereas5173</td>\n",
       "      <td>522</td>\n",
       "      <td>596</td>\n",
       "      <td>0.92</td>\n",
       "    </tr>\n",
       "    <tr>\n",
       "      <th>12</th>\n",
       "      <td>Do Inpatient Podiatrists Clip Nails?</td>\n",
       "      <td>11unohy</td>\n",
       "      <td>My patient asked me if a podiatrist can come a...</td>\n",
       "      <td>Registered-Nurse</td>\n",
       "      <td>154</td>\n",
       "      <td>135</td>\n",
       "      <td>0.97</td>\n",
       "    </tr>\n",
       "  </tbody>\n",
       "</table>\n",
       "</div>"
      ],
      "text/plain": [
       "                                                 Title       Id  \\\n",
       "286                                        Death Notes  109oqfo   \n",
       "328   Why do we accept yelling/harassment in medicine?  10tj8e3   \n",
       "378  Does it financially or practically make sense ...  10pn4wn   \n",
       "209  Woman goes viral for sharing how ER doctors di...  116fen2   \n",
       "202             Amazon's new drug prescription program  10kafmh   \n",
       "56                                         A follow-up  110vqbo   \n",
       "871  Do you think doctors or residents should rotat...   z50q7n   \n",
       "83   Anybody know how to MacGuyver a nebulizer into...  10xr5q7   \n",
       "342    Female doctor changing last name after marriage   zzt3md   \n",
       "12                Do Inpatient Podiatrists Clip Nails?  11unohy   \n",
       "\n",
       "                                                  Text                Author  \\\n",
       "286  Do any of you have a sign off/tag line when yo...           chickaboom_   \n",
       "328  In what other civilian professional occupation...             boonknuck   \n",
       "378  By simple labs I mean CBC/CMP, bacterial cultu...        hopeforgreater   \n",
       "209                                                NaN               FaFaRog   \n",
       "202  Forgive me if this has already been posted but...          kingjames106   \n",
       "56   This is a follow-up of my previous post regard...            Shady31413   \n",
       "871  Hello,\\n\\nJust looking for perspective on if M...             Ainaelewr   \n",
       "83   [Papers says it not only works but has even su...             noobREDUX   \n",
       "342  I am getting married soon, and I am having an ...  PotentialWhereas5173   \n",
       "12   My patient asked me if a podiatrist can come a...      Registered-Nurse   \n",
       "\n",
       "     Number of Comments  Number of upvotes  Ratio of Upvotes  \n",
       "286                  69                 73              0.97  \n",
       "328                 160                570              0.95  \n",
       "378                  69                 27              0.78  \n",
       "209                 281                622              0.92  \n",
       "202                 160                220              0.96  \n",
       "56                    4                 43              0.94  \n",
       "871                  95                 60              0.75  \n",
       "83                   34                  9              1.00  \n",
       "342                 522                596              0.92  \n",
       "12                  154                135              0.97  "
      ]
     },
     "execution_count": 166,
     "metadata": {},
     "output_type": "execute_result"
    }
   ],
   "source": [
    "medData.sample(10)"
   ]
  },
  {
   "cell_type": "code",
   "execution_count": 167,
   "id": "d2f3a9fa",
   "metadata": {},
   "outputs": [
    {
     "data": {
      "text/html": [
       "<div>\n",
       "<style scoped>\n",
       "    .dataframe tbody tr th:only-of-type {\n",
       "        vertical-align: middle;\n",
       "    }\n",
       "\n",
       "    .dataframe tbody tr th {\n",
       "        vertical-align: top;\n",
       "    }\n",
       "\n",
       "    .dataframe thead th {\n",
       "        text-align: right;\n",
       "    }\n",
       "</style>\n",
       "<table border=\"1\" class=\"dataframe\">\n",
       "  <thead>\n",
       "    <tr style=\"text-align: right;\">\n",
       "      <th></th>\n",
       "      <th>Title</th>\n",
       "      <th>Id</th>\n",
       "      <th>Text</th>\n",
       "      <th>Author</th>\n",
       "      <th>Number of Comments</th>\n",
       "      <th>Number of upvotes</th>\n",
       "      <th>Ratio of Upvotes</th>\n",
       "    </tr>\n",
       "  </thead>\n",
       "  <tbody>\n",
       "    <tr>\n",
       "      <th>488</th>\n",
       "      <td>Y’all wish me luck</td>\n",
       "      <td>119ktv8</td>\n",
       "      <td>I got a job interview I feel lucky about this one</td>\n",
       "      <td>Jacob-the-jester</td>\n",
       "      <td>5</td>\n",
       "      <td>45</td>\n",
       "      <td>1.00</td>\n",
       "    </tr>\n",
       "    <tr>\n",
       "      <th>607</th>\n",
       "      <td>How do I save up if my bills are nearly the sa...</td>\n",
       "      <td>11426ja</td>\n",
       "      <td>Its like I can barely save any money, im liter...</td>\n",
       "      <td>No_Contribution2112</td>\n",
       "      <td>91</td>\n",
       "      <td>186</td>\n",
       "      <td>0.96</td>\n",
       "    </tr>\n",
       "    <tr>\n",
       "      <th>154</th>\n",
       "      <td>Like how do people manage this?</td>\n",
       "      <td>11ohjyt</td>\n",
       "      <td>It's impossible to keep my apartment clean for...</td>\n",
       "      <td>MeanEstablishment024</td>\n",
       "      <td>64</td>\n",
       "      <td>142</td>\n",
       "      <td>0.95</td>\n",
       "    </tr>\n",
       "    <tr>\n",
       "      <th>63</th>\n",
       "      <td>Keeping promises to myself</td>\n",
       "      <td>11t0j2j</td>\n",
       "      <td>I am not the best driver, as a 22M, I have bee...</td>\n",
       "      <td>Anonymoose2110</td>\n",
       "      <td>10</td>\n",
       "      <td>7</td>\n",
       "      <td>1.00</td>\n",
       "    </tr>\n",
       "    <tr>\n",
       "      <th>476</th>\n",
       "      <td>Taking our first vacation ever as a couple aft...</td>\n",
       "      <td>10pjnfo</td>\n",
       "      <td>We were thinking a cruise or I want to go to E...</td>\n",
       "      <td>Capital_Affect_2773</td>\n",
       "      <td>4</td>\n",
       "      <td>2</td>\n",
       "      <td>1.00</td>\n",
       "    </tr>\n",
       "    <tr>\n",
       "      <th>580</th>\n",
       "      <td>Do I need to defrost my mini fridge?</td>\n",
       "      <td>10l9rgj</td>\n",
       "      <td>I'm moving tomorrow afternoon into a house wit...</td>\n",
       "      <td>sweet_like_honey20</td>\n",
       "      <td>3</td>\n",
       "      <td>2</td>\n",
       "      <td>1.00</td>\n",
       "    </tr>\n",
       "    <tr>\n",
       "      <th>57</th>\n",
       "      <td>How do you make a life plan to a desired life?</td>\n",
       "      <td>11tjnxy</td>\n",
       "      <td>\\n\\n\\n\\nNeeded some advice on actually siting ...</td>\n",
       "      <td>Akashh23_pop</td>\n",
       "      <td>2</td>\n",
       "      <td>5</td>\n",
       "      <td>0.86</td>\n",
       "    </tr>\n",
       "    <tr>\n",
       "      <th>480</th>\n",
       "      <td>to get life insurance or not to get life insur...</td>\n",
       "      <td>11a27e4</td>\n",
       "      <td>That is the question. I (34F) don't have any p...</td>\n",
       "      <td>BeeProfessional2613</td>\n",
       "      <td>71</td>\n",
       "      <td>37</td>\n",
       "      <td>0.91</td>\n",
       "    </tr>\n",
       "    <tr>\n",
       "      <th>120</th>\n",
       "      <td>How do you deal with parents with a victim men...</td>\n",
       "      <td>1163hmj</td>\n",
       "      <td>For example, when I try to express to them som...</td>\n",
       "      <td>EstablishmentOdd7929</td>\n",
       "      <td>3</td>\n",
       "      <td>2</td>\n",
       "      <td>1.00</td>\n",
       "    </tr>\n",
       "    <tr>\n",
       "      <th>89</th>\n",
       "      <td>Savings bonds</td>\n",
       "      <td>11s5z9y</td>\n",
       "      <td>Do any banks still take savings bonds, I found...</td>\n",
       "      <td>tykwest</td>\n",
       "      <td>2</td>\n",
       "      <td>2</td>\n",
       "      <td>1.00</td>\n",
       "    </tr>\n",
       "  </tbody>\n",
       "</table>\n",
       "</div>"
      ],
      "text/plain": [
       "                                                 Title       Id  \\\n",
       "488                                 Y’all wish me luck  119ktv8   \n",
       "607  How do I save up if my bills are nearly the sa...  11426ja   \n",
       "154                    Like how do people manage this?  11ohjyt   \n",
       "63                          Keeping promises to myself  11t0j2j   \n",
       "476  Taking our first vacation ever as a couple aft...  10pjnfo   \n",
       "580               Do I need to defrost my mini fridge?  10l9rgj   \n",
       "57      How do you make a life plan to a desired life?  11tjnxy   \n",
       "480  to get life insurance or not to get life insur...  11a27e4   \n",
       "120  How do you deal with parents with a victim men...  1163hmj   \n",
       "89                                       Savings bonds  11s5z9y   \n",
       "\n",
       "                                                  Text                Author  \\\n",
       "488  I got a job interview I feel lucky about this one      Jacob-the-jester   \n",
       "607  Its like I can barely save any money, im liter...   No_Contribution2112   \n",
       "154  It's impossible to keep my apartment clean for...  MeanEstablishment024   \n",
       "63   I am not the best driver, as a 22M, I have bee...        Anonymoose2110   \n",
       "476  We were thinking a cruise or I want to go to E...   Capital_Affect_2773   \n",
       "580  I'm moving tomorrow afternoon into a house wit...    sweet_like_honey20   \n",
       "57   \\n\\n\\n\\nNeeded some advice on actually siting ...          Akashh23_pop   \n",
       "480  That is the question. I (34F) don't have any p...   BeeProfessional2613   \n",
       "120  For example, when I try to express to them som...  EstablishmentOdd7929   \n",
       "89   Do any banks still take savings bonds, I found...               tykwest   \n",
       "\n",
       "     Number of Comments  Number of upvotes  Ratio of Upvotes  \n",
       "488                   5                 45              1.00  \n",
       "607                  91                186              0.96  \n",
       "154                  64                142              0.95  \n",
       "63                   10                  7              1.00  \n",
       "476                   4                  2              1.00  \n",
       "580                   3                  2              1.00  \n",
       "57                    2                  5              0.86  \n",
       "480                  71                 37              0.91  \n",
       "120                   3                  2              1.00  \n",
       "89                    2                  2              1.00  "
      ]
     },
     "execution_count": 167,
     "metadata": {},
     "output_type": "execute_result"
    }
   ],
   "source": [
    "adData.sample(10)"
   ]
  },
  {
   "cell_type": "code",
   "execution_count": 168,
   "id": "1c4f224f",
   "metadata": {
    "scrolled": true
   },
   "outputs": [
    {
     "data": {
      "text/html": [
       "<div>\n",
       "<style scoped>\n",
       "    .dataframe tbody tr th:only-of-type {\n",
       "        vertical-align: middle;\n",
       "    }\n",
       "\n",
       "    .dataframe tbody tr th {\n",
       "        vertical-align: top;\n",
       "    }\n",
       "\n",
       "    .dataframe thead th {\n",
       "        text-align: right;\n",
       "    }\n",
       "</style>\n",
       "<table border=\"1\" class=\"dataframe\">\n",
       "  <thead>\n",
       "    <tr style=\"text-align: right;\">\n",
       "      <th></th>\n",
       "      <th>Title</th>\n",
       "      <th>Id</th>\n",
       "      <th>Text</th>\n",
       "      <th>Author</th>\n",
       "      <th>Number of Comments</th>\n",
       "      <th>Number of upvotes</th>\n",
       "      <th>Ratio of Upvotes</th>\n",
       "    </tr>\n",
       "  </thead>\n",
       "  <tbody>\n",
       "    <tr>\n",
       "      <th>702</th>\n",
       "      <td>How do I find a home for someone who's an alco...</td>\n",
       "      <td>11tzcxl</td>\n",
       "      <td>Hi everyone. I'm looking for an advice from t...</td>\n",
       "      <td>Comfortable-Role-703</td>\n",
       "      <td>1</td>\n",
       "      <td>0</td>\n",
       "      <td>0.25</td>\n",
       "    </tr>\n",
       "    <tr>\n",
       "      <th>69</th>\n",
       "      <td>Should I sue the cereal company?</td>\n",
       "      <td>11vsyw9</td>\n",
       "      <td>Hello everyone, so I’m a teen (18m) I take car...</td>\n",
       "      <td>heat_wave29</td>\n",
       "      <td>17</td>\n",
       "      <td>0</td>\n",
       "      <td>0.14</td>\n",
       "    </tr>\n",
       "    <tr>\n",
       "      <th>856</th>\n",
       "      <td>Car loan contract question</td>\n",
       "      <td>11td2y7</td>\n",
       "      <td>Is a car loan contract invalid if the co-signe...</td>\n",
       "      <td>hitides666</td>\n",
       "      <td>0</td>\n",
       "      <td>1</td>\n",
       "      <td>0.67</td>\n",
       "    </tr>\n",
       "    <tr>\n",
       "      <th>845</th>\n",
       "      <td>Applying For Apartments For My Disabled Mother</td>\n",
       "      <td>11tdoaj</td>\n",
       "      <td>Oregon.  \\nI am helping my mother apply for ap...</td>\n",
       "      <td>WilNotJr</td>\n",
       "      <td>9</td>\n",
       "      <td>1</td>\n",
       "      <td>1.00</td>\n",
       "    </tr>\n",
       "    <tr>\n",
       "      <th>821</th>\n",
       "      <td>Gf just got served</td>\n",
       "      <td>11tfo9q</td>\n",
       "      <td>So my gf was just served. She's being sued by ...</td>\n",
       "      <td>Puzzled_Bug441</td>\n",
       "      <td>7</td>\n",
       "      <td>0</td>\n",
       "      <td>0.33</td>\n",
       "    </tr>\n",
       "    <tr>\n",
       "      <th>11</th>\n",
       "      <td>Do I have to pay for fathers's estate costs?</td>\n",
       "      <td>11vpejm</td>\n",
       "      <td>My father has five children.  In his will, he ...</td>\n",
       "      <td>tryhardereverydayy</td>\n",
       "      <td>6</td>\n",
       "      <td>18</td>\n",
       "      <td>0.88</td>\n",
       "    </tr>\n",
       "    <tr>\n",
       "      <th>168</th>\n",
       "      <td>What Can I do without evidence of Sexual Assault?</td>\n",
       "      <td>11vkgwu</td>\n",
       "      <td>He forced himself on me months ago while I was...</td>\n",
       "      <td>Ok-Hunter-7646</td>\n",
       "      <td>4</td>\n",
       "      <td>0</td>\n",
       "      <td>0.40</td>\n",
       "    </tr>\n",
       "    <tr>\n",
       "      <th>361</th>\n",
       "      <td>Leased truck scenario/end lease early</td>\n",
       "      <td>11ut0lt</td>\n",
       "      <td>The truck I have been leasing for the past 2 y...</td>\n",
       "      <td>Jacobglen66</td>\n",
       "      <td>5</td>\n",
       "      <td>1</td>\n",
       "      <td>1.00</td>\n",
       "    </tr>\n",
       "    <tr>\n",
       "      <th>427</th>\n",
       "      <td>can i get into trouble for this?</td>\n",
       "      <td>11unxy5</td>\n",
       "      <td>my little sister, only 16, killed herself on w...</td>\n",
       "      <td>candacedickfitinu</td>\n",
       "      <td>5</td>\n",
       "      <td>0</td>\n",
       "      <td>0.20</td>\n",
       "    </tr>\n",
       "    <tr>\n",
       "      <th>65</th>\n",
       "      <td>Debt Collector Contacting Me for a Debt I Neve...</td>\n",
       "      <td>11vqn8d</td>\n",
       "      <td>(California)\\nA family member got a phone call...</td>\n",
       "      <td>WhiteRose424</td>\n",
       "      <td>2</td>\n",
       "      <td>2</td>\n",
       "      <td>1.00</td>\n",
       "    </tr>\n",
       "  </tbody>\n",
       "</table>\n",
       "</div>"
      ],
      "text/plain": [
       "                                                 Title       Id  \\\n",
       "702  How do I find a home for someone who's an alco...  11tzcxl   \n",
       "69                    Should I sue the cereal company?  11vsyw9   \n",
       "856                         Car loan contract question  11td2y7   \n",
       "845     Applying For Apartments For My Disabled Mother  11tdoaj   \n",
       "821                                 Gf just got served  11tfo9q   \n",
       "11        Do I have to pay for fathers's estate costs?  11vpejm   \n",
       "168  What Can I do without evidence of Sexual Assault?  11vkgwu   \n",
       "361              Leased truck scenario/end lease early  11ut0lt   \n",
       "427                   can i get into trouble for this?  11unxy5   \n",
       "65   Debt Collector Contacting Me for a Debt I Neve...  11vqn8d   \n",
       "\n",
       "                                                  Text                Author  \\\n",
       "702   Hi everyone. I'm looking for an advice from t...  Comfortable-Role-703   \n",
       "69   Hello everyone, so I’m a teen (18m) I take car...           heat_wave29   \n",
       "856  Is a car loan contract invalid if the co-signe...            hitides666   \n",
       "845  Oregon.  \\nI am helping my mother apply for ap...              WilNotJr   \n",
       "821  So my gf was just served. She's being sued by ...        Puzzled_Bug441   \n",
       "11   My father has five children.  In his will, he ...    tryhardereverydayy   \n",
       "168  He forced himself on me months ago while I was...        Ok-Hunter-7646   \n",
       "361  The truck I have been leasing for the past 2 y...           Jacobglen66   \n",
       "427  my little sister, only 16, killed herself on w...     candacedickfitinu   \n",
       "65   (California)\\nA family member got a phone call...          WhiteRose424   \n",
       "\n",
       "     Number of Comments  Number of upvotes  Ratio of Upvotes  \n",
       "702                   1                  0              0.25  \n",
       "69                   17                  0              0.14  \n",
       "856                   0                  1              0.67  \n",
       "845                   9                  1              1.00  \n",
       "821                   7                  0              0.33  \n",
       "11                    6                 18              0.88  \n",
       "168                   4                  0              0.40  \n",
       "361                   5                  1              1.00  \n",
       "427                   5                  0              0.20  \n",
       "65                    2                  2              1.00  "
      ]
     },
     "execution_count": 168,
     "metadata": {},
     "output_type": "execute_result"
    }
   ],
   "source": [
    "legalData.sample(10)"
   ]
  },
  {
   "cell_type": "markdown",
   "id": "bb570481",
   "metadata": {},
   "source": [
    "## New CSV Files"
   ]
  },
  {
   "cell_type": "code",
   "execution_count": 169,
   "id": "284a292d",
   "metadata": {},
   "outputs": [],
   "source": [
    "legalData.to_csv('finalLegalData.csv')\n",
    "adData.to_csv('finalAdData.csv')\n",
    "medData.to_csv('finalMedData.csv')\n",
    "hsData.to_csv('finalHsData.csv')\n",
    "bwayData.to_csv('finalBwayData.csv')\n",
    "pghData.to_csv('finalPghData.csv')\n",
    "rantData.to_csv('finalRantData.csv')\n",
    "ccqData.to_csv('finalCcqData.csv')\n",
    "animeData.to_csv('finalAnimeData.csv')\n",
    "elifData.to_csv('finalElifData.csv')\n",
    "collegeData.to_csv('finalCollegeData.csv')\n",
    "sportsData.to_csv('finalSportsData.csv')\n",
    "cryptoData.to_csv('finalCryptoData.csv')\n",
    "lawyerData.to_csv('finalLawyerData.csv')\n",
    "gamingData.to_csv('finalGamingData.csv')"
   ]
  }
 ],
 "metadata": {
  "kernelspec": {
   "display_name": "Python 3 (ipykernel)",
   "language": "python",
   "name": "python3"
  },
  "language_info": {
   "codemirror_mode": {
    "name": "ipython",
    "version": 3
   },
   "file_extension": ".py",
   "mimetype": "text/x-python",
   "name": "python",
   "nbconvert_exporter": "python",
   "pygments_lexer": "ipython3",
   "version": "3.9.13"
  }
 },
 "nbformat": 4,
 "nbformat_minor": 5
}
