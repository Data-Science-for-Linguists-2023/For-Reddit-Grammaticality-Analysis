{
 "cells": [
  {
   "cell_type": "markdown",
   "id": "79f14a66",
   "metadata": {},
   "source": [
    "# Data Organization"
   ]
  },
  {
   "cell_type": "markdown",
   "id": "10fbc1f9",
   "metadata": {},
   "source": [
    "Before reading through this notebook, I recommend going through [Data Collection](https://github.com/Data-Science-for-Linguists-2023/For-Reddit-Grammaticality-Analysis/blob/main/notebooks/dataCollection.ipynb) first."
   ]
  },
  {
   "cell_type": "markdown",
   "id": "13c09d22",
   "metadata": {},
   "source": [
    "[nbviewer](https://nbviewer.org/github/Data-Science-for-Linguists-2023/For-Reddit-Grammaticality-Analysis/blob/main/notebooks/dataOrganization.ipynb)"
   ]
  },
  {
   "cell_type": "markdown",
   "id": "6c0b30a1",
   "metadata": {},
   "source": [
    "**Outline**\n",
    "1. [Legal Talk](#Legal-Talk)\n",
    "2. [Adulting](#Adulting)\n",
    "3. [Medicine](#Medicine)\n",
    "4. [High School](#High-School)\n",
    "5. [Broadway](#Broadway)\n",
    "6. [Pittsburgh](#Pittsburgh)\n",
    "7. [Rant](#Rant)\n",
    "8. [CS Career Questions](#CS-Career-Questions)\n",
    "9. [Anime](#Anime)\n",
    "10. [Explain Like I'm Five](#Explain-Like-I'm-Five)\n",
    "11. [College](#College)\n",
    "12. [NBA](#NBA)\n",
    "13. [Cryptocurrency](#Cryptocurrency)\n",
    "14. [Lawyer Talk](#Lawyer-Talk)\n",
    "15. [Gaming](#Gaming)\n",
    "16. [Calculations](#Calculations)\n",
    "17. [Dropping Entries](#Dropping-Entries)\n",
    "18. [Cleaning Up](#Cleaning-Up)\n",
    "19. [Final Dataframes](#Final-Dataframes)\n",
    "20. [New CSV Files](#New-CSV-Files)"
   ]
  },
  {
   "cell_type": "markdown",
   "id": "19a74ea2",
   "metadata": {},
   "source": [
    "## Purpose\n"
   ]
  },
  {
   "cell_type": "markdown",
   "id": "5ac89c4a",
   "metadata": {},
   "source": [
    "The purpose of this notebook is to combine the two .csv files per subreddit and ensure equal posts across all subreddits for analysis purposes. One .csv file corresponds to 'hot' posts and one .csv file corresponds to 'new' posts."
   ]
  },
  {
   "cell_type": "code",
   "execution_count": 1,
   "id": "26a608f8",
   "metadata": {},
   "outputs": [],
   "source": [
    "import pandas as pd"
   ]
  },
  {
   "cell_type": "code",
   "execution_count": 2,
   "id": "206df411",
   "metadata": {},
   "outputs": [],
   "source": [
    "# This will keep track of the size of all of the combined csv files\n",
    "entriesCount = []"
   ]
  },
  {
   "cell_type": "markdown",
   "id": "67d63fce",
   "metadata": {},
   "source": [
    "## Legal Talk"
   ]
  },
  {
   "cell_type": "code",
   "execution_count": 3,
   "id": "f4ac4a18",
   "metadata": {},
   "outputs": [],
   "source": [
    "# Reading in the csv files\n",
    "legalDataNew = pd.read_csv(\"../data/legalData.csv\")\n",
    "legalDataHot = pd.read_csv(\"../data/legalData2.csv\")"
   ]
  },
  {
   "cell_type": "code",
   "execution_count": 4,
   "id": "d0971c55",
   "metadata": {},
   "outputs": [
    {
     "data": {
      "text/plain": [
       "(986, 8)"
      ]
     },
     "execution_count": 4,
     "metadata": {},
     "output_type": "execute_result"
    }
   ],
   "source": [
    "# Getting the shape\n",
    "legalDataNew.shape"
   ]
  },
  {
   "cell_type": "code",
   "execution_count": 5,
   "id": "539bb6b6",
   "metadata": {
    "scrolled": true
   },
   "outputs": [
    {
     "data": {
      "text/plain": [
       "(990, 8)"
      ]
     },
     "execution_count": 5,
     "metadata": {},
     "output_type": "execute_result"
    }
   ],
   "source": [
    "legalDataHot.shape"
   ]
  },
  {
   "cell_type": "code",
   "execution_count": 6,
   "id": "80f5aa4f",
   "metadata": {
    "scrolled": true
   },
   "outputs": [
    {
     "data": {
      "text/plain": [
       "(1976, 8)"
      ]
     },
     "execution_count": 6,
     "metadata": {},
     "output_type": "execute_result"
    }
   ],
   "source": [
    "# Concatinating the dataframes together, to make one big dataframe\n",
    "legalData = pd.concat([legalDataHot, legalDataNew])\n",
    "legalData.shape"
   ]
  },
  {
   "cell_type": "code",
   "execution_count": 7,
   "id": "5c85a923",
   "metadata": {},
   "outputs": [],
   "source": [
    "# Dropping duplicates\n",
    "legalData = legalData.drop_duplicates(keep=False)"
   ]
  },
  {
   "cell_type": "code",
   "execution_count": 8,
   "id": "6434dd47",
   "metadata": {},
   "outputs": [
    {
     "data": {
      "text/plain": [
       "(1962, 8)"
      ]
     },
     "execution_count": 8,
     "metadata": {},
     "output_type": "execute_result"
    }
   ],
   "source": [
    "# Final shape\n",
    "legalData.shape"
   ]
  },
  {
   "cell_type": "code",
   "execution_count": 9,
   "id": "6efea116",
   "metadata": {},
   "outputs": [],
   "source": [
    "# Keeping track of the size of all of the final dataframes\n",
    "entriesCount.append(legalData.shape[0])"
   ]
  },
  {
   "cell_type": "markdown",
   "id": "fc72c2d8",
   "metadata": {},
   "source": [
    "The process outlined above for the legalData is repeated for every subreddit...."
   ]
  },
  {
   "cell_type": "markdown",
   "id": "b6b5eee8",
   "metadata": {},
   "source": [
    "## Adulting"
   ]
  },
  {
   "cell_type": "code",
   "execution_count": 10,
   "id": "1f9d2caf",
   "metadata": {},
   "outputs": [],
   "source": [
    "adDataNew = pd.read_csv(\"../data/adData.csv\")\n",
    "adDataHot = pd.read_csv(\"../data/adData2.csv\")"
   ]
  },
  {
   "cell_type": "code",
   "execution_count": 11,
   "id": "e57f9e26",
   "metadata": {},
   "outputs": [
    {
     "data": {
      "text/plain": [
       "(823, 8)"
      ]
     },
     "execution_count": 11,
     "metadata": {},
     "output_type": "execute_result"
    }
   ],
   "source": [
    "adDataNew.shape"
   ]
  },
  {
   "cell_type": "code",
   "execution_count": 12,
   "id": "2efd0b3a",
   "metadata": {},
   "outputs": [
    {
     "data": {
      "text/plain": [
       "(847, 8)"
      ]
     },
     "execution_count": 12,
     "metadata": {},
     "output_type": "execute_result"
    }
   ],
   "source": [
    "adDataHot.shape"
   ]
  },
  {
   "cell_type": "code",
   "execution_count": 13,
   "id": "1daaf67f",
   "metadata": {},
   "outputs": [
    {
     "data": {
      "text/plain": [
       "(1670, 8)"
      ]
     },
     "execution_count": 13,
     "metadata": {},
     "output_type": "execute_result"
    }
   ],
   "source": [
    "adData = pd.concat([adDataHot, adDataNew])\n",
    "adData.shape"
   ]
  },
  {
   "cell_type": "code",
   "execution_count": 14,
   "id": "f6d9fc4a",
   "metadata": {},
   "outputs": [],
   "source": [
    "adData = adData.drop_duplicates(keep=False)"
   ]
  },
  {
   "cell_type": "code",
   "execution_count": 15,
   "id": "79654a2f",
   "metadata": {},
   "outputs": [
    {
     "data": {
      "text/plain": [
       "(1670, 8)"
      ]
     },
     "execution_count": 15,
     "metadata": {},
     "output_type": "execute_result"
    }
   ],
   "source": [
    "adData.shape"
   ]
  },
  {
   "cell_type": "code",
   "execution_count": 16,
   "id": "1879d760",
   "metadata": {},
   "outputs": [],
   "source": [
    "entriesCount.append(adData.shape[0])"
   ]
  },
  {
   "cell_type": "markdown",
   "id": "720212a6",
   "metadata": {},
   "source": [
    "## Medicine"
   ]
  },
  {
   "cell_type": "code",
   "execution_count": 17,
   "id": "763cdd35",
   "metadata": {},
   "outputs": [],
   "source": [
    "medDataNew = pd.read_csv(\"../data/medData.csv\")\n",
    "medDataHot = pd.read_csv(\"../data/medData2.csv\")"
   ]
  },
  {
   "cell_type": "code",
   "execution_count": 18,
   "id": "c48c839a",
   "metadata": {},
   "outputs": [
    {
     "data": {
      "text/plain": [
       "(759, 8)"
      ]
     },
     "execution_count": 18,
     "metadata": {},
     "output_type": "execute_result"
    }
   ],
   "source": [
    "medDataNew.shape"
   ]
  },
  {
   "cell_type": "code",
   "execution_count": 19,
   "id": "bcdfdcfd",
   "metadata": {},
   "outputs": [
    {
     "data": {
      "text/plain": [
       "(973, 8)"
      ]
     },
     "execution_count": 19,
     "metadata": {},
     "output_type": "execute_result"
    }
   ],
   "source": [
    "medDataHot.shape"
   ]
  },
  {
   "cell_type": "code",
   "execution_count": 20,
   "id": "b3c0e5ba",
   "metadata": {},
   "outputs": [
    {
     "data": {
      "text/plain": [
       "(1732, 8)"
      ]
     },
     "execution_count": 20,
     "metadata": {},
     "output_type": "execute_result"
    }
   ],
   "source": [
    "medData = pd.concat([medDataHot, medDataNew])\n",
    "medData.shape"
   ]
  },
  {
   "cell_type": "code",
   "execution_count": 21,
   "id": "a746a438",
   "metadata": {},
   "outputs": [],
   "source": [
    "medData = medData.drop_duplicates(keep=False)"
   ]
  },
  {
   "cell_type": "code",
   "execution_count": 22,
   "id": "77d7e3f8",
   "metadata": {},
   "outputs": [
    {
     "data": {
      "text/plain": [
       "(1732, 8)"
      ]
     },
     "execution_count": 22,
     "metadata": {},
     "output_type": "execute_result"
    }
   ],
   "source": [
    "medData.shape"
   ]
  },
  {
   "cell_type": "code",
   "execution_count": 23,
   "id": "8d50f434",
   "metadata": {},
   "outputs": [],
   "source": [
    "entriesCount.append(medData.shape[0])"
   ]
  },
  {
   "cell_type": "markdown",
   "id": "6782528d",
   "metadata": {},
   "source": [
    "## High School"
   ]
  },
  {
   "cell_type": "code",
   "execution_count": 24,
   "id": "f1cfac01",
   "metadata": {},
   "outputs": [],
   "source": [
    "hsDataNew = pd.read_csv(\"../data/hsData.csv\")\n",
    "hsDataHot = pd.read_csv(\"../data/hsData2.csv\")"
   ]
  },
  {
   "cell_type": "code",
   "execution_count": 25,
   "id": "d96e5268",
   "metadata": {},
   "outputs": [
    {
     "data": {
      "text/plain": [
       "(774, 8)"
      ]
     },
     "execution_count": 25,
     "metadata": {},
     "output_type": "execute_result"
    }
   ],
   "source": [
    "hsDataNew.shape"
   ]
  },
  {
   "cell_type": "code",
   "execution_count": 26,
   "id": "758c79df",
   "metadata": {},
   "outputs": [
    {
     "data": {
      "text/plain": [
       "(805, 8)"
      ]
     },
     "execution_count": 26,
     "metadata": {},
     "output_type": "execute_result"
    }
   ],
   "source": [
    "hsDataHot.shape"
   ]
  },
  {
   "cell_type": "code",
   "execution_count": 27,
   "id": "26bd9ca3",
   "metadata": {},
   "outputs": [
    {
     "data": {
      "text/plain": [
       "(1579, 8)"
      ]
     },
     "execution_count": 27,
     "metadata": {},
     "output_type": "execute_result"
    }
   ],
   "source": [
    "hsData = pd.concat([hsDataHot, hsDataNew])\n",
    "hsData.shape"
   ]
  },
  {
   "cell_type": "code",
   "execution_count": 28,
   "id": "0167f044",
   "metadata": {},
   "outputs": [],
   "source": [
    "hsData = hsData.drop_duplicates(keep=False)"
   ]
  },
  {
   "cell_type": "code",
   "execution_count": 29,
   "id": "da651715",
   "metadata": {
    "scrolled": true
   },
   "outputs": [
    {
     "data": {
      "text/plain": [
       "(1579, 8)"
      ]
     },
     "execution_count": 29,
     "metadata": {},
     "output_type": "execute_result"
    }
   ],
   "source": [
    "hsData.shape"
   ]
  },
  {
   "cell_type": "code",
   "execution_count": 30,
   "id": "768bef72",
   "metadata": {},
   "outputs": [],
   "source": [
    "entriesCount.append(hsData.shape[0])"
   ]
  },
  {
   "cell_type": "markdown",
   "id": "8a5268d5",
   "metadata": {},
   "source": [
    "## Broadway"
   ]
  },
  {
   "cell_type": "code",
   "execution_count": 31,
   "id": "1271aaad",
   "metadata": {},
   "outputs": [],
   "source": [
    "bwayDataNew = pd.read_csv(\"../data/bwayData.csv\")\n",
    "bwayDataNew2 = pd.read_csv(\"../data/bwayData3.csv\")\n",
    "bwayDataHot = pd.read_csv(\"../data/bwayData2.csv\")"
   ]
  },
  {
   "cell_type": "code",
   "execution_count": 32,
   "id": "c55790f3",
   "metadata": {},
   "outputs": [
    {
     "data": {
      "text/plain": [
       "(642, 8)"
      ]
     },
     "execution_count": 32,
     "metadata": {},
     "output_type": "execute_result"
    }
   ],
   "source": [
    "bwayDataNew.shape"
   ]
  },
  {
   "cell_type": "code",
   "execution_count": 33,
   "id": "0a19b92d",
   "metadata": {},
   "outputs": [
    {
     "data": {
      "text/plain": [
       "(633, 8)"
      ]
     },
     "execution_count": 33,
     "metadata": {},
     "output_type": "execute_result"
    }
   ],
   "source": [
    "bwayDataHot.shape"
   ]
  },
  {
   "cell_type": "code",
   "execution_count": 34,
   "id": "c9beef07",
   "metadata": {},
   "outputs": [
    {
     "data": {
      "text/plain": [
       "(629, 8)"
      ]
     },
     "execution_count": 34,
     "metadata": {},
     "output_type": "execute_result"
    }
   ],
   "source": [
    "bwayDataNew2.shape"
   ]
  },
  {
   "cell_type": "code",
   "execution_count": 35,
   "id": "b1097eed",
   "metadata": {},
   "outputs": [
    {
     "data": {
      "text/plain": [
       "(1904, 8)"
      ]
     },
     "execution_count": 35,
     "metadata": {},
     "output_type": "execute_result"
    }
   ],
   "source": [
    "bwayData = pd.concat([bwayDataHot, bwayDataNew, bwayDataNew2])\n",
    "bwayData.shape"
   ]
  },
  {
   "cell_type": "code",
   "execution_count": 36,
   "id": "c3699a77",
   "metadata": {},
   "outputs": [],
   "source": [
    "bwayData = bwayData.drop_duplicates(keep=False)"
   ]
  },
  {
   "cell_type": "code",
   "execution_count": 37,
   "id": "a3ca6cd1",
   "metadata": {
    "scrolled": true
   },
   "outputs": [
    {
     "data": {
      "text/plain": [
       "(1900, 8)"
      ]
     },
     "execution_count": 37,
     "metadata": {},
     "output_type": "execute_result"
    }
   ],
   "source": [
    "bwayData.shape"
   ]
  },
  {
   "cell_type": "code",
   "execution_count": 38,
   "id": "a3a28d3f",
   "metadata": {},
   "outputs": [],
   "source": [
    "entriesCount.append(bwayData.shape[0])"
   ]
  },
  {
   "cell_type": "markdown",
   "id": "6c3d44fa",
   "metadata": {},
   "source": [
    "## Pittsburgh"
   ]
  },
  {
   "cell_type": "code",
   "execution_count": 39,
   "id": "c46dec9b",
   "metadata": {},
   "outputs": [],
   "source": [
    "pghDataNew = pd.read_csv(\"../data/pghData.csv\")\n",
    "pghDataNew2 = pd.read_csv(\"../data/pghData3.csv\")\n",
    "pghDataHot = pd.read_csv(\"../data/pghData2.csv\")"
   ]
  },
  {
   "cell_type": "code",
   "execution_count": 40,
   "id": "b99f912a",
   "metadata": {},
   "outputs": [
    {
     "data": {
      "text/plain": [
       "(624, 8)"
      ]
     },
     "execution_count": 40,
     "metadata": {},
     "output_type": "execute_result"
    }
   ],
   "source": [
    "pghDataNew.shape"
   ]
  },
  {
   "cell_type": "code",
   "execution_count": 41,
   "id": "1245f168",
   "metadata": {},
   "outputs": [
    {
     "data": {
      "text/plain": [
       "(606, 8)"
      ]
     },
     "execution_count": 41,
     "metadata": {},
     "output_type": "execute_result"
    }
   ],
   "source": [
    "pghDataNew2.shape"
   ]
  },
  {
   "cell_type": "code",
   "execution_count": 42,
   "id": "9364a603",
   "metadata": {},
   "outputs": [
    {
     "data": {
      "text/plain": [
       "(549, 8)"
      ]
     },
     "execution_count": 42,
     "metadata": {},
     "output_type": "execute_result"
    }
   ],
   "source": [
    "pghDataHot.shape"
   ]
  },
  {
   "cell_type": "code",
   "execution_count": 43,
   "id": "d0e3efb7",
   "metadata": {},
   "outputs": [
    {
     "data": {
      "text/plain": [
       "(1779, 8)"
      ]
     },
     "execution_count": 43,
     "metadata": {},
     "output_type": "execute_result"
    }
   ],
   "source": [
    "pghData = pd.concat([pghDataHot, pghDataNew, pghDataNew2])\n",
    "pghData.shape"
   ]
  },
  {
   "cell_type": "code",
   "execution_count": 44,
   "id": "2465c6ed",
   "metadata": {},
   "outputs": [],
   "source": [
    "pghData = pghData.drop_duplicates(keep=False)"
   ]
  },
  {
   "cell_type": "code",
   "execution_count": 45,
   "id": "4e7fa3cb",
   "metadata": {
    "scrolled": true
   },
   "outputs": [
    {
     "data": {
      "text/plain": [
       "(1775, 8)"
      ]
     },
     "execution_count": 45,
     "metadata": {},
     "output_type": "execute_result"
    }
   ],
   "source": [
    "pghData.shape"
   ]
  },
  {
   "cell_type": "code",
   "execution_count": 46,
   "id": "8baa1ad2",
   "metadata": {},
   "outputs": [],
   "source": [
    "entriesCount.append(pghData.shape[0])"
   ]
  },
  {
   "cell_type": "markdown",
   "id": "d1b9503c",
   "metadata": {},
   "source": [
    "## Rant"
   ]
  },
  {
   "cell_type": "code",
   "execution_count": 47,
   "id": "55980cf7",
   "metadata": {},
   "outputs": [],
   "source": [
    "rantDataNew = pd.read_csv(\"../data/rantData.csv\")\n",
    "rantDataNew2 = pd.read_csv(\"../data/rantData3.csv\")\n",
    "rantDataHot = pd.read_csv(\"../data/rantData2.csv\")"
   ]
  },
  {
   "cell_type": "code",
   "execution_count": 48,
   "id": "0a6065fb",
   "metadata": {},
   "outputs": [
    {
     "data": {
      "text/plain": [
       "(936, 8)"
      ]
     },
     "execution_count": 48,
     "metadata": {},
     "output_type": "execute_result"
    }
   ],
   "source": [
    "rantDataNew.shape"
   ]
  },
  {
   "cell_type": "code",
   "execution_count": 49,
   "id": "f3987b87",
   "metadata": {},
   "outputs": [
    {
     "data": {
      "text/plain": [
       "(934, 8)"
      ]
     },
     "execution_count": 49,
     "metadata": {},
     "output_type": "execute_result"
    }
   ],
   "source": [
    "rantDataNew2.shape"
   ]
  },
  {
   "cell_type": "code",
   "execution_count": 50,
   "id": "1e499d29",
   "metadata": {},
   "outputs": [
    {
     "data": {
      "text/plain": [
       "(537, 8)"
      ]
     },
     "execution_count": 50,
     "metadata": {},
     "output_type": "execute_result"
    }
   ],
   "source": [
    "rantDataHot.shape"
   ]
  },
  {
   "cell_type": "code",
   "execution_count": 51,
   "id": "5c37b78d",
   "metadata": {},
   "outputs": [
    {
     "data": {
      "text/plain": [
       "(2407, 8)"
      ]
     },
     "execution_count": 51,
     "metadata": {},
     "output_type": "execute_result"
    }
   ],
   "source": [
    "rantData = pd.concat([rantDataHot, rantDataNew, rantDataNew2])\n",
    "rantData.shape"
   ]
  },
  {
   "cell_type": "code",
   "execution_count": 52,
   "id": "1f873ffc",
   "metadata": {},
   "outputs": [],
   "source": [
    "rantData = rantData.drop_duplicates(keep=False)"
   ]
  },
  {
   "cell_type": "code",
   "execution_count": 53,
   "id": "95ab3f1a",
   "metadata": {},
   "outputs": [
    {
     "data": {
      "text/plain": [
       "(2395, 8)"
      ]
     },
     "execution_count": 53,
     "metadata": {},
     "output_type": "execute_result"
    }
   ],
   "source": [
    "rantData.shape"
   ]
  },
  {
   "cell_type": "code",
   "execution_count": 54,
   "id": "ce2d1ae2",
   "metadata": {},
   "outputs": [],
   "source": [
    "entriesCount.append(rantData.shape[0])"
   ]
  },
  {
   "cell_type": "markdown",
   "id": "ddf97ba4",
   "metadata": {},
   "source": [
    "## CS Career Questions"
   ]
  },
  {
   "cell_type": "code",
   "execution_count": 55,
   "id": "d1402296",
   "metadata": {},
   "outputs": [],
   "source": [
    "ccqDataNew = pd.read_csv(\"../data/ccqData.csv\")\n",
    "ccqDataHot = pd.read_csv(\"../data/ccqData2.csv\")"
   ]
  },
  {
   "cell_type": "code",
   "execution_count": 56,
   "id": "f4526c0d",
   "metadata": {},
   "outputs": [
    {
     "data": {
      "text/plain": [
       "(990, 8)"
      ]
     },
     "execution_count": 56,
     "metadata": {},
     "output_type": "execute_result"
    }
   ],
   "source": [
    "ccqDataNew.shape"
   ]
  },
  {
   "cell_type": "code",
   "execution_count": 57,
   "id": "fb8fcad2",
   "metadata": {},
   "outputs": [
    {
     "data": {
      "text/plain": [
       "(581, 8)"
      ]
     },
     "execution_count": 57,
     "metadata": {},
     "output_type": "execute_result"
    }
   ],
   "source": [
    "ccqDataHot.shape"
   ]
  },
  {
   "cell_type": "code",
   "execution_count": 58,
   "id": "17a1b4ef",
   "metadata": {},
   "outputs": [
    {
     "data": {
      "text/plain": [
       "(1571, 8)"
      ]
     },
     "execution_count": 58,
     "metadata": {},
     "output_type": "execute_result"
    }
   ],
   "source": [
    "ccqData = pd.concat([ccqDataHot, ccqDataNew])\n",
    "ccqData.shape"
   ]
  },
  {
   "cell_type": "code",
   "execution_count": 59,
   "id": "ff2c812f",
   "metadata": {},
   "outputs": [],
   "source": [
    "ccqData = ccqData.drop_duplicates(keep=False)"
   ]
  },
  {
   "cell_type": "code",
   "execution_count": 60,
   "id": "67553aa8",
   "metadata": {},
   "outputs": [
    {
     "data": {
      "text/plain": [
       "(1565, 8)"
      ]
     },
     "execution_count": 60,
     "metadata": {},
     "output_type": "execute_result"
    }
   ],
   "source": [
    "ccqData.shape"
   ]
  },
  {
   "cell_type": "code",
   "execution_count": 61,
   "id": "c10c7d31",
   "metadata": {},
   "outputs": [],
   "source": [
    "entriesCount.append(ccqData.shape[0])"
   ]
  },
  {
   "cell_type": "markdown",
   "id": "316da458",
   "metadata": {},
   "source": [
    "## Anime"
   ]
  },
  {
   "cell_type": "code",
   "execution_count": 62,
   "id": "7e08fc57",
   "metadata": {},
   "outputs": [],
   "source": [
    "animeDataNew = pd.read_csv(\"../data/animeData.csv\")\n",
    "animeDataNew2 = pd.read_csv(\"../data/animeData3.csv\")\n",
    "animeDataHot = pd.read_csv(\"../data/animeData2.csv\")"
   ]
  },
  {
   "cell_type": "code",
   "execution_count": 63,
   "id": "997633ff",
   "metadata": {},
   "outputs": [
    {
     "data": {
      "text/plain": [
       "(761, 8)"
      ]
     },
     "execution_count": 63,
     "metadata": {},
     "output_type": "execute_result"
    }
   ],
   "source": [
    "animeDataNew.shape"
   ]
  },
  {
   "cell_type": "code",
   "execution_count": 64,
   "id": "f7b957a5",
   "metadata": {},
   "outputs": [
    {
     "data": {
      "text/plain": [
       "(593, 8)"
      ]
     },
     "execution_count": 64,
     "metadata": {},
     "output_type": "execute_result"
    }
   ],
   "source": [
    "animeDataNew2.shape"
   ]
  },
  {
   "cell_type": "code",
   "execution_count": 65,
   "id": "6e88ee3a",
   "metadata": {
    "scrolled": true
   },
   "outputs": [
    {
     "data": {
      "text/plain": [
       "(194, 8)"
      ]
     },
     "execution_count": 65,
     "metadata": {},
     "output_type": "execute_result"
    }
   ],
   "source": [
    "animeDataHot.shape"
   ]
  },
  {
   "cell_type": "code",
   "execution_count": 66,
   "id": "7b7aa4f2",
   "metadata": {},
   "outputs": [
    {
     "data": {
      "text/plain": [
       "(1548, 8)"
      ]
     },
     "execution_count": 66,
     "metadata": {},
     "output_type": "execute_result"
    }
   ],
   "source": [
    "animeData = pd.concat([animeDataHot, animeDataNew, animeDataNew2])\n",
    "animeData.shape"
   ]
  },
  {
   "cell_type": "code",
   "execution_count": 67,
   "id": "cb65ce06",
   "metadata": {},
   "outputs": [],
   "source": [
    "animeData = animeData.drop_duplicates(keep=False)"
   ]
  },
  {
   "cell_type": "code",
   "execution_count": 68,
   "id": "1541177c",
   "metadata": {},
   "outputs": [
    {
     "data": {
      "text/plain": [
       "(1548, 8)"
      ]
     },
     "execution_count": 68,
     "metadata": {},
     "output_type": "execute_result"
    }
   ],
   "source": [
    "animeData.shape"
   ]
  },
  {
   "cell_type": "code",
   "execution_count": 69,
   "id": "15921917",
   "metadata": {},
   "outputs": [],
   "source": [
    "entriesCount.append(animeData.shape[0])"
   ]
  },
  {
   "cell_type": "markdown",
   "id": "3b40729a",
   "metadata": {},
   "source": [
    "## Explain Like I'm Five"
   ]
  },
  {
   "cell_type": "code",
   "execution_count": 70,
   "id": "9e2c7332",
   "metadata": {},
   "outputs": [],
   "source": [
    "elifDataNew = pd.read_csv(\"../data/elifData.csv\")\n",
    "elifDataNew2 = pd.read_csv(\"../data/elifData3.csv\")\n",
    "elifDataNew3 = pd.read_csv(\"../data/elifData4.csv\")\n",
    "elifDataHot = pd.read_csv(\"../data/elifData2.csv\")"
   ]
  },
  {
   "cell_type": "code",
   "execution_count": 71,
   "id": "05bc9ba6",
   "metadata": {
    "scrolled": true
   },
   "outputs": [
    {
     "data": {
      "text/plain": [
       "(588, 8)"
      ]
     },
     "execution_count": 71,
     "metadata": {},
     "output_type": "execute_result"
    }
   ],
   "source": [
    "elifDataNew.shape"
   ]
  },
  {
   "cell_type": "code",
   "execution_count": 72,
   "id": "46a97824",
   "metadata": {},
   "outputs": [
    {
     "data": {
      "text/plain": [
       "(589, 8)"
      ]
     },
     "execution_count": 72,
     "metadata": {},
     "output_type": "execute_result"
    }
   ],
   "source": [
    "elifDataNew2.shape"
   ]
  },
  {
   "cell_type": "code",
   "execution_count": 73,
   "id": "bd82cd96",
   "metadata": {},
   "outputs": [
    {
     "data": {
      "text/plain": [
       "(594, 8)"
      ]
     },
     "execution_count": 73,
     "metadata": {},
     "output_type": "execute_result"
    }
   ],
   "source": [
    "elifDataNew3.shape"
   ]
  },
  {
   "cell_type": "code",
   "execution_count": 74,
   "id": "22dbf13d",
   "metadata": {},
   "outputs": [
    {
     "data": {
      "text/plain": [
       "(316, 8)"
      ]
     },
     "execution_count": 74,
     "metadata": {},
     "output_type": "execute_result"
    }
   ],
   "source": [
    "elifDataHot.shape"
   ]
  },
  {
   "cell_type": "code",
   "execution_count": 75,
   "id": "7f45bdb2",
   "metadata": {},
   "outputs": [
    {
     "data": {
      "text/plain": [
       "(2087, 8)"
      ]
     },
     "execution_count": 75,
     "metadata": {},
     "output_type": "execute_result"
    }
   ],
   "source": [
    "elifData = pd.concat([elifDataHot, elifDataNew, elifDataNew2, elifDataNew3])\n",
    "elifData.shape"
   ]
  },
  {
   "cell_type": "code",
   "execution_count": 76,
   "id": "594cf435",
   "metadata": {},
   "outputs": [],
   "source": [
    "elifData = elifData.drop_duplicates(keep=False)"
   ]
  },
  {
   "cell_type": "code",
   "execution_count": 77,
   "id": "512f05aa",
   "metadata": {},
   "outputs": [
    {
     "data": {
      "text/plain": [
       "(2077, 8)"
      ]
     },
     "execution_count": 77,
     "metadata": {},
     "output_type": "execute_result"
    }
   ],
   "source": [
    "elifData.shape"
   ]
  },
  {
   "cell_type": "code",
   "execution_count": 78,
   "id": "e4e90a63",
   "metadata": {},
   "outputs": [],
   "source": [
    "entriesCount.append(elifData.shape[0])"
   ]
  },
  {
   "cell_type": "markdown",
   "id": "c2f73244",
   "metadata": {},
   "source": [
    "## College"
   ]
  },
  {
   "cell_type": "code",
   "execution_count": 79,
   "id": "a828d90c",
   "metadata": {},
   "outputs": [],
   "source": [
    "collegeDataNew = pd.read_csv(\"../data/collegeData.csv\")\n",
    "collegeDataHot = pd.read_csv(\"../data/collegeData2.csv\")"
   ]
  },
  {
   "cell_type": "code",
   "execution_count": 80,
   "id": "dcb9532e",
   "metadata": {},
   "outputs": [
    {
     "data": {
      "text/plain": [
       "(934, 8)"
      ]
     },
     "execution_count": 80,
     "metadata": {},
     "output_type": "execute_result"
    }
   ],
   "source": [
    "collegeDataNew.shape"
   ]
  },
  {
   "cell_type": "code",
   "execution_count": 81,
   "id": "88eea63d",
   "metadata": {},
   "outputs": [
    {
     "data": {
      "text/plain": [
       "(749, 8)"
      ]
     },
     "execution_count": 81,
     "metadata": {},
     "output_type": "execute_result"
    }
   ],
   "source": [
    "collegeDataHot.shape"
   ]
  },
  {
   "cell_type": "code",
   "execution_count": 82,
   "id": "5277f7e9",
   "metadata": {},
   "outputs": [
    {
     "data": {
      "text/plain": [
       "(1683, 8)"
      ]
     },
     "execution_count": 82,
     "metadata": {},
     "output_type": "execute_result"
    }
   ],
   "source": [
    "collegeData = pd.concat([collegeDataHot, collegeDataNew])\n",
    "collegeData.shape"
   ]
  },
  {
   "cell_type": "code",
   "execution_count": 83,
   "id": "f30c6c43",
   "metadata": {},
   "outputs": [],
   "source": [
    "collegeData = collegeData.drop_duplicates(keep=False)"
   ]
  },
  {
   "cell_type": "code",
   "execution_count": 84,
   "id": "8000154d",
   "metadata": {},
   "outputs": [
    {
     "data": {
      "text/plain": [
       "(1683, 8)"
      ]
     },
     "execution_count": 84,
     "metadata": {},
     "output_type": "execute_result"
    }
   ],
   "source": [
    "collegeData.shape"
   ]
  },
  {
   "cell_type": "code",
   "execution_count": 85,
   "id": "e7d89b4a",
   "metadata": {},
   "outputs": [],
   "source": [
    "entriesCount.append(collegeData.shape[0])"
   ]
  },
  {
   "cell_type": "markdown",
   "id": "11e9604d",
   "metadata": {},
   "source": [
    "## NBA"
   ]
  },
  {
   "cell_type": "code",
   "execution_count": 86,
   "id": "358ade2b",
   "metadata": {},
   "outputs": [],
   "source": [
    "sportsDataNew = pd.read_csv(\"../data/sportsData1.csv\")\n",
    "sportsDataNew2 = pd.read_csv(\"../data/sportsData3.csv\")\n",
    "sportsDataHot = pd.read_csv(\"../data/sportsData2.csv\")"
   ]
  },
  {
   "cell_type": "code",
   "execution_count": 87,
   "id": "602beafc",
   "metadata": {
    "scrolled": true
   },
   "outputs": [
    {
     "data": {
      "text/plain": [
       "(649, 8)"
      ]
     },
     "execution_count": 87,
     "metadata": {},
     "output_type": "execute_result"
    }
   ],
   "source": [
    "sportsDataNew.shape"
   ]
  },
  {
   "cell_type": "code",
   "execution_count": 88,
   "id": "509e42c4",
   "metadata": {},
   "outputs": [
    {
     "data": {
      "text/plain": [
       "(511, 8)"
      ]
     },
     "execution_count": 88,
     "metadata": {},
     "output_type": "execute_result"
    }
   ],
   "source": [
    "sportsDataHot.shape"
   ]
  },
  {
   "cell_type": "code",
   "execution_count": 89,
   "id": "5e40f0bb",
   "metadata": {},
   "outputs": [
    {
     "data": {
      "text/plain": [
       "(649, 8)"
      ]
     },
     "execution_count": 89,
     "metadata": {},
     "output_type": "execute_result"
    }
   ],
   "source": [
    "sportsDataNew2.shape"
   ]
  },
  {
   "cell_type": "code",
   "execution_count": 90,
   "id": "ddbe83d4",
   "metadata": {},
   "outputs": [
    {
     "data": {
      "text/plain": [
       "(1809, 8)"
      ]
     },
     "execution_count": 90,
     "metadata": {},
     "output_type": "execute_result"
    }
   ],
   "source": [
    "sportsData = pd.concat([sportsDataHot, sportsDataNew, sportsDataNew2])\n",
    "sportsData.shape"
   ]
  },
  {
   "cell_type": "code",
   "execution_count": 91,
   "id": "8dc7f045",
   "metadata": {},
   "outputs": [],
   "source": [
    "sportsData = sportsData.drop_duplicates(keep=False)"
   ]
  },
  {
   "cell_type": "code",
   "execution_count": 92,
   "id": "8748f62d",
   "metadata": {},
   "outputs": [
    {
     "data": {
      "text/plain": [
       "(1809, 8)"
      ]
     },
     "execution_count": 92,
     "metadata": {},
     "output_type": "execute_result"
    }
   ],
   "source": [
    "sportsData.shape"
   ]
  },
  {
   "cell_type": "code",
   "execution_count": 93,
   "id": "d1ca8e85",
   "metadata": {},
   "outputs": [],
   "source": [
    "entriesCount.append(sportsData.shape[0])"
   ]
  },
  {
   "cell_type": "markdown",
   "id": "9b215df2",
   "metadata": {},
   "source": [
    "## Cryptocurrency"
   ]
  },
  {
   "cell_type": "code",
   "execution_count": 94,
   "id": "8c309329",
   "metadata": {},
   "outputs": [],
   "source": [
    "cryptoDataNew = pd.read_csv(\"../data/cryptoData.csv\")\n",
    "cryptoDataNew2 = pd.read_csv(\"../data/cryptoData3.csv\")\n",
    "cryptoDataNew3 = pd.read_csv(\"../data/cryptoData4.csv\")\n",
    "cryptoDataHot = pd.read_csv(\"../data/cryptoData2.csv\")"
   ]
  },
  {
   "cell_type": "code",
   "execution_count": 95,
   "id": "09f58ff3",
   "metadata": {},
   "outputs": [
    {
     "data": {
      "text/plain": [
       "(323, 8)"
      ]
     },
     "execution_count": 95,
     "metadata": {},
     "output_type": "execute_result"
    }
   ],
   "source": [
    "cryptoDataNew.shape"
   ]
  },
  {
   "cell_type": "code",
   "execution_count": 96,
   "id": "66bbee60",
   "metadata": {},
   "outputs": [
    {
     "data": {
      "text/plain": [
       "(309, 8)"
      ]
     },
     "execution_count": 96,
     "metadata": {},
     "output_type": "execute_result"
    }
   ],
   "source": [
    "cryptoDataHot.shape"
   ]
  },
  {
   "cell_type": "code",
   "execution_count": 97,
   "id": "a093dba5",
   "metadata": {},
   "outputs": [
    {
     "data": {
      "text/plain": [
       "(445, 8)"
      ]
     },
     "execution_count": 97,
     "metadata": {},
     "output_type": "execute_result"
    }
   ],
   "source": [
    "cryptoDataNew2.shape"
   ]
  },
  {
   "cell_type": "code",
   "execution_count": 98,
   "id": "2b6acdbb",
   "metadata": {},
   "outputs": [
    {
     "data": {
      "text/plain": [
       "(449, 8)"
      ]
     },
     "execution_count": 98,
     "metadata": {},
     "output_type": "execute_result"
    }
   ],
   "source": [
    "cryptoDataNew3.shape"
   ]
  },
  {
   "cell_type": "code",
   "execution_count": 99,
   "id": "33d99605",
   "metadata": {},
   "outputs": [
    {
     "data": {
      "text/plain": [
       "(1526, 8)"
      ]
     },
     "execution_count": 99,
     "metadata": {},
     "output_type": "execute_result"
    }
   ],
   "source": [
    "cryptoData = pd.concat([cryptoDataHot, cryptoDataNew, cryptoDataNew2, cryptoDataNew3])\n",
    "cryptoData.shape"
   ]
  },
  {
   "cell_type": "code",
   "execution_count": 100,
   "id": "15e809a0",
   "metadata": {},
   "outputs": [],
   "source": [
    "cryptoData = cryptoData.drop_duplicates(keep=False)"
   ]
  },
  {
   "cell_type": "code",
   "execution_count": 101,
   "id": "93addb15",
   "metadata": {},
   "outputs": [
    {
     "data": {
      "text/plain": [
       "(1526, 8)"
      ]
     },
     "execution_count": 101,
     "metadata": {},
     "output_type": "execute_result"
    }
   ],
   "source": [
    "cryptoData.shape"
   ]
  },
  {
   "cell_type": "code",
   "execution_count": 102,
   "id": "f9a42a98",
   "metadata": {},
   "outputs": [],
   "source": [
    "entriesCount.append(cryptoData.shape[0])"
   ]
  },
  {
   "cell_type": "markdown",
   "id": "51a9821e",
   "metadata": {},
   "source": [
    "## Lawyer Talk"
   ]
  },
  {
   "cell_type": "code",
   "execution_count": 103,
   "id": "dc007ef6",
   "metadata": {},
   "outputs": [],
   "source": [
    "lawyerDataNew = pd.read_csv(\"../data/lawyerData.csv\")\n",
    "lawyerDataHot = pd.read_csv(\"../data/lawyerData2.csv\")"
   ]
  },
  {
   "cell_type": "code",
   "execution_count": 104,
   "id": "448a3005",
   "metadata": {},
   "outputs": [
    {
     "data": {
      "text/plain": [
       "(719, 8)"
      ]
     },
     "execution_count": 104,
     "metadata": {},
     "output_type": "execute_result"
    }
   ],
   "source": [
    "lawyerDataNew.shape"
   ]
  },
  {
   "cell_type": "code",
   "execution_count": 105,
   "id": "7dc2f2f0",
   "metadata": {},
   "outputs": [
    {
     "data": {
      "text/plain": [
       "(799, 8)"
      ]
     },
     "execution_count": 105,
     "metadata": {},
     "output_type": "execute_result"
    }
   ],
   "source": [
    "lawyerDataHot.shape"
   ]
  },
  {
   "cell_type": "code",
   "execution_count": 106,
   "id": "e7e0c558",
   "metadata": {},
   "outputs": [
    {
     "data": {
      "text/plain": [
       "(1518, 8)"
      ]
     },
     "execution_count": 106,
     "metadata": {},
     "output_type": "execute_result"
    }
   ],
   "source": [
    "lawyerData = pd.concat([lawyerDataHot, lawyerDataNew])\n",
    "lawyerData.shape"
   ]
  },
  {
   "cell_type": "code",
   "execution_count": 107,
   "id": "a9242bf8",
   "metadata": {},
   "outputs": [],
   "source": [
    "lawyerData = lawyerData.drop_duplicates(keep=False)"
   ]
  },
  {
   "cell_type": "code",
   "execution_count": 108,
   "id": "dd9430a2",
   "metadata": {},
   "outputs": [
    {
     "data": {
      "text/plain": [
       "(1518, 8)"
      ]
     },
     "execution_count": 108,
     "metadata": {},
     "output_type": "execute_result"
    }
   ],
   "source": [
    "lawyerData.shape"
   ]
  },
  {
   "cell_type": "code",
   "execution_count": 109,
   "id": "2ce7b4ec",
   "metadata": {},
   "outputs": [],
   "source": [
    "entriesCount.append(lawyerData.shape[0])"
   ]
  },
  {
   "cell_type": "markdown",
   "id": "bce0a9ad",
   "metadata": {},
   "source": [
    "## Gaming"
   ]
  },
  {
   "cell_type": "code",
   "execution_count": 110,
   "id": "0b13a21a",
   "metadata": {},
   "outputs": [],
   "source": [
    "gamingDataNew = pd.read_csv(\"../data/gamingData.csv\")\n",
    "gamingDataNew2 = pd.read_csv(\"../data/gamingData3.csv\")\n",
    "gamingDataNew3 = pd.read_csv(\"../data/gamingData4.csv\")\n",
    "gamingDataNew4 = pd.read_csv(\"../data/gamingData5.csv\")\n",
    "gamingDataHot = pd.read_csv(\"../data/gamingData2.csv\")\n",
    "gamingDataHot2 = pd.read_csv(\"../data/gamingData6.csv\")"
   ]
  },
  {
   "cell_type": "code",
   "execution_count": 111,
   "id": "ee17f426",
   "metadata": {},
   "outputs": [
    {
     "data": {
      "text/plain": [
       "(463, 8)"
      ]
     },
     "execution_count": 111,
     "metadata": {},
     "output_type": "execute_result"
    }
   ],
   "source": [
    "gamingDataNew.shape"
   ]
  },
  {
   "cell_type": "code",
   "execution_count": 112,
   "id": "4601b171",
   "metadata": {},
   "outputs": [
    {
     "data": {
      "text/plain": [
       "(368, 8)"
      ]
     },
     "execution_count": 112,
     "metadata": {},
     "output_type": "execute_result"
    }
   ],
   "source": [
    "gamingDataNew2.shape"
   ]
  },
  {
   "cell_type": "code",
   "execution_count": 113,
   "id": "eb204e48",
   "metadata": {},
   "outputs": [
    {
     "data": {
      "text/plain": [
       "(368, 8)"
      ]
     },
     "execution_count": 113,
     "metadata": {},
     "output_type": "execute_result"
    }
   ],
   "source": [
    "gamingDataNew3.shape"
   ]
  },
  {
   "cell_type": "code",
   "execution_count": 114,
   "id": "59cb439c",
   "metadata": {},
   "outputs": [
    {
     "data": {
      "text/plain": [
       "(371, 8)"
      ]
     },
     "execution_count": 114,
     "metadata": {},
     "output_type": "execute_result"
    }
   ],
   "source": [
    "gamingDataNew4.shape"
   ]
  },
  {
   "cell_type": "code",
   "execution_count": 115,
   "id": "3f14ba62",
   "metadata": {},
   "outputs": [
    {
     "data": {
      "text/plain": [
       "(89, 8)"
      ]
     },
     "execution_count": 115,
     "metadata": {},
     "output_type": "execute_result"
    }
   ],
   "source": [
    "gamingDataHot.shape"
   ]
  },
  {
   "cell_type": "code",
   "execution_count": 116,
   "id": "a3481317",
   "metadata": {},
   "outputs": [
    {
     "data": {
      "text/plain": [
       "(1742, 8)"
      ]
     },
     "execution_count": 116,
     "metadata": {},
     "output_type": "execute_result"
    }
   ],
   "source": [
    "gamingData = pd.concat([gamingDataHot, gamingDataHot2, gamingDataNew, gamingDataNew2, gamingDataNew3, gamingDataNew4])\n",
    "gamingData.shape"
   ]
  },
  {
   "cell_type": "code",
   "execution_count": 117,
   "id": "dd8c8655",
   "metadata": {},
   "outputs": [],
   "source": [
    "gamingData = gamingData.drop_duplicates(keep=False)"
   ]
  },
  {
   "cell_type": "code",
   "execution_count": 118,
   "id": "7d3c86f1",
   "metadata": {},
   "outputs": [
    {
     "data": {
      "text/plain": [
       "(1542, 8)"
      ]
     },
     "execution_count": 118,
     "metadata": {},
     "output_type": "execute_result"
    }
   ],
   "source": [
    "gamingData.shape"
   ]
  },
  {
   "cell_type": "code",
   "execution_count": 119,
   "id": "e6992993",
   "metadata": {},
   "outputs": [],
   "source": [
    "entriesCount.append(gamingData.shape[0])"
   ]
  },
  {
   "cell_type": "markdown",
   "id": "99be9d46",
   "metadata": {},
   "source": [
    "### Notes\n",
    "\n",
    "The reason why some of the subreddits have multiple csv files, instead of just 2-3, is because the initial query did not return enough values. As discussed below, I decided that all of the final dataframes will have 1500 rows. However, some of the files did not have enough for 1500 rows which required me to go back into the dataCollection notebook and create more csv files with more posts. gamingData gave me the most trouble, which I hypothesize is due to many of the posts on that subreddit only have images or videos in the main post."
   ]
  },
  {
   "cell_type": "markdown",
   "id": "f4914b02",
   "metadata": {},
   "source": [
    "## Calculations"
   ]
  },
  {
   "cell_type": "code",
   "execution_count": 120,
   "id": "8cc08bd3",
   "metadata": {},
   "outputs": [
    {
     "data": {
      "text/plain": [
       "[1962,\n",
       " 1670,\n",
       " 1732,\n",
       " 1579,\n",
       " 1900,\n",
       " 1775,\n",
       " 2395,\n",
       " 1565,\n",
       " 1548,\n",
       " 2077,\n",
       " 1683,\n",
       " 1809,\n",
       " 1526,\n",
       " 1518,\n",
       " 1542]"
      ]
     },
     "execution_count": 120,
     "metadata": {},
     "output_type": "execute_result"
    }
   ],
   "source": [
    "# Show all of the counts\n",
    "entriesCount"
   ]
  },
  {
   "cell_type": "code",
   "execution_count": 121,
   "id": "44f4f9a5",
   "metadata": {},
   "outputs": [
    {
     "data": {
      "text/plain": [
       "15"
      ]
     },
     "execution_count": 121,
     "metadata": {},
     "output_type": "execute_result"
    }
   ],
   "source": [
    "# Ensuring that all 15 subreddits are in the list\n",
    "len(entriesCount)"
   ]
  },
  {
   "cell_type": "code",
   "execution_count": 122,
   "id": "a14da87e",
   "metadata": {},
   "outputs": [
    {
     "data": {
      "text/plain": [
       "1518"
      ]
     },
     "execution_count": 122,
     "metadata": {},
     "output_type": "execute_result"
    }
   ],
   "source": [
    "# Finding the minimum to see where all of the dataframes can be cut off to be the same size\n",
    "min(entriesCount)"
   ]
  },
  {
   "cell_type": "markdown",
   "id": "8f4962ed",
   "metadata": {},
   "source": [
    "## Dropping Entries"
   ]
  },
  {
   "cell_type": "markdown",
   "id": "aab9e944",
   "metadata": {},
   "source": [
    "In the part, I drop posts from the dataframes so that they are all 1500 rows."
   ]
  },
  {
   "cell_type": "code",
   "execution_count": 123,
   "id": "ba61a336",
   "metadata": {},
   "outputs": [],
   "source": [
    "legalData = legalData[:1500]"
   ]
  },
  {
   "cell_type": "code",
   "execution_count": 124,
   "id": "4eb9cb93",
   "metadata": {},
   "outputs": [],
   "source": [
    "adData = adData[:1500]"
   ]
  },
  {
   "cell_type": "code",
   "execution_count": 125,
   "id": "e566fce5",
   "metadata": {},
   "outputs": [],
   "source": [
    "medData = medData[:1500]"
   ]
  },
  {
   "cell_type": "code",
   "execution_count": 126,
   "id": "4244035c",
   "metadata": {},
   "outputs": [],
   "source": [
    "hsData = hsData[:1500]"
   ]
  },
  {
   "cell_type": "code",
   "execution_count": 127,
   "id": "3e3d9c8b",
   "metadata": {},
   "outputs": [],
   "source": [
    "bwayData = bwayData[:1500]"
   ]
  },
  {
   "cell_type": "code",
   "execution_count": 128,
   "id": "9f9419d1",
   "metadata": {},
   "outputs": [],
   "source": [
    "pghData = pghData[:1500]"
   ]
  },
  {
   "cell_type": "code",
   "execution_count": 129,
   "id": "90b8abaa",
   "metadata": {},
   "outputs": [],
   "source": [
    "rantData = rantData[:1500]"
   ]
  },
  {
   "cell_type": "code",
   "execution_count": 130,
   "id": "eed093f9",
   "metadata": {},
   "outputs": [],
   "source": [
    "ccqData = ccqData[:1500]"
   ]
  },
  {
   "cell_type": "code",
   "execution_count": 131,
   "id": "de099bb3",
   "metadata": {},
   "outputs": [],
   "source": [
    "animeData = animeData[:1500]"
   ]
  },
  {
   "cell_type": "code",
   "execution_count": 132,
   "id": "0a4811fe",
   "metadata": {},
   "outputs": [],
   "source": [
    "elifData = elifData[:1500]"
   ]
  },
  {
   "cell_type": "code",
   "execution_count": 133,
   "id": "f92f8688",
   "metadata": {},
   "outputs": [],
   "source": [
    "collegeData = collegeData[:1500]"
   ]
  },
  {
   "cell_type": "code",
   "execution_count": 134,
   "id": "27fbe23f",
   "metadata": {},
   "outputs": [],
   "source": [
    "sportsData = sportsData[:1500]"
   ]
  },
  {
   "cell_type": "code",
   "execution_count": 135,
   "id": "f6fdd207",
   "metadata": {},
   "outputs": [],
   "source": [
    "cryptoData = cryptoData[:1500]"
   ]
  },
  {
   "cell_type": "code",
   "execution_count": 136,
   "id": "bf4ba628",
   "metadata": {},
   "outputs": [],
   "source": [
    "lawyerData = lawyerData[:1500]"
   ]
  },
  {
   "cell_type": "code",
   "execution_count": 137,
   "id": "d4e407ee",
   "metadata": {},
   "outputs": [],
   "source": [
    "gamingData = gamingData[:1500]"
   ]
  },
  {
   "cell_type": "markdown",
   "id": "02ac568c",
   "metadata": {},
   "source": [
    "## Cleaning Up"
   ]
  },
  {
   "cell_type": "markdown",
   "id": "56e92ac9",
   "metadata": {},
   "source": [
    "While reading in the data, some weird column was added. I will be removing this column from all of the dataframes."
   ]
  },
  {
   "cell_type": "code",
   "execution_count": 138,
   "id": "b71dc6a9",
   "metadata": {},
   "outputs": [],
   "source": [
    "gamingData = gamingData.drop('Unnamed: 0', axis=1)"
   ]
  },
  {
   "cell_type": "code",
   "execution_count": 139,
   "id": "4c2dd622",
   "metadata": {},
   "outputs": [],
   "source": [
    "laywerData = lawyerData.drop('Unnamed: 0', axis=1)"
   ]
  },
  {
   "cell_type": "code",
   "execution_count": 140,
   "id": "a8fcf688",
   "metadata": {},
   "outputs": [],
   "source": [
    "cryptoData = cryptoData.drop('Unnamed: 0', axis=1)"
   ]
  },
  {
   "cell_type": "code",
   "execution_count": 141,
   "id": "9e033659",
   "metadata": {},
   "outputs": [],
   "source": [
    "sportsData = sportsData.drop('Unnamed: 0', axis=1)"
   ]
  },
  {
   "cell_type": "code",
   "execution_count": 142,
   "id": "65ebf366",
   "metadata": {},
   "outputs": [],
   "source": [
    "collegeData = collegeData.drop('Unnamed: 0', axis=1)"
   ]
  },
  {
   "cell_type": "code",
   "execution_count": 143,
   "id": "12096dc2",
   "metadata": {},
   "outputs": [],
   "source": [
    "elifData = elifData.drop('Unnamed: 0', axis=1)"
   ]
  },
  {
   "cell_type": "code",
   "execution_count": 144,
   "id": "2de5ae69",
   "metadata": {},
   "outputs": [],
   "source": [
    "animeData = animeData.drop('Unnamed: 0', axis=1)"
   ]
  },
  {
   "cell_type": "code",
   "execution_count": 145,
   "id": "66d5539f",
   "metadata": {},
   "outputs": [],
   "source": [
    "ccqData = ccqData.drop('Unnamed: 0', axis=1)"
   ]
  },
  {
   "cell_type": "code",
   "execution_count": 146,
   "id": "182decf2",
   "metadata": {},
   "outputs": [],
   "source": [
    "rantData = rantData.drop('Unnamed: 0', axis=1)"
   ]
  },
  {
   "cell_type": "code",
   "execution_count": 147,
   "id": "8266dfb7",
   "metadata": {},
   "outputs": [],
   "source": [
    "pghData = pghData.drop('Unnamed: 0', axis=1)"
   ]
  },
  {
   "cell_type": "code",
   "execution_count": 148,
   "id": "f8c5dc8c",
   "metadata": {},
   "outputs": [],
   "source": [
    "bwayData = bwayData.drop('Unnamed: 0', axis=1)"
   ]
  },
  {
   "cell_type": "code",
   "execution_count": 149,
   "id": "cbdeee40",
   "metadata": {},
   "outputs": [],
   "source": [
    "hsData = hsData.drop('Unnamed: 0', axis=1)"
   ]
  },
  {
   "cell_type": "code",
   "execution_count": 150,
   "id": "f82d98ee",
   "metadata": {},
   "outputs": [],
   "source": [
    "medData = medData.drop('Unnamed: 0', axis=1)"
   ]
  },
  {
   "cell_type": "code",
   "execution_count": 151,
   "id": "5c4ecdda",
   "metadata": {},
   "outputs": [],
   "source": [
    "adData = adData.drop('Unnamed: 0', axis=1)"
   ]
  },
  {
   "cell_type": "code",
   "execution_count": 152,
   "id": "51980c1d",
   "metadata": {},
   "outputs": [],
   "source": [
    "legalData = legalData.drop('Unnamed: 0', axis=1)"
   ]
  },
  {
   "cell_type": "markdown",
   "id": "f10748dc",
   "metadata": {},
   "source": [
    "## Final Dataframes"
   ]
  },
  {
   "cell_type": "markdown",
   "id": "b2596767",
   "metadata": {},
   "source": [
    "Show all of the dataframes, so that all of the columns and size looks correct."
   ]
  },
  {
   "cell_type": "code",
   "execution_count": 153,
   "id": "abb253fb",
   "metadata": {},
   "outputs": [
    {
     "data": {
      "text/html": [
       "<div>\n",
       "<style scoped>\n",
       "    .dataframe tbody tr th:only-of-type {\n",
       "        vertical-align: middle;\n",
       "    }\n",
       "\n",
       "    .dataframe tbody tr th {\n",
       "        vertical-align: top;\n",
       "    }\n",
       "\n",
       "    .dataframe thead th {\n",
       "        text-align: right;\n",
       "    }\n",
       "</style>\n",
       "<table border=\"1\" class=\"dataframe\">\n",
       "  <thead>\n",
       "    <tr style=\"text-align: right;\">\n",
       "      <th></th>\n",
       "      <th>Title</th>\n",
       "      <th>Id</th>\n",
       "      <th>Text</th>\n",
       "      <th>Author</th>\n",
       "      <th>Number of Comments</th>\n",
       "      <th>Number of Upvotes</th>\n",
       "      <th>Ratio of Upvotes</th>\n",
       "    </tr>\n",
       "  </thead>\n",
       "  <tbody>\n",
       "    <tr>\n",
       "      <th>42</th>\n",
       "      <td>Does anyone even like motion blur?</td>\n",
       "      <td>11u1930</td>\n",
       "      <td>Why is it the default? I do not know a single ...</td>\n",
       "      <td>postALEXpress</td>\n",
       "      <td>97</td>\n",
       "      <td>44</td>\n",
       "      <td>0.75</td>\n",
       "    </tr>\n",
       "    <tr>\n",
       "      <th>131</th>\n",
       "      <td>Dom decided to take a vacation</td>\n",
       "      <td>11tg2kk</td>\n",
       "      <td>I decided to replay the gears of War series,  ...</td>\n",
       "      <td>herpderpomygerp</td>\n",
       "      <td>3</td>\n",
       "      <td>0</td>\n",
       "      <td>0.42</td>\n",
       "    </tr>\n",
       "    <tr>\n",
       "      <th>103</th>\n",
       "      <td>What are some good open eorld driving games to...</td>\n",
       "      <td>11tyztm</td>\n",
       "      <td>Apart frim FH4 and FH5.</td>\n",
       "      <td>isti44</td>\n",
       "      <td>13</td>\n",
       "      <td>1</td>\n",
       "      <td>0.54</td>\n",
       "    </tr>\n",
       "    <tr>\n",
       "      <th>280</th>\n",
       "      <td>Searching for: a game that uses the \"New Game ...</td>\n",
       "      <td>11qiun9</td>\n",
       "      <td>Hi people! I was thinking on playing a game th...</td>\n",
       "      <td>NastyBastard2000</td>\n",
       "      <td>23</td>\n",
       "      <td>6</td>\n",
       "      <td>0.63</td>\n",
       "    </tr>\n",
       "    <tr>\n",
       "      <th>295</th>\n",
       "      <td>Need some recommendations...</td>\n",
       "      <td>11pw0p0</td>\n",
       "      <td>Anyone know of any good space shooters, or gam...</td>\n",
       "      <td>OddUnion6902</td>\n",
       "      <td>19</td>\n",
       "      <td>8</td>\n",
       "      <td>0.84</td>\n",
       "    </tr>\n",
       "    <tr>\n",
       "      <th>66</th>\n",
       "      <td>PS5</td>\n",
       "      <td>11uovkv</td>\n",
       "      <td>I've been gifted a PS5 for my birthday 😀 and w...</td>\n",
       "      <td>Wulfbayne1066</td>\n",
       "      <td>5</td>\n",
       "      <td>0</td>\n",
       "      <td>0.35</td>\n",
       "    </tr>\n",
       "    <tr>\n",
       "      <th>79</th>\n",
       "      <td>Alien: Isolation - On sale for $7.99 and I’m p...</td>\n",
       "      <td>11uo35i</td>\n",
       "      <td>Any opinions will be welcomed.</td>\n",
       "      <td>X---VIPER---X</td>\n",
       "      <td>132</td>\n",
       "      <td>61</td>\n",
       "      <td>0.77</td>\n",
       "    </tr>\n",
       "    <tr>\n",
       "      <th>3</th>\n",
       "      <td>[OC] MMO Region name generator</td>\n",
       "      <td>11w43sl</td>\n",
       "      <td>[https://codesandbox.io/s/mmo-region-generator...</td>\n",
       "      <td>isospeedrix</td>\n",
       "      <td>0</td>\n",
       "      <td>2</td>\n",
       "      <td>0.67</td>\n",
       "    </tr>\n",
       "    <tr>\n",
       "      <th>254</th>\n",
       "      <td>Is offline single player games dying because o...</td>\n",
       "      <td>11qlrs7</td>\n",
       "      <td>So is offline single player games dying and wi...</td>\n",
       "      <td>Obvious_Ad5912</td>\n",
       "      <td>24</td>\n",
       "      <td>0</td>\n",
       "      <td>0.20</td>\n",
       "    </tr>\n",
       "    <tr>\n",
       "      <th>127</th>\n",
       "      <td>Free Talk Friday!</td>\n",
       "      <td>11tip8y</td>\n",
       "      <td>Use this post to discuss life, post memes, or ...</td>\n",
       "      <td>AutoModerator</td>\n",
       "      <td>24</td>\n",
       "      <td>8</td>\n",
       "      <td>0.73</td>\n",
       "    </tr>\n",
       "  </tbody>\n",
       "</table>\n",
       "</div>"
      ],
      "text/plain": [
       "                                                 Title       Id  \\\n",
       "42                  Does anyone even like motion blur?  11u1930   \n",
       "131                     Dom decided to take a vacation  11tg2kk   \n",
       "103  What are some good open eorld driving games to...  11tyztm   \n",
       "280  Searching for: a game that uses the \"New Game ...  11qiun9   \n",
       "295                       Need some recommendations...  11pw0p0   \n",
       "66                                                 PS5  11uovkv   \n",
       "79   Alien: Isolation - On sale for $7.99 and I’m p...  11uo35i   \n",
       "3                       [OC] MMO Region name generator  11w43sl   \n",
       "254  Is offline single player games dying because o...  11qlrs7   \n",
       "127                                  Free Talk Friday!  11tip8y   \n",
       "\n",
       "                                                  Text            Author  \\\n",
       "42   Why is it the default? I do not know a single ...     postALEXpress   \n",
       "131  I decided to replay the gears of War series,  ...   herpderpomygerp   \n",
       "103                            Apart frim FH4 and FH5.            isti44   \n",
       "280  Hi people! I was thinking on playing a game th...  NastyBastard2000   \n",
       "295  Anyone know of any good space shooters, or gam...      OddUnion6902   \n",
       "66   I've been gifted a PS5 for my birthday 😀 and w...     Wulfbayne1066   \n",
       "79                      Any opinions will be welcomed.     X---VIPER---X   \n",
       "3    [https://codesandbox.io/s/mmo-region-generator...       isospeedrix   \n",
       "254  So is offline single player games dying and wi...    Obvious_Ad5912   \n",
       "127  Use this post to discuss life, post memes, or ...     AutoModerator   \n",
       "\n",
       "     Number of Comments  Number of Upvotes  Ratio of Upvotes  \n",
       "42                   97                 44              0.75  \n",
       "131                   3                  0              0.42  \n",
       "103                  13                  1              0.54  \n",
       "280                  23                  6              0.63  \n",
       "295                  19                  8              0.84  \n",
       "66                    5                  0              0.35  \n",
       "79                  132                 61              0.77  \n",
       "3                     0                  2              0.67  \n",
       "254                  24                  0              0.20  \n",
       "127                  24                  8              0.73  "
      ]
     },
     "execution_count": 153,
     "metadata": {},
     "output_type": "execute_result"
    }
   ],
   "source": [
    "gamingData.sample(10)"
   ]
  },
  {
   "cell_type": "code",
   "execution_count": 154,
   "id": "9caa5208",
   "metadata": {},
   "outputs": [
    {
     "data": {
      "text/html": [
       "<div>\n",
       "<style scoped>\n",
       "    .dataframe tbody tr th:only-of-type {\n",
       "        vertical-align: middle;\n",
       "    }\n",
       "\n",
       "    .dataframe tbody tr th {\n",
       "        vertical-align: top;\n",
       "    }\n",
       "\n",
       "    .dataframe thead th {\n",
       "        text-align: right;\n",
       "    }\n",
       "</style>\n",
       "<table border=\"1\" class=\"dataframe\">\n",
       "  <thead>\n",
       "    <tr style=\"text-align: right;\">\n",
       "      <th></th>\n",
       "      <th>Title</th>\n",
       "      <th>Id</th>\n",
       "      <th>Text</th>\n",
       "      <th>Author</th>\n",
       "      <th>Number of Comments</th>\n",
       "      <th>Number of Upvotes</th>\n",
       "      <th>Ratio of Upvotes</th>\n",
       "    </tr>\n",
       "  </thead>\n",
       "  <tbody>\n",
       "    <tr>\n",
       "      <th>98</th>\n",
       "      <td>Judge Says This In Hearing</td>\n",
       "      <td>112v7lu</td>\n",
       "      <td>I HAIL FROM THE GREAT STATE OF GEORGIA!\\n\\n\\nO...</td>\n",
       "      <td>Madre-says</td>\n",
       "      <td>34</td>\n",
       "      <td>17</td>\n",
       "      <td>0.73</td>\n",
       "    </tr>\n",
       "    <tr>\n",
       "      <th>600</th>\n",
       "      <td>Stay or Move On</td>\n",
       "      <td>10fbzbg</td>\n",
       "      <td>\\n\\nI am an claims associate at a medium size...</td>\n",
       "      <td>Culturalistic</td>\n",
       "      <td>7</td>\n",
       "      <td>3</td>\n",
       "      <td>0.71</td>\n",
       "    </tr>\n",
       "    <tr>\n",
       "      <th>449</th>\n",
       "      <td>Am I screwed?</td>\n",
       "      <td>107734i</td>\n",
       "      <td>3.8 GPA graduating. 159 as my only LSAT taken....</td>\n",
       "      <td>msteel2015</td>\n",
       "      <td>15</td>\n",
       "      <td>0</td>\n",
       "      <td>0.22</td>\n",
       "    </tr>\n",
       "    <tr>\n",
       "      <th>649</th>\n",
       "      <td>What would you say about an attorney who has o...</td>\n",
       "      <td>10a9g9q</td>\n",
       "      <td>Upd. Just checking if there would be a recomme...</td>\n",
       "      <td>Erinrin13</td>\n",
       "      <td>53</td>\n",
       "      <td>16</td>\n",
       "      <td>0.68</td>\n",
       "    </tr>\n",
       "    <tr>\n",
       "      <th>327</th>\n",
       "      <td>Voluminous Records on Appeal</td>\n",
       "      <td>116lnme</td>\n",
       "      <td>I am in a position where many of my cases' rec...</td>\n",
       "      <td>terwen1400</td>\n",
       "      <td>3</td>\n",
       "      <td>6</td>\n",
       "      <td>0.88</td>\n",
       "    </tr>\n",
       "    <tr>\n",
       "      <th>695</th>\n",
       "      <td>Anyone use an iPad for your work</td>\n",
       "      <td>106zj6d</td>\n",
       "      <td>Any attorneys here using iPads for their work?...</td>\n",
       "      <td>BLParks12</td>\n",
       "      <td>19</td>\n",
       "      <td>7</td>\n",
       "      <td>1.00</td>\n",
       "    </tr>\n",
       "    <tr>\n",
       "      <th>259</th>\n",
       "      <td>Real-life utilization rates</td>\n",
       "      <td>11bnfzb</td>\n",
       "      <td>Hi everyone, so I’ve been doing research into ...</td>\n",
       "      <td>sergeinfreiman</td>\n",
       "      <td>2</td>\n",
       "      <td>0</td>\n",
       "      <td>0.25</td>\n",
       "    </tr>\n",
       "    <tr>\n",
       "      <th>376</th>\n",
       "      <td>Realizing this Area of Law is Not for Me</td>\n",
       "      <td>111nvv7</td>\n",
       "      <td>Hey! I’m joining this community on a dummy acc...</td>\n",
       "      <td>JuggernautMediocre86</td>\n",
       "      <td>6</td>\n",
       "      <td>1</td>\n",
       "      <td>0.56</td>\n",
       "    </tr>\n",
       "    <tr>\n",
       "      <th>44</th>\n",
       "      <td>Advice Needed</td>\n",
       "      <td>11siaoz</td>\n",
       "      <td>I have 7 years of experience in property taxes...</td>\n",
       "      <td>Free-will_Illusion</td>\n",
       "      <td>0</td>\n",
       "      <td>0</td>\n",
       "      <td>0.40</td>\n",
       "    </tr>\n",
       "    <tr>\n",
       "      <th>354</th>\n",
       "      <td>Transitioning from Litigation to Transactional...</td>\n",
       "      <td>1132mqw</td>\n",
       "      <td>I practice commercial litigation, with about 1...</td>\n",
       "      <td>Satories</td>\n",
       "      <td>4</td>\n",
       "      <td>2</td>\n",
       "      <td>0.67</td>\n",
       "    </tr>\n",
       "  </tbody>\n",
       "</table>\n",
       "</div>"
      ],
      "text/plain": [
       "                                                 Title       Id  \\\n",
       "98                          Judge Says This In Hearing  112v7lu   \n",
       "600                                    Stay or Move On  10fbzbg   \n",
       "449                                      Am I screwed?  107734i   \n",
       "649  What would you say about an attorney who has o...  10a9g9q   \n",
       "327                       Voluminous Records on Appeal  116lnme   \n",
       "695                   Anyone use an iPad for your work  106zj6d   \n",
       "259                        Real-life utilization rates  11bnfzb   \n",
       "376           Realizing this Area of Law is Not for Me  111nvv7   \n",
       "44                                       Advice Needed  11siaoz   \n",
       "354  Transitioning from Litigation to Transactional...  1132mqw   \n",
       "\n",
       "                                                  Text                Author  \\\n",
       "98   I HAIL FROM THE GREAT STATE OF GEORGIA!\\n\\n\\nO...            Madre-says   \n",
       "600   \\n\\nI am an claims associate at a medium size...         Culturalistic   \n",
       "449  3.8 GPA graduating. 159 as my only LSAT taken....            msteel2015   \n",
       "649  Upd. Just checking if there would be a recomme...             Erinrin13   \n",
       "327  I am in a position where many of my cases' rec...            terwen1400   \n",
       "695  Any attorneys here using iPads for their work?...             BLParks12   \n",
       "259  Hi everyone, so I’ve been doing research into ...        sergeinfreiman   \n",
       "376  Hey! I’m joining this community on a dummy acc...  JuggernautMediocre86   \n",
       "44   I have 7 years of experience in property taxes...    Free-will_Illusion   \n",
       "354  I practice commercial litigation, with about 1...              Satories   \n",
       "\n",
       "     Number of Comments  Number of Upvotes  Ratio of Upvotes  \n",
       "98                   34                 17              0.73  \n",
       "600                   7                  3              0.71  \n",
       "449                  15                  0              0.22  \n",
       "649                  53                 16              0.68  \n",
       "327                   3                  6              0.88  \n",
       "695                  19                  7              1.00  \n",
       "259                   2                  0              0.25  \n",
       "376                   6                  1              0.56  \n",
       "44                    0                  0              0.40  \n",
       "354                   4                  2              0.67  "
      ]
     },
     "execution_count": 154,
     "metadata": {},
     "output_type": "execute_result"
    }
   ],
   "source": [
    "laywerData.sample(10)"
   ]
  },
  {
   "cell_type": "code",
   "execution_count": 155,
   "id": "51d9b8cc",
   "metadata": {},
   "outputs": [
    {
     "data": {
      "text/html": [
       "<div>\n",
       "<style scoped>\n",
       "    .dataframe tbody tr th:only-of-type {\n",
       "        vertical-align: middle;\n",
       "    }\n",
       "\n",
       "    .dataframe tbody tr th {\n",
       "        vertical-align: top;\n",
       "    }\n",
       "\n",
       "    .dataframe thead th {\n",
       "        text-align: right;\n",
       "    }\n",
       "</style>\n",
       "<table border=\"1\" class=\"dataframe\">\n",
       "  <thead>\n",
       "    <tr style=\"text-align: right;\">\n",
       "      <th></th>\n",
       "      <th>Title</th>\n",
       "      <th>Id</th>\n",
       "      <th>Text</th>\n",
       "      <th>Author</th>\n",
       "      <th>Number of Comments</th>\n",
       "      <th>Number of Upvotes</th>\n",
       "      <th>Ratio of Upvotes</th>\n",
       "    </tr>\n",
       "  </thead>\n",
       "  <tbody>\n",
       "    <tr>\n",
       "      <th>248</th>\n",
       "      <td>Why you're witnessing history with crypto like...</td>\n",
       "      <td>11tl7m4</td>\n",
       "      <td>The parallel between crypto and the early stag...</td>\n",
       "      <td>Socialinfluencing</td>\n",
       "      <td>151</td>\n",
       "      <td>49</td>\n",
       "      <td>0.73</td>\n",
       "    </tr>\n",
       "    <tr>\n",
       "      <th>305</th>\n",
       "      <td>How to make it simple for non believers?</td>\n",
       "      <td>1172kqx</td>\n",
       "      <td>Hi fellow kids, *puts down skateboard*\\n\\nEver...</td>\n",
       "      <td>SleemanAbad</td>\n",
       "      <td>73</td>\n",
       "      <td>0</td>\n",
       "      <td>0.42</td>\n",
       "    </tr>\n",
       "    <tr>\n",
       "      <th>272</th>\n",
       "      <td>Belgian Politician (and member of the EU parli...</td>\n",
       "      <td>11u1tqa</td>\n",
       "      <td>This morning, a Belgian politician from the NV...</td>\n",
       "      <td>SnowyMountain__</td>\n",
       "      <td>55</td>\n",
       "      <td>22</td>\n",
       "      <td>0.84</td>\n",
       "    </tr>\n",
       "    <tr>\n",
       "      <th>362</th>\n",
       "      <td>Arbitrum Airdrop Check Your Eligibility</td>\n",
       "      <td>11tj198</td>\n",
       "      <td>Hey guys, the much awaited Arbitrum Airdrop th...</td>\n",
       "      <td>TheOtherCoolCat</td>\n",
       "      <td>50</td>\n",
       "      <td>10</td>\n",
       "      <td>0.78</td>\n",
       "    </tr>\n",
       "    <tr>\n",
       "      <th>325</th>\n",
       "      <td>\"Sayonara\" Bitcoin has officially dead the 473...</td>\n",
       "      <td>11tuw47</td>\n",
       "      <td>On 14 March 2023 Bitcoin died 473rd time, Robi...</td>\n",
       "      <td>mesutdmn</td>\n",
       "      <td>122</td>\n",
       "      <td>152</td>\n",
       "      <td>0.77</td>\n",
       "    </tr>\n",
       "    <tr>\n",
       "      <th>225</th>\n",
       "      <td>Recommend me math papers that could apply for ...</td>\n",
       "      <td>11uplvl</td>\n",
       "      <td>As probably most of you I read news about a to...</td>\n",
       "      <td>Saschb2b</td>\n",
       "      <td>11</td>\n",
       "      <td>2</td>\n",
       "      <td>0.63</td>\n",
       "    </tr>\n",
       "    <tr>\n",
       "      <th>191</th>\n",
       "      <td>Don't check last ATH price, check the market cap!</td>\n",
       "      <td>11uwqtx</td>\n",
       "      <td>I read the post \" **Now that we are on the ups...</td>\n",
       "      <td>mishaog</td>\n",
       "      <td>81</td>\n",
       "      <td>44</td>\n",
       "      <td>0.74</td>\n",
       "    </tr>\n",
       "    <tr>\n",
       "      <th>430</th>\n",
       "      <td>Europol Cracks Down on Another Coin Mixer, Sei...</td>\n",
       "      <td>11spg1e</td>\n",
       "      <td>The operation is being touted as one of the la...</td>\n",
       "      <td>o_LUCIFER_o</td>\n",
       "      <td>6</td>\n",
       "      <td>3</td>\n",
       "      <td>0.71</td>\n",
       "    </tr>\n",
       "    <tr>\n",
       "      <th>96</th>\n",
       "      <td>Euphoria is bad for investing</td>\n",
       "      <td>11vic0i</td>\n",
       "      <td>We have had several green weeks lately. Return...</td>\n",
       "      <td>Aseira</td>\n",
       "      <td>92</td>\n",
       "      <td>17</td>\n",
       "      <td>0.66</td>\n",
       "    </tr>\n",
       "    <tr>\n",
       "      <th>110</th>\n",
       "      <td>...and now i know why bitcoin maxi's exist.</td>\n",
       "      <td>11uwi6m</td>\n",
       "      <td>back in 2021 i fell for the hype and bought a ...</td>\n",
       "      <td>Novel-Counter-8093</td>\n",
       "      <td>89</td>\n",
       "      <td>19</td>\n",
       "      <td>0.65</td>\n",
       "    </tr>\n",
       "  </tbody>\n",
       "</table>\n",
       "</div>"
      ],
      "text/plain": [
       "                                                 Title       Id  \\\n",
       "248  Why you're witnessing history with crypto like...  11tl7m4   \n",
       "305           How to make it simple for non believers?  1172kqx   \n",
       "272  Belgian Politician (and member of the EU parli...  11u1tqa   \n",
       "362            Arbitrum Airdrop Check Your Eligibility  11tj198   \n",
       "325  \"Sayonara\" Bitcoin has officially dead the 473...  11tuw47   \n",
       "225  Recommend me math papers that could apply for ...  11uplvl   \n",
       "191  Don't check last ATH price, check the market cap!  11uwqtx   \n",
       "430  Europol Cracks Down on Another Coin Mixer, Sei...  11spg1e   \n",
       "96                       Euphoria is bad for investing  11vic0i   \n",
       "110        ...and now i know why bitcoin maxi's exist.  11uwi6m   \n",
       "\n",
       "                                                  Text              Author  \\\n",
       "248  The parallel between crypto and the early stag...   Socialinfluencing   \n",
       "305  Hi fellow kids, *puts down skateboard*\\n\\nEver...         SleemanAbad   \n",
       "272  This morning, a Belgian politician from the NV...     SnowyMountain__   \n",
       "362  Hey guys, the much awaited Arbitrum Airdrop th...     TheOtherCoolCat   \n",
       "325  On 14 March 2023 Bitcoin died 473rd time, Robi...            mesutdmn   \n",
       "225  As probably most of you I read news about a to...            Saschb2b   \n",
       "191  I read the post \" **Now that we are on the ups...             mishaog   \n",
       "430  The operation is being touted as one of the la...         o_LUCIFER_o   \n",
       "96   We have had several green weeks lately. Return...              Aseira   \n",
       "110  back in 2021 i fell for the hype and bought a ...  Novel-Counter-8093   \n",
       "\n",
       "     Number of Comments  Number of Upvotes  Ratio of Upvotes  \n",
       "248                 151                 49              0.73  \n",
       "305                  73                  0              0.42  \n",
       "272                  55                 22              0.84  \n",
       "362                  50                 10              0.78  \n",
       "325                 122                152              0.77  \n",
       "225                  11                  2              0.63  \n",
       "191                  81                 44              0.74  \n",
       "430                   6                  3              0.71  \n",
       "96                   92                 17              0.66  \n",
       "110                  89                 19              0.65  "
      ]
     },
     "execution_count": 155,
     "metadata": {},
     "output_type": "execute_result"
    }
   ],
   "source": [
    "cryptoData.sample(10)"
   ]
  },
  {
   "cell_type": "code",
   "execution_count": 156,
   "id": "470f4995",
   "metadata": {},
   "outputs": [
    {
     "data": {
      "text/html": [
       "<div>\n",
       "<style scoped>\n",
       "    .dataframe tbody tr th:only-of-type {\n",
       "        vertical-align: middle;\n",
       "    }\n",
       "\n",
       "    .dataframe tbody tr th {\n",
       "        vertical-align: top;\n",
       "    }\n",
       "\n",
       "    .dataframe thead th {\n",
       "        text-align: right;\n",
       "    }\n",
       "</style>\n",
       "<table border=\"1\" class=\"dataframe\">\n",
       "  <thead>\n",
       "    <tr style=\"text-align: right;\">\n",
       "      <th></th>\n",
       "      <th>Title</th>\n",
       "      <th>Id</th>\n",
       "      <th>Text</th>\n",
       "      <th>Author</th>\n",
       "      <th>Number of Comments</th>\n",
       "      <th>Number of upvotes</th>\n",
       "      <th>Ratio of Upvotes</th>\n",
       "    </tr>\n",
       "  </thead>\n",
       "  <tbody>\n",
       "    <tr>\n",
       "      <th>119</th>\n",
       "      <td>George Karl on why he doesn't think Joel Embii...</td>\n",
       "      <td>11vtd66</td>\n",
       "      <td>\\n\\n&gt; \"I don't want to bad mouth Embiid becaus...</td>\n",
       "      <td>Wonderful-Balance711</td>\n",
       "      <td>758</td>\n",
       "      <td>2098</td>\n",
       "      <td>0.84</td>\n",
       "    </tr>\n",
       "    <tr>\n",
       "      <th>405</th>\n",
       "      <td>Nikola Jokic tonight to snap the Nugget’s losi...</td>\n",
       "      <td>11tcyqn</td>\n",
       "      <td>[Source](https://www.espn.com/nba/boxscore/_/g...</td>\n",
       "      <td>Michael_B_Lopez</td>\n",
       "      <td>634</td>\n",
       "      <td>3256</td>\n",
       "      <td>0.89</td>\n",
       "    </tr>\n",
       "    <tr>\n",
       "      <th>507</th>\n",
       "      <td>Was the Jrue Holiday trade for the Bucks one o...</td>\n",
       "      <td>11swod5</td>\n",
       "      <td>On November 24, 2020, Jrue Holiday was traded ...</td>\n",
       "      <td>Disastrous_Day_2166</td>\n",
       "      <td>97</td>\n",
       "      <td>242</td>\n",
       "      <td>0.91</td>\n",
       "    </tr>\n",
       "    <tr>\n",
       "      <th>218</th>\n",
       "      <td>The Mavericks collected Lukaless road wins ove...</td>\n",
       "      <td>11vplpl</td>\n",
       "      <td>The Mavs played every Pacific Division team on...</td>\n",
       "      <td>BayonettaBasher</td>\n",
       "      <td>11</td>\n",
       "      <td>48</td>\n",
       "      <td>0.82</td>\n",
       "    </tr>\n",
       "    <tr>\n",
       "      <th>446</th>\n",
       "      <td>GAME THREAD: Washington Wizards (32-37) @ Clev...</td>\n",
       "      <td>11u6224</td>\n",
       "      <td>##General Information\\n    **TIME**     |**MED...</td>\n",
       "      <td>NBA_MOD</td>\n",
       "      <td>7</td>\n",
       "      <td>12</td>\n",
       "      <td>0.80</td>\n",
       "    </tr>\n",
       "    <tr>\n",
       "      <th>382</th>\n",
       "      <td>In last 10 clutch games Wolves’ opponents are ...</td>\n",
       "      <td>11udo85</td>\n",
       "      <td>Including against Mavericks (6/11), Wizards (5...</td>\n",
       "      <td>PlayInChampions</td>\n",
       "      <td>11</td>\n",
       "      <td>30</td>\n",
       "      <td>0.86</td>\n",
       "    </tr>\n",
       "    <tr>\n",
       "      <th>109</th>\n",
       "      <td>Jalen Green tonight: 40 points on 11/22 shooti...</td>\n",
       "      <td>11w4fwz</td>\n",
       "      <td>Jalen had a big all around game with 27/6/7 in...</td>\n",
       "      <td>Few_Mulberry5372</td>\n",
       "      <td>181</td>\n",
       "      <td>846</td>\n",
       "      <td>0.97</td>\n",
       "    </tr>\n",
       "    <tr>\n",
       "      <th>500</th>\n",
       "      <td>The Kings have the best record in the NBA post...</td>\n",
       "      <td>11tgcce</td>\n",
       "      <td>Their only losses come to the TWolves and the ...</td>\n",
       "      <td>InsaneCookies21</td>\n",
       "      <td>57</td>\n",
       "      <td>757</td>\n",
       "      <td>0.95</td>\n",
       "    </tr>\n",
       "    <tr>\n",
       "      <th>503</th>\n",
       "      <td>[Azarly] Kawhi when asked about his 10-43 star...</td>\n",
       "      <td>11tfyy8</td>\n",
       "      <td>https://twitter.com/TomerAzarly/status/1636468...</td>\n",
       "      <td>MVPG2022</td>\n",
       "      <td>42</td>\n",
       "      <td>359</td>\n",
       "      <td>0.96</td>\n",
       "    </tr>\n",
       "    <tr>\n",
       "      <th>388</th>\n",
       "      <td>We are around 70 games into the season and the...</td>\n",
       "      <td>11ucywf</td>\n",
       "      <td>This could change tonight if the Mavs beat the...</td>\n",
       "      <td>Ted_Dance_Son</td>\n",
       "      <td>20</td>\n",
       "      <td>50</td>\n",
       "      <td>0.83</td>\n",
       "    </tr>\n",
       "  </tbody>\n",
       "</table>\n",
       "</div>"
      ],
      "text/plain": [
       "                                                 Title       Id  \\\n",
       "119  George Karl on why he doesn't think Joel Embii...  11vtd66   \n",
       "405  Nikola Jokic tonight to snap the Nugget’s losi...  11tcyqn   \n",
       "507  Was the Jrue Holiday trade for the Bucks one o...  11swod5   \n",
       "218  The Mavericks collected Lukaless road wins ove...  11vplpl   \n",
       "446  GAME THREAD: Washington Wizards (32-37) @ Clev...  11u6224   \n",
       "382  In last 10 clutch games Wolves’ opponents are ...  11udo85   \n",
       "109  Jalen Green tonight: 40 points on 11/22 shooti...  11w4fwz   \n",
       "500  The Kings have the best record in the NBA post...  11tgcce   \n",
       "503  [Azarly] Kawhi when asked about his 10-43 star...  11tfyy8   \n",
       "388  We are around 70 games into the season and the...  11ucywf   \n",
       "\n",
       "                                                  Text                Author  \\\n",
       "119  \\n\\n> \"I don't want to bad mouth Embiid becaus...  Wonderful-Balance711   \n",
       "405  [Source](https://www.espn.com/nba/boxscore/_/g...       Michael_B_Lopez   \n",
       "507  On November 24, 2020, Jrue Holiday was traded ...   Disastrous_Day_2166   \n",
       "218  The Mavs played every Pacific Division team on...       BayonettaBasher   \n",
       "446  ##General Information\\n    **TIME**     |**MED...               NBA_MOD   \n",
       "382  Including against Mavericks (6/11), Wizards (5...       PlayInChampions   \n",
       "109  Jalen had a big all around game with 27/6/7 in...      Few_Mulberry5372   \n",
       "500  Their only losses come to the TWolves and the ...       InsaneCookies21   \n",
       "503  https://twitter.com/TomerAzarly/status/1636468...              MVPG2022   \n",
       "388  This could change tonight if the Mavs beat the...         Ted_Dance_Son   \n",
       "\n",
       "     Number of Comments  Number of upvotes  Ratio of Upvotes  \n",
       "119                 758               2098              0.84  \n",
       "405                 634               3256              0.89  \n",
       "507                  97                242              0.91  \n",
       "218                  11                 48              0.82  \n",
       "446                   7                 12              0.80  \n",
       "382                  11                 30              0.86  \n",
       "109                 181                846              0.97  \n",
       "500                  57                757              0.95  \n",
       "503                  42                359              0.96  \n",
       "388                  20                 50              0.83  "
      ]
     },
     "execution_count": 156,
     "metadata": {},
     "output_type": "execute_result"
    }
   ],
   "source": [
    "sportsData.sample(10)"
   ]
  },
  {
   "cell_type": "code",
   "execution_count": 157,
   "id": "06e3a4b8",
   "metadata": {},
   "outputs": [
    {
     "data": {
      "text/html": [
       "<div>\n",
       "<style scoped>\n",
       "    .dataframe tbody tr th:only-of-type {\n",
       "        vertical-align: middle;\n",
       "    }\n",
       "\n",
       "    .dataframe tbody tr th {\n",
       "        vertical-align: top;\n",
       "    }\n",
       "\n",
       "    .dataframe thead th {\n",
       "        text-align: right;\n",
       "    }\n",
       "</style>\n",
       "<table border=\"1\" class=\"dataframe\">\n",
       "  <thead>\n",
       "    <tr style=\"text-align: right;\">\n",
       "      <th></th>\n",
       "      <th>Title</th>\n",
       "      <th>Id</th>\n",
       "      <th>Text</th>\n",
       "      <th>Author</th>\n",
       "      <th>Number of Comments</th>\n",
       "      <th>Number of upvotes</th>\n",
       "      <th>Ratio of Upvotes</th>\n",
       "    </tr>\n",
       "  </thead>\n",
       "  <tbody>\n",
       "    <tr>\n",
       "      <th>17</th>\n",
       "      <td>Have you ever felt guilty for giving yourself ...</td>\n",
       "      <td>11usg27</td>\n",
       "      <td>Lately I’ve been having this feeling like the ...</td>\n",
       "      <td>Left-Strawberry-1725</td>\n",
       "      <td>23</td>\n",
       "      <td>172</td>\n",
       "      <td>0.99</td>\n",
       "    </tr>\n",
       "    <tr>\n",
       "      <th>529</th>\n",
       "      <td>Advice on Pursuing my Bachelor's Degree</td>\n",
       "      <td>112httu</td>\n",
       "      <td>Hi all,\\n\\nThis year, I'll be receiving my Ass...</td>\n",
       "      <td>sauceonmynips</td>\n",
       "      <td>1</td>\n",
       "      <td>1</td>\n",
       "      <td>1.00</td>\n",
       "    </tr>\n",
       "    <tr>\n",
       "      <th>467</th>\n",
       "      <td>Anyone here using a second brain app for note-...</td>\n",
       "      <td>11mpwgy</td>\n",
       "      <td>I know folks like to use all sorts of differen...</td>\n",
       "      <td>AliveFault</td>\n",
       "      <td>3</td>\n",
       "      <td>1</td>\n",
       "      <td>1.00</td>\n",
       "    </tr>\n",
       "    <tr>\n",
       "      <th>646</th>\n",
       "      <td>Humanities vs STEM</td>\n",
       "      <td>1105o2k</td>\n",
       "      <td>My dad has wanted me to enter the STEM field e...</td>\n",
       "      <td>_Saini_</td>\n",
       "      <td>20</td>\n",
       "      <td>18</td>\n",
       "      <td>0.90</td>\n",
       "    </tr>\n",
       "    <tr>\n",
       "      <th>532</th>\n",
       "      <td>Academic accommodations</td>\n",
       "      <td>112g1th</td>\n",
       "      <td>I’m in a bad situation with college in my firs...</td>\n",
       "      <td>_KingDawg72_</td>\n",
       "      <td>1</td>\n",
       "      <td>0</td>\n",
       "      <td>0.50</td>\n",
       "    </tr>\n",
       "    <tr>\n",
       "      <th>245</th>\n",
       "      <td>Pre-Vet undergrad</td>\n",
       "      <td>11r8qie</td>\n",
       "      <td>Hi! I am super interested in becoming a vet an...</td>\n",
       "      <td>SchnauzerLover55</td>\n",
       "      <td>2</td>\n",
       "      <td>1</td>\n",
       "      <td>1.00</td>\n",
       "    </tr>\n",
       "    <tr>\n",
       "      <th>173</th>\n",
       "      <td>Go back to school?</td>\n",
       "      <td>117xjvi</td>\n",
       "      <td>Hey guys! I’m 24 years old and I have a pretty...</td>\n",
       "      <td>MhmSomethingClever</td>\n",
       "      <td>5</td>\n",
       "      <td>3</td>\n",
       "      <td>0.81</td>\n",
       "    </tr>\n",
       "    <tr>\n",
       "      <th>38</th>\n",
       "      <td>I cannot decide what to major in</td>\n",
       "      <td>11a3a28</td>\n",
       "      <td>As the title suggests, I cannot decide what to...</td>\n",
       "      <td>banxanamilk</td>\n",
       "      <td>1</td>\n",
       "      <td>0</td>\n",
       "      <td>0.50</td>\n",
       "    </tr>\n",
       "    <tr>\n",
       "      <th>663</th>\n",
       "      <td>Canvas quiz monitoring</td>\n",
       "      <td>10zso15</td>\n",
       "      <td>Hi, I just took an online quiz on Canvas which...</td>\n",
       "      <td>ThisResolve</td>\n",
       "      <td>6</td>\n",
       "      <td>7</td>\n",
       "      <td>0.85</td>\n",
       "    </tr>\n",
       "    <tr>\n",
       "      <th>224</th>\n",
       "      <td>Master's versus post graduate certificate</td>\n",
       "      <td>117fkpj</td>\n",
       "      <td>I'm at crossroads. I want to specialize in cop...</td>\n",
       "      <td>NidhiOnATree</td>\n",
       "      <td>2</td>\n",
       "      <td>1</td>\n",
       "      <td>1.00</td>\n",
       "    </tr>\n",
       "  </tbody>\n",
       "</table>\n",
       "</div>"
      ],
      "text/plain": [
       "                                                 Title       Id  \\\n",
       "17   Have you ever felt guilty for giving yourself ...  11usg27   \n",
       "529            Advice on Pursuing my Bachelor's Degree  112httu   \n",
       "467  Anyone here using a second brain app for note-...  11mpwgy   \n",
       "646                                 Humanities vs STEM  1105o2k   \n",
       "532                            Academic accommodations  112g1th   \n",
       "245                                  Pre-Vet undergrad  11r8qie   \n",
       "173                                 Go back to school?  117xjvi   \n",
       "38                    I cannot decide what to major in  11a3a28   \n",
       "663                             Canvas quiz monitoring  10zso15   \n",
       "224          Master's versus post graduate certificate  117fkpj   \n",
       "\n",
       "                                                  Text                Author  \\\n",
       "17   Lately I’ve been having this feeling like the ...  Left-Strawberry-1725   \n",
       "529  Hi all,\\n\\nThis year, I'll be receiving my Ass...         sauceonmynips   \n",
       "467  I know folks like to use all sorts of differen...            AliveFault   \n",
       "646  My dad has wanted me to enter the STEM field e...               _Saini_   \n",
       "532  I’m in a bad situation with college in my firs...          _KingDawg72_   \n",
       "245  Hi! I am super interested in becoming a vet an...      SchnauzerLover55   \n",
       "173  Hey guys! I’m 24 years old and I have a pretty...    MhmSomethingClever   \n",
       "38   As the title suggests, I cannot decide what to...           banxanamilk   \n",
       "663  Hi, I just took an online quiz on Canvas which...           ThisResolve   \n",
       "224  I'm at crossroads. I want to specialize in cop...          NidhiOnATree   \n",
       "\n",
       "     Number of Comments  Number of upvotes  Ratio of Upvotes  \n",
       "17                   23                172              0.99  \n",
       "529                   1                  1              1.00  \n",
       "467                   3                  1              1.00  \n",
       "646                  20                 18              0.90  \n",
       "532                   1                  0              0.50  \n",
       "245                   2                  1              1.00  \n",
       "173                   5                  3              0.81  \n",
       "38                    1                  0              0.50  \n",
       "663                   6                  7              0.85  \n",
       "224                   2                  1              1.00  "
      ]
     },
     "execution_count": 157,
     "metadata": {},
     "output_type": "execute_result"
    }
   ],
   "source": [
    "collegeData.sample(10)"
   ]
  },
  {
   "cell_type": "code",
   "execution_count": 158,
   "id": "ad6eeafa",
   "metadata": {},
   "outputs": [
    {
     "data": {
      "text/html": [
       "<div>\n",
       "<style scoped>\n",
       "    .dataframe tbody tr th:only-of-type {\n",
       "        vertical-align: middle;\n",
       "    }\n",
       "\n",
       "    .dataframe tbody tr th {\n",
       "        vertical-align: top;\n",
       "    }\n",
       "\n",
       "    .dataframe thead th {\n",
       "        text-align: right;\n",
       "    }\n",
       "</style>\n",
       "<table border=\"1\" class=\"dataframe\">\n",
       "  <thead>\n",
       "    <tr style=\"text-align: right;\">\n",
       "      <th></th>\n",
       "      <th>Title</th>\n",
       "      <th>Id</th>\n",
       "      <th>Text</th>\n",
       "      <th>Author</th>\n",
       "      <th>Number of Comments</th>\n",
       "      <th>Number of upvotes</th>\n",
       "      <th>Ratio of Upvotes</th>\n",
       "    </tr>\n",
       "  </thead>\n",
       "  <tbody>\n",
       "    <tr>\n",
       "      <th>541</th>\n",
       "      <td>eli5 / why are zoomed lights in movies compose...</td>\n",
       "      <td>11jfsfn</td>\n",
       "      <td>I mean..in movies when there are a lot zoomed ...</td>\n",
       "      <td>giansolcia</td>\n",
       "      <td>9</td>\n",
       "      <td>1</td>\n",
       "      <td>0.57</td>\n",
       "    </tr>\n",
       "    <tr>\n",
       "      <th>345</th>\n",
       "      <td>ELI5: What is higher order bacteria? Does bact...</td>\n",
       "      <td>11of1co</td>\n",
       "      <td>Is there anywhere I can read more about bacter...</td>\n",
       "      <td>lunar1412</td>\n",
       "      <td>1</td>\n",
       "      <td>2</td>\n",
       "      <td>0.60</td>\n",
       "    </tr>\n",
       "    <tr>\n",
       "      <th>443</th>\n",
       "      <td>ELI5: How do plants know when to branch?</td>\n",
       "      <td>11m91xt</td>\n",
       "      <td>What causes a plant to branch, and why are som...</td>\n",
       "      <td>Smitttycakes</td>\n",
       "      <td>4</td>\n",
       "      <td>6</td>\n",
       "      <td>0.65</td>\n",
       "    </tr>\n",
       "    <tr>\n",
       "      <th>251</th>\n",
       "      <td>ELI5: What is the \"Presence Range\" in audio</td>\n",
       "      <td>11qii25</td>\n",
       "      <td>What exactly does it mean, and how does it the...</td>\n",
       "      <td>El_Cowboyz</td>\n",
       "      <td>3</td>\n",
       "      <td>8</td>\n",
       "      <td>0.68</td>\n",
       "    </tr>\n",
       "    <tr>\n",
       "      <th>75</th>\n",
       "      <td>ELI5 - How do all the recent “rent to own” hou...</td>\n",
       "      <td>11u70vv</td>\n",
       "      <td>There has been an influx of scam posts all acr...</td>\n",
       "      <td>AlertSanity</td>\n",
       "      <td>11</td>\n",
       "      <td>6</td>\n",
       "      <td>0.64</td>\n",
       "    </tr>\n",
       "    <tr>\n",
       "      <th>90</th>\n",
       "      <td>ELI5: Is there any confirmed explanation of ho...</td>\n",
       "      <td>11txwe0</td>\n",
       "      <td>OK, so further explanation of my question. I k...</td>\n",
       "      <td>Fisherman_2727</td>\n",
       "      <td>167</td>\n",
       "      <td>229</td>\n",
       "      <td>0.75</td>\n",
       "    </tr>\n",
       "    <tr>\n",
       "      <th>162</th>\n",
       "      <td>ELI5 How does a Gurney flap in F1 cars work</td>\n",
       "      <td>11t1dnf</td>\n",
       "      <td>How does a Gurney flap in F1 cars work</td>\n",
       "      <td>theNthd0ct0R</td>\n",
       "      <td>0</td>\n",
       "      <td>0</td>\n",
       "      <td>0.50</td>\n",
       "    </tr>\n",
       "    <tr>\n",
       "      <th>40</th>\n",
       "      <td>ELI5 what causes baby fever?</td>\n",
       "      <td>11v495y</td>\n",
       "      <td>Why do a majority of people experience baby fe...</td>\n",
       "      <td>MothersMiIk</td>\n",
       "      <td>6</td>\n",
       "      <td>0</td>\n",
       "      <td>0.33</td>\n",
       "    </tr>\n",
       "    <tr>\n",
       "      <th>57</th>\n",
       "      <td>ELI5: How does ice make things cold?</td>\n",
       "      <td>11uohj3</td>\n",
       "      <td>If ice has atoms which are not moving as much,...</td>\n",
       "      <td>JustTransportation51</td>\n",
       "      <td>10</td>\n",
       "      <td>0</td>\n",
       "      <td>0.29</td>\n",
       "    </tr>\n",
       "    <tr>\n",
       "      <th>563</th>\n",
       "      <td>eli5: Doesn’t chaos theory just prove we lack ...</td>\n",
       "      <td>11iqqtk</td>\n",
       "      <td>I don’t understand this concept of “chaos” in ...</td>\n",
       "      <td>justmikewilldo</td>\n",
       "      <td>14</td>\n",
       "      <td>5</td>\n",
       "      <td>0.62</td>\n",
       "    </tr>\n",
       "  </tbody>\n",
       "</table>\n",
       "</div>"
      ],
      "text/plain": [
       "                                                 Title       Id  \\\n",
       "541  eli5 / why are zoomed lights in movies compose...  11jfsfn   \n",
       "345  ELI5: What is higher order bacteria? Does bact...  11of1co   \n",
       "443           ELI5: How do plants know when to branch?  11m91xt   \n",
       "251        ELI5: What is the \"Presence Range\" in audio  11qii25   \n",
       "75   ELI5 - How do all the recent “rent to own” hou...  11u70vv   \n",
       "90   ELI5: Is there any confirmed explanation of ho...  11txwe0   \n",
       "162        ELI5 How does a Gurney flap in F1 cars work  11t1dnf   \n",
       "40                        ELI5 what causes baby fever?  11v495y   \n",
       "57                ELI5: How does ice make things cold?  11uohj3   \n",
       "563  eli5: Doesn’t chaos theory just prove we lack ...  11iqqtk   \n",
       "\n",
       "                                                  Text                Author  \\\n",
       "541  I mean..in movies when there are a lot zoomed ...            giansolcia   \n",
       "345  Is there anywhere I can read more about bacter...             lunar1412   \n",
       "443  What causes a plant to branch, and why are som...          Smitttycakes   \n",
       "251  What exactly does it mean, and how does it the...            El_Cowboyz   \n",
       "75   There has been an influx of scam posts all acr...           AlertSanity   \n",
       "90   OK, so further explanation of my question. I k...        Fisherman_2727   \n",
       "162             How does a Gurney flap in F1 cars work          theNthd0ct0R   \n",
       "40   Why do a majority of people experience baby fe...           MothersMiIk   \n",
       "57   If ice has atoms which are not moving as much,...  JustTransportation51   \n",
       "563  I don’t understand this concept of “chaos” in ...        justmikewilldo   \n",
       "\n",
       "     Number of Comments  Number of upvotes  Ratio of Upvotes  \n",
       "541                   9                  1              0.57  \n",
       "345                   1                  2              0.60  \n",
       "443                   4                  6              0.65  \n",
       "251                   3                  8              0.68  \n",
       "75                   11                  6              0.64  \n",
       "90                  167                229              0.75  \n",
       "162                   0                  0              0.50  \n",
       "40                    6                  0              0.33  \n",
       "57                   10                  0              0.29  \n",
       "563                  14                  5              0.62  "
      ]
     },
     "execution_count": 158,
     "metadata": {},
     "output_type": "execute_result"
    }
   ],
   "source": [
    "elifData.sample(10)"
   ]
  },
  {
   "cell_type": "code",
   "execution_count": 159,
   "id": "29ba1705",
   "metadata": {},
   "outputs": [
    {
     "data": {
      "text/html": [
       "<div>\n",
       "<style scoped>\n",
       "    .dataframe tbody tr th:only-of-type {\n",
       "        vertical-align: middle;\n",
       "    }\n",
       "\n",
       "    .dataframe tbody tr th {\n",
       "        vertical-align: top;\n",
       "    }\n",
       "\n",
       "    .dataframe thead th {\n",
       "        text-align: right;\n",
       "    }\n",
       "</style>\n",
       "<table border=\"1\" class=\"dataframe\">\n",
       "  <thead>\n",
       "    <tr style=\"text-align: right;\">\n",
       "      <th></th>\n",
       "      <th>Title</th>\n",
       "      <th>Id</th>\n",
       "      <th>Text</th>\n",
       "      <th>Author</th>\n",
       "      <th>Number of Comments</th>\n",
       "      <th>Number of upvotes</th>\n",
       "      <th>Ratio of Upvotes</th>\n",
       "    </tr>\n",
       "  </thead>\n",
       "  <tbody>\n",
       "    <tr>\n",
       "      <th>51</th>\n",
       "      <td>Blue Lock - Episode 23 discussion</td>\n",
       "      <td>11utvjx</td>\n",
       "      <td>*Blue Lock*, episode 23\\n\\n\\n\\n# [Rate this ep...</td>\n",
       "      <td>AutoLovepon</td>\n",
       "      <td>434</td>\n",
       "      <td>1980</td>\n",
       "      <td>0.97</td>\n",
       "    </tr>\n",
       "    <tr>\n",
       "      <th>155</th>\n",
       "      <td>Intense action anime that’s mature (Seinen) wi...</td>\n",
       "      <td>119158i</td>\n",
       "      <td>Just need a good old anime action series \\nI l...</td>\n",
       "      <td>CornbeefandRicee</td>\n",
       "      <td>10</td>\n",
       "      <td>0</td>\n",
       "      <td>0.50</td>\n",
       "    </tr>\n",
       "    <tr>\n",
       "      <th>394</th>\n",
       "      <td>Best OP/ED of 2022 AnimeBracket: Round 1, Group D</td>\n",
       "      <td>11mx7g8</td>\n",
       "      <td>Check out the themes on [animethemes.moe](htt...</td>\n",
       "      <td>Wuff_the_Dog</td>\n",
       "      <td>49</td>\n",
       "      <td>50</td>\n",
       "      <td>0.91</td>\n",
       "    </tr>\n",
       "    <tr>\n",
       "      <th>503</th>\n",
       "      <td>How Do I Get My GF Into Anime???</td>\n",
       "      <td>115k0dd</td>\n",
       "      <td>She refuses to watch even the most main stream...</td>\n",
       "      <td>Sea-Technician-119</td>\n",
       "      <td>52</td>\n",
       "      <td>0</td>\n",
       "      <td>0.21</td>\n",
       "    </tr>\n",
       "    <tr>\n",
       "      <th>55</th>\n",
       "      <td>is “you’re under arrest” anime a full adaptati...</td>\n",
       "      <td>11uskbh</td>\n",
       "      <td>does anyone know if it adapted the manga fully?</td>\n",
       "      <td>sxleepy</td>\n",
       "      <td>11</td>\n",
       "      <td>4</td>\n",
       "      <td>0.65</td>\n",
       "    </tr>\n",
       "    <tr>\n",
       "      <th>417</th>\n",
       "      <td>Fumetsu no Anata e Season 2 - Episode 17 discu...</td>\n",
       "      <td>116acd7</td>\n",
       "      <td>*Fumetsu no Anata e Season 2*, episode 17\\n\\nA...</td>\n",
       "      <td>AutoLovepon</td>\n",
       "      <td>307</td>\n",
       "      <td>1177</td>\n",
       "      <td>0.98</td>\n",
       "    </tr>\n",
       "    <tr>\n",
       "      <th>95</th>\n",
       "      <td>What's an anime song where you only recognize ...</td>\n",
       "      <td>11ubuq8</td>\n",
       "      <td>For example, when I sing the very first openin...</td>\n",
       "      <td>SuperAlloyBerserker</td>\n",
       "      <td>17</td>\n",
       "      <td>0</td>\n",
       "      <td>0.43</td>\n",
       "    </tr>\n",
       "    <tr>\n",
       "      <th>526</th>\n",
       "      <td>Fumetsu no Anata e Season 2 - Episode 19 discu...</td>\n",
       "      <td>11ix8kj</td>\n",
       "      <td>*Fumetsu no Anata e Season 2*, episode 19\\n\\nA...</td>\n",
       "      <td>AutoLovepon</td>\n",
       "      <td>317</td>\n",
       "      <td>1112</td>\n",
       "      <td>0.98</td>\n",
       "    </tr>\n",
       "    <tr>\n",
       "      <th>427</th>\n",
       "      <td>[NyanWatch] Non Non Biyori - Episode 10 Discus...</td>\n",
       "      <td>11lyhyr</td>\n",
       "      <td># **Episode 10 - [We Watched the First Sunrise...</td>\n",
       "      <td>ChonkyOdango</td>\n",
       "      <td>83</td>\n",
       "      <td>74</td>\n",
       "      <td>0.92</td>\n",
       "    </tr>\n",
       "    <tr>\n",
       "      <th>379</th>\n",
       "      <td>Casual Discussion Fridays - Week of March 10, ...</td>\n",
       "      <td>11n8ews</td>\n",
       "      <td>This is a weekly thread to get to know /r/anim...</td>\n",
       "      <td>AutoModerator</td>\n",
       "      <td>9721</td>\n",
       "      <td>71</td>\n",
       "      <td>0.93</td>\n",
       "    </tr>\n",
       "  </tbody>\n",
       "</table>\n",
       "</div>"
      ],
      "text/plain": [
       "                                                 Title       Id  \\\n",
       "51                   Blue Lock - Episode 23 discussion  11utvjx   \n",
       "155  Intense action anime that’s mature (Seinen) wi...  119158i   \n",
       "394  Best OP/ED of 2022 AnimeBracket: Round 1, Group D  11mx7g8   \n",
       "503                   How Do I Get My GF Into Anime???  115k0dd   \n",
       "55   is “you’re under arrest” anime a full adaptati...  11uskbh   \n",
       "417  Fumetsu no Anata e Season 2 - Episode 17 discu...  116acd7   \n",
       "95   What's an anime song where you only recognize ...  11ubuq8   \n",
       "526  Fumetsu no Anata e Season 2 - Episode 19 discu...  11ix8kj   \n",
       "427  [NyanWatch] Non Non Biyori - Episode 10 Discus...  11lyhyr   \n",
       "379  Casual Discussion Fridays - Week of March 10, ...  11n8ews   \n",
       "\n",
       "                                                  Text               Author  \\\n",
       "51   *Blue Lock*, episode 23\\n\\n\\n\\n# [Rate this ep...          AutoLovepon   \n",
       "155  Just need a good old anime action series \\nI l...     CornbeefandRicee   \n",
       "394   Check out the themes on [animethemes.moe](htt...         Wuff_the_Dog   \n",
       "503  She refuses to watch even the most main stream...   Sea-Technician-119   \n",
       "55     does anyone know if it adapted the manga fully?              sxleepy   \n",
       "417  *Fumetsu no Anata e Season 2*, episode 17\\n\\nA...          AutoLovepon   \n",
       "95   For example, when I sing the very first openin...  SuperAlloyBerserker   \n",
       "526  *Fumetsu no Anata e Season 2*, episode 19\\n\\nA...          AutoLovepon   \n",
       "427  # **Episode 10 - [We Watched the First Sunrise...         ChonkyOdango   \n",
       "379  This is a weekly thread to get to know /r/anim...        AutoModerator   \n",
       "\n",
       "     Number of Comments  Number of upvotes  Ratio of Upvotes  \n",
       "51                  434               1980              0.97  \n",
       "155                  10                  0              0.50  \n",
       "394                  49                 50              0.91  \n",
       "503                  52                  0              0.21  \n",
       "55                   11                  4              0.65  \n",
       "417                 307               1177              0.98  \n",
       "95                   17                  0              0.43  \n",
       "526                 317               1112              0.98  \n",
       "427                  83                 74              0.92  \n",
       "379                9721                 71              0.93  "
      ]
     },
     "execution_count": 159,
     "metadata": {},
     "output_type": "execute_result"
    }
   ],
   "source": [
    "animeData.sample(10)"
   ]
  },
  {
   "cell_type": "code",
   "execution_count": 160,
   "id": "e019ea32",
   "metadata": {},
   "outputs": [
    {
     "data": {
      "text/html": [
       "<div>\n",
       "<style scoped>\n",
       "    .dataframe tbody tr th:only-of-type {\n",
       "        vertical-align: middle;\n",
       "    }\n",
       "\n",
       "    .dataframe tbody tr th {\n",
       "        vertical-align: top;\n",
       "    }\n",
       "\n",
       "    .dataframe thead th {\n",
       "        text-align: right;\n",
       "    }\n",
       "</style>\n",
       "<table border=\"1\" class=\"dataframe\">\n",
       "  <thead>\n",
       "    <tr style=\"text-align: right;\">\n",
       "      <th></th>\n",
       "      <th>Title</th>\n",
       "      <th>Id</th>\n",
       "      <th>Text</th>\n",
       "      <th>Author</th>\n",
       "      <th>Number of Comments</th>\n",
       "      <th>Number of upvotes</th>\n",
       "      <th>Ratio of Upvotes</th>\n",
       "    </tr>\n",
       "  </thead>\n",
       "  <tbody>\n",
       "    <tr>\n",
       "      <th>28</th>\n",
       "      <td>CS job in Canada or US as international?</td>\n",
       "      <td>11vem6v</td>\n",
       "      <td>I am still a junior in a college but looking a...</td>\n",
       "      <td>Antique-Wrongdoer-15</td>\n",
       "      <td>15</td>\n",
       "      <td>0</td>\n",
       "      <td>0.50</td>\n",
       "    </tr>\n",
       "    <tr>\n",
       "      <th>243</th>\n",
       "      <td>I Have no Idea How to Conduct Myself as a Prof...</td>\n",
       "      <td>11sg5l8</td>\n",
       "      <td>Long story short here's what happened to me to...</td>\n",
       "      <td>TheChanceToBeAlive</td>\n",
       "      <td>15</td>\n",
       "      <td>2</td>\n",
       "      <td>0.57</td>\n",
       "    </tr>\n",
       "    <tr>\n",
       "      <th>90</th>\n",
       "      <td>If am from a non-CS background, is survival in...</td>\n",
       "      <td>11ue3v8</td>\n",
       "      <td>I graduated from Biotech from an IIT. Was into...</td>\n",
       "      <td>Natural-Suspect8881</td>\n",
       "      <td>0</td>\n",
       "      <td>4</td>\n",
       "      <td>0.70</td>\n",
       "    </tr>\n",
       "    <tr>\n",
       "      <th>408</th>\n",
       "      <td>15 yo from jordan, wondering what's the next step</td>\n",
       "      <td>11r2hln</td>\n",
       "      <td>Hey there, I've been lurking around the whole ...</td>\n",
       "      <td>zezo_idrees</td>\n",
       "      <td>12</td>\n",
       "      <td>0</td>\n",
       "      <td>0.36</td>\n",
       "    </tr>\n",
       "    <tr>\n",
       "      <th>278</th>\n",
       "      <td>What is Everyone’s Most Ideal Third-Party Recr...</td>\n",
       "      <td>11s625n</td>\n",
       "      <td>Hey everyone,\\n\\nI’m curious for everyone’s op...</td>\n",
       "      <td>anonyyy69420</td>\n",
       "      <td>1</td>\n",
       "      <td>1</td>\n",
       "      <td>0.60</td>\n",
       "    </tr>\n",
       "    <tr>\n",
       "      <th>82</th>\n",
       "      <td>Should I still pursue this career and become a...</td>\n",
       "      <td>11v17d4</td>\n",
       "      <td>Hello all,\\n\\nI will probably get downvoted fo...</td>\n",
       "      <td>Status_Marsupial6265</td>\n",
       "      <td>19</td>\n",
       "      <td>0</td>\n",
       "      <td>0.42</td>\n",
       "    </tr>\n",
       "    <tr>\n",
       "      <th>134</th>\n",
       "      <td>Nearly 1000 applications, where am I going wro...</td>\n",
       "      <td>11ty5k7</td>\n",
       "      <td>Brief summary: I'm going to graduate in May th...</td>\n",
       "      <td>ManWhoWantsToLearn</td>\n",
       "      <td>74</td>\n",
       "      <td>43</td>\n",
       "      <td>0.84</td>\n",
       "    </tr>\n",
       "    <tr>\n",
       "      <th>132</th>\n",
       "      <td>What problems do you encounter at your job, da...</td>\n",
       "      <td>11ts4st</td>\n",
       "      <td>Wanna help me brainstorm problems in workplace...</td>\n",
       "      <td>EnvironmentalData287</td>\n",
       "      <td>3</td>\n",
       "      <td>3</td>\n",
       "      <td>0.64</td>\n",
       "    </tr>\n",
       "    <tr>\n",
       "      <th>726</th>\n",
       "      <td>Where do older software engineers go?</td>\n",
       "      <td>11mpzvx</td>\n",
       "      <td>I'm a a bit concerned to go into computer scie...</td>\n",
       "      <td>Zane2156</td>\n",
       "      <td>287</td>\n",
       "      <td>273</td>\n",
       "      <td>0.89</td>\n",
       "    </tr>\n",
       "    <tr>\n",
       "      <th>427</th>\n",
       "      <td>Got my first role, what should I do to make my...</td>\n",
       "      <td>11qntsd</td>\n",
       "      <td>Hello, some background I am doing a CS degree ...</td>\n",
       "      <td>Immediate-Ad1653</td>\n",
       "      <td>4</td>\n",
       "      <td>1</td>\n",
       "      <td>0.67</td>\n",
       "    </tr>\n",
       "  </tbody>\n",
       "</table>\n",
       "</div>"
      ],
      "text/plain": [
       "                                                 Title       Id  \\\n",
       "28            CS job in Canada or US as international?  11vem6v   \n",
       "243  I Have no Idea How to Conduct Myself as a Prof...  11sg5l8   \n",
       "90   If am from a non-CS background, is survival in...  11ue3v8   \n",
       "408  15 yo from jordan, wondering what's the next step  11r2hln   \n",
       "278  What is Everyone’s Most Ideal Third-Party Recr...  11s625n   \n",
       "82   Should I still pursue this career and become a...  11v17d4   \n",
       "134  Nearly 1000 applications, where am I going wro...  11ty5k7   \n",
       "132  What problems do you encounter at your job, da...  11ts4st   \n",
       "726              Where do older software engineers go?  11mpzvx   \n",
       "427  Got my first role, what should I do to make my...  11qntsd   \n",
       "\n",
       "                                                  Text                Author  \\\n",
       "28   I am still a junior in a college but looking a...  Antique-Wrongdoer-15   \n",
       "243  Long story short here's what happened to me to...    TheChanceToBeAlive   \n",
       "90   I graduated from Biotech from an IIT. Was into...   Natural-Suspect8881   \n",
       "408  Hey there, I've been lurking around the whole ...           zezo_idrees   \n",
       "278  Hey everyone,\\n\\nI’m curious for everyone’s op...          anonyyy69420   \n",
       "82   Hello all,\\n\\nI will probably get downvoted fo...  Status_Marsupial6265   \n",
       "134  Brief summary: I'm going to graduate in May th...    ManWhoWantsToLearn   \n",
       "132  Wanna help me brainstorm problems in workplace...  EnvironmentalData287   \n",
       "726  I'm a a bit concerned to go into computer scie...              Zane2156   \n",
       "427  Hello, some background I am doing a CS degree ...      Immediate-Ad1653   \n",
       "\n",
       "     Number of Comments  Number of upvotes  Ratio of Upvotes  \n",
       "28                   15                  0              0.50  \n",
       "243                  15                  2              0.57  \n",
       "90                    0                  4              0.70  \n",
       "408                  12                  0              0.36  \n",
       "278                   1                  1              0.60  \n",
       "82                   19                  0              0.42  \n",
       "134                  74                 43              0.84  \n",
       "132                   3                  3              0.64  \n",
       "726                 287                273              0.89  \n",
       "427                   4                  1              0.67  "
      ]
     },
     "execution_count": 160,
     "metadata": {},
     "output_type": "execute_result"
    }
   ],
   "source": [
    "ccqData.sample(10)"
   ]
  },
  {
   "cell_type": "code",
   "execution_count": 161,
   "id": "fadffb04",
   "metadata": {},
   "outputs": [
    {
     "data": {
      "text/html": [
       "<div>\n",
       "<style scoped>\n",
       "    .dataframe tbody tr th:only-of-type {\n",
       "        vertical-align: middle;\n",
       "    }\n",
       "\n",
       "    .dataframe tbody tr th {\n",
       "        vertical-align: top;\n",
       "    }\n",
       "\n",
       "    .dataframe thead th {\n",
       "        text-align: right;\n",
       "    }\n",
       "</style>\n",
       "<table border=\"1\" class=\"dataframe\">\n",
       "  <thead>\n",
       "    <tr style=\"text-align: right;\">\n",
       "      <th></th>\n",
       "      <th>Title</th>\n",
       "      <th>Id</th>\n",
       "      <th>Text</th>\n",
       "      <th>Author</th>\n",
       "      <th>Number of Comments</th>\n",
       "      <th>Number of upvotes</th>\n",
       "      <th>Ratio of Upvotes</th>\n",
       "    </tr>\n",
       "  </thead>\n",
       "  <tbody>\n",
       "    <tr>\n",
       "      <th>138</th>\n",
       "      <td>I think i’ll never be enough or do enough for ...</td>\n",
       "      <td>11tbatg</td>\n",
       "      <td>Everyone always complains about what i don’t d...</td>\n",
       "      <td>Business_Relative_55</td>\n",
       "      <td>3</td>\n",
       "      <td>4</td>\n",
       "      <td>1.00</td>\n",
       "    </tr>\n",
       "    <tr>\n",
       "      <th>4</th>\n",
       "      <td>Don’t make kids if you can’t afford taking the...</td>\n",
       "      <td>11whfdy</td>\n",
       "      <td>I’m 25 in a month and this year was supposed t...</td>\n",
       "      <td>Timeishere58</td>\n",
       "      <td>0</td>\n",
       "      <td>0</td>\n",
       "      <td>0.50</td>\n",
       "    </tr>\n",
       "    <tr>\n",
       "      <th>246</th>\n",
       "      <td>I'm really worried about rightwing/conservativ...</td>\n",
       "      <td>11r9zir</td>\n",
       "      <td>And they're getting worse and worse and worse ...</td>\n",
       "      <td>Trash_man_can</td>\n",
       "      <td>3</td>\n",
       "      <td>10</td>\n",
       "      <td>0.74</td>\n",
       "    </tr>\n",
       "    <tr>\n",
       "      <th>19</th>\n",
       "      <td>I wish that I had never met you.</td>\n",
       "      <td>11w9b1c</td>\n",
       "      <td>I wish I didn't even know you existed. I don't...</td>\n",
       "      <td>lifeisntdaisies</td>\n",
       "      <td>3</td>\n",
       "      <td>7</td>\n",
       "      <td>0.77</td>\n",
       "    </tr>\n",
       "    <tr>\n",
       "      <th>137</th>\n",
       "      <td>So I was using a hotel a few weeks ago, I used...</td>\n",
       "      <td>11tbitf</td>\n",
       "      <td>As it says. I was staying in another city so i...</td>\n",
       "      <td>BodybuilderChris2023</td>\n",
       "      <td>2</td>\n",
       "      <td>2</td>\n",
       "      <td>1.00</td>\n",
       "    </tr>\n",
       "    <tr>\n",
       "      <th>290</th>\n",
       "      <td>web designers who prevent you pasting in compl...</td>\n",
       "      <td>11qkws8</td>\n",
       "      <td>ETA:  instead of the \"designers\" I should have...</td>\n",
       "      <td>ButtercupsUncle</td>\n",
       "      <td>5</td>\n",
       "      <td>12</td>\n",
       "      <td>0.99</td>\n",
       "    </tr>\n",
       "    <tr>\n",
       "      <th>194</th>\n",
       "      <td>I get personally offended when people say the ...</td>\n",
       "      <td>11sb702</td>\n",
       "      <td>I don't have any special needs. But I struggle...</td>\n",
       "      <td>Affectionate_Hat494</td>\n",
       "      <td>2</td>\n",
       "      <td>3</td>\n",
       "      <td>0.80</td>\n",
       "    </tr>\n",
       "    <tr>\n",
       "      <th>811</th>\n",
       "      <td>I accidentally ate something that had my food ...</td>\n",
       "      <td>11esnyh</td>\n",
       "      <td>I projectile vomited 3-4 times and threw away ...</td>\n",
       "      <td>SnooMaps6193</td>\n",
       "      <td>0</td>\n",
       "      <td>2</td>\n",
       "      <td>1.00</td>\n",
       "    </tr>\n",
       "    <tr>\n",
       "      <th>694</th>\n",
       "      <td>My molester is moving back in</td>\n",
       "      <td>11hly0s</td>\n",
       "      <td>I am stuck living with my parents as I cannot ...</td>\n",
       "      <td>7Stargazer77</td>\n",
       "      <td>28</td>\n",
       "      <td>21</td>\n",
       "      <td>0.87</td>\n",
       "    </tr>\n",
       "    <tr>\n",
       "      <th>913</th>\n",
       "      <td>The way Reddit handles Loli content is ridiculous</td>\n",
       "      <td>11ctee5</td>\n",
       "      <td>I was scrolling through an anime art subreddit...</td>\n",
       "      <td>KingTheSleepyKing</td>\n",
       "      <td>2</td>\n",
       "      <td>5</td>\n",
       "      <td>0.73</td>\n",
       "    </tr>\n",
       "  </tbody>\n",
       "</table>\n",
       "</div>"
      ],
      "text/plain": [
       "                                                 Title       Id  \\\n",
       "138  I think i’ll never be enough or do enough for ...  11tbatg   \n",
       "4    Don’t make kids if you can’t afford taking the...  11whfdy   \n",
       "246  I'm really worried about rightwing/conservativ...  11r9zir   \n",
       "19                    I wish that I had never met you.  11w9b1c   \n",
       "137  So I was using a hotel a few weeks ago, I used...  11tbitf   \n",
       "290  web designers who prevent you pasting in compl...  11qkws8   \n",
       "194  I get personally offended when people say the ...  11sb702   \n",
       "811  I accidentally ate something that had my food ...  11esnyh   \n",
       "694                      My molester is moving back in  11hly0s   \n",
       "913  The way Reddit handles Loli content is ridiculous  11ctee5   \n",
       "\n",
       "                                                  Text                Author  \\\n",
       "138  Everyone always complains about what i don’t d...  Business_Relative_55   \n",
       "4    I’m 25 in a month and this year was supposed t...          Timeishere58   \n",
       "246  And they're getting worse and worse and worse ...         Trash_man_can   \n",
       "19   I wish I didn't even know you existed. I don't...       lifeisntdaisies   \n",
       "137  As it says. I was staying in another city so i...  BodybuilderChris2023   \n",
       "290  ETA:  instead of the \"designers\" I should have...       ButtercupsUncle   \n",
       "194  I don't have any special needs. But I struggle...   Affectionate_Hat494   \n",
       "811  I projectile vomited 3-4 times and threw away ...          SnooMaps6193   \n",
       "694  I am stuck living with my parents as I cannot ...          7Stargazer77   \n",
       "913  I was scrolling through an anime art subreddit...     KingTheSleepyKing   \n",
       "\n",
       "     Number of Comments  Number of upvotes  Ratio of Upvotes  \n",
       "138                   3                  4              1.00  \n",
       "4                     0                  0              0.50  \n",
       "246                   3                 10              0.74  \n",
       "19                    3                  7              0.77  \n",
       "137                   2                  2              1.00  \n",
       "290                   5                 12              0.99  \n",
       "194                   2                  3              0.80  \n",
       "811                   0                  2              1.00  \n",
       "694                  28                 21              0.87  \n",
       "913                   2                  5              0.73  "
      ]
     },
     "execution_count": 161,
     "metadata": {},
     "output_type": "execute_result"
    }
   ],
   "source": [
    "rantData.sample(10)"
   ]
  },
  {
   "cell_type": "code",
   "execution_count": 162,
   "id": "e2daaaa0",
   "metadata": {},
   "outputs": [
    {
     "data": {
      "text/html": [
       "<div>\n",
       "<style scoped>\n",
       "    .dataframe tbody tr th:only-of-type {\n",
       "        vertical-align: middle;\n",
       "    }\n",
       "\n",
       "    .dataframe tbody tr th {\n",
       "        vertical-align: top;\n",
       "    }\n",
       "\n",
       "    .dataframe thead th {\n",
       "        text-align: right;\n",
       "    }\n",
       "</style>\n",
       "<table border=\"1\" class=\"dataframe\">\n",
       "  <thead>\n",
       "    <tr style=\"text-align: right;\">\n",
       "      <th></th>\n",
       "      <th>Title</th>\n",
       "      <th>Id</th>\n",
       "      <th>Text</th>\n",
       "      <th>Author</th>\n",
       "      <th>Number of Comments</th>\n",
       "      <th>Number of upvotes</th>\n",
       "      <th>Ratio of Upvotes</th>\n",
       "    </tr>\n",
       "  </thead>\n",
       "  <tbody>\n",
       "    <tr>\n",
       "      <th>191</th>\n",
       "      <td>Does anyone else notice that the tap water sme...</td>\n",
       "      <td>11459g1</td>\n",
       "      <td>For context, we're in Bethel Park. Is this due...</td>\n",
       "      <td>byzvntine</td>\n",
       "      <td>24</td>\n",
       "      <td>0</td>\n",
       "      <td>0.20</td>\n",
       "    </tr>\n",
       "    <tr>\n",
       "      <th>216</th>\n",
       "      <td>where can I get a custom car paint job done?</td>\n",
       "      <td>113btli</td>\n",
       "      <td>i’m thinking about getting my car repainted an...</td>\n",
       "      <td>WTF__Steve</td>\n",
       "      <td>7</td>\n",
       "      <td>0</td>\n",
       "      <td>0.46</td>\n",
       "    </tr>\n",
       "    <tr>\n",
       "      <th>333</th>\n",
       "      <td>second try: Toynbee resurrected, the re-tiling?</td>\n",
       "      <td>10zqtkm</td>\n",
       "      <td>Hi folks,   \\nDisclaimer: I apologize, I'm not...</td>\n",
       "      <td>StevInPitt</td>\n",
       "      <td>9</td>\n",
       "      <td>8</td>\n",
       "      <td>0.74</td>\n",
       "    </tr>\n",
       "    <tr>\n",
       "      <th>383</th>\n",
       "      <td>Mr. Smalls Theatre parking</td>\n",
       "      <td>11illw4</td>\n",
       "      <td>Have never been to this venue and google doesn...</td>\n",
       "      <td>SquintyB</td>\n",
       "      <td>7</td>\n",
       "      <td>0</td>\n",
       "      <td>0.31</td>\n",
       "    </tr>\n",
       "    <tr>\n",
       "      <th>528</th>\n",
       "      <td>Living</td>\n",
       "      <td>11bw3io</td>\n",
       "      <td>So me and my girlfriend this summer are lookin...</td>\n",
       "      <td>tsr112</td>\n",
       "      <td>20</td>\n",
       "      <td>0</td>\n",
       "      <td>0.36</td>\n",
       "    </tr>\n",
       "    <tr>\n",
       "      <th>261</th>\n",
       "      <td>Help finding tattoo artist</td>\n",
       "      <td>11mwuwq</td>\n",
       "      <td>Hey my wife and I are looking for a tattoo art...</td>\n",
       "      <td>SteelCityChip</td>\n",
       "      <td>9</td>\n",
       "      <td>0</td>\n",
       "      <td>0.38</td>\n",
       "    </tr>\n",
       "    <tr>\n",
       "      <th>241</th>\n",
       "      <td>Hello everyone!</td>\n",
       "      <td>112wfw1</td>\n",
       "      <td>I am looking for someone who’s able to build a...</td>\n",
       "      <td>DariusTheChaotic</td>\n",
       "      <td>6</td>\n",
       "      <td>0</td>\n",
       "      <td>0.31</td>\n",
       "    </tr>\n",
       "    <tr>\n",
       "      <th>172</th>\n",
       "      <td>ISO Part time office</td>\n",
       "      <td>11qgdlp</td>\n",
       "      <td>I’m struggling to find what I want on Craigsli...</td>\n",
       "      <td>Outrageous-Copy29</td>\n",
       "      <td>8</td>\n",
       "      <td>0</td>\n",
       "      <td>0.50</td>\n",
       "    </tr>\n",
       "    <tr>\n",
       "      <th>104</th>\n",
       "      <td>Is this an easy fix or a sign of bigger problems?</td>\n",
       "      <td>11777uu</td>\n",
       "      <td>My brother just sent me this:\\n\\nThe issue is ...</td>\n",
       "      <td>whataworld2020</td>\n",
       "      <td>11</td>\n",
       "      <td>2</td>\n",
       "      <td>0.53</td>\n",
       "    </tr>\n",
       "    <tr>\n",
       "      <th>198</th>\n",
       "      <td>Max and Erma’s - Cranberry Township Location. ...</td>\n",
       "      <td>113x6ix</td>\n",
       "      <td>I just received the email and I enjoyed this l...</td>\n",
       "      <td>DarkLuc1d1ty</td>\n",
       "      <td>127</td>\n",
       "      <td>85</td>\n",
       "      <td>0.90</td>\n",
       "    </tr>\n",
       "  </tbody>\n",
       "</table>\n",
       "</div>"
      ],
      "text/plain": [
       "                                                 Title       Id  \\\n",
       "191  Does anyone else notice that the tap water sme...  11459g1   \n",
       "216       where can I get a custom car paint job done?  113btli   \n",
       "333    second try: Toynbee resurrected, the re-tiling?  10zqtkm   \n",
       "383                         Mr. Smalls Theatre parking  11illw4   \n",
       "528                                             Living  11bw3io   \n",
       "261                         Help finding tattoo artist  11mwuwq   \n",
       "241                                    Hello everyone!  112wfw1   \n",
       "172                               ISO Part time office  11qgdlp   \n",
       "104  Is this an easy fix or a sign of bigger problems?  11777uu   \n",
       "198  Max and Erma’s - Cranberry Township Location. ...  113x6ix   \n",
       "\n",
       "                                                  Text             Author  \\\n",
       "191  For context, we're in Bethel Park. Is this due...          byzvntine   \n",
       "216  i’m thinking about getting my car repainted an...         WTF__Steve   \n",
       "333  Hi folks,   \\nDisclaimer: I apologize, I'm not...         StevInPitt   \n",
       "383  Have never been to this venue and google doesn...           SquintyB   \n",
       "528  So me and my girlfriend this summer are lookin...             tsr112   \n",
       "261  Hey my wife and I are looking for a tattoo art...      SteelCityChip   \n",
       "241  I am looking for someone who’s able to build a...   DariusTheChaotic   \n",
       "172  I’m struggling to find what I want on Craigsli...  Outrageous-Copy29   \n",
       "104  My brother just sent me this:\\n\\nThe issue is ...     whataworld2020   \n",
       "198  I just received the email and I enjoyed this l...       DarkLuc1d1ty   \n",
       "\n",
       "     Number of Comments  Number of upvotes  Ratio of Upvotes  \n",
       "191                  24                  0              0.20  \n",
       "216                   7                  0              0.46  \n",
       "333                   9                  8              0.74  \n",
       "383                   7                  0              0.31  \n",
       "528                  20                  0              0.36  \n",
       "261                   9                  0              0.38  \n",
       "241                   6                  0              0.31  \n",
       "172                   8                  0              0.50  \n",
       "104                  11                  2              0.53  \n",
       "198                 127                 85              0.90  "
      ]
     },
     "execution_count": 162,
     "metadata": {},
     "output_type": "execute_result"
    }
   ],
   "source": [
    "pghData.sample(10)"
   ]
  },
  {
   "cell_type": "code",
   "execution_count": 163,
   "id": "bbdafbcc",
   "metadata": {},
   "outputs": [
    {
     "data": {
      "text/html": [
       "<div>\n",
       "<style scoped>\n",
       "    .dataframe tbody tr th:only-of-type {\n",
       "        vertical-align: middle;\n",
       "    }\n",
       "\n",
       "    .dataframe tbody tr th {\n",
       "        vertical-align: top;\n",
       "    }\n",
       "\n",
       "    .dataframe thead th {\n",
       "        text-align: right;\n",
       "    }\n",
       "</style>\n",
       "<table border=\"1\" class=\"dataframe\">\n",
       "  <thead>\n",
       "    <tr style=\"text-align: right;\">\n",
       "      <th></th>\n",
       "      <th>Title</th>\n",
       "      <th>Id</th>\n",
       "      <th>Text</th>\n",
       "      <th>Author</th>\n",
       "      <th>Number of Comments</th>\n",
       "      <th>Number of upvotes</th>\n",
       "      <th>Ratio of Upvotes</th>\n",
       "    </tr>\n",
       "  </thead>\n",
       "  <tbody>\n",
       "    <tr>\n",
       "      <th>463</th>\n",
       "      <td>Why is the musical theater industry so centere...</td>\n",
       "      <td>10qo41h</td>\n",
       "      <td>I know New York is the epicenter and it makes ...</td>\n",
       "      <td>MembersClubs</td>\n",
       "      <td>23</td>\n",
       "      <td>0</td>\n",
       "      <td>0.21</td>\n",
       "    </tr>\n",
       "    <tr>\n",
       "      <th>13</th>\n",
       "      <td>a review of the shows I saw on Broadway includ...</td>\n",
       "      <td>11v99is</td>\n",
       "      <td>Long time Broadway lover and lurker of this pa...</td>\n",
       "      <td>katie_vk</td>\n",
       "      <td>3</td>\n",
       "      <td>14</td>\n",
       "      <td>0.89</td>\n",
       "    </tr>\n",
       "    <tr>\n",
       "      <th>22</th>\n",
       "      <td>Lottery odds - one ticket vs two?</td>\n",
       "      <td>119zt2o</td>\n",
       "      <td>As I’m sure many of you saw, they just opened ...</td>\n",
       "      <td>Yikes_Brigade</td>\n",
       "      <td>14</td>\n",
       "      <td>9</td>\n",
       "      <td>0.80</td>\n",
       "    </tr>\n",
       "    <tr>\n",
       "      <th>571</th>\n",
       "      <td>Any intel on when The Notebook is transferring...</td>\n",
       "      <td>10lsxu4</td>\n",
       "      <td>I saw it in Chicago, and it was so good! Surpr...</td>\n",
       "      <td>Abm0506</td>\n",
       "      <td>4</td>\n",
       "      <td>8</td>\n",
       "      <td>0.91</td>\n",
       "    </tr>\n",
       "    <tr>\n",
       "      <th>608</th>\n",
       "      <td>Piano Lesson</td>\n",
       "      <td>10k4zdm</td>\n",
       "      <td>With this being the final week of The Piano Le...</td>\n",
       "      <td>DistributionDry8301</td>\n",
       "      <td>10</td>\n",
       "      <td>3</td>\n",
       "      <td>1.00</td>\n",
       "    </tr>\n",
       "    <tr>\n",
       "      <th>29</th>\n",
       "      <td>Jukebox musical audiences</td>\n",
       "      <td>11v4ekj</td>\n",
       "      <td>In your experience, are jukebox musical audien...</td>\n",
       "      <td>aaes12</td>\n",
       "      <td>8</td>\n",
       "      <td>1</td>\n",
       "      <td>0.67</td>\n",
       "    </tr>\n",
       "    <tr>\n",
       "      <th>538</th>\n",
       "      <td>On this the International Holocaust Remembranc...</td>\n",
       "      <td>10mu64i</td>\n",
       "      <td>&amp;#x200B;\\n\\n[ Fiddler on the Roof, National Yi...</td>\n",
       "      <td>MikermanS</td>\n",
       "      <td>3</td>\n",
       "      <td>44</td>\n",
       "      <td>0.98</td>\n",
       "    </tr>\n",
       "    <tr>\n",
       "      <th>481</th>\n",
       "      <td>Tier List Just Because</td>\n",
       "      <td>11hdvcn</td>\n",
       "      <td>&amp;#x200B;\\n\\nhttps://preview.redd.it/ibnxyb7v2l...</td>\n",
       "      <td>Careless-Will6982</td>\n",
       "      <td>0</td>\n",
       "      <td>0</td>\n",
       "      <td>0.33</td>\n",
       "    </tr>\n",
       "    <tr>\n",
       "      <th>176</th>\n",
       "      <td>Blumenthal in Charlotte NC announcing season M...</td>\n",
       "      <td>11qpzqc</td>\n",
       "      <td>Leading with Moulin Rouge!</td>\n",
       "      <td>moonbee1010</td>\n",
       "      <td>1</td>\n",
       "      <td>0</td>\n",
       "      <td>0.50</td>\n",
       "    </tr>\n",
       "    <tr>\n",
       "      <th>474</th>\n",
       "      <td>Song Suggestions? Meta-Musicals \"Cabaret\" at m...</td>\n",
       "      <td>11h98qf</td>\n",
       "      <td>Hi everyone! My college is hosting a cabaret (...</td>\n",
       "      <td>flowerfox69</td>\n",
       "      <td>7</td>\n",
       "      <td>0</td>\n",
       "      <td>0.50</td>\n",
       "    </tr>\n",
       "  </tbody>\n",
       "</table>\n",
       "</div>"
      ],
      "text/plain": [
       "                                                 Title       Id  \\\n",
       "463  Why is the musical theater industry so centere...  10qo41h   \n",
       "13   a review of the shows I saw on Broadway includ...  11v99is   \n",
       "22                   Lottery odds - one ticket vs two?  119zt2o   \n",
       "571  Any intel on when The Notebook is transferring...  10lsxu4   \n",
       "608                                       Piano Lesson  10k4zdm   \n",
       "29                           Jukebox musical audiences  11v4ekj   \n",
       "538  On this the International Holocaust Remembranc...  10mu64i   \n",
       "481                             Tier List Just Because  11hdvcn   \n",
       "176  Blumenthal in Charlotte NC announcing season M...  11qpzqc   \n",
       "474  Song Suggestions? Meta-Musicals \"Cabaret\" at m...  11h98qf   \n",
       "\n",
       "                                                  Text               Author  \\\n",
       "463  I know New York is the epicenter and it makes ...         MembersClubs   \n",
       "13   Long time Broadway lover and lurker of this pa...             katie_vk   \n",
       "22   As I’m sure many of you saw, they just opened ...        Yikes_Brigade   \n",
       "571  I saw it in Chicago, and it was so good! Surpr...              Abm0506   \n",
       "608  With this being the final week of The Piano Le...  DistributionDry8301   \n",
       "29   In your experience, are jukebox musical audien...               aaes12   \n",
       "538  &#x200B;\\n\\n[ Fiddler on the Roof, National Yi...            MikermanS   \n",
       "481  &#x200B;\\n\\nhttps://preview.redd.it/ibnxyb7v2l...    Careless-Will6982   \n",
       "176                         Leading with Moulin Rouge!          moonbee1010   \n",
       "474  Hi everyone! My college is hosting a cabaret (...          flowerfox69   \n",
       "\n",
       "     Number of Comments  Number of upvotes  Ratio of Upvotes  \n",
       "463                  23                  0              0.21  \n",
       "13                    3                 14              0.89  \n",
       "22                   14                  9              0.80  \n",
       "571                   4                  8              0.91  \n",
       "608                  10                  3              1.00  \n",
       "29                    8                  1              0.67  \n",
       "538                   3                 44              0.98  \n",
       "481                   0                  0              0.33  \n",
       "176                   1                  0              0.50  \n",
       "474                   7                  0              0.50  "
      ]
     },
     "execution_count": 163,
     "metadata": {},
     "output_type": "execute_result"
    }
   ],
   "source": [
    "bwayData.sample(10)"
   ]
  },
  {
   "cell_type": "code",
   "execution_count": 164,
   "id": "b09d1fd4",
   "metadata": {},
   "outputs": [
    {
     "data": {
      "text/html": [
       "<div>\n",
       "<style scoped>\n",
       "    .dataframe tbody tr th:only-of-type {\n",
       "        vertical-align: middle;\n",
       "    }\n",
       "\n",
       "    .dataframe tbody tr th {\n",
       "        vertical-align: top;\n",
       "    }\n",
       "\n",
       "    .dataframe thead th {\n",
       "        text-align: right;\n",
       "    }\n",
       "</style>\n",
       "<table border=\"1\" class=\"dataframe\">\n",
       "  <thead>\n",
       "    <tr style=\"text-align: right;\">\n",
       "      <th></th>\n",
       "      <th>Title</th>\n",
       "      <th>Id</th>\n",
       "      <th>Text</th>\n",
       "      <th>Author</th>\n",
       "      <th>Number of Comments</th>\n",
       "      <th>Number of upvotes</th>\n",
       "      <th>Ratio of Upvotes</th>\n",
       "    </tr>\n",
       "  </thead>\n",
       "  <tbody>\n",
       "    <tr>\n",
       "      <th>269</th>\n",
       "      <td>Math specific requirements for EU unis</td>\n",
       "      <td>11icfdy</td>\n",
       "      <td>Is Canadian Calculus and Vectors (non-AP optio...</td>\n",
       "      <td>depressingfridge</td>\n",
       "      <td>0</td>\n",
       "      <td>1</td>\n",
       "      <td>1.00</td>\n",
       "    </tr>\n",
       "    <tr>\n",
       "      <th>299</th>\n",
       "      <td>Please help me decide which classes I should t...</td>\n",
       "      <td>10xdu3h</td>\n",
       "      <td>I’m a junior who has taken 2 years of math, bu...</td>\n",
       "      <td>Tammisthrowaway2147</td>\n",
       "      <td>2</td>\n",
       "      <td>3</td>\n",
       "      <td>1.00</td>\n",
       "    </tr>\n",
       "    <tr>\n",
       "      <th>308</th>\n",
       "      <td>FREE CHEGG DISCORD</td>\n",
       "      <td>11frqir</td>\n",
       "      <td>This chegg server is awesome, instant replies ...</td>\n",
       "      <td>Einsight22</td>\n",
       "      <td>2</td>\n",
       "      <td>0</td>\n",
       "      <td>0.33</td>\n",
       "    </tr>\n",
       "    <tr>\n",
       "      <th>287</th>\n",
       "      <td>Menstrual and Sexual Health Education in High ...</td>\n",
       "      <td>10xyg3a</td>\n",
       "      <td>Hi guys!\\n\\nI am a college student working on ...</td>\n",
       "      <td>leedle2135</td>\n",
       "      <td>0</td>\n",
       "      <td>1</td>\n",
       "      <td>1.00</td>\n",
       "    </tr>\n",
       "    <tr>\n",
       "      <th>720</th>\n",
       "      <td>I made a website where you can manage your hig...</td>\n",
       "      <td>10udvpk</td>\n",
       "      <td>You can keep track of your courses, check the ...</td>\n",
       "      <td>111The1The111</td>\n",
       "      <td>12</td>\n",
       "      <td>15</td>\n",
       "      <td>0.83</td>\n",
       "    </tr>\n",
       "    <tr>\n",
       "      <th>130</th>\n",
       "      <td>Take a 4th year of math?</td>\n",
       "      <td>1158umu</td>\n",
       "      <td>High School Advice\\n\\nI’m currently a junior i...</td>\n",
       "      <td>ethanxdeleon</td>\n",
       "      <td>1</td>\n",
       "      <td>1</td>\n",
       "      <td>1.00</td>\n",
       "    </tr>\n",
       "    <tr>\n",
       "      <th>187</th>\n",
       "      <td>Foreign languages class help</td>\n",
       "      <td>112p3pl</td>\n",
       "      <td>Hi, I'm a junior and I need to know how to get...</td>\n",
       "      <td>Jolly-Mistake-107</td>\n",
       "      <td>3</td>\n",
       "      <td>3</td>\n",
       "      <td>0.80</td>\n",
       "    </tr>\n",
       "    <tr>\n",
       "      <th>423</th>\n",
       "      <td>High school sports</td>\n",
       "      <td>11945dh</td>\n",
       "      <td>So I'm in high school right I'm a freshman pla...</td>\n",
       "      <td>Stanchpumpkin</td>\n",
       "      <td>7</td>\n",
       "      <td>3</td>\n",
       "      <td>0.71</td>\n",
       "    </tr>\n",
       "    <tr>\n",
       "      <th>686</th>\n",
       "      <td>Time Management w/ Hobbies</td>\n",
       "      <td>10wiri0</td>\n",
       "      <td>I feel like all I’ve done recently is work on ...</td>\n",
       "      <td>mercifie</td>\n",
       "      <td>1</td>\n",
       "      <td>1</td>\n",
       "      <td>1.00</td>\n",
       "    </tr>\n",
       "    <tr>\n",
       "      <th>696</th>\n",
       "      <td>I got THE ONE GUY I DIDN'T WANT FOR SEMESTER 2</td>\n",
       "      <td>10vrgy3</td>\n",
       "      <td>So my semester 2 is not that bad to be totally...</td>\n",
       "      <td>MrWingoTingo</td>\n",
       "      <td>1</td>\n",
       "      <td>4</td>\n",
       "      <td>1.00</td>\n",
       "    </tr>\n",
       "  </tbody>\n",
       "</table>\n",
       "</div>"
      ],
      "text/plain": [
       "                                                 Title       Id  \\\n",
       "269             Math specific requirements for EU unis  11icfdy   \n",
       "299  Please help me decide which classes I should t...  10xdu3h   \n",
       "308                                 FREE CHEGG DISCORD  11frqir   \n",
       "287  Menstrual and Sexual Health Education in High ...  10xyg3a   \n",
       "720  I made a website where you can manage your hig...  10udvpk   \n",
       "130                           Take a 4th year of math?  1158umu   \n",
       "187                       Foreign languages class help  112p3pl   \n",
       "423                                 High school sports  11945dh   \n",
       "686                         Time Management w/ Hobbies  10wiri0   \n",
       "696     I got THE ONE GUY I DIDN'T WANT FOR SEMESTER 2  10vrgy3   \n",
       "\n",
       "                                                  Text               Author  \\\n",
       "269  Is Canadian Calculus and Vectors (non-AP optio...     depressingfridge   \n",
       "299  I’m a junior who has taken 2 years of math, bu...  Tammisthrowaway2147   \n",
       "308  This chegg server is awesome, instant replies ...           Einsight22   \n",
       "287  Hi guys!\\n\\nI am a college student working on ...           leedle2135   \n",
       "720  You can keep track of your courses, check the ...        111The1The111   \n",
       "130  High School Advice\\n\\nI’m currently a junior i...         ethanxdeleon   \n",
       "187  Hi, I'm a junior and I need to know how to get...    Jolly-Mistake-107   \n",
       "423  So I'm in high school right I'm a freshman pla...        Stanchpumpkin   \n",
       "686  I feel like all I’ve done recently is work on ...             mercifie   \n",
       "696  So my semester 2 is not that bad to be totally...         MrWingoTingo   \n",
       "\n",
       "     Number of Comments  Number of upvotes  Ratio of Upvotes  \n",
       "269                   0                  1              1.00  \n",
       "299                   2                  3              1.00  \n",
       "308                   2                  0              0.33  \n",
       "287                   0                  1              1.00  \n",
       "720                  12                 15              0.83  \n",
       "130                   1                  1              1.00  \n",
       "187                   3                  3              0.80  \n",
       "423                   7                  3              0.71  \n",
       "686                   1                  1              1.00  \n",
       "696                   1                  4              1.00  "
      ]
     },
     "execution_count": 164,
     "metadata": {},
     "output_type": "execute_result"
    }
   ],
   "source": [
    "hsData.sample(10)"
   ]
  },
  {
   "cell_type": "code",
   "execution_count": 165,
   "id": "3c84498d",
   "metadata": {},
   "outputs": [
    {
     "data": {
      "text/html": [
       "<div>\n",
       "<style scoped>\n",
       "    .dataframe tbody tr th:only-of-type {\n",
       "        vertical-align: middle;\n",
       "    }\n",
       "\n",
       "    .dataframe tbody tr th {\n",
       "        vertical-align: top;\n",
       "    }\n",
       "\n",
       "    .dataframe thead th {\n",
       "        text-align: right;\n",
       "    }\n",
       "</style>\n",
       "<table border=\"1\" class=\"dataframe\">\n",
       "  <thead>\n",
       "    <tr style=\"text-align: right;\">\n",
       "      <th></th>\n",
       "      <th>Title</th>\n",
       "      <th>Id</th>\n",
       "      <th>Text</th>\n",
       "      <th>Author</th>\n",
       "      <th>Number of Comments</th>\n",
       "      <th>Number of upvotes</th>\n",
       "      <th>Ratio of Upvotes</th>\n",
       "    </tr>\n",
       "  </thead>\n",
       "  <tbody>\n",
       "    <tr>\n",
       "      <th>672</th>\n",
       "      <td>Classic Reddit: “Some of the dumbest people I'...</td>\n",
       "      <td>zsauqs</td>\n",
       "      <td>NaN</td>\n",
       "      <td>lovelydayfortoast</td>\n",
       "      <td>212</td>\n",
       "      <td>325</td>\n",
       "      <td>0.86</td>\n",
       "    </tr>\n",
       "    <tr>\n",
       "      <th>464</th>\n",
       "      <td>I’m currently interviewing for a new job in a ...</td>\n",
       "      <td>10hif6m</td>\n",
       "      <td>Thoughts appreciated. I’m in a small to averag...</td>\n",
       "      <td>weebvibes99</td>\n",
       "      <td>7</td>\n",
       "      <td>6</td>\n",
       "      <td>0.80</td>\n",
       "    </tr>\n",
       "    <tr>\n",
       "      <th>933</th>\n",
       "      <td>Are there non-arrhythmic reasons to give Amiod...</td>\n",
       "      <td>yxdcox</td>\n",
       "      <td>Hi all! Hoping someone can help put my mind at...</td>\n",
       "      <td>annabethtf13</td>\n",
       "      <td>66</td>\n",
       "      <td>36</td>\n",
       "      <td>0.91</td>\n",
       "    </tr>\n",
       "    <tr>\n",
       "      <th>204</th>\n",
       "      <td>Looking for additional information on mayo ECM...</td>\n",
       "      <td>117pxwl</td>\n",
       "      <td>https://www.jems.com/patient-care/mayo-clinic-...</td>\n",
       "      <td>Mitthrawnuruo</td>\n",
       "      <td>25</td>\n",
       "      <td>8</td>\n",
       "      <td>0.72</td>\n",
       "    </tr>\n",
       "    <tr>\n",
       "      <th>764</th>\n",
       "      <td>ChatGPT manages Acute MI</td>\n",
       "      <td>zhb5ba</td>\n",
       "      <td>Like everyone else on the internet, I've been ...</td>\n",
       "      <td>c3fepime</td>\n",
       "      <td>56</td>\n",
       "      <td>138</td>\n",
       "      <td>0.97</td>\n",
       "    </tr>\n",
       "    <tr>\n",
       "      <th>14</th>\n",
       "      <td>Thank you’s using internal hospital email</td>\n",
       "      <td>118mgem</td>\n",
       "      <td>My wife and I had to take our son to the ED at...</td>\n",
       "      <td>readitonreddit34</td>\n",
       "      <td>63</td>\n",
       "      <td>155</td>\n",
       "      <td>0.97</td>\n",
       "    </tr>\n",
       "    <tr>\n",
       "      <th>333</th>\n",
       "      <td>Delay in Time to Antibiotics for De Novo Inpat...</td>\n",
       "      <td>100jw9b</td>\n",
       "      <td>With all the fuss made around getting neutrope...</td>\n",
       "      <td>roccmyworld</td>\n",
       "      <td>45</td>\n",
       "      <td>82</td>\n",
       "      <td>0.82</td>\n",
       "    </tr>\n",
       "    <tr>\n",
       "      <th>217</th>\n",
       "      <td>Doctors At 2 Allina Health Campuses Seek Union...</td>\n",
       "      <td>114jhmu</td>\n",
       "      <td>NaN</td>\n",
       "      <td>Ejdubs</td>\n",
       "      <td>40</td>\n",
       "      <td>464</td>\n",
       "      <td>0.99</td>\n",
       "    </tr>\n",
       "    <tr>\n",
       "      <th>148</th>\n",
       "      <td>Spanish for Healthcare Professionals Courses -...</td>\n",
       "      <td>11dvd9w</td>\n",
       "      <td>I have recently been looking into getting my c...</td>\n",
       "      <td>phidelt649</td>\n",
       "      <td>38</td>\n",
       "      <td>56</td>\n",
       "      <td>0.91</td>\n",
       "    </tr>\n",
       "    <tr>\n",
       "      <th>853</th>\n",
       "      <td>Assembly Bill (AB) 1278</td>\n",
       "      <td>z7jnn9</td>\n",
       "      <td>Got this email from Medical Board of Californ...</td>\n",
       "      <td>sanarezai</td>\n",
       "      <td>2</td>\n",
       "      <td>3</td>\n",
       "      <td>1.00</td>\n",
       "    </tr>\n",
       "  </tbody>\n",
       "</table>\n",
       "</div>"
      ],
      "text/plain": [
       "                                                 Title       Id  \\\n",
       "672  Classic Reddit: “Some of the dumbest people I'...   zsauqs   \n",
       "464  I’m currently interviewing for a new job in a ...  10hif6m   \n",
       "933  Are there non-arrhythmic reasons to give Amiod...   yxdcox   \n",
       "204  Looking for additional information on mayo ECM...  117pxwl   \n",
       "764                           ChatGPT manages Acute MI   zhb5ba   \n",
       "14           Thank you’s using internal hospital email  118mgem   \n",
       "333  Delay in Time to Antibiotics for De Novo Inpat...  100jw9b   \n",
       "217  Doctors At 2 Allina Health Campuses Seek Union...  114jhmu   \n",
       "148  Spanish for Healthcare Professionals Courses -...  11dvd9w   \n",
       "853                            Assembly Bill (AB) 1278   z7jnn9   \n",
       "\n",
       "                                                  Text             Author  \\\n",
       "672                                                NaN  lovelydayfortoast   \n",
       "464  Thoughts appreciated. I’m in a small to averag...        weebvibes99   \n",
       "933  Hi all! Hoping someone can help put my mind at...       annabethtf13   \n",
       "204  https://www.jems.com/patient-care/mayo-clinic-...      Mitthrawnuruo   \n",
       "764  Like everyone else on the internet, I've been ...           c3fepime   \n",
       "14   My wife and I had to take our son to the ED at...   readitonreddit34   \n",
       "333  With all the fuss made around getting neutrope...        roccmyworld   \n",
       "217                                                NaN             Ejdubs   \n",
       "148  I have recently been looking into getting my c...         phidelt649   \n",
       "853   Got this email from Medical Board of Californ...          sanarezai   \n",
       "\n",
       "     Number of Comments  Number of upvotes  Ratio of Upvotes  \n",
       "672                 212                325              0.86  \n",
       "464                   7                  6              0.80  \n",
       "933                  66                 36              0.91  \n",
       "204                  25                  8              0.72  \n",
       "764                  56                138              0.97  \n",
       "14                   63                155              0.97  \n",
       "333                  45                 82              0.82  \n",
       "217                  40                464              0.99  \n",
       "148                  38                 56              0.91  \n",
       "853                   2                  3              1.00  "
      ]
     },
     "execution_count": 165,
     "metadata": {},
     "output_type": "execute_result"
    }
   ],
   "source": [
    "medData.sample(10)"
   ]
  },
  {
   "cell_type": "code",
   "execution_count": 166,
   "id": "d2f3a9fa",
   "metadata": {},
   "outputs": [
    {
     "data": {
      "text/html": [
       "<div>\n",
       "<style scoped>\n",
       "    .dataframe tbody tr th:only-of-type {\n",
       "        vertical-align: middle;\n",
       "    }\n",
       "\n",
       "    .dataframe tbody tr th {\n",
       "        vertical-align: top;\n",
       "    }\n",
       "\n",
       "    .dataframe thead th {\n",
       "        text-align: right;\n",
       "    }\n",
       "</style>\n",
       "<table border=\"1\" class=\"dataframe\">\n",
       "  <thead>\n",
       "    <tr style=\"text-align: right;\">\n",
       "      <th></th>\n",
       "      <th>Title</th>\n",
       "      <th>Id</th>\n",
       "      <th>Text</th>\n",
       "      <th>Author</th>\n",
       "      <th>Number of Comments</th>\n",
       "      <th>Number of upvotes</th>\n",
       "      <th>Ratio of Upvotes</th>\n",
       "    </tr>\n",
       "  </thead>\n",
       "  <tbody>\n",
       "    <tr>\n",
       "      <th>510</th>\n",
       "      <td>What do I do if I lose my social security card?</td>\n",
       "      <td>1194kqx</td>\n",
       "      <td>I moved out of my house for good last year, an...</td>\n",
       "      <td>Ok-Chemical-2275</td>\n",
       "      <td>3</td>\n",
       "      <td>2</td>\n",
       "      <td>1.00</td>\n",
       "    </tr>\n",
       "    <tr>\n",
       "      <th>364</th>\n",
       "      <td>Feel as if I’m constantly being scammed</td>\n",
       "      <td>11dy4a8</td>\n",
       "      <td>I’ve grown a little bit wiser now that I’m alm...</td>\n",
       "      <td>BrianArmstro</td>\n",
       "      <td>182</td>\n",
       "      <td>336</td>\n",
       "      <td>0.96</td>\n",
       "    </tr>\n",
       "    <tr>\n",
       "      <th>384</th>\n",
       "      <td>can I send priority mail from my home?</td>\n",
       "      <td>11edi70</td>\n",
       "      <td>I have some important documents to send ASAP t...</td>\n",
       "      <td>AcatSkates</td>\n",
       "      <td>3</td>\n",
       "      <td>2</td>\n",
       "      <td>1.00</td>\n",
       "    </tr>\n",
       "    <tr>\n",
       "      <th>644</th>\n",
       "      <td>Getting an autism report from GP?</td>\n",
       "      <td>1132aj5</td>\n",
       "      <td>Hi, I know this isn't the best subreddit to as...</td>\n",
       "      <td>alasfinallyaname</td>\n",
       "      <td>5</td>\n",
       "      <td>2</td>\n",
       "      <td>0.75</td>\n",
       "    </tr>\n",
       "    <tr>\n",
       "      <th>127</th>\n",
       "      <td>25 going on 26, what the fuck am I doing</td>\n",
       "      <td>115vuio</td>\n",
       "      <td>I am in a career I don’t know where I want to ...</td>\n",
       "      <td>doodoobopbop</td>\n",
       "      <td>4</td>\n",
       "      <td>9</td>\n",
       "      <td>1.00</td>\n",
       "    </tr>\n",
       "    <tr>\n",
       "      <th>104</th>\n",
       "      <td>What would you tell your younger self to help ...</td>\n",
       "      <td>11rhkz6</td>\n",
       "      <td>From a teen who wants to be ready</td>\n",
       "      <td>Nerdy-AND-Cool</td>\n",
       "      <td>7</td>\n",
       "      <td>2</td>\n",
       "      <td>0.75</td>\n",
       "    </tr>\n",
       "    <tr>\n",
       "      <th>450</th>\n",
       "      <td>Jury duty?</td>\n",
       "      <td>11bfbk5</td>\n",
       "      <td>I was summoned for jury duty last year in May,...</td>\n",
       "      <td>somuchregretti</td>\n",
       "      <td>13</td>\n",
       "      <td>12</td>\n",
       "      <td>0.81</td>\n",
       "    </tr>\n",
       "    <tr>\n",
       "      <th>172</th>\n",
       "      <td>Those of you who get paid hourly, do you have ...</td>\n",
       "      <td>11o46fc</td>\n",
       "      <td>Vice versa. Do those with a salary get less be...</td>\n",
       "      <td>712588Kf</td>\n",
       "      <td>7</td>\n",
       "      <td>6</td>\n",
       "      <td>1.00</td>\n",
       "    </tr>\n",
       "    <tr>\n",
       "      <th>78</th>\n",
       "      <td>Can't seem to find balance in my life.</td>\n",
       "      <td>117s70n</td>\n",
       "      <td>I sleep around 2am - 230am and wake up at 730a...</td>\n",
       "      <td>jaeha99</td>\n",
       "      <td>85</td>\n",
       "      <td>96</td>\n",
       "      <td>0.95</td>\n",
       "    </tr>\n",
       "    <tr>\n",
       "      <th>469</th>\n",
       "      <td>How to manage stress when you have no choice b...</td>\n",
       "      <td>10pv7ub</td>\n",
       "      <td>All the stress management advice on the intern...</td>\n",
       "      <td>shanwithareddit</td>\n",
       "      <td>55</td>\n",
       "      <td>105</td>\n",
       "      <td>0.98</td>\n",
       "    </tr>\n",
       "  </tbody>\n",
       "</table>\n",
       "</div>"
      ],
      "text/plain": [
       "                                                 Title       Id  \\\n",
       "510    What do I do if I lose my social security card?  1194kqx   \n",
       "364            Feel as if I’m constantly being scammed  11dy4a8   \n",
       "384             can I send priority mail from my home?  11edi70   \n",
       "644                  Getting an autism report from GP?  1132aj5   \n",
       "127           25 going on 26, what the fuck am I doing  115vuio   \n",
       "104  What would you tell your younger self to help ...  11rhkz6   \n",
       "450                                         Jury duty?  11bfbk5   \n",
       "172  Those of you who get paid hourly, do you have ...  11o46fc   \n",
       "78              Can't seem to find balance in my life.  117s70n   \n",
       "469  How to manage stress when you have no choice b...  10pv7ub   \n",
       "\n",
       "                                                  Text            Author  \\\n",
       "510  I moved out of my house for good last year, an...  Ok-Chemical-2275   \n",
       "364  I’ve grown a little bit wiser now that I’m alm...      BrianArmstro   \n",
       "384  I have some important documents to send ASAP t...        AcatSkates   \n",
       "644  Hi, I know this isn't the best subreddit to as...  alasfinallyaname   \n",
       "127  I am in a career I don’t know where I want to ...      doodoobopbop   \n",
       "104                  From a teen who wants to be ready    Nerdy-AND-Cool   \n",
       "450  I was summoned for jury duty last year in May,...    somuchregretti   \n",
       "172  Vice versa. Do those with a salary get less be...          712588Kf   \n",
       "78   I sleep around 2am - 230am and wake up at 730a...           jaeha99   \n",
       "469  All the stress management advice on the intern...   shanwithareddit   \n",
       "\n",
       "     Number of Comments  Number of upvotes  Ratio of Upvotes  \n",
       "510                   3                  2              1.00  \n",
       "364                 182                336              0.96  \n",
       "384                   3                  2              1.00  \n",
       "644                   5                  2              0.75  \n",
       "127                   4                  9              1.00  \n",
       "104                   7                  2              0.75  \n",
       "450                  13                 12              0.81  \n",
       "172                   7                  6              1.00  \n",
       "78                   85                 96              0.95  \n",
       "469                  55                105              0.98  "
      ]
     },
     "execution_count": 166,
     "metadata": {},
     "output_type": "execute_result"
    }
   ],
   "source": [
    "adData.sample(10)"
   ]
  },
  {
   "cell_type": "code",
   "execution_count": 167,
   "id": "1c4f224f",
   "metadata": {
    "scrolled": true
   },
   "outputs": [
    {
     "data": {
      "text/html": [
       "<div>\n",
       "<style scoped>\n",
       "    .dataframe tbody tr th:only-of-type {\n",
       "        vertical-align: middle;\n",
       "    }\n",
       "\n",
       "    .dataframe tbody tr th {\n",
       "        vertical-align: top;\n",
       "    }\n",
       "\n",
       "    .dataframe thead th {\n",
       "        text-align: right;\n",
       "    }\n",
       "</style>\n",
       "<table border=\"1\" class=\"dataframe\">\n",
       "  <thead>\n",
       "    <tr style=\"text-align: right;\">\n",
       "      <th></th>\n",
       "      <th>Title</th>\n",
       "      <th>Id</th>\n",
       "      <th>Text</th>\n",
       "      <th>Author</th>\n",
       "      <th>Number of Comments</th>\n",
       "      <th>Number of upvotes</th>\n",
       "      <th>Ratio of Upvotes</th>\n",
       "    </tr>\n",
       "  </thead>\n",
       "  <tbody>\n",
       "    <tr>\n",
       "      <th>261</th>\n",
       "      <td>I am in a video game development team that use...</td>\n",
       "      <td>11v5t3g</td>\n",
       "      <td>Basically, the game is an alternate history sp...</td>\n",
       "      <td>PolarisStar05</td>\n",
       "      <td>0</td>\n",
       "      <td>2</td>\n",
       "      <td>0.67</td>\n",
       "    </tr>\n",
       "    <tr>\n",
       "      <th>667</th>\n",
       "      <td>Are legal jurisdictions in contracts enforceab...</td>\n",
       "      <td>11twaqo</td>\n",
       "      <td>If a vehicle was purchased in County A and pur...</td>\n",
       "      <td>Fit-Pitch-9550</td>\n",
       "      <td>1</td>\n",
       "      <td>1</td>\n",
       "      <td>1.00</td>\n",
       "    </tr>\n",
       "    <tr>\n",
       "      <th>736</th>\n",
       "      <td>My job is threatening to fire me over a raise</td>\n",
       "      <td>11twasu</td>\n",
       "      <td>Hello to all the people here. I right now work...</td>\n",
       "      <td>ColinTheBossReal</td>\n",
       "      <td>3</td>\n",
       "      <td>0</td>\n",
       "      <td>0.25</td>\n",
       "    </tr>\n",
       "    <tr>\n",
       "      <th>14</th>\n",
       "      <td>Oregon. Got “secret admirer” texts. Found out ...</td>\n",
       "      <td>11vdf9x</td>\n",
       "      <td>For the last few days, I have been getting tex...</td>\n",
       "      <td>ChinUpNoseDown</td>\n",
       "      <td>23</td>\n",
       "      <td>73</td>\n",
       "      <td>0.90</td>\n",
       "    </tr>\n",
       "    <tr>\n",
       "      <th>382</th>\n",
       "      <td>Monterey park CA</td>\n",
       "      <td>11ut7gl</td>\n",
       "      <td>Accused of Robery during sale of a car\\n\\nRefu...</td>\n",
       "      <td>Individual_Trade394</td>\n",
       "      <td>12</td>\n",
       "      <td>0</td>\n",
       "      <td>0.36</td>\n",
       "    </tr>\n",
       "    <tr>\n",
       "      <th>792</th>\n",
       "      <td>Employer told me I had to stay at work after c...</td>\n",
       "      <td>11te209</td>\n",
       "      <td>I work at a veterinary office in Utah (USA). W...</td>\n",
       "      <td>Savings_Telephone_42</td>\n",
       "      <td>3</td>\n",
       "      <td>2</td>\n",
       "      <td>0.75</td>\n",
       "    </tr>\n",
       "    <tr>\n",
       "      <th>43</th>\n",
       "      <td>Security Deposit from renting</td>\n",
       "      <td>11vrvg9</td>\n",
       "      <td>So I lived in an apartment for a little over 4...</td>\n",
       "      <td>T-rev3</td>\n",
       "      <td>5</td>\n",
       "      <td>2</td>\n",
       "      <td>1.00</td>\n",
       "    </tr>\n",
       "    <tr>\n",
       "      <th>363</th>\n",
       "      <td>Medical Malpractice / Fuddled healthcare turns...</td>\n",
       "      <td>11v2xuw</td>\n",
       "      <td>I am wondering if anyone has any information o...</td>\n",
       "      <td>SonaraSounds</td>\n",
       "      <td>10</td>\n",
       "      <td>0</td>\n",
       "      <td>0.38</td>\n",
       "    </tr>\n",
       "    <tr>\n",
       "      <th>369</th>\n",
       "      <td>min hour contracts</td>\n",
       "      <td>11uv630</td>\n",
       "      <td>My employer has me on minimum hour contract. I...</td>\n",
       "      <td>Obvious_Owl_4349</td>\n",
       "      <td>6</td>\n",
       "      <td>0</td>\n",
       "      <td>0.33</td>\n",
       "    </tr>\n",
       "    <tr>\n",
       "      <th>337</th>\n",
       "      <td>min hour contracts</td>\n",
       "      <td>11uv630</td>\n",
       "      <td>My employer has me on minimum hour contract. I...</td>\n",
       "      <td>Obvious_Owl_4349</td>\n",
       "      <td>6</td>\n",
       "      <td>0</td>\n",
       "      <td>0.33</td>\n",
       "    </tr>\n",
       "  </tbody>\n",
       "</table>\n",
       "</div>"
      ],
      "text/plain": [
       "                                                 Title       Id  \\\n",
       "261  I am in a video game development team that use...  11v5t3g   \n",
       "667  Are legal jurisdictions in contracts enforceab...  11twaqo   \n",
       "736      My job is threatening to fire me over a raise  11twasu   \n",
       "14   Oregon. Got “secret admirer” texts. Found out ...  11vdf9x   \n",
       "382                                   Monterey park CA  11ut7gl   \n",
       "792  Employer told me I had to stay at work after c...  11te209   \n",
       "43                       Security Deposit from renting  11vrvg9   \n",
       "363  Medical Malpractice / Fuddled healthcare turns...  11v2xuw   \n",
       "369                                 min hour contracts  11uv630   \n",
       "337                                 min hour contracts  11uv630   \n",
       "\n",
       "                                                  Text                Author  \\\n",
       "261  Basically, the game is an alternate history sp...         PolarisStar05   \n",
       "667  If a vehicle was purchased in County A and pur...        Fit-Pitch-9550   \n",
       "736  Hello to all the people here. I right now work...      ColinTheBossReal   \n",
       "14   For the last few days, I have been getting tex...        ChinUpNoseDown   \n",
       "382  Accused of Robery during sale of a car\\n\\nRefu...   Individual_Trade394   \n",
       "792  I work at a veterinary office in Utah (USA). W...  Savings_Telephone_42   \n",
       "43   So I lived in an apartment for a little over 4...                T-rev3   \n",
       "363  I am wondering if anyone has any information o...          SonaraSounds   \n",
       "369  My employer has me on minimum hour contract. I...      Obvious_Owl_4349   \n",
       "337  My employer has me on minimum hour contract. I...      Obvious_Owl_4349   \n",
       "\n",
       "     Number of Comments  Number of upvotes  Ratio of Upvotes  \n",
       "261                   0                  2              0.67  \n",
       "667                   1                  1              1.00  \n",
       "736                   3                  0              0.25  \n",
       "14                   23                 73              0.90  \n",
       "382                  12                  0              0.36  \n",
       "792                   3                  2              0.75  \n",
       "43                    5                  2              1.00  \n",
       "363                  10                  0              0.38  \n",
       "369                   6                  0              0.33  \n",
       "337                   6                  0              0.33  "
      ]
     },
     "execution_count": 167,
     "metadata": {},
     "output_type": "execute_result"
    }
   ],
   "source": [
    "legalData.sample(10)"
   ]
  },
  {
   "cell_type": "markdown",
   "id": "bb570481",
   "metadata": {},
   "source": [
    "## New CSV Files"
   ]
  },
  {
   "cell_type": "code",
   "execution_count": 168,
   "id": "284a292d",
   "metadata": {},
   "outputs": [],
   "source": [
    "legalData.to_csv('finalLegalData.csv')\n",
    "adData.to_csv('finalAdData.csv')\n",
    "medData.to_csv('finalMedData.csv')\n",
    "hsData.to_csv('finalHsData.csv')\n",
    "bwayData.to_csv('finalBwayData.csv')\n",
    "pghData.to_csv('finalPghData.csv')\n",
    "rantData.to_csv('finalRantData.csv')\n",
    "ccqData.to_csv('finalCcqData.csv')\n",
    "animeData.to_csv('finalAnimeData.csv')\n",
    "elifData.to_csv('finalElifData.csv')\n",
    "collegeData.to_csv('finalCollegeData.csv')\n",
    "sportsData.to_csv('finalSportsData.csv')\n",
    "cryptoData.to_csv('finalCryptoData.csv')\n",
    "lawyerData.to_csv('finalLawyerData.csv')\n",
    "gamingData.to_csv('finalGamingData.csv')"
   ]
  }
 ],
 "metadata": {
  "kernelspec": {
   "display_name": "Python 3 (ipykernel)",
   "language": "python",
   "name": "python3"
  },
  "language_info": {
   "codemirror_mode": {
    "name": "ipython",
    "version": 3
   },
   "file_extension": ".py",
   "mimetype": "text/x-python",
   "name": "python",
   "nbconvert_exporter": "python",
   "pygments_lexer": "ipython3",
   "version": "3.9.13"
  }
 },
 "nbformat": 4,
 "nbformat_minor": 5
}
