{
 "cells": [
  {
   "cell_type": "markdown",
   "id": "284765c6",
   "metadata": {},
   "source": [
    "# Data Organization"
   ]
  },
  {
   "cell_type": "markdown",
   "id": "bd5f2f10",
   "metadata": {},
   "source": [
    "**Outline**\n",
    "1. [Legal Talk](#Legal-Talk)\n",
    "2. [Adulting](#Adulting)\n",
    "3. [Medicine](#Medicine)\n",
    "4. [High School](#High-School)\n",
    "5. [Broadway](#Broadway)\n",
    "6. [Pittsburgh](#Pittsburgh)\n",
    "7. [Rant](#Rant)\n",
    "8. [CS Career Questions](#CS-Career-Questions)\n",
    "9. [Anime](#Anime)\n",
    "10. [Explain Like I'm Five](#Explain-Like-I'm-Five)\n",
    "11. [College](#College)\n",
    "12. [NBA](#NBA)\n",
    "13. [Cryptocurrency](#Cryptocurrency)\n",
    "14. [Lawyer Talk](#Lawyer-Talk)\n",
    "15. [Gaming](#Gaming)\n",
    "16. [Calculations](#Calculations)\n",
    "17. [Dropping Entries](#Dropping-Entries)\n",
    "18. [Cleaning Up](#Cleaning-Up)\n",
    "19. [Final Dataframes](#Final-Dataframes)\n",
    "20. [New CSV Files](#New-CSV-Files)"
   ]
  },
  {
   "cell_type": "markdown",
   "id": "4aed5662",
   "metadata": {},
   "source": [
    "## Purpose\n"
   ]
  },
  {
   "cell_type": "markdown",
   "id": "4b3719eb",
   "metadata": {},
   "source": [
    "The purpose of this notebook is to combine the two .csv files per subreddit and ensure equal posts across all subreddits for analysis purposes. One .csv file corresponds to 'hot' posts and one .csv file corresponds to 'new' posts."
   ]
  },
  {
   "cell_type": "code",
   "execution_count": 1,
   "id": "98d01780",
   "metadata": {},
   "outputs": [],
   "source": [
    "import pandas as pd"
   ]
  },
  {
   "cell_type": "code",
   "execution_count": 2,
   "id": "353543c2",
   "metadata": {},
   "outputs": [],
   "source": [
    "# This will keep track of the size of all of the combined csv files\n",
    "entriesCount = []"
   ]
  },
  {
   "cell_type": "markdown",
   "id": "afec2b62",
   "metadata": {},
   "source": [
    "## Legal Talk"
   ]
  },
  {
   "cell_type": "code",
   "execution_count": 3,
   "id": "03bafe76",
   "metadata": {},
   "outputs": [],
   "source": [
    "# Reading in the csv files\n",
    "legalDataNew = pd.read_csv(\"../data/legalData.csv\")\n",
    "legalDataHot = pd.read_csv(\"../data/legalData2.csv\")"
   ]
  },
  {
   "cell_type": "code",
   "execution_count": 4,
   "id": "178287ef",
   "metadata": {},
   "outputs": [
    {
     "data": {
      "text/plain": [
       "(986, 8)"
      ]
     },
     "execution_count": 4,
     "metadata": {},
     "output_type": "execute_result"
    }
   ],
   "source": [
    "# Getting the shape\n",
    "legalDataNew.shape"
   ]
  },
  {
   "cell_type": "code",
   "execution_count": 5,
   "id": "9ad4ef99",
   "metadata": {
    "scrolled": true
   },
   "outputs": [
    {
     "data": {
      "text/plain": [
       "(990, 8)"
      ]
     },
     "execution_count": 5,
     "metadata": {},
     "output_type": "execute_result"
    }
   ],
   "source": [
    "legalDataHot.shape"
   ]
  },
  {
   "cell_type": "code",
   "execution_count": 6,
   "id": "b85356af",
   "metadata": {
    "scrolled": true
   },
   "outputs": [
    {
     "data": {
      "text/plain": [
       "(1976, 8)"
      ]
     },
     "execution_count": 6,
     "metadata": {},
     "output_type": "execute_result"
    }
   ],
   "source": [
    "# Concatinating the dataframes together, to make one big dataframe\n",
    "legalData = pd.concat([legalDataHot, legalDataNew])\n",
    "legalData.shape"
   ]
  },
  {
   "cell_type": "code",
   "execution_count": 7,
   "id": "2fa7aed9",
   "metadata": {},
   "outputs": [],
   "source": [
    "# Dropping duplicates\n",
    "legalData = legalData.drop_duplicates(keep=False)"
   ]
  },
  {
   "cell_type": "code",
   "execution_count": 8,
   "id": "ca6601f1",
   "metadata": {},
   "outputs": [
    {
     "data": {
      "text/plain": [
       "(1962, 8)"
      ]
     },
     "execution_count": 8,
     "metadata": {},
     "output_type": "execute_result"
    }
   ],
   "source": [
    "# Final shape\n",
    "legalData.shape"
   ]
  },
  {
   "cell_type": "code",
   "execution_count": 9,
   "id": "ccae584e",
   "metadata": {},
   "outputs": [],
   "source": [
    "# Keeping track of the size of all of the final dataframes\n",
    "entriesCount.append(legalData.shape[0])"
   ]
  },
  {
   "cell_type": "markdown",
   "id": "909e0748",
   "metadata": {},
   "source": [
    "The process outlined above for the legalData is repeated for every subreddit...."
   ]
  },
  {
   "cell_type": "markdown",
   "id": "42e69a4c",
   "metadata": {},
   "source": [
    "## Adulting"
   ]
  },
  {
   "cell_type": "code",
   "execution_count": 10,
   "id": "8b4b53de",
   "metadata": {},
   "outputs": [],
   "source": [
    "adDataNew = pd.read_csv(\"../data/adData.csv\")\n",
    "adDataHot = pd.read_csv(\"../data/adData2.csv\")"
   ]
  },
  {
   "cell_type": "code",
   "execution_count": 11,
   "id": "9cd02c0a",
   "metadata": {},
   "outputs": [
    {
     "data": {
      "text/plain": [
       "(823, 8)"
      ]
     },
     "execution_count": 11,
     "metadata": {},
     "output_type": "execute_result"
    }
   ],
   "source": [
    "adDataNew.shape"
   ]
  },
  {
   "cell_type": "code",
   "execution_count": 12,
   "id": "2196aa05",
   "metadata": {},
   "outputs": [
    {
     "data": {
      "text/plain": [
       "(847, 8)"
      ]
     },
     "execution_count": 12,
     "metadata": {},
     "output_type": "execute_result"
    }
   ],
   "source": [
    "adDataHot.shape"
   ]
  },
  {
   "cell_type": "code",
   "execution_count": 13,
   "id": "5967453f",
   "metadata": {},
   "outputs": [
    {
     "data": {
      "text/plain": [
       "(1670, 8)"
      ]
     },
     "execution_count": 13,
     "metadata": {},
     "output_type": "execute_result"
    }
   ],
   "source": [
    "adData = pd.concat([adDataHot, adDataNew])\n",
    "adData.shape"
   ]
  },
  {
   "cell_type": "code",
   "execution_count": 14,
   "id": "250d2a6f",
   "metadata": {},
   "outputs": [],
   "source": [
    "adData = adData.drop_duplicates(keep=False)"
   ]
  },
  {
   "cell_type": "code",
   "execution_count": 15,
   "id": "592f5e10",
   "metadata": {},
   "outputs": [
    {
     "data": {
      "text/plain": [
       "(1670, 8)"
      ]
     },
     "execution_count": 15,
     "metadata": {},
     "output_type": "execute_result"
    }
   ],
   "source": [
    "adData.shape"
   ]
  },
  {
   "cell_type": "code",
   "execution_count": 16,
   "id": "4b82622f",
   "metadata": {},
   "outputs": [],
   "source": [
    "entriesCount.append(adData.shape[0])"
   ]
  },
  {
   "cell_type": "markdown",
   "id": "da5e9bb3",
   "metadata": {},
   "source": [
    "## Medicine"
   ]
  },
  {
   "cell_type": "code",
   "execution_count": 17,
   "id": "45f58b5d",
   "metadata": {},
   "outputs": [],
   "source": [
    "medDataNew = pd.read_csv(\"../data/medData.csv\")\n",
    "medDataHot = pd.read_csv(\"../data/medData2.csv\")"
   ]
  },
  {
   "cell_type": "code",
   "execution_count": 18,
   "id": "88a46594",
   "metadata": {},
   "outputs": [
    {
     "data": {
      "text/plain": [
       "(759, 8)"
      ]
     },
     "execution_count": 18,
     "metadata": {},
     "output_type": "execute_result"
    }
   ],
   "source": [
    "medDataNew.shape"
   ]
  },
  {
   "cell_type": "code",
   "execution_count": 19,
   "id": "c950ad99",
   "metadata": {},
   "outputs": [
    {
     "data": {
      "text/plain": [
       "(973, 8)"
      ]
     },
     "execution_count": 19,
     "metadata": {},
     "output_type": "execute_result"
    }
   ],
   "source": [
    "medDataHot.shape"
   ]
  },
  {
   "cell_type": "code",
   "execution_count": 20,
   "id": "cf7bad94",
   "metadata": {},
   "outputs": [
    {
     "data": {
      "text/plain": [
       "(1732, 8)"
      ]
     },
     "execution_count": 20,
     "metadata": {},
     "output_type": "execute_result"
    }
   ],
   "source": [
    "medData = pd.concat([medDataHot, medDataNew])\n",
    "medData.shape"
   ]
  },
  {
   "cell_type": "code",
   "execution_count": 21,
   "id": "f56ac14d",
   "metadata": {},
   "outputs": [],
   "source": [
    "medData = medData.drop_duplicates(keep=False)"
   ]
  },
  {
   "cell_type": "code",
   "execution_count": 22,
   "id": "35910a6a",
   "metadata": {},
   "outputs": [
    {
     "data": {
      "text/plain": [
       "(1732, 8)"
      ]
     },
     "execution_count": 22,
     "metadata": {},
     "output_type": "execute_result"
    }
   ],
   "source": [
    "medData.shape"
   ]
  },
  {
   "cell_type": "code",
   "execution_count": 23,
   "id": "9e630014",
   "metadata": {},
   "outputs": [],
   "source": [
    "entriesCount.append(medData.shape[0])"
   ]
  },
  {
   "cell_type": "markdown",
   "id": "7368130a",
   "metadata": {},
   "source": [
    "## High School"
   ]
  },
  {
   "cell_type": "code",
   "execution_count": 24,
   "id": "cea3ed0c",
   "metadata": {},
   "outputs": [],
   "source": [
    "hsDataNew = pd.read_csv(\"../data/hsData.csv\")\n",
    "hsDataHot = pd.read_csv(\"../data/hsData2.csv\")"
   ]
  },
  {
   "cell_type": "code",
   "execution_count": 25,
   "id": "31898cfc",
   "metadata": {},
   "outputs": [
    {
     "data": {
      "text/plain": [
       "(774, 8)"
      ]
     },
     "execution_count": 25,
     "metadata": {},
     "output_type": "execute_result"
    }
   ],
   "source": [
    "hsDataNew.shape"
   ]
  },
  {
   "cell_type": "code",
   "execution_count": 26,
   "id": "fed268b5",
   "metadata": {},
   "outputs": [
    {
     "data": {
      "text/plain": [
       "(805, 8)"
      ]
     },
     "execution_count": 26,
     "metadata": {},
     "output_type": "execute_result"
    }
   ],
   "source": [
    "hsDataHot.shape"
   ]
  },
  {
   "cell_type": "code",
   "execution_count": 27,
   "id": "bfc06977",
   "metadata": {},
   "outputs": [
    {
     "data": {
      "text/plain": [
       "(1579, 8)"
      ]
     },
     "execution_count": 27,
     "metadata": {},
     "output_type": "execute_result"
    }
   ],
   "source": [
    "hsData = pd.concat([hsDataHot, hsDataNew])\n",
    "hsData.shape"
   ]
  },
  {
   "cell_type": "code",
   "execution_count": 28,
   "id": "c990db93",
   "metadata": {},
   "outputs": [],
   "source": [
    "hsData = hsData.drop_duplicates(keep=False)"
   ]
  },
  {
   "cell_type": "code",
   "execution_count": 29,
   "id": "59c96142",
   "metadata": {
    "scrolled": true
   },
   "outputs": [
    {
     "data": {
      "text/plain": [
       "(1579, 8)"
      ]
     },
     "execution_count": 29,
     "metadata": {},
     "output_type": "execute_result"
    }
   ],
   "source": [
    "hsData.shape"
   ]
  },
  {
   "cell_type": "code",
   "execution_count": 30,
   "id": "2e0b5635",
   "metadata": {},
   "outputs": [],
   "source": [
    "entriesCount.append(hsData.shape[0])"
   ]
  },
  {
   "cell_type": "markdown",
   "id": "01916b5e",
   "metadata": {},
   "source": [
    "## Broadway"
   ]
  },
  {
   "cell_type": "code",
   "execution_count": 31,
   "id": "6aef9607",
   "metadata": {},
   "outputs": [],
   "source": [
    "bwayDataNew = pd.read_csv(\"../data/bwayData.csv\")\n",
    "bwayDataNew2 = pd.read_csv(\"../data/bwayData3.csv\")\n",
    "bwayDataHot = pd.read_csv(\"../data/bwayData2.csv\")"
   ]
  },
  {
   "cell_type": "code",
   "execution_count": 32,
   "id": "059f2add",
   "metadata": {},
   "outputs": [
    {
     "data": {
      "text/plain": [
       "(642, 8)"
      ]
     },
     "execution_count": 32,
     "metadata": {},
     "output_type": "execute_result"
    }
   ],
   "source": [
    "bwayDataNew.shape"
   ]
  },
  {
   "cell_type": "code",
   "execution_count": 33,
   "id": "2afe7bee",
   "metadata": {},
   "outputs": [
    {
     "data": {
      "text/plain": [
       "(633, 8)"
      ]
     },
     "execution_count": 33,
     "metadata": {},
     "output_type": "execute_result"
    }
   ],
   "source": [
    "bwayDataHot.shape"
   ]
  },
  {
   "cell_type": "code",
   "execution_count": 34,
   "id": "1fee3f5c",
   "metadata": {},
   "outputs": [
    {
     "data": {
      "text/plain": [
       "(629, 8)"
      ]
     },
     "execution_count": 34,
     "metadata": {},
     "output_type": "execute_result"
    }
   ],
   "source": [
    "bwayDataNew2.shape"
   ]
  },
  {
   "cell_type": "code",
   "execution_count": 35,
   "id": "121976b3",
   "metadata": {},
   "outputs": [
    {
     "data": {
      "text/plain": [
       "(1904, 8)"
      ]
     },
     "execution_count": 35,
     "metadata": {},
     "output_type": "execute_result"
    }
   ],
   "source": [
    "bwayData = pd.concat([bwayDataHot, bwayDataNew, bwayDataNew2])\n",
    "bwayData.shape"
   ]
  },
  {
   "cell_type": "code",
   "execution_count": 36,
   "id": "b1242bc5",
   "metadata": {},
   "outputs": [],
   "source": [
    "bwayData = bwayData.drop_duplicates(keep=False)"
   ]
  },
  {
   "cell_type": "code",
   "execution_count": 37,
   "id": "5e5a7eca",
   "metadata": {
    "scrolled": true
   },
   "outputs": [
    {
     "data": {
      "text/plain": [
       "(1900, 8)"
      ]
     },
     "execution_count": 37,
     "metadata": {},
     "output_type": "execute_result"
    }
   ],
   "source": [
    "bwayData.shape"
   ]
  },
  {
   "cell_type": "code",
   "execution_count": 38,
   "id": "1ea540ca",
   "metadata": {},
   "outputs": [],
   "source": [
    "entriesCount.append(bwayData.shape[0])"
   ]
  },
  {
   "cell_type": "markdown",
   "id": "bbedf8d2",
   "metadata": {},
   "source": [
    "## Pittsburgh"
   ]
  },
  {
   "cell_type": "code",
   "execution_count": 39,
   "id": "d20f79a2",
   "metadata": {},
   "outputs": [],
   "source": [
    "pghDataNew = pd.read_csv(\"../data/pghData.csv\")\n",
    "pghDataNew2 = pd.read_csv(\"../data/pghData3.csv\")\n",
    "pghDataHot = pd.read_csv(\"../data/pghData2.csv\")"
   ]
  },
  {
   "cell_type": "code",
   "execution_count": 40,
   "id": "6943ce17",
   "metadata": {},
   "outputs": [
    {
     "data": {
      "text/plain": [
       "(624, 8)"
      ]
     },
     "execution_count": 40,
     "metadata": {},
     "output_type": "execute_result"
    }
   ],
   "source": [
    "pghDataNew.shape"
   ]
  },
  {
   "cell_type": "code",
   "execution_count": 41,
   "id": "83ab6a24",
   "metadata": {},
   "outputs": [
    {
     "data": {
      "text/plain": [
       "(606, 8)"
      ]
     },
     "execution_count": 41,
     "metadata": {},
     "output_type": "execute_result"
    }
   ],
   "source": [
    "pghDataNew2.shape"
   ]
  },
  {
   "cell_type": "code",
   "execution_count": 42,
   "id": "43420f90",
   "metadata": {},
   "outputs": [
    {
     "data": {
      "text/plain": [
       "(549, 8)"
      ]
     },
     "execution_count": 42,
     "metadata": {},
     "output_type": "execute_result"
    }
   ],
   "source": [
    "pghDataHot.shape"
   ]
  },
  {
   "cell_type": "code",
   "execution_count": 43,
   "id": "566a5cd8",
   "metadata": {},
   "outputs": [
    {
     "data": {
      "text/plain": [
       "(1779, 8)"
      ]
     },
     "execution_count": 43,
     "metadata": {},
     "output_type": "execute_result"
    }
   ],
   "source": [
    "pghData = pd.concat([pghDataHot, pghDataNew, pghDataNew2])\n",
    "pghData.shape"
   ]
  },
  {
   "cell_type": "code",
   "execution_count": 44,
   "id": "497e73ab",
   "metadata": {},
   "outputs": [],
   "source": [
    "pghData = pghData.drop_duplicates(keep=False)"
   ]
  },
  {
   "cell_type": "code",
   "execution_count": 45,
   "id": "f1774304",
   "metadata": {
    "scrolled": true
   },
   "outputs": [
    {
     "data": {
      "text/plain": [
       "(1775, 8)"
      ]
     },
     "execution_count": 45,
     "metadata": {},
     "output_type": "execute_result"
    }
   ],
   "source": [
    "pghData.shape"
   ]
  },
  {
   "cell_type": "code",
   "execution_count": 46,
   "id": "dac0eb69",
   "metadata": {},
   "outputs": [],
   "source": [
    "entriesCount.append(pghData.shape[0])"
   ]
  },
  {
   "cell_type": "markdown",
   "id": "705b2e90",
   "metadata": {},
   "source": [
    "## Rant"
   ]
  },
  {
   "cell_type": "code",
   "execution_count": 47,
   "id": "5c942b58",
   "metadata": {},
   "outputs": [],
   "source": [
    "rantDataNew = pd.read_csv(\"../data/rantData.csv\")\n",
    "rantDataNew2 = pd.read_csv(\"../data/rantData3.csv\")\n",
    "rantDataHot = pd.read_csv(\"../data/rantData2.csv\")"
   ]
  },
  {
   "cell_type": "code",
   "execution_count": 48,
   "id": "81cbb94f",
   "metadata": {},
   "outputs": [
    {
     "data": {
      "text/plain": [
       "(936, 8)"
      ]
     },
     "execution_count": 48,
     "metadata": {},
     "output_type": "execute_result"
    }
   ],
   "source": [
    "rantDataNew.shape"
   ]
  },
  {
   "cell_type": "code",
   "execution_count": 49,
   "id": "90672162",
   "metadata": {},
   "outputs": [
    {
     "data": {
      "text/plain": [
       "(934, 8)"
      ]
     },
     "execution_count": 49,
     "metadata": {},
     "output_type": "execute_result"
    }
   ],
   "source": [
    "rantDataNew2.shape"
   ]
  },
  {
   "cell_type": "code",
   "execution_count": 50,
   "id": "ffe9db8d",
   "metadata": {},
   "outputs": [
    {
     "data": {
      "text/plain": [
       "(537, 8)"
      ]
     },
     "execution_count": 50,
     "metadata": {},
     "output_type": "execute_result"
    }
   ],
   "source": [
    "rantDataHot.shape"
   ]
  },
  {
   "cell_type": "code",
   "execution_count": 51,
   "id": "c25a48c2",
   "metadata": {},
   "outputs": [
    {
     "data": {
      "text/plain": [
       "(2407, 8)"
      ]
     },
     "execution_count": 51,
     "metadata": {},
     "output_type": "execute_result"
    }
   ],
   "source": [
    "rantData = pd.concat([rantDataHot, rantDataNew, rantDataNew2])\n",
    "rantData.shape"
   ]
  },
  {
   "cell_type": "code",
   "execution_count": 52,
   "id": "46263981",
   "metadata": {},
   "outputs": [],
   "source": [
    "rantData = rantData.drop_duplicates(keep=False)"
   ]
  },
  {
   "cell_type": "code",
   "execution_count": 53,
   "id": "0a9c46a1",
   "metadata": {},
   "outputs": [
    {
     "data": {
      "text/plain": [
       "(2395, 8)"
      ]
     },
     "execution_count": 53,
     "metadata": {},
     "output_type": "execute_result"
    }
   ],
   "source": [
    "rantData.shape"
   ]
  },
  {
   "cell_type": "code",
   "execution_count": 54,
   "id": "296b8a17",
   "metadata": {},
   "outputs": [],
   "source": [
    "entriesCount.append(rantData.shape[0])"
   ]
  },
  {
   "cell_type": "markdown",
   "id": "b1764414",
   "metadata": {},
   "source": [
    "## CS Career Questions"
   ]
  },
  {
   "cell_type": "code",
   "execution_count": 55,
   "id": "f43d3319",
   "metadata": {},
   "outputs": [],
   "source": [
    "ccqDataNew = pd.read_csv(\"../data/ccqData.csv\")\n",
    "ccqDataHot = pd.read_csv(\"../data/ccqData2.csv\")"
   ]
  },
  {
   "cell_type": "code",
   "execution_count": 56,
   "id": "dd14fb41",
   "metadata": {},
   "outputs": [
    {
     "data": {
      "text/plain": [
       "(990, 8)"
      ]
     },
     "execution_count": 56,
     "metadata": {},
     "output_type": "execute_result"
    }
   ],
   "source": [
    "ccqDataNew.shape"
   ]
  },
  {
   "cell_type": "code",
   "execution_count": 57,
   "id": "a238879f",
   "metadata": {},
   "outputs": [
    {
     "data": {
      "text/plain": [
       "(581, 8)"
      ]
     },
     "execution_count": 57,
     "metadata": {},
     "output_type": "execute_result"
    }
   ],
   "source": [
    "ccqDataHot.shape"
   ]
  },
  {
   "cell_type": "code",
   "execution_count": 58,
   "id": "0ccf59e0",
   "metadata": {},
   "outputs": [
    {
     "data": {
      "text/plain": [
       "(1571, 8)"
      ]
     },
     "execution_count": 58,
     "metadata": {},
     "output_type": "execute_result"
    }
   ],
   "source": [
    "ccqData = pd.concat([ccqDataHot, ccqDataNew])\n",
    "ccqData.shape"
   ]
  },
  {
   "cell_type": "code",
   "execution_count": 59,
   "id": "38f7704f",
   "metadata": {},
   "outputs": [],
   "source": [
    "ccqData = ccqData.drop_duplicates(keep=False)"
   ]
  },
  {
   "cell_type": "code",
   "execution_count": 60,
   "id": "97f4e77d",
   "metadata": {},
   "outputs": [
    {
     "data": {
      "text/plain": [
       "(1565, 8)"
      ]
     },
     "execution_count": 60,
     "metadata": {},
     "output_type": "execute_result"
    }
   ],
   "source": [
    "ccqData.shape"
   ]
  },
  {
   "cell_type": "code",
   "execution_count": 61,
   "id": "98383b72",
   "metadata": {},
   "outputs": [],
   "source": [
    "entriesCount.append(ccqData.shape[0])"
   ]
  },
  {
   "cell_type": "markdown",
   "id": "fe8978b4",
   "metadata": {},
   "source": [
    "## Anime"
   ]
  },
  {
   "cell_type": "code",
   "execution_count": 62,
   "id": "9fd75d33",
   "metadata": {},
   "outputs": [],
   "source": [
    "animeDataNew = pd.read_csv(\"../data/animeData.csv\")\n",
    "animeDataNew2 = pd.read_csv(\"../data/animeData3.csv\")\n",
    "animeDataHot = pd.read_csv(\"../data/animeData2.csv\")"
   ]
  },
  {
   "cell_type": "code",
   "execution_count": 63,
   "id": "910afc4a",
   "metadata": {},
   "outputs": [
    {
     "data": {
      "text/plain": [
       "(761, 8)"
      ]
     },
     "execution_count": 63,
     "metadata": {},
     "output_type": "execute_result"
    }
   ],
   "source": [
    "animeDataNew.shape"
   ]
  },
  {
   "cell_type": "code",
   "execution_count": 64,
   "id": "dfaa3e1f",
   "metadata": {},
   "outputs": [
    {
     "data": {
      "text/plain": [
       "(593, 8)"
      ]
     },
     "execution_count": 64,
     "metadata": {},
     "output_type": "execute_result"
    }
   ],
   "source": [
    "animeDataNew2.shape"
   ]
  },
  {
   "cell_type": "code",
   "execution_count": 65,
   "id": "88734efd",
   "metadata": {
    "scrolled": true
   },
   "outputs": [
    {
     "data": {
      "text/plain": [
       "(194, 8)"
      ]
     },
     "execution_count": 65,
     "metadata": {},
     "output_type": "execute_result"
    }
   ],
   "source": [
    "animeDataHot.shape"
   ]
  },
  {
   "cell_type": "code",
   "execution_count": 66,
   "id": "1ae0176d",
   "metadata": {},
   "outputs": [
    {
     "data": {
      "text/plain": [
       "(1548, 8)"
      ]
     },
     "execution_count": 66,
     "metadata": {},
     "output_type": "execute_result"
    }
   ],
   "source": [
    "animeData = pd.concat([animeDataHot, animeDataNew, animeDataNew2])\n",
    "animeData.shape"
   ]
  },
  {
   "cell_type": "code",
   "execution_count": 67,
   "id": "685981aa",
   "metadata": {},
   "outputs": [],
   "source": [
    "animeData = animeData.drop_duplicates(keep=False)"
   ]
  },
  {
   "cell_type": "code",
   "execution_count": 68,
   "id": "9c5ba9ea",
   "metadata": {},
   "outputs": [
    {
     "data": {
      "text/plain": [
       "(1548, 8)"
      ]
     },
     "execution_count": 68,
     "metadata": {},
     "output_type": "execute_result"
    }
   ],
   "source": [
    "animeData.shape"
   ]
  },
  {
   "cell_type": "code",
   "execution_count": 69,
   "id": "16360816",
   "metadata": {},
   "outputs": [],
   "source": [
    "entriesCount.append(animeData.shape[0])"
   ]
  },
  {
   "cell_type": "markdown",
   "id": "965dcadb",
   "metadata": {},
   "source": [
    "## Explain Like I'm Five"
   ]
  },
  {
   "cell_type": "code",
   "execution_count": 70,
   "id": "7914a2d6",
   "metadata": {},
   "outputs": [],
   "source": [
    "elifDataNew = pd.read_csv(\"../data/elifData.csv\")\n",
    "elifDataNew2 = pd.read_csv(\"../data/elifData3.csv\")\n",
    "elifDataNew3 = pd.read_csv(\"../data/elifData4.csv\")\n",
    "elifDataHot = pd.read_csv(\"../data/elifData2.csv\")"
   ]
  },
  {
   "cell_type": "code",
   "execution_count": 71,
   "id": "66d766d1",
   "metadata": {
    "scrolled": true
   },
   "outputs": [
    {
     "data": {
      "text/plain": [
       "(588, 8)"
      ]
     },
     "execution_count": 71,
     "metadata": {},
     "output_type": "execute_result"
    }
   ],
   "source": [
    "elifDataNew.shape"
   ]
  },
  {
   "cell_type": "code",
   "execution_count": 72,
   "id": "93016c3e",
   "metadata": {},
   "outputs": [
    {
     "data": {
      "text/plain": [
       "(589, 8)"
      ]
     },
     "execution_count": 72,
     "metadata": {},
     "output_type": "execute_result"
    }
   ],
   "source": [
    "elifDataNew2.shape"
   ]
  },
  {
   "cell_type": "code",
   "execution_count": 73,
   "id": "15c5cdc8",
   "metadata": {},
   "outputs": [
    {
     "data": {
      "text/plain": [
       "(594, 8)"
      ]
     },
     "execution_count": 73,
     "metadata": {},
     "output_type": "execute_result"
    }
   ],
   "source": [
    "elifDataNew3.shape"
   ]
  },
  {
   "cell_type": "code",
   "execution_count": 74,
   "id": "4cc6508d",
   "metadata": {},
   "outputs": [
    {
     "data": {
      "text/plain": [
       "(316, 8)"
      ]
     },
     "execution_count": 74,
     "metadata": {},
     "output_type": "execute_result"
    }
   ],
   "source": [
    "elifDataHot.shape"
   ]
  },
  {
   "cell_type": "code",
   "execution_count": 75,
   "id": "1118a4e6",
   "metadata": {},
   "outputs": [
    {
     "data": {
      "text/plain": [
       "(2087, 8)"
      ]
     },
     "execution_count": 75,
     "metadata": {},
     "output_type": "execute_result"
    }
   ],
   "source": [
    "elifData = pd.concat([elifDataHot, elifDataNew, elifDataNew2, elifDataNew3])\n",
    "elifData.shape"
   ]
  },
  {
   "cell_type": "code",
   "execution_count": 76,
   "id": "2939ec7f",
   "metadata": {},
   "outputs": [],
   "source": [
    "elifData = elifData.drop_duplicates(keep=False)"
   ]
  },
  {
   "cell_type": "code",
   "execution_count": 77,
   "id": "d4324e96",
   "metadata": {},
   "outputs": [
    {
     "data": {
      "text/plain": [
       "(2077, 8)"
      ]
     },
     "execution_count": 77,
     "metadata": {},
     "output_type": "execute_result"
    }
   ],
   "source": [
    "elifData.shape"
   ]
  },
  {
   "cell_type": "code",
   "execution_count": 78,
   "id": "954651c6",
   "metadata": {},
   "outputs": [],
   "source": [
    "entriesCount.append(elifData.shape[0])"
   ]
  },
  {
   "cell_type": "markdown",
   "id": "9d4b07b1",
   "metadata": {},
   "source": [
    "## College"
   ]
  },
  {
   "cell_type": "code",
   "execution_count": 79,
   "id": "6c3b6267",
   "metadata": {},
   "outputs": [],
   "source": [
    "collegeDataNew = pd.read_csv(\"../data/collegeData.csv\")\n",
    "collegeDataHot = pd.read_csv(\"../data/collegeData2.csv\")"
   ]
  },
  {
   "cell_type": "code",
   "execution_count": 80,
   "id": "223f515a",
   "metadata": {},
   "outputs": [
    {
     "data": {
      "text/plain": [
       "(934, 8)"
      ]
     },
     "execution_count": 80,
     "metadata": {},
     "output_type": "execute_result"
    }
   ],
   "source": [
    "collegeDataNew.shape"
   ]
  },
  {
   "cell_type": "code",
   "execution_count": 81,
   "id": "ad3e1e07",
   "metadata": {},
   "outputs": [
    {
     "data": {
      "text/plain": [
       "(749, 8)"
      ]
     },
     "execution_count": 81,
     "metadata": {},
     "output_type": "execute_result"
    }
   ],
   "source": [
    "collegeDataHot.shape"
   ]
  },
  {
   "cell_type": "code",
   "execution_count": 82,
   "id": "d9e5f149",
   "metadata": {},
   "outputs": [
    {
     "data": {
      "text/plain": [
       "(1683, 8)"
      ]
     },
     "execution_count": 82,
     "metadata": {},
     "output_type": "execute_result"
    }
   ],
   "source": [
    "collegeData = pd.concat([collegeDataHot, collegeDataNew])\n",
    "collegeData.shape"
   ]
  },
  {
   "cell_type": "code",
   "execution_count": 83,
   "id": "9fff5aa6",
   "metadata": {},
   "outputs": [],
   "source": [
    "collegeData = collegeData.drop_duplicates(keep=False)"
   ]
  },
  {
   "cell_type": "code",
   "execution_count": 84,
   "id": "608cd7bc",
   "metadata": {},
   "outputs": [
    {
     "data": {
      "text/plain": [
       "(1683, 8)"
      ]
     },
     "execution_count": 84,
     "metadata": {},
     "output_type": "execute_result"
    }
   ],
   "source": [
    "collegeData.shape"
   ]
  },
  {
   "cell_type": "code",
   "execution_count": 85,
   "id": "e9ba4c20",
   "metadata": {},
   "outputs": [],
   "source": [
    "entriesCount.append(collegeData.shape[0])"
   ]
  },
  {
   "cell_type": "markdown",
   "id": "4417f125",
   "metadata": {},
   "source": [
    "## NBA"
   ]
  },
  {
   "cell_type": "code",
   "execution_count": 86,
   "id": "0a0ac793",
   "metadata": {},
   "outputs": [],
   "source": [
    "sportsDataNew = pd.read_csv(\"../data/sportsData.csv\")\n",
    "sportsDataNew2 = pd.read_csv(\"../data/sportsData3.csv\")\n",
    "sportsDataNew3 = pd.read_csv(\"../data/sportsData4.csv\")\n",
    "sportsDataHot = pd.read_csv(\"../data/sportsData2.csv\")"
   ]
  },
  {
   "cell_type": "code",
   "execution_count": 87,
   "id": "668b1917",
   "metadata": {
    "scrolled": true
   },
   "outputs": [
    {
     "data": {
      "text/plain": [
       "(639, 8)"
      ]
     },
     "execution_count": 87,
     "metadata": {},
     "output_type": "execute_result"
    }
   ],
   "source": [
    "sportsDataNew.shape"
   ]
  },
  {
   "cell_type": "code",
   "execution_count": 88,
   "id": "4f63f388",
   "metadata": {},
   "outputs": [
    {
     "data": {
      "text/plain": [
       "(68, 8)"
      ]
     },
     "execution_count": 88,
     "metadata": {},
     "output_type": "execute_result"
    }
   ],
   "source": [
    "sportsDataHot.shape"
   ]
  },
  {
   "cell_type": "code",
   "execution_count": 89,
   "id": "b6380578",
   "metadata": {},
   "outputs": [
    {
     "data": {
      "text/plain": [
       "(641, 8)"
      ]
     },
     "execution_count": 89,
     "metadata": {},
     "output_type": "execute_result"
    }
   ],
   "source": [
    "sportsDataNew2.shape"
   ]
  },
  {
   "cell_type": "code",
   "execution_count": 90,
   "id": "cb8ec102",
   "metadata": {},
   "outputs": [
    {
     "data": {
      "text/plain": [
       "(650, 8)"
      ]
     },
     "execution_count": 90,
     "metadata": {},
     "output_type": "execute_result"
    }
   ],
   "source": [
    "sportsDataNew3.shape"
   ]
  },
  {
   "cell_type": "code",
   "execution_count": 91,
   "id": "2cad7c1c",
   "metadata": {},
   "outputs": [
    {
     "data": {
      "text/plain": [
       "(1998, 8)"
      ]
     },
     "execution_count": 91,
     "metadata": {},
     "output_type": "execute_result"
    }
   ],
   "source": [
    "sportsData = pd.concat([sportsDataHot, sportsDataNew, sportsDataNew2, sportsDataNew3])\n",
    "sportsData.shape"
   ]
  },
  {
   "cell_type": "code",
   "execution_count": 92,
   "id": "e4d407ea",
   "metadata": {},
   "outputs": [],
   "source": [
    "sportsData = sportsData.drop_duplicates(keep=False)"
   ]
  },
  {
   "cell_type": "code",
   "execution_count": 93,
   "id": "42756185",
   "metadata": {},
   "outputs": [
    {
     "data": {
      "text/plain": [
       "(1998, 8)"
      ]
     },
     "execution_count": 93,
     "metadata": {},
     "output_type": "execute_result"
    }
   ],
   "source": [
    "sportsData.shape"
   ]
  },
  {
   "cell_type": "code",
   "execution_count": 94,
   "id": "1b6390ca",
   "metadata": {},
   "outputs": [],
   "source": [
    "entriesCount.append(sportsData.shape[0])"
   ]
  },
  {
   "cell_type": "markdown",
   "id": "dcc8cefe",
   "metadata": {},
   "source": [
    "## Cryptocurrency"
   ]
  },
  {
   "cell_type": "code",
   "execution_count": 95,
   "id": "78384f3d",
   "metadata": {},
   "outputs": [],
   "source": [
    "cryptoDataNew = pd.read_csv(\"../data/cryptoData.csv\")\n",
    "cryptoDataNew2 = pd.read_csv(\"../data/cryptoData3.csv\")\n",
    "cryptoDataNew3 = pd.read_csv(\"../data/cryptoData4.csv\")\n",
    "cryptoDataHot = pd.read_csv(\"../data/cryptoData2.csv\")"
   ]
  },
  {
   "cell_type": "code",
   "execution_count": 96,
   "id": "62af5f07",
   "metadata": {},
   "outputs": [
    {
     "data": {
      "text/plain": [
       "(323, 8)"
      ]
     },
     "execution_count": 96,
     "metadata": {},
     "output_type": "execute_result"
    }
   ],
   "source": [
    "cryptoDataNew.shape"
   ]
  },
  {
   "cell_type": "code",
   "execution_count": 97,
   "id": "7dffd12e",
   "metadata": {},
   "outputs": [
    {
     "data": {
      "text/plain": [
       "(309, 8)"
      ]
     },
     "execution_count": 97,
     "metadata": {},
     "output_type": "execute_result"
    }
   ],
   "source": [
    "cryptoDataHot.shape"
   ]
  },
  {
   "cell_type": "code",
   "execution_count": 98,
   "id": "420b84d8",
   "metadata": {},
   "outputs": [
    {
     "data": {
      "text/plain": [
       "(445, 8)"
      ]
     },
     "execution_count": 98,
     "metadata": {},
     "output_type": "execute_result"
    }
   ],
   "source": [
    "cryptoDataNew2.shape"
   ]
  },
  {
   "cell_type": "code",
   "execution_count": 99,
   "id": "28acc017",
   "metadata": {},
   "outputs": [
    {
     "data": {
      "text/plain": [
       "(449, 8)"
      ]
     },
     "execution_count": 99,
     "metadata": {},
     "output_type": "execute_result"
    }
   ],
   "source": [
    "cryptoDataNew3.shape"
   ]
  },
  {
   "cell_type": "code",
   "execution_count": 100,
   "id": "2aa94bd6",
   "metadata": {},
   "outputs": [
    {
     "data": {
      "text/plain": [
       "(1526, 8)"
      ]
     },
     "execution_count": 100,
     "metadata": {},
     "output_type": "execute_result"
    }
   ],
   "source": [
    "cryptoData = pd.concat([cryptoDataHot, cryptoDataNew, cryptoDataNew2, cryptoDataNew3])\n",
    "cryptoData.shape"
   ]
  },
  {
   "cell_type": "code",
   "execution_count": 101,
   "id": "b6d0ac56",
   "metadata": {},
   "outputs": [],
   "source": [
    "cryptoData = cryptoData.drop_duplicates(keep=False)"
   ]
  },
  {
   "cell_type": "code",
   "execution_count": 102,
   "id": "773b5547",
   "metadata": {},
   "outputs": [
    {
     "data": {
      "text/plain": [
       "(1526, 8)"
      ]
     },
     "execution_count": 102,
     "metadata": {},
     "output_type": "execute_result"
    }
   ],
   "source": [
    "cryptoData.shape"
   ]
  },
  {
   "cell_type": "code",
   "execution_count": 103,
   "id": "5705be2a",
   "metadata": {},
   "outputs": [],
   "source": [
    "entriesCount.append(cryptoData.shape[0])"
   ]
  },
  {
   "cell_type": "markdown",
   "id": "fc839ce0",
   "metadata": {},
   "source": [
    "## Lawyer Talk"
   ]
  },
  {
   "cell_type": "code",
   "execution_count": 104,
   "id": "f2020edc",
   "metadata": {},
   "outputs": [],
   "source": [
    "lawyerDataNew = pd.read_csv(\"../data/lawyerData.csv\")\n",
    "lawyerDataHot = pd.read_csv(\"../data/lawyerData2.csv\")"
   ]
  },
  {
   "cell_type": "code",
   "execution_count": 105,
   "id": "172162af",
   "metadata": {},
   "outputs": [
    {
     "data": {
      "text/plain": [
       "(719, 8)"
      ]
     },
     "execution_count": 105,
     "metadata": {},
     "output_type": "execute_result"
    }
   ],
   "source": [
    "lawyerDataNew.shape"
   ]
  },
  {
   "cell_type": "code",
   "execution_count": 106,
   "id": "fa9f6bf9",
   "metadata": {},
   "outputs": [
    {
     "data": {
      "text/plain": [
       "(799, 8)"
      ]
     },
     "execution_count": 106,
     "metadata": {},
     "output_type": "execute_result"
    }
   ],
   "source": [
    "lawyerDataHot.shape"
   ]
  },
  {
   "cell_type": "code",
   "execution_count": 107,
   "id": "d7c857ed",
   "metadata": {},
   "outputs": [
    {
     "data": {
      "text/plain": [
       "(1518, 8)"
      ]
     },
     "execution_count": 107,
     "metadata": {},
     "output_type": "execute_result"
    }
   ],
   "source": [
    "lawyerData = pd.concat([lawyerDataHot, lawyerDataNew])\n",
    "lawyerData.shape"
   ]
  },
  {
   "cell_type": "code",
   "execution_count": 108,
   "id": "28a2fa18",
   "metadata": {},
   "outputs": [],
   "source": [
    "lawyerData = lawyerData.drop_duplicates(keep=False)"
   ]
  },
  {
   "cell_type": "code",
   "execution_count": 109,
   "id": "c3b25d60",
   "metadata": {},
   "outputs": [
    {
     "data": {
      "text/plain": [
       "(1518, 8)"
      ]
     },
     "execution_count": 109,
     "metadata": {},
     "output_type": "execute_result"
    }
   ],
   "source": [
    "lawyerData.shape"
   ]
  },
  {
   "cell_type": "code",
   "execution_count": 110,
   "id": "22a8cf9a",
   "metadata": {},
   "outputs": [],
   "source": [
    "entriesCount.append(lawyerData.shape[0])"
   ]
  },
  {
   "cell_type": "markdown",
   "id": "34a63401",
   "metadata": {},
   "source": [
    "## Gaming"
   ]
  },
  {
   "cell_type": "code",
   "execution_count": 111,
   "id": "03b2e882",
   "metadata": {},
   "outputs": [],
   "source": [
    "gamingDataNew = pd.read_csv(\"../data/gamingData.csv\")\n",
    "gamingDataNew2 = pd.read_csv(\"../data/gamingData3.csv\")\n",
    "gamingDataNew3 = pd.read_csv(\"../data/gamingData4.csv\")\n",
    "gamingDataNew4 = pd.read_csv(\"../data/gamingData5.csv\")\n",
    "gamingDataHot = pd.read_csv(\"../data/gamingData2.csv\")\n",
    "gamingDataHot2 = pd.read_csv(\"../data/gamingData6.csv\")"
   ]
  },
  {
   "cell_type": "code",
   "execution_count": 112,
   "id": "c0472230",
   "metadata": {},
   "outputs": [
    {
     "data": {
      "text/plain": [
       "(463, 8)"
      ]
     },
     "execution_count": 112,
     "metadata": {},
     "output_type": "execute_result"
    }
   ],
   "source": [
    "gamingDataNew.shape"
   ]
  },
  {
   "cell_type": "code",
   "execution_count": 113,
   "id": "f78392ca",
   "metadata": {},
   "outputs": [
    {
     "data": {
      "text/plain": [
       "(368, 8)"
      ]
     },
     "execution_count": 113,
     "metadata": {},
     "output_type": "execute_result"
    }
   ],
   "source": [
    "gamingDataNew2.shape"
   ]
  },
  {
   "cell_type": "code",
   "execution_count": 114,
   "id": "b97ad6b8",
   "metadata": {},
   "outputs": [
    {
     "data": {
      "text/plain": [
       "(368, 8)"
      ]
     },
     "execution_count": 114,
     "metadata": {},
     "output_type": "execute_result"
    }
   ],
   "source": [
    "gamingDataNew3.shape"
   ]
  },
  {
   "cell_type": "code",
   "execution_count": 115,
   "id": "bfc93eb9",
   "metadata": {},
   "outputs": [
    {
     "data": {
      "text/plain": [
       "(371, 8)"
      ]
     },
     "execution_count": 115,
     "metadata": {},
     "output_type": "execute_result"
    }
   ],
   "source": [
    "gamingDataNew4.shape"
   ]
  },
  {
   "cell_type": "code",
   "execution_count": 116,
   "id": "6d7e65fb",
   "metadata": {},
   "outputs": [
    {
     "data": {
      "text/plain": [
       "(89, 8)"
      ]
     },
     "execution_count": 116,
     "metadata": {},
     "output_type": "execute_result"
    }
   ],
   "source": [
    "gamingDataHot.shape"
   ]
  },
  {
   "cell_type": "code",
   "execution_count": 117,
   "id": "821c7224",
   "metadata": {},
   "outputs": [
    {
     "data": {
      "text/plain": [
       "(1742, 8)"
      ]
     },
     "execution_count": 117,
     "metadata": {},
     "output_type": "execute_result"
    }
   ],
   "source": [
    "gamingData = pd.concat([gamingDataHot, gamingDataHot2, gamingDataNew, gamingDataNew2, gamingDataNew3, gamingDataNew4])\n",
    "gamingData.shape"
   ]
  },
  {
   "cell_type": "code",
   "execution_count": 118,
   "id": "b1975048",
   "metadata": {},
   "outputs": [],
   "source": [
    "gamingData = gamingData.drop_duplicates(keep=False)"
   ]
  },
  {
   "cell_type": "code",
   "execution_count": 119,
   "id": "101569e7",
   "metadata": {},
   "outputs": [
    {
     "data": {
      "text/plain": [
       "(1542, 8)"
      ]
     },
     "execution_count": 119,
     "metadata": {},
     "output_type": "execute_result"
    }
   ],
   "source": [
    "gamingData.shape"
   ]
  },
  {
   "cell_type": "code",
   "execution_count": 120,
   "id": "6575b226",
   "metadata": {},
   "outputs": [],
   "source": [
    "entriesCount.append(gamingData.shape[0])"
   ]
  },
  {
   "cell_type": "markdown",
   "id": "1237d665",
   "metadata": {},
   "source": [
    "### Notes\n",
    "\n",
    "The reason why some of the subreddits have multiple csv files, instead of just 2-3, is because the initial query did not return enough values. As discussed below, I decided that all of the final dataframes will have 1500 rows. However, some of the files did not have enough for 1500 rows which required me to go back into the dataCollection notebook and create more csv files with more posts. gamingData gave me the most trouble, which I hypothesize is due to many of the posts on that subreddit only have images or videos in the main post."
   ]
  },
  {
   "cell_type": "markdown",
   "id": "301342e8",
   "metadata": {},
   "source": [
    "## Calculations"
   ]
  },
  {
   "cell_type": "code",
   "execution_count": 121,
   "id": "44186234",
   "metadata": {},
   "outputs": [
    {
     "data": {
      "text/plain": [
       "[1962,\n",
       " 1670,\n",
       " 1732,\n",
       " 1579,\n",
       " 1900,\n",
       " 1775,\n",
       " 2395,\n",
       " 1565,\n",
       " 1548,\n",
       " 2077,\n",
       " 1683,\n",
       " 1998,\n",
       " 1526,\n",
       " 1518,\n",
       " 1542]"
      ]
     },
     "execution_count": 121,
     "metadata": {},
     "output_type": "execute_result"
    }
   ],
   "source": [
    "# Show all of the counts\n",
    "entriesCount"
   ]
  },
  {
   "cell_type": "code",
   "execution_count": 122,
   "id": "9136a637",
   "metadata": {},
   "outputs": [
    {
     "data": {
      "text/plain": [
       "15"
      ]
     },
     "execution_count": 122,
     "metadata": {},
     "output_type": "execute_result"
    }
   ],
   "source": [
    "# Ensuring that all 15 subreddits are in the list\n",
    "len(entriesCount)"
   ]
  },
  {
   "cell_type": "code",
   "execution_count": 123,
   "id": "ac8e1c0f",
   "metadata": {},
   "outputs": [
    {
     "data": {
      "text/plain": [
       "1518"
      ]
     },
     "execution_count": 123,
     "metadata": {},
     "output_type": "execute_result"
    }
   ],
   "source": [
    "# Finding the minimum to see where all of the dataframes can be cut off to be the same size\n",
    "min(entriesCount)"
   ]
  },
  {
   "cell_type": "markdown",
   "id": "4e7dbdc0",
   "metadata": {},
   "source": [
    "## Dropping Entries"
   ]
  },
  {
   "cell_type": "markdown",
   "id": "60c44b1f",
   "metadata": {},
   "source": [
    "In the part, I drop posts from the dataframes so that they are all 1500 rows."
   ]
  },
  {
   "cell_type": "code",
   "execution_count": 124,
   "id": "81715b56",
   "metadata": {},
   "outputs": [],
   "source": [
    "legalData = legalData[:1499]"
   ]
  },
  {
   "cell_type": "code",
   "execution_count": 125,
   "id": "1dc5e8d6",
   "metadata": {},
   "outputs": [],
   "source": [
    "adData = adData[:1499]"
   ]
  },
  {
   "cell_type": "code",
   "execution_count": 126,
   "id": "24b275a2",
   "metadata": {},
   "outputs": [],
   "source": [
    "medData = medData[:1499]"
   ]
  },
  {
   "cell_type": "code",
   "execution_count": 127,
   "id": "99ed922a",
   "metadata": {},
   "outputs": [],
   "source": [
    "hsData = hsData[:1499]"
   ]
  },
  {
   "cell_type": "code",
   "execution_count": 128,
   "id": "0bf18db2",
   "metadata": {},
   "outputs": [],
   "source": [
    "bwayData = bwayData[:1499]"
   ]
  },
  {
   "cell_type": "code",
   "execution_count": 129,
   "id": "9323cc24",
   "metadata": {},
   "outputs": [],
   "source": [
    "pghData = pghData[:1499]"
   ]
  },
  {
   "cell_type": "code",
   "execution_count": 130,
   "id": "8e65710f",
   "metadata": {},
   "outputs": [],
   "source": [
    "rantData = rantData[:1499]"
   ]
  },
  {
   "cell_type": "code",
   "execution_count": 131,
   "id": "d3793a48",
   "metadata": {},
   "outputs": [],
   "source": [
    "ccqData = ccqData[:1499]"
   ]
  },
  {
   "cell_type": "code",
   "execution_count": 132,
   "id": "56ef8dcb",
   "metadata": {},
   "outputs": [],
   "source": [
    "animeData = animeData[:1499]"
   ]
  },
  {
   "cell_type": "code",
   "execution_count": 133,
   "id": "9f5b22db",
   "metadata": {},
   "outputs": [],
   "source": [
    "elifData = elifData[:1499]"
   ]
  },
  {
   "cell_type": "code",
   "execution_count": 134,
   "id": "4ad99514",
   "metadata": {},
   "outputs": [],
   "source": [
    "collegeData = collegeData[:1499]"
   ]
  },
  {
   "cell_type": "code",
   "execution_count": 135,
   "id": "6106899f",
   "metadata": {},
   "outputs": [],
   "source": [
    "sportsData = sportsData[:1499]"
   ]
  },
  {
   "cell_type": "code",
   "execution_count": 136,
   "id": "2305e037",
   "metadata": {},
   "outputs": [],
   "source": [
    "cryptoData = cryptoData[:1499]"
   ]
  },
  {
   "cell_type": "code",
   "execution_count": 137,
   "id": "da0e5cc4",
   "metadata": {},
   "outputs": [],
   "source": [
    "lawyerData = lawyerData[:1499]"
   ]
  },
  {
   "cell_type": "code",
   "execution_count": 138,
   "id": "50c49fdb",
   "metadata": {},
   "outputs": [],
   "source": [
    "gamingData = gamingData[:1499]"
   ]
  },
  {
   "cell_type": "markdown",
   "id": "b154939e",
   "metadata": {},
   "source": [
    "## Cleaning Up"
   ]
  },
  {
   "cell_type": "markdown",
   "id": "f2a3565c",
   "metadata": {},
   "source": [
    "While reading in the data, some weird column was added. I will be removing this column from all of the dataframes."
   ]
  },
  {
   "cell_type": "code",
   "execution_count": 139,
   "id": "6932abc9",
   "metadata": {},
   "outputs": [],
   "source": [
    "gamingData = gamingData.drop('Unnamed: 0', axis=1)"
   ]
  },
  {
   "cell_type": "code",
   "execution_count": 140,
   "id": "b56093f5",
   "metadata": {},
   "outputs": [],
   "source": [
    "laywerData = lawyerData.drop('Unnamed: 0', axis=1)"
   ]
  },
  {
   "cell_type": "code",
   "execution_count": 141,
   "id": "7de410d3",
   "metadata": {},
   "outputs": [],
   "source": [
    "cryptoData = cryptoData.drop('Unnamed: 0', axis=1)"
   ]
  },
  {
   "cell_type": "code",
   "execution_count": 142,
   "id": "5e3414e2",
   "metadata": {},
   "outputs": [],
   "source": [
    "sportsData = sportsData.drop('Unnamed: 0', axis=1)"
   ]
  },
  {
   "cell_type": "code",
   "execution_count": 143,
   "id": "0620ad46",
   "metadata": {},
   "outputs": [],
   "source": [
    "collegeData = collegeData.drop('Unnamed: 0', axis=1)"
   ]
  },
  {
   "cell_type": "code",
   "execution_count": 144,
   "id": "347eb074",
   "metadata": {},
   "outputs": [],
   "source": [
    "elifData = elifData.drop('Unnamed: 0', axis=1)"
   ]
  },
  {
   "cell_type": "code",
   "execution_count": 145,
   "id": "3bb91a5a",
   "metadata": {},
   "outputs": [],
   "source": [
    "animeData = animeData.drop('Unnamed: 0', axis=1)"
   ]
  },
  {
   "cell_type": "code",
   "execution_count": 146,
   "id": "fa25f0c4",
   "metadata": {},
   "outputs": [],
   "source": [
    "ccqData = ccqData.drop('Unnamed: 0', axis=1)"
   ]
  },
  {
   "cell_type": "code",
   "execution_count": 147,
   "id": "20e2fd7a",
   "metadata": {},
   "outputs": [],
   "source": [
    "rantData = rantData.drop('Unnamed: 0', axis=1)"
   ]
  },
  {
   "cell_type": "code",
   "execution_count": 148,
   "id": "78835989",
   "metadata": {},
   "outputs": [],
   "source": [
    "pghData = pghData.drop('Unnamed: 0', axis=1)"
   ]
  },
  {
   "cell_type": "code",
   "execution_count": 149,
   "id": "baa1a062",
   "metadata": {},
   "outputs": [],
   "source": [
    "bwayData = bwayData.drop('Unnamed: 0', axis=1)"
   ]
  },
  {
   "cell_type": "code",
   "execution_count": 150,
   "id": "ddc6af4c",
   "metadata": {},
   "outputs": [],
   "source": [
    "hsData = hsData.drop('Unnamed: 0', axis=1)"
   ]
  },
  {
   "cell_type": "code",
   "execution_count": 151,
   "id": "145477e5",
   "metadata": {},
   "outputs": [],
   "source": [
    "medData = medData.drop('Unnamed: 0', axis=1)"
   ]
  },
  {
   "cell_type": "code",
   "execution_count": 152,
   "id": "f3d265a1",
   "metadata": {},
   "outputs": [],
   "source": [
    "adData = adData.drop('Unnamed: 0', axis=1)"
   ]
  },
  {
   "cell_type": "code",
   "execution_count": 153,
   "id": "be6f42ff",
   "metadata": {},
   "outputs": [],
   "source": [
    "legalData = legalData.drop('Unnamed: 0', axis=1)"
   ]
  },
  {
   "cell_type": "markdown",
   "id": "6265c22c",
   "metadata": {},
   "source": [
    "## Final Dataframes"
   ]
  },
  {
   "cell_type": "markdown",
   "id": "94ae83f6",
   "metadata": {},
   "source": [
    "Show all of the dataframes, so that all of the columns and size looks correct."
   ]
  },
  {
   "cell_type": "code",
   "execution_count": 154,
   "id": "b1f2869f",
   "metadata": {},
   "outputs": [
    {
     "data": {
      "text/html": [
       "<div>\n",
       "<style scoped>\n",
       "    .dataframe tbody tr th:only-of-type {\n",
       "        vertical-align: middle;\n",
       "    }\n",
       "\n",
       "    .dataframe tbody tr th {\n",
       "        vertical-align: top;\n",
       "    }\n",
       "\n",
       "    .dataframe thead th {\n",
       "        text-align: right;\n",
       "    }\n",
       "</style>\n",
       "<table border=\"1\" class=\"dataframe\">\n",
       "  <thead>\n",
       "    <tr style=\"text-align: right;\">\n",
       "      <th></th>\n",
       "      <th>Title</th>\n",
       "      <th>Id</th>\n",
       "      <th>Text</th>\n",
       "      <th>Author</th>\n",
       "      <th>Number of Comments</th>\n",
       "      <th>Number of Upvotes</th>\n",
       "      <th>Ratio of Upvotes</th>\n",
       "    </tr>\n",
       "  </thead>\n",
       "  <tbody>\n",
       "    <tr>\n",
       "      <th>258</th>\n",
       "      <td>Feeling burnt out with gaming. Any advice?</td>\n",
       "      <td>11qkk52</td>\n",
       "      <td>Since moving out from my parents’ house and ge...</td>\n",
       "      <td>seii7</td>\n",
       "      <td>20</td>\n",
       "      <td>0</td>\n",
       "      <td>0.18</td>\n",
       "    </tr>\n",
       "    <tr>\n",
       "      <th>350</th>\n",
       "      <td>Hey gamers I’m looking for help regarding teac...</td>\n",
       "      <td>11otjib</td>\n",
       "      <td>She is dyslexic and her hand eye coordination ...</td>\n",
       "      <td>Gorrila_Doldos</td>\n",
       "      <td>32</td>\n",
       "      <td>0</td>\n",
       "      <td>0.35</td>\n",
       "    </tr>\n",
       "    <tr>\n",
       "      <th>100</th>\n",
       "      <td>Let's test your story writing skills.</td>\n",
       "      <td>11tzlkb</td>\n",
       "      <td>Write a small plot for a game where the the ma...</td>\n",
       "      <td>Z3US_YT</td>\n",
       "      <td>16</td>\n",
       "      <td>0</td>\n",
       "      <td>0.19</td>\n",
       "    </tr>\n",
       "    <tr>\n",
       "      <th>60</th>\n",
       "      <td>CyberPunk 2077 in 2023.</td>\n",
       "      <td>11v225z</td>\n",
       "      <td>Is it worth it to buy it. i want to get it for...</td>\n",
       "      <td>SpicyNoodlez1</td>\n",
       "      <td>36</td>\n",
       "      <td>0</td>\n",
       "      <td>0.36</td>\n",
       "    </tr>\n",
       "    <tr>\n",
       "      <th>360</th>\n",
       "      <td>Best modern games for people with Goopy Goblin...</td>\n",
       "      <td>1188uyi</td>\n",
       "      <td>I'm talking about games were you wouldn't real...</td>\n",
       "      <td>JoPepsi</td>\n",
       "      <td>5</td>\n",
       "      <td>0</td>\n",
       "      <td>0.38</td>\n",
       "    </tr>\n",
       "    <tr>\n",
       "      <th>179</th>\n",
       "      <td>What is your favorite game from the 2010’s</td>\n",
       "      <td>119jpli</td>\n",
       "      <td>2010-2020</td>\n",
       "      <td>Had3Shift</td>\n",
       "      <td>25</td>\n",
       "      <td>0</td>\n",
       "      <td>0.40</td>\n",
       "    </tr>\n",
       "    <tr>\n",
       "      <th>41</th>\n",
       "      <td>Console or portable gaming? Which is better an...</td>\n",
       "      <td>11vsror</td>\n",
       "      <td>Console gaming also includes PCs, and portable...</td>\n",
       "      <td>Anti-charizard</td>\n",
       "      <td>16</td>\n",
       "      <td>0</td>\n",
       "      <td>0.20</td>\n",
       "    </tr>\n",
       "    <tr>\n",
       "      <th>193</th>\n",
       "      <td>When did gaming peak for you?</td>\n",
       "      <td>11shkp7</td>\n",
       "      <td>I find myself purchasing games like The Ezio C...</td>\n",
       "      <td>PhantomDawn</td>\n",
       "      <td>37</td>\n",
       "      <td>0</td>\n",
       "      <td>0.50</td>\n",
       "    </tr>\n",
       "    <tr>\n",
       "      <th>4</th>\n",
       "      <td>Standing Desks?</td>\n",
       "      <td>11vr2i5</td>\n",
       "      <td>Looking for a good cheapish standing desk that...</td>\n",
       "      <td>psyopia</td>\n",
       "      <td>5</td>\n",
       "      <td>4</td>\n",
       "      <td>1.00</td>\n",
       "    </tr>\n",
       "    <tr>\n",
       "      <th>159</th>\n",
       "      <td>What was the first game that had a \"look behin...</td>\n",
       "      <td>11t81ek</td>\n",
       "      <td>I was watching game play of LSD Dream Emulator...</td>\n",
       "      <td>Professional-Chard17</td>\n",
       "      <td>1</td>\n",
       "      <td>0</td>\n",
       "      <td>0.50</td>\n",
       "    </tr>\n",
       "  </tbody>\n",
       "</table>\n",
       "</div>"
      ],
      "text/plain": [
       "                                                 Title       Id  \\\n",
       "258         Feeling burnt out with gaming. Any advice?  11qkk52   \n",
       "350  Hey gamers I’m looking for help regarding teac...  11otjib   \n",
       "100              Let's test your story writing skills.  11tzlkb   \n",
       "60                             CyberPunk 2077 in 2023.  11v225z   \n",
       "360  Best modern games for people with Goopy Goblin...  1188uyi   \n",
       "179         What is your favorite game from the 2010’s  119jpli   \n",
       "41   Console or portable gaming? Which is better an...  11vsror   \n",
       "193                      When did gaming peak for you?  11shkp7   \n",
       "4                                      Standing Desks?  11vr2i5   \n",
       "159  What was the first game that had a \"look behin...  11t81ek   \n",
       "\n",
       "                                                  Text                Author  \\\n",
       "258  Since moving out from my parents’ house and ge...                 seii7   \n",
       "350  She is dyslexic and her hand eye coordination ...        Gorrila_Doldos   \n",
       "100  Write a small plot for a game where the the ma...               Z3US_YT   \n",
       "60   Is it worth it to buy it. i want to get it for...         SpicyNoodlez1   \n",
       "360  I'm talking about games were you wouldn't real...               JoPepsi   \n",
       "179                                          2010-2020             Had3Shift   \n",
       "41   Console gaming also includes PCs, and portable...        Anti-charizard   \n",
       "193  I find myself purchasing games like The Ezio C...           PhantomDawn   \n",
       "4    Looking for a good cheapish standing desk that...               psyopia   \n",
       "159  I was watching game play of LSD Dream Emulator...  Professional-Chard17   \n",
       "\n",
       "     Number of Comments  Number of Upvotes  Ratio of Upvotes  \n",
       "258                  20                  0              0.18  \n",
       "350                  32                  0              0.35  \n",
       "100                  16                  0              0.19  \n",
       "60                   36                  0              0.36  \n",
       "360                   5                  0              0.38  \n",
       "179                  25                  0              0.40  \n",
       "41                   16                  0              0.20  \n",
       "193                  37                  0              0.50  \n",
       "4                     5                  4              1.00  \n",
       "159                   1                  0              0.50  "
      ]
     },
     "execution_count": 154,
     "metadata": {},
     "output_type": "execute_result"
    }
   ],
   "source": [
    "gamingData.sample(10)"
   ]
  },
  {
   "cell_type": "code",
   "execution_count": 155,
   "id": "204315ea",
   "metadata": {},
   "outputs": [
    {
     "data": {
      "text/html": [
       "<div>\n",
       "<style scoped>\n",
       "    .dataframe tbody tr th:only-of-type {\n",
       "        vertical-align: middle;\n",
       "    }\n",
       "\n",
       "    .dataframe tbody tr th {\n",
       "        vertical-align: top;\n",
       "    }\n",
       "\n",
       "    .dataframe thead th {\n",
       "        text-align: right;\n",
       "    }\n",
       "</style>\n",
       "<table border=\"1\" class=\"dataframe\">\n",
       "  <thead>\n",
       "    <tr style=\"text-align: right;\">\n",
       "      <th></th>\n",
       "      <th>Title</th>\n",
       "      <th>Id</th>\n",
       "      <th>Text</th>\n",
       "      <th>Author</th>\n",
       "      <th>Number of Comments</th>\n",
       "      <th>Number of Upvotes</th>\n",
       "      <th>Ratio of Upvotes</th>\n",
       "    </tr>\n",
       "  </thead>\n",
       "  <tbody>\n",
       "    <tr>\n",
       "      <th>180</th>\n",
       "      <td>What are the steps to starting a law firm?</td>\n",
       "      <td>11hnbf6</td>\n",
       "      <td>I'm looking to start a law firm. Capital wise ...</td>\n",
       "      <td>menatopboi</td>\n",
       "      <td>20</td>\n",
       "      <td>0</td>\n",
       "      <td>0.43</td>\n",
       "    </tr>\n",
       "    <tr>\n",
       "      <th>577</th>\n",
       "      <td>DC Bar Question</td>\n",
       "      <td>zscrux</td>\n",
       "      <td>Wondering if anyone could provide some help wi...</td>\n",
       "      <td>Impressive-Dark-9547</td>\n",
       "      <td>2</td>\n",
       "      <td>2</td>\n",
       "      <td>0.75</td>\n",
       "    </tr>\n",
       "    <tr>\n",
       "      <th>358</th>\n",
       "      <td>How much to charge for a presentation at a firm?</td>\n",
       "      <td>10erzi1</td>\n",
       "      <td>Hey there,\\n\\nLaw professor here. A friend of ...</td>\n",
       "      <td>DrHydrate</td>\n",
       "      <td>5</td>\n",
       "      <td>6</td>\n",
       "      <td>0.80</td>\n",
       "    </tr>\n",
       "    <tr>\n",
       "      <th>724</th>\n",
       "      <td>Speech to text transcription software suggestion?</td>\n",
       "      <td>1045q0n</td>\n",
       "      <td>I used Dragon a while ago and it worked just \"...</td>\n",
       "      <td>marklein</td>\n",
       "      <td>6</td>\n",
       "      <td>6</td>\n",
       "      <td>1.00</td>\n",
       "    </tr>\n",
       "    <tr>\n",
       "      <th>663</th>\n",
       "      <td>Girlfriend just got fired from her first job a...</td>\n",
       "      <td>108jrtb</td>\n",
       "      <td>My girlfriend got fired today from her first j...</td>\n",
       "      <td>big_flute</td>\n",
       "      <td>50</td>\n",
       "      <td>83</td>\n",
       "      <td>0.99</td>\n",
       "    </tr>\n",
       "    <tr>\n",
       "      <th>627</th>\n",
       "      <td>Is this an actual thing???</td>\n",
       "      <td>znm7og</td>\n",
       "      <td>So I'm a 3L and have a few job alerts on Linke...</td>\n",
       "      <td>terpmike28</td>\n",
       "      <td>5</td>\n",
       "      <td>2</td>\n",
       "      <td>1.00</td>\n",
       "    </tr>\n",
       "    <tr>\n",
       "      <th>47</th>\n",
       "      <td>Being a lawyer has ruined legal dramas</td>\n",
       "      <td>1189vyi</td>\n",
       "      <td>Just watched the Verdict and a few good men......</td>\n",
       "      <td>jokingonyou</td>\n",
       "      <td>47</td>\n",
       "      <td>83</td>\n",
       "      <td>0.96</td>\n",
       "    </tr>\n",
       "    <tr>\n",
       "      <th>283</th>\n",
       "      <td>Looking for a quote about lawyers defending gu...</td>\n",
       "      <td>11abm2s</td>\n",
       "      <td>Hello! I heard a quote a while ago about the m...</td>\n",
       "      <td>EarlyInterview1274</td>\n",
       "      <td>25</td>\n",
       "      <td>0</td>\n",
       "      <td>0.38</td>\n",
       "    </tr>\n",
       "    <tr>\n",
       "      <th>177</th>\n",
       "      <td>Finances of 40yo lawyer + family</td>\n",
       "      <td>11h2rnr</td>\n",
       "      <td>My finances have made me feel self conscious s...</td>\n",
       "      <td>LetsPontoon</td>\n",
       "      <td>30</td>\n",
       "      <td>18</td>\n",
       "      <td>0.85</td>\n",
       "    </tr>\n",
       "    <tr>\n",
       "      <th>702</th>\n",
       "      <td>Remote, part-time legal jobs you can do withou...</td>\n",
       "      <td>1069vz7</td>\n",
       "      <td>A relative has asked me this because I am the ...</td>\n",
       "      <td>PumpkinSpiceUrnex</td>\n",
       "      <td>10</td>\n",
       "      <td>4</td>\n",
       "      <td>1.00</td>\n",
       "    </tr>\n",
       "  </tbody>\n",
       "</table>\n",
       "</div>"
      ],
      "text/plain": [
       "                                                 Title       Id  \\\n",
       "180         What are the steps to starting a law firm?  11hnbf6   \n",
       "577                                    DC Bar Question   zscrux   \n",
       "358   How much to charge for a presentation at a firm?  10erzi1   \n",
       "724  Speech to text transcription software suggestion?  1045q0n   \n",
       "663  Girlfriend just got fired from her first job a...  108jrtb   \n",
       "627                         Is this an actual thing???   znm7og   \n",
       "47              Being a lawyer has ruined legal dramas  1189vyi   \n",
       "283  Looking for a quote about lawyers defending gu...  11abm2s   \n",
       "177                   Finances of 40yo lawyer + family  11h2rnr   \n",
       "702  Remote, part-time legal jobs you can do withou...  1069vz7   \n",
       "\n",
       "                                                  Text                Author  \\\n",
       "180  I'm looking to start a law firm. Capital wise ...            menatopboi   \n",
       "577  Wondering if anyone could provide some help wi...  Impressive-Dark-9547   \n",
       "358  Hey there,\\n\\nLaw professor here. A friend of ...             DrHydrate   \n",
       "724  I used Dragon a while ago and it worked just \"...              marklein   \n",
       "663  My girlfriend got fired today from her first j...             big_flute   \n",
       "627  So I'm a 3L and have a few job alerts on Linke...            terpmike28   \n",
       "47   Just watched the Verdict and a few good men......           jokingonyou   \n",
       "283  Hello! I heard a quote a while ago about the m...    EarlyInterview1274   \n",
       "177  My finances have made me feel self conscious s...           LetsPontoon   \n",
       "702  A relative has asked me this because I am the ...     PumpkinSpiceUrnex   \n",
       "\n",
       "     Number of Comments  Number of Upvotes  Ratio of Upvotes  \n",
       "180                  20                  0              0.43  \n",
       "577                   2                  2              0.75  \n",
       "358                   5                  6              0.80  \n",
       "724                   6                  6              1.00  \n",
       "663                  50                 83              0.99  \n",
       "627                   5                  2              1.00  \n",
       "47                   47                 83              0.96  \n",
       "283                  25                  0              0.38  \n",
       "177                  30                 18              0.85  \n",
       "702                  10                  4              1.00  "
      ]
     },
     "execution_count": 155,
     "metadata": {},
     "output_type": "execute_result"
    }
   ],
   "source": [
    "laywerData.sample(10)"
   ]
  },
  {
   "cell_type": "code",
   "execution_count": 156,
   "id": "7e810c54",
   "metadata": {},
   "outputs": [
    {
     "data": {
      "text/html": [
       "<div>\n",
       "<style scoped>\n",
       "    .dataframe tbody tr th:only-of-type {\n",
       "        vertical-align: middle;\n",
       "    }\n",
       "\n",
       "    .dataframe tbody tr th {\n",
       "        vertical-align: top;\n",
       "    }\n",
       "\n",
       "    .dataframe thead th {\n",
       "        text-align: right;\n",
       "    }\n",
       "</style>\n",
       "<table border=\"1\" class=\"dataframe\">\n",
       "  <thead>\n",
       "    <tr style=\"text-align: right;\">\n",
       "      <th></th>\n",
       "      <th>Title</th>\n",
       "      <th>Id</th>\n",
       "      <th>Text</th>\n",
       "      <th>Author</th>\n",
       "      <th>Number of Comments</th>\n",
       "      <th>Number of Upvotes</th>\n",
       "      <th>Ratio of Upvotes</th>\n",
       "    </tr>\n",
       "  </thead>\n",
       "  <tbody>\n",
       "    <tr>\n",
       "      <th>57</th>\n",
       "      <td>Buying Moons on Sushi Swap with Metamask: how ...</td>\n",
       "      <td>11vqbbo</td>\n",
       "      <td>Today I successfully bought my first Moons thr...</td>\n",
       "      <td>poeselkots</td>\n",
       "      <td>101</td>\n",
       "      <td>22</td>\n",
       "      <td>0.75</td>\n",
       "    </tr>\n",
       "    <tr>\n",
       "      <th>421</th>\n",
       "      <td>Moon Week 37</td>\n",
       "      <td>11t058d</td>\n",
       "      <td>Hello everyone and welcome to Moon Week for ro...</td>\n",
       "      <td>MoonWeek</td>\n",
       "      <td>697</td>\n",
       "      <td>113</td>\n",
       "      <td>0.89</td>\n",
       "    </tr>\n",
       "    <tr>\n",
       "      <th>125</th>\n",
       "      <td>The so-feared and “first-ever“ Death Cross, ha...</td>\n",
       "      <td>11uwu2f</td>\n",
       "      <td>One very popular Technical Analysis here on th...</td>\n",
       "      <td>partymsl</td>\n",
       "      <td>30</td>\n",
       "      <td>6</td>\n",
       "      <td>0.63</td>\n",
       "    </tr>\n",
       "    <tr>\n",
       "      <th>112</th>\n",
       "      <td>Do your bags consolidate into fewer coins the ...</td>\n",
       "      <td>119l71h</td>\n",
       "      <td>Does time and experience affect the diversity ...</td>\n",
       "      <td>OpticallyMosache</td>\n",
       "      <td>147</td>\n",
       "      <td>48</td>\n",
       "      <td>0.87</td>\n",
       "    </tr>\n",
       "    <tr>\n",
       "      <th>91</th>\n",
       "      <td>Is anyone not investing in BTC or ETH and only...</td>\n",
       "      <td>119va2t</td>\n",
       "      <td>Do you feel like you're already behind in the ...</td>\n",
       "      <td>Fivebag</td>\n",
       "      <td>385</td>\n",
       "      <td>26</td>\n",
       "      <td>0.61</td>\n",
       "    </tr>\n",
       "    <tr>\n",
       "      <th>270</th>\n",
       "      <td>What changed your mind about crypto?</td>\n",
       "      <td>11u2id1</td>\n",
       "      <td>Bitcoin has been around for over a decade now,...</td>\n",
       "      <td>PARTY_H0RSE</td>\n",
       "      <td>113</td>\n",
       "      <td>11</td>\n",
       "      <td>0.67</td>\n",
       "    </tr>\n",
       "    <tr>\n",
       "      <th>172</th>\n",
       "      <td>Keep a level head in these times</td>\n",
       "      <td>11utubu</td>\n",
       "      <td>As soon as we had a good week, loads of posts ...</td>\n",
       "      <td>angry_koala_26</td>\n",
       "      <td>25</td>\n",
       "      <td>2</td>\n",
       "      <td>0.60</td>\n",
       "    </tr>\n",
       "    <tr>\n",
       "      <th>231</th>\n",
       "      <td>Long term hodl</td>\n",
       "      <td>11uokni</td>\n",
       "      <td>I bought crypto close to 2 years ago instead o...</td>\n",
       "      <td>Firesice</td>\n",
       "      <td>78</td>\n",
       "      <td>15</td>\n",
       "      <td>0.73</td>\n",
       "    </tr>\n",
       "    <tr>\n",
       "      <th>90</th>\n",
       "      <td>What’s your expectation of cryptocurrency in 2...</td>\n",
       "      <td>11vqh35</td>\n",
       "      <td>I have a few: \\n\\n- The top 100 marketcap cryp...</td>\n",
       "      <td>genjitenji</td>\n",
       "      <td>160</td>\n",
       "      <td>49</td>\n",
       "      <td>0.78</td>\n",
       "    </tr>\n",
       "    <tr>\n",
       "      <th>186</th>\n",
       "      <td>What are your price predictions for the upcomi...</td>\n",
       "      <td>11umn7y</td>\n",
       "      <td>Since many users on this sub are probably goin...</td>\n",
       "      <td>Odlavso</td>\n",
       "      <td>160</td>\n",
       "      <td>3</td>\n",
       "      <td>0.55</td>\n",
       "    </tr>\n",
       "  </tbody>\n",
       "</table>\n",
       "</div>"
      ],
      "text/plain": [
       "                                                 Title       Id  \\\n",
       "57   Buying Moons on Sushi Swap with Metamask: how ...  11vqbbo   \n",
       "421                                       Moon Week 37  11t058d   \n",
       "125  The so-feared and “first-ever“ Death Cross, ha...  11uwu2f   \n",
       "112  Do your bags consolidate into fewer coins the ...  119l71h   \n",
       "91   Is anyone not investing in BTC or ETH and only...  119va2t   \n",
       "270               What changed your mind about crypto?  11u2id1   \n",
       "172                   Keep a level head in these times  11utubu   \n",
       "231                                     Long term hodl  11uokni   \n",
       "90   What’s your expectation of cryptocurrency in 2...  11vqh35   \n",
       "186  What are your price predictions for the upcomi...  11umn7y   \n",
       "\n",
       "                                                  Text            Author  \\\n",
       "57   Today I successfully bought my first Moons thr...        poeselkots   \n",
       "421  Hello everyone and welcome to Moon Week for ro...          MoonWeek   \n",
       "125  One very popular Technical Analysis here on th...          partymsl   \n",
       "112  Does time and experience affect the diversity ...  OpticallyMosache   \n",
       "91   Do you feel like you're already behind in the ...           Fivebag   \n",
       "270  Bitcoin has been around for over a decade now,...       PARTY_H0RSE   \n",
       "172  As soon as we had a good week, loads of posts ...    angry_koala_26   \n",
       "231  I bought crypto close to 2 years ago instead o...          Firesice   \n",
       "90   I have a few: \\n\\n- The top 100 marketcap cryp...        genjitenji   \n",
       "186  Since many users on this sub are probably goin...           Odlavso   \n",
       "\n",
       "     Number of Comments  Number of Upvotes  Ratio of Upvotes  \n",
       "57                  101                 22              0.75  \n",
       "421                 697                113              0.89  \n",
       "125                  30                  6              0.63  \n",
       "112                 147                 48              0.87  \n",
       "91                  385                 26              0.61  \n",
       "270                 113                 11              0.67  \n",
       "172                  25                  2              0.60  \n",
       "231                  78                 15              0.73  \n",
       "90                  160                 49              0.78  \n",
       "186                 160                  3              0.55  "
      ]
     },
     "execution_count": 156,
     "metadata": {},
     "output_type": "execute_result"
    }
   ],
   "source": [
    "cryptoData.sample(10)"
   ]
  },
  {
   "cell_type": "code",
   "execution_count": 157,
   "id": "4518fc16",
   "metadata": {},
   "outputs": [
    {
     "data": {
      "text/html": [
       "<div>\n",
       "<style scoped>\n",
       "    .dataframe tbody tr th:only-of-type {\n",
       "        vertical-align: middle;\n",
       "    }\n",
       "\n",
       "    .dataframe tbody tr th {\n",
       "        vertical-align: top;\n",
       "    }\n",
       "\n",
       "    .dataframe thead th {\n",
       "        text-align: right;\n",
       "    }\n",
       "</style>\n",
       "<table border=\"1\" class=\"dataframe\">\n",
       "  <thead>\n",
       "    <tr style=\"text-align: right;\">\n",
       "      <th></th>\n",
       "      <th>Title</th>\n",
       "      <th>Id</th>\n",
       "      <th>Text</th>\n",
       "      <th>Author</th>\n",
       "      <th>Number of Comments</th>\n",
       "      <th>Number of upvotes</th>\n",
       "      <th>Ratio of Upvotes</th>\n",
       "    </tr>\n",
       "  </thead>\n",
       "  <tbody>\n",
       "    <tr>\n",
       "      <th>110</th>\n",
       "      <td>Is this the best window a Sixers side has had ...</td>\n",
       "      <td>11v79l8</td>\n",
       "      <td>People will always lament what could have been...</td>\n",
       "      <td>Cpt-No-Dick</td>\n",
       "      <td>82</td>\n",
       "      <td>77</td>\n",
       "      <td>0.82</td>\n",
       "    </tr>\n",
       "    <tr>\n",
       "      <th>457</th>\n",
       "      <td>[highlight request] Jaylen Brown draws a quest...</td>\n",
       "      <td>11si7gt</td>\n",
       "      <td>This play was initially ruled an offensive fou...</td>\n",
       "      <td>adammorrisongoat</td>\n",
       "      <td>18</td>\n",
       "      <td>39</td>\n",
       "      <td>0.72</td>\n",
       "    </tr>\n",
       "    <tr>\n",
       "      <th>406</th>\n",
       "      <td>In his first 12 seasons before retiring, Magic...</td>\n",
       "      <td>11sp06b</td>\n",
       "      <td>Ok , I understand he is Magic freaking Johnson...</td>\n",
       "      <td>HEMAGN2point0</td>\n",
       "      <td>22</td>\n",
       "      <td>57</td>\n",
       "      <td>0.90</td>\n",
       "    </tr>\n",
       "    <tr>\n",
       "      <th>480</th>\n",
       "      <td>GAME THREAD: Golden State Warriors (36-33) @ L...</td>\n",
       "      <td>11sfbz2</td>\n",
       "      <td>##General Information\\n    **TIME**     |**MED...</td>\n",
       "      <td>NBA_MOD</td>\n",
       "      <td>2335</td>\n",
       "      <td>31</td>\n",
       "      <td>0.85</td>\n",
       "    </tr>\n",
       "    <tr>\n",
       "      <th>88</th>\n",
       "      <td>George Karl on why he doesn't think Joel Embii...</td>\n",
       "      <td>11vtd66</td>\n",
       "      <td>\\n\\n&gt; \"I don't want to bad mouth Embiid becaus...</td>\n",
       "      <td>Wonderful-Balance711</td>\n",
       "      <td>723</td>\n",
       "      <td>1966</td>\n",
       "      <td>0.83</td>\n",
       "    </tr>\n",
       "    <tr>\n",
       "      <th>37</th>\n",
       "      <td>Thursday Talk Thread... Yes That's The Thread ...</td>\n",
       "      <td>11suzlv</td>\n",
       "      <td>Welcome to today's open thread, where /r/nfl u...</td>\n",
       "      <td>AutoModerator</td>\n",
       "      <td>562</td>\n",
       "      <td>52</td>\n",
       "      <td>0.83</td>\n",
       "    </tr>\n",
       "    <tr>\n",
       "      <th>580</th>\n",
       "      <td>The Thunder Trio(SGA, Jalen Williams, Dort) to...</td>\n",
       "      <td>11rjd8y</td>\n",
       "      <td>SGA: 35/6/3/2\\n\\nLu Dort: 24/9/1/1\\n\\nJalen Wi...</td>\n",
       "      <td>CyborgAlgoInvestor</td>\n",
       "      <td>48</td>\n",
       "      <td>222</td>\n",
       "      <td>0.96</td>\n",
       "    </tr>\n",
       "    <tr>\n",
       "      <th>42</th>\n",
       "      <td>Nikola Jokic puts up 22/17/10/2 on 75% (9/12) ...</td>\n",
       "      <td>11vysd2</td>\n",
       "      <td>\\nGood bounce back from the Nuggets on a b2b. ...</td>\n",
       "      <td>Wonderful-Balance711</td>\n",
       "      <td>164</td>\n",
       "      <td>1285</td>\n",
       "      <td>0.88</td>\n",
       "    </tr>\n",
       "    <tr>\n",
       "      <th>353</th>\n",
       "      <td>GAME THREAD: Indiana Pacers (31-38) @ Milwauke...</td>\n",
       "      <td>11t98rv</td>\n",
       "      <td>##General Information\\n    **TIME**     |**MED...</td>\n",
       "      <td>NBA_MOD</td>\n",
       "      <td>260</td>\n",
       "      <td>30</td>\n",
       "      <td>0.88</td>\n",
       "    </tr>\n",
       "    <tr>\n",
       "      <th>587</th>\n",
       "      <td>Jamal Murray in his homecoming loss at Toronto...</td>\n",
       "      <td>11rijsz</td>\n",
       "      <td>Source: https://www.nba.com/stats/players/trad...</td>\n",
       "      <td>eathbau</td>\n",
       "      <td>109</td>\n",
       "      <td>241</td>\n",
       "      <td>0.91</td>\n",
       "    </tr>\n",
       "  </tbody>\n",
       "</table>\n",
       "</div>"
      ],
      "text/plain": [
       "                                                 Title       Id  \\\n",
       "110  Is this the best window a Sixers side has had ...  11v79l8   \n",
       "457  [highlight request] Jaylen Brown draws a quest...  11si7gt   \n",
       "406  In his first 12 seasons before retiring, Magic...  11sp06b   \n",
       "480  GAME THREAD: Golden State Warriors (36-33) @ L...  11sfbz2   \n",
       "88   George Karl on why he doesn't think Joel Embii...  11vtd66   \n",
       "37   Thursday Talk Thread... Yes That's The Thread ...  11suzlv   \n",
       "580  The Thunder Trio(SGA, Jalen Williams, Dort) to...  11rjd8y   \n",
       "42   Nikola Jokic puts up 22/17/10/2 on 75% (9/12) ...  11vysd2   \n",
       "353  GAME THREAD: Indiana Pacers (31-38) @ Milwauke...  11t98rv   \n",
       "587  Jamal Murray in his homecoming loss at Toronto...  11rijsz   \n",
       "\n",
       "                                                  Text                Author  \\\n",
       "110  People will always lament what could have been...           Cpt-No-Dick   \n",
       "457  This play was initially ruled an offensive fou...      adammorrisongoat   \n",
       "406  Ok , I understand he is Magic freaking Johnson...         HEMAGN2point0   \n",
       "480  ##General Information\\n    **TIME**     |**MED...               NBA_MOD   \n",
       "88   \\n\\n> \"I don't want to bad mouth Embiid becaus...  Wonderful-Balance711   \n",
       "37   Welcome to today's open thread, where /r/nfl u...         AutoModerator   \n",
       "580  SGA: 35/6/3/2\\n\\nLu Dort: 24/9/1/1\\n\\nJalen Wi...    CyborgAlgoInvestor   \n",
       "42   \\nGood bounce back from the Nuggets on a b2b. ...  Wonderful-Balance711   \n",
       "353  ##General Information\\n    **TIME**     |**MED...               NBA_MOD   \n",
       "587  Source: https://www.nba.com/stats/players/trad...               eathbau   \n",
       "\n",
       "     Number of Comments  Number of upvotes  Ratio of Upvotes  \n",
       "110                  82                 77              0.82  \n",
       "457                  18                 39              0.72  \n",
       "406                  22                 57              0.90  \n",
       "480                2335                 31              0.85  \n",
       "88                  723               1966              0.83  \n",
       "37                  562                 52              0.83  \n",
       "580                  48                222              0.96  \n",
       "42                  164               1285              0.88  \n",
       "353                 260                 30              0.88  \n",
       "587                 109                241              0.91  "
      ]
     },
     "execution_count": 157,
     "metadata": {},
     "output_type": "execute_result"
    }
   ],
   "source": [
    "sportsData.sample(10)"
   ]
  },
  {
   "cell_type": "code",
   "execution_count": 158,
   "id": "2bfad6aa",
   "metadata": {},
   "outputs": [
    {
     "data": {
      "text/html": [
       "<div>\n",
       "<style scoped>\n",
       "    .dataframe tbody tr th:only-of-type {\n",
       "        vertical-align: middle;\n",
       "    }\n",
       "\n",
       "    .dataframe tbody tr th {\n",
       "        vertical-align: top;\n",
       "    }\n",
       "\n",
       "    .dataframe thead th {\n",
       "        text-align: right;\n",
       "    }\n",
       "</style>\n",
       "<table border=\"1\" class=\"dataframe\">\n",
       "  <thead>\n",
       "    <tr style=\"text-align: right;\">\n",
       "      <th></th>\n",
       "      <th>Title</th>\n",
       "      <th>Id</th>\n",
       "      <th>Text</th>\n",
       "      <th>Author</th>\n",
       "      <th>Number of Comments</th>\n",
       "      <th>Number of upvotes</th>\n",
       "      <th>Ratio of Upvotes</th>\n",
       "    </tr>\n",
       "  </thead>\n",
       "  <tbody>\n",
       "    <tr>\n",
       "      <th>696</th>\n",
       "      <td>Best part time Jobs for college students?</td>\n",
       "      <td>10z3yon</td>\n",
       "      <td>What do you believe to be the best part time j...</td>\n",
       "      <td>Rhaenrya</td>\n",
       "      <td>8</td>\n",
       "      <td>10</td>\n",
       "      <td>0.85</td>\n",
       "    </tr>\n",
       "    <tr>\n",
       "      <th>679</th>\n",
       "      <td>Figuring out how many classes to take during s...</td>\n",
       "      <td>11i28qs</td>\n",
       "      <td>I start college this summer and was told throu...</td>\n",
       "      <td>thethoughtsweshare</td>\n",
       "      <td>5</td>\n",
       "      <td>1</td>\n",
       "      <td>1.00</td>\n",
       "    </tr>\n",
       "    <tr>\n",
       "      <th>121</th>\n",
       "      <td>Business major</td>\n",
       "      <td>11tuskf</td>\n",
       "      <td>Is it worth doing a degree in business admin o...</td>\n",
       "      <td>Upbeat-Mastodon-223</td>\n",
       "      <td>1</td>\n",
       "      <td>1</td>\n",
       "      <td>1.00</td>\n",
       "    </tr>\n",
       "    <tr>\n",
       "      <th>497</th>\n",
       "      <td>Major</td>\n",
       "      <td>11m2yx9</td>\n",
       "      <td>I am torn between computer science and medicin...</td>\n",
       "      <td>Ill-Pension-1487</td>\n",
       "      <td>1</td>\n",
       "      <td>2</td>\n",
       "      <td>1.00</td>\n",
       "    </tr>\n",
       "    <tr>\n",
       "      <th>21</th>\n",
       "      <td>I need some advice.</td>\n",
       "      <td>11abuym</td>\n",
       "      <td>I’m still on the edge of whether or not to dro...</td>\n",
       "      <td>thebookklepto</td>\n",
       "      <td>1</td>\n",
       "      <td>1</td>\n",
       "      <td>1.00</td>\n",
       "    </tr>\n",
       "    <tr>\n",
       "      <th>639</th>\n",
       "      <td>Taking 15 units and having two part time jobs</td>\n",
       "      <td>1107x54</td>\n",
       "      <td>This semester I will be taking 15 units:\\n\\nHo...</td>\n",
       "      <td>idk-mynamelol</td>\n",
       "      <td>4</td>\n",
       "      <td>1</td>\n",
       "      <td>1.00</td>\n",
       "    </tr>\n",
       "    <tr>\n",
       "      <th>169</th>\n",
       "      <td>If my program is regionally accredited a day b...</td>\n",
       "      <td>11t3nmu</td>\n",
       "      <td>Likewise, could I take all but one class, if I...</td>\n",
       "      <td>Del_Phoenix</td>\n",
       "      <td>1</td>\n",
       "      <td>1</td>\n",
       "      <td>1.00</td>\n",
       "    </tr>\n",
       "    <tr>\n",
       "      <th>76</th>\n",
       "      <td>Will a withdrawn class effect my chances of ge...</td>\n",
       "      <td>119g59t</td>\n",
       "      <td>Hi! I’m currently trying to transfer out of Te...</td>\n",
       "      <td>aw3somes4uce</td>\n",
       "      <td>1</td>\n",
       "      <td>2</td>\n",
       "      <td>1.00</td>\n",
       "    </tr>\n",
       "    <tr>\n",
       "      <th>640</th>\n",
       "      <td>Is it absolutely necessary to have internships...</td>\n",
       "      <td>11075te</td>\n",
       "      <td>Hello, sorry if this is the wrong place to pos...</td>\n",
       "      <td>lovely_alpaca</td>\n",
       "      <td>29</td>\n",
       "      <td>11</td>\n",
       "      <td>0.85</td>\n",
       "    </tr>\n",
       "    <tr>\n",
       "      <th>227</th>\n",
       "      <td>Where should I get my masters?</td>\n",
       "      <td>11rndaf</td>\n",
       "      <td>As I am finishing up my undergrad, I have been...</td>\n",
       "      <td>Impressive-Smile7156</td>\n",
       "      <td>6</td>\n",
       "      <td>1</td>\n",
       "      <td>1.00</td>\n",
       "    </tr>\n",
       "  </tbody>\n",
       "</table>\n",
       "</div>"
      ],
      "text/plain": [
       "                                                 Title       Id  \\\n",
       "696          Best part time Jobs for college students?  10z3yon   \n",
       "679  Figuring out how many classes to take during s...  11i28qs   \n",
       "121                                     Business major  11tuskf   \n",
       "497                                              Major  11m2yx9   \n",
       "21                                 I need some advice.  11abuym   \n",
       "639      Taking 15 units and having two part time jobs  1107x54   \n",
       "169  If my program is regionally accredited a day b...  11t3nmu   \n",
       "76   Will a withdrawn class effect my chances of ge...  119g59t   \n",
       "640  Is it absolutely necessary to have internships...  11075te   \n",
       "227                     Where should I get my masters?  11rndaf   \n",
       "\n",
       "                                                  Text                Author  \\\n",
       "696  What do you believe to be the best part time j...              Rhaenrya   \n",
       "679  I start college this summer and was told throu...    thethoughtsweshare   \n",
       "121  Is it worth doing a degree in business admin o...   Upbeat-Mastodon-223   \n",
       "497  I am torn between computer science and medicin...      Ill-Pension-1487   \n",
       "21   I’m still on the edge of whether or not to dro...         thebookklepto   \n",
       "639  This semester I will be taking 15 units:\\n\\nHo...         idk-mynamelol   \n",
       "169  Likewise, could I take all but one class, if I...           Del_Phoenix   \n",
       "76   Hi! I’m currently trying to transfer out of Te...          aw3somes4uce   \n",
       "640  Hello, sorry if this is the wrong place to pos...         lovely_alpaca   \n",
       "227  As I am finishing up my undergrad, I have been...  Impressive-Smile7156   \n",
       "\n",
       "     Number of Comments  Number of upvotes  Ratio of Upvotes  \n",
       "696                   8                 10              0.85  \n",
       "679                   5                  1              1.00  \n",
       "121                   1                  1              1.00  \n",
       "497                   1                  2              1.00  \n",
       "21                    1                  1              1.00  \n",
       "639                   4                  1              1.00  \n",
       "169                   1                  1              1.00  \n",
       "76                    1                  2              1.00  \n",
       "640                  29                 11              0.85  \n",
       "227                   6                  1              1.00  "
      ]
     },
     "execution_count": 158,
     "metadata": {},
     "output_type": "execute_result"
    }
   ],
   "source": [
    "collegeData.sample(10)"
   ]
  },
  {
   "cell_type": "code",
   "execution_count": 159,
   "id": "cdae3823",
   "metadata": {},
   "outputs": [
    {
     "data": {
      "text/html": [
       "<div>\n",
       "<style scoped>\n",
       "    .dataframe tbody tr th:only-of-type {\n",
       "        vertical-align: middle;\n",
       "    }\n",
       "\n",
       "    .dataframe tbody tr th {\n",
       "        vertical-align: top;\n",
       "    }\n",
       "\n",
       "    .dataframe thead th {\n",
       "        text-align: right;\n",
       "    }\n",
       "</style>\n",
       "<table border=\"1\" class=\"dataframe\">\n",
       "  <thead>\n",
       "    <tr style=\"text-align: right;\">\n",
       "      <th></th>\n",
       "      <th>Title</th>\n",
       "      <th>Id</th>\n",
       "      <th>Text</th>\n",
       "      <th>Author</th>\n",
       "      <th>Number of Comments</th>\n",
       "      <th>Number of upvotes</th>\n",
       "      <th>Ratio of Upvotes</th>\n",
       "    </tr>\n",
       "  </thead>\n",
       "  <tbody>\n",
       "    <tr>\n",
       "      <th>437</th>\n",
       "      <td>Eli5: Why does sucking helium make one’s voice...</td>\n",
       "      <td>11me6qu</td>\n",
       "      <td>Just the title!</td>\n",
       "      <td>L723</td>\n",
       "      <td>10</td>\n",
       "      <td>4</td>\n",
       "      <td>0.71</td>\n",
       "    </tr>\n",
       "    <tr>\n",
       "      <th>61</th>\n",
       "      <td>Eli5: How come consuming acid can upset the st...</td>\n",
       "      <td>11umkcx</td>\n",
       "      <td>Given the fact that the stomach pH is already ...</td>\n",
       "      <td>Visible_Breath_4541</td>\n",
       "      <td>5</td>\n",
       "      <td>5</td>\n",
       "      <td>0.78</td>\n",
       "    </tr>\n",
       "    <tr>\n",
       "      <th>232</th>\n",
       "      <td>ELI5 What is GitHub and how is it used?</td>\n",
       "      <td>11rafkj</td>\n",
       "      <td>Recently, I learnt some Python and basics of N...</td>\n",
       "      <td>Weird-Thread</td>\n",
       "      <td>10</td>\n",
       "      <td>8</td>\n",
       "      <td>0.67</td>\n",
       "    </tr>\n",
       "    <tr>\n",
       "      <th>262</th>\n",
       "      <td>[ELI5] How does a non direct hit from artiller...</td>\n",
       "      <td>11q70z5</td>\n",
       "      <td>Seen some videos where a shell seems to explod...</td>\n",
       "      <td>FallusMinimus</td>\n",
       "      <td>12</td>\n",
       "      <td>9</td>\n",
       "      <td>0.75</td>\n",
       "    </tr>\n",
       "    <tr>\n",
       "      <th>33</th>\n",
       "      <td>Eli5: Why is water pooling below my fire-stove...</td>\n",
       "      <td>11vbcf1</td>\n",
       "      <td>We heat our house with a fire-stove, to keep t...</td>\n",
       "      <td>KandyTG</td>\n",
       "      <td>3</td>\n",
       "      <td>0</td>\n",
       "      <td>0.50</td>\n",
       "    </tr>\n",
       "    <tr>\n",
       "      <th>225</th>\n",
       "      <td>Eli5: how does the human brain cope with prolo...</td>\n",
       "      <td>11rcx29</td>\n",
       "      <td>Despite being a nurse, this always bothers me....</td>\n",
       "      <td>DoctorMobius21</td>\n",
       "      <td>11</td>\n",
       "      <td>9</td>\n",
       "      <td>0.68</td>\n",
       "    </tr>\n",
       "    <tr>\n",
       "      <th>561</th>\n",
       "      <td>ELI5: How do radio and Wi-Fi signals actually ...</td>\n",
       "      <td>11ir1ot</td>\n",
       "      <td>I don’t think I was ever taught this but think...</td>\n",
       "      <td>SJ275</td>\n",
       "      <td>36</td>\n",
       "      <td>65</td>\n",
       "      <td>0.82</td>\n",
       "    </tr>\n",
       "    <tr>\n",
       "      <th>279</th>\n",
       "      <td>ELI5: How UK car number plates display the yea...</td>\n",
       "      <td>11q9qz0</td>\n",
       "      <td>My car has a 13 plate and (according to my dad...</td>\n",
       "      <td>EnbySheriff</td>\n",
       "      <td>7</td>\n",
       "      <td>0</td>\n",
       "      <td>0.50</td>\n",
       "    </tr>\n",
       "    <tr>\n",
       "      <th>314</th>\n",
       "      <td>ELI5: If every action has an equal and opposit...</td>\n",
       "      <td>11paheu</td>\n",
       "      <td>Why does anything move at a local and universe...</td>\n",
       "      <td>geeky-hawkes</td>\n",
       "      <td>10</td>\n",
       "      <td>0</td>\n",
       "      <td>0.36</td>\n",
       "    </tr>\n",
       "    <tr>\n",
       "      <th>169</th>\n",
       "      <td>Eli5 why is a perfect vacuum not possible?</td>\n",
       "      <td>11shn53</td>\n",
       "      <td>I was reading how it's hard to get a perfect v...</td>\n",
       "      <td>soaringturkeys</td>\n",
       "      <td>45</td>\n",
       "      <td>49</td>\n",
       "      <td>0.82</td>\n",
       "    </tr>\n",
       "  </tbody>\n",
       "</table>\n",
       "</div>"
      ],
      "text/plain": [
       "                                                 Title       Id  \\\n",
       "437  Eli5: Why does sucking helium make one’s voice...  11me6qu   \n",
       "61   Eli5: How come consuming acid can upset the st...  11umkcx   \n",
       "232            ELI5 What is GitHub and how is it used?  11rafkj   \n",
       "262  [ELI5] How does a non direct hit from artiller...  11q70z5   \n",
       "33   Eli5: Why is water pooling below my fire-stove...  11vbcf1   \n",
       "225  Eli5: how does the human brain cope with prolo...  11rcx29   \n",
       "561  ELI5: How do radio and Wi-Fi signals actually ...  11ir1ot   \n",
       "279  ELI5: How UK car number plates display the yea...  11q9qz0   \n",
       "314  ELI5: If every action has an equal and opposit...  11paheu   \n",
       "169         Eli5 why is a perfect vacuum not possible?  11shn53   \n",
       "\n",
       "                                                  Text               Author  \\\n",
       "437                                    Just the title!                 L723   \n",
       "61   Given the fact that the stomach pH is already ...  Visible_Breath_4541   \n",
       "232  Recently, I learnt some Python and basics of N...         Weird-Thread   \n",
       "262  Seen some videos where a shell seems to explod...        FallusMinimus   \n",
       "33   We heat our house with a fire-stove, to keep t...              KandyTG   \n",
       "225  Despite being a nurse, this always bothers me....       DoctorMobius21   \n",
       "561  I don’t think I was ever taught this but think...                SJ275   \n",
       "279  My car has a 13 plate and (according to my dad...          EnbySheriff   \n",
       "314  Why does anything move at a local and universe...         geeky-hawkes   \n",
       "169  I was reading how it's hard to get a perfect v...       soaringturkeys   \n",
       "\n",
       "     Number of Comments  Number of upvotes  Ratio of Upvotes  \n",
       "437                  10                  4              0.71  \n",
       "61                    5                  5              0.78  \n",
       "232                  10                  8              0.67  \n",
       "262                  12                  9              0.75  \n",
       "33                    3                  0              0.50  \n",
       "225                  11                  9              0.68  \n",
       "561                  36                 65              0.82  \n",
       "279                   7                  0              0.50  \n",
       "314                  10                  0              0.36  \n",
       "169                  45                 49              0.82  "
      ]
     },
     "execution_count": 159,
     "metadata": {},
     "output_type": "execute_result"
    }
   ],
   "source": [
    "elifData.sample(10)"
   ]
  },
  {
   "cell_type": "code",
   "execution_count": 160,
   "id": "157a315f",
   "metadata": {},
   "outputs": [
    {
     "data": {
      "text/html": [
       "<div>\n",
       "<style scoped>\n",
       "    .dataframe tbody tr th:only-of-type {\n",
       "        vertical-align: middle;\n",
       "    }\n",
       "\n",
       "    .dataframe tbody tr th {\n",
       "        vertical-align: top;\n",
       "    }\n",
       "\n",
       "    .dataframe thead th {\n",
       "        text-align: right;\n",
       "    }\n",
       "</style>\n",
       "<table border=\"1\" class=\"dataframe\">\n",
       "  <thead>\n",
       "    <tr style=\"text-align: right;\">\n",
       "      <th></th>\n",
       "      <th>Title</th>\n",
       "      <th>Id</th>\n",
       "      <th>Text</th>\n",
       "      <th>Author</th>\n",
       "      <th>Number of Comments</th>\n",
       "      <th>Number of upvotes</th>\n",
       "      <th>Ratio of Upvotes</th>\n",
       "    </tr>\n",
       "  </thead>\n",
       "  <tbody>\n",
       "    <tr>\n",
       "      <th>138</th>\n",
       "      <td>Am I crazy, or did Onimai reference Hitchcock?...</td>\n",
       "      <td>1195p4z</td>\n",
       "      <td>I watched the first episode of the show, and w...</td>\n",
       "      <td>GuiltyAs_Charged</td>\n",
       "      <td>6</td>\n",
       "      <td>4</td>\n",
       "      <td>0.60</td>\n",
       "    </tr>\n",
       "    <tr>\n",
       "      <th>77</th>\n",
       "      <td>Dungeon ni Deai wo Motomeru no wa Machigatteir...</td>\n",
       "      <td>119ygjo</td>\n",
       "      <td>*Dungeon ni Deai wo Motomeru no wa Machigattei...</td>\n",
       "      <td>AutoLovepon</td>\n",
       "      <td>280</td>\n",
       "      <td>1514</td>\n",
       "      <td>0.96</td>\n",
       "    </tr>\n",
       "    <tr>\n",
       "      <th>290</th>\n",
       "      <td>The Familiar of Zero Lent In Violent Easter Re...</td>\n",
       "      <td>117isy1</td>\n",
       "      <td>Hello everyone! I am Holofan4life.\\n\\nWelcome ...</td>\n",
       "      <td>Holofan4life</td>\n",
       "      <td>95</td>\n",
       "      <td>26</td>\n",
       "      <td>0.85</td>\n",
       "    </tr>\n",
       "    <tr>\n",
       "      <th>627</th>\n",
       "      <td>So I watched Kotaro Lives Alone the other day ...</td>\n",
       "      <td>114agbd</td>\n",
       "      <td>Yeah I basically cried from episode 1-10. The ...</td>\n",
       "      <td>Errol89</td>\n",
       "      <td>6</td>\n",
       "      <td>0</td>\n",
       "      <td>0.45</td>\n",
       "    </tr>\n",
       "    <tr>\n",
       "      <th>713</th>\n",
       "      <td>Just got done watching \"your name.\" and I am h...</td>\n",
       "      <td>113ksws</td>\n",
       "      <td>For clarity's sake, I'm still very much a newb...</td>\n",
       "      <td>theTRUEchamp</td>\n",
       "      <td>13</td>\n",
       "      <td>10</td>\n",
       "      <td>0.59</td>\n",
       "    </tr>\n",
       "    <tr>\n",
       "      <th>349</th>\n",
       "      <td>[Rewatch] Golden Time Rewatch Interest Thread</td>\n",
       "      <td>11o0llf</td>\n",
       "      <td>Golden time is an amazing romance anime that i...</td>\n",
       "      <td>One-Imagination2301</td>\n",
       "      <td>26</td>\n",
       "      <td>48</td>\n",
       "      <td>0.81</td>\n",
       "    </tr>\n",
       "    <tr>\n",
       "      <th>378</th>\n",
       "      <td>The Current Anime Slump</td>\n",
       "      <td>116pvlx</td>\n",
       "      <td>Irritation, frustration, exasperation, is what...</td>\n",
       "      <td>Leather-Vegetable556</td>\n",
       "      <td>29</td>\n",
       "      <td>0</td>\n",
       "      <td>0.20</td>\n",
       "    </tr>\n",
       "    <tr>\n",
       "      <th>290</th>\n",
       "      <td>Boruto: Naruto Next Generations - Episode 291 ...</td>\n",
       "      <td>11p9yiv</td>\n",
       "      <td>*Boruto: Naruto Next Generations*, episode 291...</td>\n",
       "      <td>AutoLovepon</td>\n",
       "      <td>7</td>\n",
       "      <td>14</td>\n",
       "      <td>0.66</td>\n",
       "    </tr>\n",
       "    <tr>\n",
       "      <th>221</th>\n",
       "      <td>Coming back to anime a few years later - looki...</td>\n",
       "      <td>118cej3</td>\n",
       "      <td>Most of the animes I've watched are from 2006-...</td>\n",
       "      <td>TheAskald</td>\n",
       "      <td>11</td>\n",
       "      <td>1</td>\n",
       "      <td>0.50</td>\n",
       "    </tr>\n",
       "    <tr>\n",
       "      <th>395</th>\n",
       "      <td>New Dubs For Old Anime.</td>\n",
       "      <td>116liw1</td>\n",
       "      <td>I just saw the news that one of my favourite a...</td>\n",
       "      <td>skikesy</td>\n",
       "      <td>8</td>\n",
       "      <td>0</td>\n",
       "      <td>0.36</td>\n",
       "    </tr>\n",
       "  </tbody>\n",
       "</table>\n",
       "</div>"
      ],
      "text/plain": [
       "                                                 Title       Id  \\\n",
       "138  Am I crazy, or did Onimai reference Hitchcock?...  1195p4z   \n",
       "77   Dungeon ni Deai wo Motomeru no wa Machigatteir...  119ygjo   \n",
       "290  The Familiar of Zero Lent In Violent Easter Re...  117isy1   \n",
       "627  So I watched Kotaro Lives Alone the other day ...  114agbd   \n",
       "713  Just got done watching \"your name.\" and I am h...  113ksws   \n",
       "349      [Rewatch] Golden Time Rewatch Interest Thread  11o0llf   \n",
       "378                            The Current Anime Slump  116pvlx   \n",
       "290  Boruto: Naruto Next Generations - Episode 291 ...  11p9yiv   \n",
       "221  Coming back to anime a few years later - looki...  118cej3   \n",
       "395                            New Dubs For Old Anime.  116liw1   \n",
       "\n",
       "                                                  Text                Author  \\\n",
       "138  I watched the first episode of the show, and w...      GuiltyAs_Charged   \n",
       "77   *Dungeon ni Deai wo Motomeru no wa Machigattei...           AutoLovepon   \n",
       "290  Hello everyone! I am Holofan4life.\\n\\nWelcome ...          Holofan4life   \n",
       "627  Yeah I basically cried from episode 1-10. The ...               Errol89   \n",
       "713  For clarity's sake, I'm still very much a newb...          theTRUEchamp   \n",
       "349  Golden time is an amazing romance anime that i...   One-Imagination2301   \n",
       "378  Irritation, frustration, exasperation, is what...  Leather-Vegetable556   \n",
       "290  *Boruto: Naruto Next Generations*, episode 291...           AutoLovepon   \n",
       "221  Most of the animes I've watched are from 2006-...             TheAskald   \n",
       "395  I just saw the news that one of my favourite a...               skikesy   \n",
       "\n",
       "     Number of Comments  Number of upvotes  Ratio of Upvotes  \n",
       "138                   6                  4              0.60  \n",
       "77                  280               1514              0.96  \n",
       "290                  95                 26              0.85  \n",
       "627                   6                  0              0.45  \n",
       "713                  13                 10              0.59  \n",
       "349                  26                 48              0.81  \n",
       "378                  29                  0              0.20  \n",
       "290                   7                 14              0.66  \n",
       "221                  11                  1              0.50  \n",
       "395                   8                  0              0.36  "
      ]
     },
     "execution_count": 160,
     "metadata": {},
     "output_type": "execute_result"
    }
   ],
   "source": [
    "animeData.sample(10)"
   ]
  },
  {
   "cell_type": "code",
   "execution_count": 161,
   "id": "c08bc7af",
   "metadata": {},
   "outputs": [
    {
     "data": {
      "text/html": [
       "<div>\n",
       "<style scoped>\n",
       "    .dataframe tbody tr th:only-of-type {\n",
       "        vertical-align: middle;\n",
       "    }\n",
       "\n",
       "    .dataframe tbody tr th {\n",
       "        vertical-align: top;\n",
       "    }\n",
       "\n",
       "    .dataframe thead th {\n",
       "        text-align: right;\n",
       "    }\n",
       "</style>\n",
       "<table border=\"1\" class=\"dataframe\">\n",
       "  <thead>\n",
       "    <tr style=\"text-align: right;\">\n",
       "      <th></th>\n",
       "      <th>Title</th>\n",
       "      <th>Id</th>\n",
       "      <th>Text</th>\n",
       "      <th>Author</th>\n",
       "      <th>Number of Comments</th>\n",
       "      <th>Number of upvotes</th>\n",
       "      <th>Ratio of Upvotes</th>\n",
       "    </tr>\n",
       "  </thead>\n",
       "  <tbody>\n",
       "    <tr>\n",
       "      <th>74</th>\n",
       "      <td>US vs Switzerland: Research jobs</td>\n",
       "      <td>11umahg</td>\n",
       "      <td>Hey everyone! I recently got admitted to ETH f...</td>\n",
       "      <td>IceGami</td>\n",
       "      <td>24</td>\n",
       "      <td>11</td>\n",
       "      <td>0.80</td>\n",
       "    </tr>\n",
       "    <tr>\n",
       "      <th>157</th>\n",
       "      <td>DEAR PROFESSIONAL COMPUTER TOUCHERS -- FRIDAY ...</td>\n",
       "      <td>11tjpq6</td>\n",
       "      <td>AND NOW FOR SOMETHING ENTIRELY DIFFERENT.\\n   ...</td>\n",
       "      <td>CSCQMods</td>\n",
       "      <td>26</td>\n",
       "      <td>1</td>\n",
       "      <td>0.56</td>\n",
       "    </tr>\n",
       "    <tr>\n",
       "      <th>577</th>\n",
       "      <td>1000+ application on tons of job listings?</td>\n",
       "      <td>11opbyo</td>\n",
       "      <td>I’m about to graduate and this is a discouragi...</td>\n",
       "      <td>JoshTheKid7</td>\n",
       "      <td>9</td>\n",
       "      <td>0</td>\n",
       "      <td>0.50</td>\n",
       "    </tr>\n",
       "    <tr>\n",
       "      <th>349</th>\n",
       "      <td>Looking for Tips on Offer at Startup</td>\n",
       "      <td>11rnmgt</td>\n",
       "      <td>TLDR; I’m looking for tips / advice on start u...</td>\n",
       "      <td>TheRealJasO</td>\n",
       "      <td>2</td>\n",
       "      <td>0</td>\n",
       "      <td>0.33</td>\n",
       "    </tr>\n",
       "    <tr>\n",
       "      <th>238</th>\n",
       "      <td>Does the release of ChatGPT mean that \"the bar...</td>\n",
       "      <td>11sjb16</td>\n",
       "      <td>Hello,\\n\\nI'm an undergrad with minimal experi...</td>\n",
       "      <td>ef02</td>\n",
       "      <td>12</td>\n",
       "      <td>0</td>\n",
       "      <td>0.30</td>\n",
       "    </tr>\n",
       "    <tr>\n",
       "      <th>553</th>\n",
       "      <td>[Y Combinator] Urgent: Sign the petition now</td>\n",
       "      <td>11pjkeg</td>\n",
       "      <td>https://www.ycombinator.com/blog/urgent-sign-t...</td>\n",
       "      <td>UniversityEastern542</td>\n",
       "      <td>16</td>\n",
       "      <td>0</td>\n",
       "      <td>0.06</td>\n",
       "    </tr>\n",
       "    <tr>\n",
       "      <th>274</th>\n",
       "      <td>What are some sure fire signs my team is going...</td>\n",
       "      <td>11sdt7g</td>\n",
       "      <td>I am suspicious that my team is going to be mo...</td>\n",
       "      <td>Worried_Ad6191</td>\n",
       "      <td>4</td>\n",
       "      <td>1</td>\n",
       "      <td>0.67</td>\n",
       "    </tr>\n",
       "    <tr>\n",
       "      <th>733</th>\n",
       "      <td>Is it inappropriate/arrogant to tell a past re...</td>\n",
       "      <td>11mkjti</td>\n",
       "      <td>I’m a junior in college applying for internshi...</td>\n",
       "      <td>BackgroundProgress08</td>\n",
       "      <td>21</td>\n",
       "      <td>37</td>\n",
       "      <td>0.88</td>\n",
       "    </tr>\n",
       "    <tr>\n",
       "      <th>452</th>\n",
       "      <td>How Do I Tell My Boss I’m leaving and I need a...</td>\n",
       "      <td>11qb2c5</td>\n",
       "      <td>I have about 3 YOE at a mid-sized company as a...</td>\n",
       "      <td>FewAd6144</td>\n",
       "      <td>5</td>\n",
       "      <td>7</td>\n",
       "      <td>0.69</td>\n",
       "    </tr>\n",
       "    <tr>\n",
       "      <th>111</th>\n",
       "      <td>How can I gain \"significant, demonstrable prog...</td>\n",
       "      <td>11u8jdd</td>\n",
       "      <td>A job description at the company I really want...</td>\n",
       "      <td>soretravail</td>\n",
       "      <td>6</td>\n",
       "      <td>2</td>\n",
       "      <td>0.67</td>\n",
       "    </tr>\n",
       "  </tbody>\n",
       "</table>\n",
       "</div>"
      ],
      "text/plain": [
       "                                                 Title       Id  \\\n",
       "74                    US vs Switzerland: Research jobs  11umahg   \n",
       "157  DEAR PROFESSIONAL COMPUTER TOUCHERS -- FRIDAY ...  11tjpq6   \n",
       "577         1000+ application on tons of job listings?  11opbyo   \n",
       "349               Looking for Tips on Offer at Startup  11rnmgt   \n",
       "238  Does the release of ChatGPT mean that \"the bar...  11sjb16   \n",
       "553       [Y Combinator] Urgent: Sign the petition now  11pjkeg   \n",
       "274  What are some sure fire signs my team is going...  11sdt7g   \n",
       "733  Is it inappropriate/arrogant to tell a past re...  11mkjti   \n",
       "452  How Do I Tell My Boss I’m leaving and I need a...  11qb2c5   \n",
       "111  How can I gain \"significant, demonstrable prog...  11u8jdd   \n",
       "\n",
       "                                                  Text                Author  \\\n",
       "74   Hey everyone! I recently got admitted to ETH f...               IceGami   \n",
       "157  AND NOW FOR SOMETHING ENTIRELY DIFFERENT.\\n   ...              CSCQMods   \n",
       "577  I’m about to graduate and this is a discouragi...           JoshTheKid7   \n",
       "349  TLDR; I’m looking for tips / advice on start u...           TheRealJasO   \n",
       "238  Hello,\\n\\nI'm an undergrad with minimal experi...                  ef02   \n",
       "553  https://www.ycombinator.com/blog/urgent-sign-t...  UniversityEastern542   \n",
       "274  I am suspicious that my team is going to be mo...        Worried_Ad6191   \n",
       "733  I’m a junior in college applying for internshi...  BackgroundProgress08   \n",
       "452  I have about 3 YOE at a mid-sized company as a...             FewAd6144   \n",
       "111  A job description at the company I really want...           soretravail   \n",
       "\n",
       "     Number of Comments  Number of upvotes  Ratio of Upvotes  \n",
       "74                   24                 11              0.80  \n",
       "157                  26                  1              0.56  \n",
       "577                   9                  0              0.50  \n",
       "349                   2                  0              0.33  \n",
       "238                  12                  0              0.30  \n",
       "553                  16                  0              0.06  \n",
       "274                   4                  1              0.67  \n",
       "733                  21                 37              0.88  \n",
       "452                   5                  7              0.69  \n",
       "111                   6                  2              0.67  "
      ]
     },
     "execution_count": 161,
     "metadata": {},
     "output_type": "execute_result"
    }
   ],
   "source": [
    "ccqData.sample(10)"
   ]
  },
  {
   "cell_type": "code",
   "execution_count": 162,
   "id": "740e0110",
   "metadata": {},
   "outputs": [
    {
     "data": {
      "text/html": [
       "<div>\n",
       "<style scoped>\n",
       "    .dataframe tbody tr th:only-of-type {\n",
       "        vertical-align: middle;\n",
       "    }\n",
       "\n",
       "    .dataframe tbody tr th {\n",
       "        vertical-align: top;\n",
       "    }\n",
       "\n",
       "    .dataframe thead th {\n",
       "        text-align: right;\n",
       "    }\n",
       "</style>\n",
       "<table border=\"1\" class=\"dataframe\">\n",
       "  <thead>\n",
       "    <tr style=\"text-align: right;\">\n",
       "      <th></th>\n",
       "      <th>Title</th>\n",
       "      <th>Id</th>\n",
       "      <th>Text</th>\n",
       "      <th>Author</th>\n",
       "      <th>Number of Comments</th>\n",
       "      <th>Number of upvotes</th>\n",
       "      <th>Ratio of Upvotes</th>\n",
       "    </tr>\n",
       "  </thead>\n",
       "  <tbody>\n",
       "    <tr>\n",
       "      <th>28</th>\n",
       "      <td>I despise my job so fucking much</td>\n",
       "      <td>11w5e7d</td>\n",
       "      <td>I work for a parts department in dealership se...</td>\n",
       "      <td>RogueRainbow</td>\n",
       "      <td>3</td>\n",
       "      <td>11</td>\n",
       "      <td>0.93</td>\n",
       "    </tr>\n",
       "    <tr>\n",
       "      <th>1</th>\n",
       "      <td>Banks are fucking stupid</td>\n",
       "      <td>11wigld</td>\n",
       "      <td>One day it shows my bank account is current an...</td>\n",
       "      <td>puppyknuckles_</td>\n",
       "      <td>0</td>\n",
       "      <td>1</td>\n",
       "      <td>1.00</td>\n",
       "    </tr>\n",
       "    <tr>\n",
       "      <th>762</th>\n",
       "      <td>Dear Hollywood</td>\n",
       "      <td>11g4ixs</td>\n",
       "      <td>Please stop shoving microphones down actors an...</td>\n",
       "      <td>Bane8080</td>\n",
       "      <td>1</td>\n",
       "      <td>5</td>\n",
       "      <td>0.86</td>\n",
       "    </tr>\n",
       "    <tr>\n",
       "      <th>103</th>\n",
       "      <td>No respect for time off work/school</td>\n",
       "      <td>11u5d0x</td>\n",
       "      <td>I am very frustrated with the expectation for ...</td>\n",
       "      <td>tangerinequeen69</td>\n",
       "      <td>1</td>\n",
       "      <td>12</td>\n",
       "      <td>1.00</td>\n",
       "    </tr>\n",
       "    <tr>\n",
       "      <th>424</th>\n",
       "      <td>A certain sub on here (gift of games) needs to...</td>\n",
       "      <td>11nzut5</td>\n",
       "      <td>I get that the sub is all about asking random ...</td>\n",
       "      <td>AlaskanDude1985</td>\n",
       "      <td>0</td>\n",
       "      <td>3</td>\n",
       "      <td>1.00</td>\n",
       "    </tr>\n",
       "    <tr>\n",
       "      <th>74</th>\n",
       "      <td>Flying objects</td>\n",
       "      <td>11uudza</td>\n",
       "      <td>Im having a hard time believing that the Unite...</td>\n",
       "      <td>Amythest1818</td>\n",
       "      <td>0</td>\n",
       "      <td>1</td>\n",
       "      <td>0.67</td>\n",
       "    </tr>\n",
       "    <tr>\n",
       "      <th>511</th>\n",
       "      <td>I feel very unintelligent...</td>\n",
       "      <td>11m56r4</td>\n",
       "      <td>when I say I feel unintelligent, I'm not sayin...</td>\n",
       "      <td>SpiralGMG</td>\n",
       "      <td>1</td>\n",
       "      <td>2</td>\n",
       "      <td>1.00</td>\n",
       "    </tr>\n",
       "    <tr>\n",
       "      <th>420</th>\n",
       "      <td>My human is driving me crazy!</td>\n",
       "      <td>11npq4d</td>\n",
       "      <td>\\n\\nI just can't take it anymore. My human, S...</td>\n",
       "      <td>orovin</td>\n",
       "      <td>3</td>\n",
       "      <td>18</td>\n",
       "      <td>0.85</td>\n",
       "    </tr>\n",
       "    <tr>\n",
       "      <th>390</th>\n",
       "      <td>I Passed, But I’m Pissed.</td>\n",
       "      <td>11ovdp6</td>\n",
       "      <td>Fuck that theory exam. \\n\\nI can understand wh...</td>\n",
       "      <td>Bada-Boom-Bada-Bang</td>\n",
       "      <td>1</td>\n",
       "      <td>2</td>\n",
       "      <td>1.00</td>\n",
       "    </tr>\n",
       "    <tr>\n",
       "      <th>525</th>\n",
       "      <td>i just wanna become detached</td>\n",
       "      <td>11lv77l</td>\n",
       "      <td>Close relationships feel weird and sometimes I...</td>\n",
       "      <td>dadsushi</td>\n",
       "      <td>0</td>\n",
       "      <td>5</td>\n",
       "      <td>1.00</td>\n",
       "    </tr>\n",
       "  </tbody>\n",
       "</table>\n",
       "</div>"
      ],
      "text/plain": [
       "                                                 Title       Id  \\\n",
       "28                    I despise my job so fucking much  11w5e7d   \n",
       "1                             Banks are fucking stupid  11wigld   \n",
       "762                                     Dear Hollywood  11g4ixs   \n",
       "103                No respect for time off work/school  11u5d0x   \n",
       "424  A certain sub on here (gift of games) needs to...  11nzut5   \n",
       "74                                      Flying objects  11uudza   \n",
       "511                       I feel very unintelligent...  11m56r4   \n",
       "420                      My human is driving me crazy!  11npq4d   \n",
       "390                          I Passed, But I’m Pissed.  11ovdp6   \n",
       "525                       i just wanna become detached  11lv77l   \n",
       "\n",
       "                                                  Text               Author  \\\n",
       "28   I work for a parts department in dealership se...         RogueRainbow   \n",
       "1    One day it shows my bank account is current an...       puppyknuckles_   \n",
       "762  Please stop shoving microphones down actors an...             Bane8080   \n",
       "103  I am very frustrated with the expectation for ...     tangerinequeen69   \n",
       "424  I get that the sub is all about asking random ...      AlaskanDude1985   \n",
       "74   Im having a hard time believing that the Unite...         Amythest1818   \n",
       "511  when I say I feel unintelligent, I'm not sayin...            SpiralGMG   \n",
       "420   \\n\\nI just can't take it anymore. My human, S...               orovin   \n",
       "390  Fuck that theory exam. \\n\\nI can understand wh...  Bada-Boom-Bada-Bang   \n",
       "525  Close relationships feel weird and sometimes I...             dadsushi   \n",
       "\n",
       "     Number of Comments  Number of upvotes  Ratio of Upvotes  \n",
       "28                    3                 11              0.93  \n",
       "1                     0                  1              1.00  \n",
       "762                   1                  5              0.86  \n",
       "103                   1                 12              1.00  \n",
       "424                   0                  3              1.00  \n",
       "74                    0                  1              0.67  \n",
       "511                   1                  2              1.00  \n",
       "420                   3                 18              0.85  \n",
       "390                   1                  2              1.00  \n",
       "525                   0                  5              1.00  "
      ]
     },
     "execution_count": 162,
     "metadata": {},
     "output_type": "execute_result"
    }
   ],
   "source": [
    "rantData.sample(10)"
   ]
  },
  {
   "cell_type": "code",
   "execution_count": 163,
   "id": "5def49b5",
   "metadata": {},
   "outputs": [
    {
     "data": {
      "text/html": [
       "<div>\n",
       "<style scoped>\n",
       "    .dataframe tbody tr th:only-of-type {\n",
       "        vertical-align: middle;\n",
       "    }\n",
       "\n",
       "    .dataframe tbody tr th {\n",
       "        vertical-align: top;\n",
       "    }\n",
       "\n",
       "    .dataframe thead th {\n",
       "        text-align: right;\n",
       "    }\n",
       "</style>\n",
       "<table border=\"1\" class=\"dataframe\">\n",
       "  <thead>\n",
       "    <tr style=\"text-align: right;\">\n",
       "      <th></th>\n",
       "      <th>Title</th>\n",
       "      <th>Id</th>\n",
       "      <th>Text</th>\n",
       "      <th>Author</th>\n",
       "      <th>Number of Comments</th>\n",
       "      <th>Number of upvotes</th>\n",
       "      <th>Ratio of Upvotes</th>\n",
       "    </tr>\n",
       "  </thead>\n",
       "  <tbody>\n",
       "    <tr>\n",
       "      <th>386</th>\n",
       "      <td>Will Pittsburgh see light rail expansion in th...</td>\n",
       "      <td>11h1kx7</td>\n",
       "      <td>Pittsburgh’s east end seems like an area absol...</td>\n",
       "      <td>metracta</td>\n",
       "      <td>210</td>\n",
       "      <td>81</td>\n",
       "      <td>0.82</td>\n",
       "    </tr>\n",
       "    <tr>\n",
       "      <th>235</th>\n",
       "      <td>Is it rude to suggest guests are welcome to br...</td>\n",
       "      <td>11mm5k6</td>\n",
       "      <td>My partner and I have been going into debt to ...</td>\n",
       "      <td>JeffGoldblumsElbow</td>\n",
       "      <td>144</td>\n",
       "      <td>107</td>\n",
       "      <td>0.85</td>\n",
       "    </tr>\n",
       "    <tr>\n",
       "      <th>362</th>\n",
       "      <td>Parks with paved trails?</td>\n",
       "      <td>10ysp32</td>\n",
       "      <td>I moved here last summer and one thing I canno...</td>\n",
       "      <td>LisaLulz</td>\n",
       "      <td>78</td>\n",
       "      <td>11</td>\n",
       "      <td>0.59</td>\n",
       "    </tr>\n",
       "    <tr>\n",
       "      <th>260</th>\n",
       "      <td>Anyone want a 5:30 dinner reservation for two ...</td>\n",
       "      <td>112d6up</td>\n",
       "      <td>Are you an early bird love bird in need of a V...</td>\n",
       "      <td>ilikedirt</td>\n",
       "      <td>3</td>\n",
       "      <td>18</td>\n",
       "      <td>0.79</td>\n",
       "    </tr>\n",
       "    <tr>\n",
       "      <th>119</th>\n",
       "      <td>Basement door contractor</td>\n",
       "      <td>11rx9tm</td>\n",
       "      <td>Looking for a contractor in the East End to cu...</td>\n",
       "      <td>squeakygrrl</td>\n",
       "      <td>4</td>\n",
       "      <td>1</td>\n",
       "      <td>0.54</td>\n",
       "    </tr>\n",
       "    <tr>\n",
       "      <th>166</th>\n",
       "      <td>Capital Consulting Group in Carnegie</td>\n",
       "      <td>11qcjmq</td>\n",
       "      <td>Has anyone ever worked here? Do you recommend?...</td>\n",
       "      <td>chicken-strips99</td>\n",
       "      <td>5</td>\n",
       "      <td>0</td>\n",
       "      <td>0.50</td>\n",
       "    </tr>\n",
       "    <tr>\n",
       "      <th>129</th>\n",
       "      <td>Cafe Zinho Space in Shadyside</td>\n",
       "      <td>11rz6a5</td>\n",
       "      <td>Anyone know if there’s any plans for the Cafe ...</td>\n",
       "      <td>Loud-Ad-3220</td>\n",
       "      <td>16</td>\n",
       "      <td>8</td>\n",
       "      <td>0.70</td>\n",
       "    </tr>\n",
       "    <tr>\n",
       "      <th>194</th>\n",
       "      <td>Is anyone here watching Daisy Jones and the Si...</td>\n",
       "      <td>11prt64</td>\n",
       "      <td>....and feels disappointed by the lack of actu...</td>\n",
       "      <td>LockedOutOfElfland</td>\n",
       "      <td>10</td>\n",
       "      <td>0</td>\n",
       "      <td>0.50</td>\n",
       "    </tr>\n",
       "    <tr>\n",
       "      <th>308</th>\n",
       "      <td>Good place to donate clothes?</td>\n",
       "      <td>110hzba</td>\n",
       "      <td>We have a ton of clothes to get rid of and I’v...</td>\n",
       "      <td>ddave0822</td>\n",
       "      <td>11</td>\n",
       "      <td>7</td>\n",
       "      <td>0.66</td>\n",
       "    </tr>\n",
       "    <tr>\n",
       "      <th>363</th>\n",
       "      <td>Cat Groomer?</td>\n",
       "      <td>10ys8ql</td>\n",
       "      <td>I recently adopted a Maine Coon and she has so...</td>\n",
       "      <td>senty78</td>\n",
       "      <td>11</td>\n",
       "      <td>21</td>\n",
       "      <td>0.84</td>\n",
       "    </tr>\n",
       "  </tbody>\n",
       "</table>\n",
       "</div>"
      ],
      "text/plain": [
       "                                                 Title       Id  \\\n",
       "386  Will Pittsburgh see light rail expansion in th...  11h1kx7   \n",
       "235  Is it rude to suggest guests are welcome to br...  11mm5k6   \n",
       "362                           Parks with paved trails?  10ysp32   \n",
       "260  Anyone want a 5:30 dinner reservation for two ...  112d6up   \n",
       "119                           Basement door contractor  11rx9tm   \n",
       "166               Capital Consulting Group in Carnegie  11qcjmq   \n",
       "129                      Cafe Zinho Space in Shadyside  11rz6a5   \n",
       "194  Is anyone here watching Daisy Jones and the Si...  11prt64   \n",
       "308                      Good place to donate clothes?  110hzba   \n",
       "363                                       Cat Groomer?  10ys8ql   \n",
       "\n",
       "                                                  Text              Author  \\\n",
       "386  Pittsburgh’s east end seems like an area absol...            metracta   \n",
       "235  My partner and I have been going into debt to ...  JeffGoldblumsElbow   \n",
       "362  I moved here last summer and one thing I canno...            LisaLulz   \n",
       "260  Are you an early bird love bird in need of a V...           ilikedirt   \n",
       "119  Looking for a contractor in the East End to cu...         squeakygrrl   \n",
       "166  Has anyone ever worked here? Do you recommend?...    chicken-strips99   \n",
       "129  Anyone know if there’s any plans for the Cafe ...        Loud-Ad-3220   \n",
       "194  ....and feels disappointed by the lack of actu...  LockedOutOfElfland   \n",
       "308  We have a ton of clothes to get rid of and I’v...           ddave0822   \n",
       "363  I recently adopted a Maine Coon and she has so...             senty78   \n",
       "\n",
       "     Number of Comments  Number of upvotes  Ratio of Upvotes  \n",
       "386                 210                 81              0.82  \n",
       "235                 144                107              0.85  \n",
       "362                  78                 11              0.59  \n",
       "260                   3                 18              0.79  \n",
       "119                   4                  1              0.54  \n",
       "166                   5                  0              0.50  \n",
       "129                  16                  8              0.70  \n",
       "194                  10                  0              0.50  \n",
       "308                  11                  7              0.66  \n",
       "363                  11                 21              0.84  "
      ]
     },
     "execution_count": 163,
     "metadata": {},
     "output_type": "execute_result"
    }
   ],
   "source": [
    "pghData.sample(10)"
   ]
  },
  {
   "cell_type": "code",
   "execution_count": 164,
   "id": "794c1035",
   "metadata": {},
   "outputs": [
    {
     "data": {
      "text/html": [
       "<div>\n",
       "<style scoped>\n",
       "    .dataframe tbody tr th:only-of-type {\n",
       "        vertical-align: middle;\n",
       "    }\n",
       "\n",
       "    .dataframe tbody tr th {\n",
       "        vertical-align: top;\n",
       "    }\n",
       "\n",
       "    .dataframe thead th {\n",
       "        text-align: right;\n",
       "    }\n",
       "</style>\n",
       "<table border=\"1\" class=\"dataframe\">\n",
       "  <thead>\n",
       "    <tr style=\"text-align: right;\">\n",
       "      <th></th>\n",
       "      <th>Title</th>\n",
       "      <th>Id</th>\n",
       "      <th>Text</th>\n",
       "      <th>Author</th>\n",
       "      <th>Number of Comments</th>\n",
       "      <th>Number of upvotes</th>\n",
       "      <th>Ratio of Upvotes</th>\n",
       "    </tr>\n",
       "  </thead>\n",
       "  <tbody>\n",
       "    <tr>\n",
       "      <th>471</th>\n",
       "      <td>NY Broadway November</td>\n",
       "      <td>11hesyv</td>\n",
       "      <td>Just got selected to run the marathon this yea...</td>\n",
       "      <td>lipsterc8</td>\n",
       "      <td>4</td>\n",
       "      <td>0</td>\n",
       "      <td>0.50</td>\n",
       "    </tr>\n",
       "    <tr>\n",
       "      <th>566</th>\n",
       "      <td>Playbills at box office</td>\n",
       "      <td>11dk8rq</td>\n",
       "      <td>I’ve heard that some people go up to box offic...</td>\n",
       "      <td>Thegagaholic</td>\n",
       "      <td>6</td>\n",
       "      <td>1</td>\n",
       "      <td>1.00</td>\n",
       "    </tr>\n",
       "    <tr>\n",
       "      <th>402</th>\n",
       "      <td>Help! Looking for niche theater in NYC!</td>\n",
       "      <td>10t2vzh</td>\n",
       "      <td>Where should I look online to find niche, weir...</td>\n",
       "      <td>Business_Pin4533</td>\n",
       "      <td>27</td>\n",
       "      <td>12</td>\n",
       "      <td>0.88</td>\n",
       "    </tr>\n",
       "    <tr>\n",
       "      <th>47</th>\n",
       "      <td>Very early Tony predictions?</td>\n",
       "      <td>11uu1gf</td>\n",
       "      <td>I know we’ve got a month and a half before nom...</td>\n",
       "      <td>CWE74394</td>\n",
       "      <td>69</td>\n",
       "      <td>16</td>\n",
       "      <td>0.76</td>\n",
       "    </tr>\n",
       "    <tr>\n",
       "      <th>546</th>\n",
       "      <td>Bad Cinderella tickets up at TDF today.</td>\n",
       "      <td>11dua5e</td>\n",
       "      <td>They seem to have every day except Saturday fo...</td>\n",
       "      <td>Active_Ad_9617</td>\n",
       "      <td>3</td>\n",
       "      <td>9</td>\n",
       "      <td>1.00</td>\n",
       "    </tr>\n",
       "    <tr>\n",
       "      <th>70</th>\n",
       "      <td>Broadway Flea 2023</td>\n",
       "      <td>11tzihq</td>\n",
       "      <td>Sorry if this is a dumb question, but I’ve nev...</td>\n",
       "      <td>slytherpuff12</td>\n",
       "      <td>6</td>\n",
       "      <td>6</td>\n",
       "      <td>0.87</td>\n",
       "    </tr>\n",
       "    <tr>\n",
       "      <th>160</th>\n",
       "      <td>Play Goes Wrong and Peter Pan Goes Wrong Scrip...</td>\n",
       "      <td>114ank6</td>\n",
       "      <td>I want to buy a copy of Play Goes Wrong and Pe...</td>\n",
       "      <td>TicoDreams</td>\n",
       "      <td>3</td>\n",
       "      <td>5</td>\n",
       "      <td>0.86</td>\n",
       "    </tr>\n",
       "    <tr>\n",
       "      <th>113</th>\n",
       "      <td>Second Stage Hayes Seating</td>\n",
       "      <td>11s904u</td>\n",
       "      <td>Hey folks, a friend of mine is coming to town ...</td>\n",
       "      <td>Shady-Traveler</td>\n",
       "      <td>8</td>\n",
       "      <td>2</td>\n",
       "      <td>1.00</td>\n",
       "    </tr>\n",
       "    <tr>\n",
       "      <th>453</th>\n",
       "      <td>Likelihood of understudy in main roles of Swee...</td>\n",
       "      <td>11i6826</td>\n",
       "      <td>We are planning to go in the next month. My wi...</td>\n",
       "      <td>wellington73</td>\n",
       "      <td>13</td>\n",
       "      <td>0</td>\n",
       "      <td>0.28</td>\n",
       "    </tr>\n",
       "    <tr>\n",
       "      <th>108</th>\n",
       "      <td>Kimberly Akimbo vs. Shucked</td>\n",
       "      <td>11sxh48</td>\n",
       "      <td>Kimberly Akimbo is one of the best shows to hi...</td>\n",
       "      <td>kwhiggs8</td>\n",
       "      <td>12</td>\n",
       "      <td>0</td>\n",
       "      <td>0.32</td>\n",
       "    </tr>\n",
       "  </tbody>\n",
       "</table>\n",
       "</div>"
      ],
      "text/plain": [
       "                                                 Title       Id  \\\n",
       "471                               NY Broadway November  11hesyv   \n",
       "566                            Playbills at box office  11dk8rq   \n",
       "402            Help! Looking for niche theater in NYC!  10t2vzh   \n",
       "47                        Very early Tony predictions?  11uu1gf   \n",
       "546            Bad Cinderella tickets up at TDF today.  11dua5e   \n",
       "70                                  Broadway Flea 2023  11tzihq   \n",
       "160  Play Goes Wrong and Peter Pan Goes Wrong Scrip...  114ank6   \n",
       "113                         Second Stage Hayes Seating  11s904u   \n",
       "453  Likelihood of understudy in main roles of Swee...  11i6826   \n",
       "108                        Kimberly Akimbo vs. Shucked  11sxh48   \n",
       "\n",
       "                                                  Text            Author  \\\n",
       "471  Just got selected to run the marathon this yea...         lipsterc8   \n",
       "566  I’ve heard that some people go up to box offic...      Thegagaholic   \n",
       "402  Where should I look online to find niche, weir...  Business_Pin4533   \n",
       "47   I know we’ve got a month and a half before nom...          CWE74394   \n",
       "546  They seem to have every day except Saturday fo...    Active_Ad_9617   \n",
       "70   Sorry if this is a dumb question, but I’ve nev...     slytherpuff12   \n",
       "160  I want to buy a copy of Play Goes Wrong and Pe...        TicoDreams   \n",
       "113  Hey folks, a friend of mine is coming to town ...    Shady-Traveler   \n",
       "453  We are planning to go in the next month. My wi...      wellington73   \n",
       "108  Kimberly Akimbo is one of the best shows to hi...          kwhiggs8   \n",
       "\n",
       "     Number of Comments  Number of upvotes  Ratio of Upvotes  \n",
       "471                   4                  0              0.50  \n",
       "566                   6                  1              1.00  \n",
       "402                  27                 12              0.88  \n",
       "47                   69                 16              0.76  \n",
       "546                   3                  9              1.00  \n",
       "70                    6                  6              0.87  \n",
       "160                   3                  5              0.86  \n",
       "113                   8                  2              1.00  \n",
       "453                  13                  0              0.28  \n",
       "108                  12                  0              0.32  "
      ]
     },
     "execution_count": 164,
     "metadata": {},
     "output_type": "execute_result"
    }
   ],
   "source": [
    "bwayData.sample(10)"
   ]
  },
  {
   "cell_type": "code",
   "execution_count": 165,
   "id": "2c81e297",
   "metadata": {},
   "outputs": [
    {
     "data": {
      "text/html": [
       "<div>\n",
       "<style scoped>\n",
       "    .dataframe tbody tr th:only-of-type {\n",
       "        vertical-align: middle;\n",
       "    }\n",
       "\n",
       "    .dataframe tbody tr th {\n",
       "        vertical-align: top;\n",
       "    }\n",
       "\n",
       "    .dataframe thead th {\n",
       "        text-align: right;\n",
       "    }\n",
       "</style>\n",
       "<table border=\"1\" class=\"dataframe\">\n",
       "  <thead>\n",
       "    <tr style=\"text-align: right;\">\n",
       "      <th></th>\n",
       "      <th>Title</th>\n",
       "      <th>Id</th>\n",
       "      <th>Text</th>\n",
       "      <th>Author</th>\n",
       "      <th>Number of Comments</th>\n",
       "      <th>Number of upvotes</th>\n",
       "      <th>Ratio of Upvotes</th>\n",
       "    </tr>\n",
       "  </thead>\n",
       "  <tbody>\n",
       "    <tr>\n",
       "      <th>360</th>\n",
       "      <td>Best Lunch Period</td>\n",
       "      <td>11cxp7n</td>\n",
       "      <td>If you had to pick what period lunch to have (...</td>\n",
       "      <td>BadRedditPosts</td>\n",
       "      <td>7</td>\n",
       "      <td>1</td>\n",
       "      <td>0.67</td>\n",
       "    </tr>\n",
       "    <tr>\n",
       "      <th>264</th>\n",
       "      <td>Is it too much to make a pull tab origami enve...</td>\n",
       "      <td>11inmlm</td>\n",
       "      <td>i’m planning to ask a girl out for prom (we’re...</td>\n",
       "      <td>StaySaucey_</td>\n",
       "      <td>1</td>\n",
       "      <td>1</td>\n",
       "      <td>1.00</td>\n",
       "    </tr>\n",
       "    <tr>\n",
       "      <th>313</th>\n",
       "      <td>Sports</td>\n",
       "      <td>11fm888</td>\n",
       "      <td>How important is it for my to do a sport fresh...</td>\n",
       "      <td>Cute-Count-6143</td>\n",
       "      <td>1</td>\n",
       "      <td>1</td>\n",
       "      <td>1.00</td>\n",
       "    </tr>\n",
       "    <tr>\n",
       "      <th>567</th>\n",
       "      <td>What is y'all HS pet peeves?</td>\n",
       "      <td>112o9n0</td>\n",
       "      <td>I truly dislike those who do tiktoks in the ha...</td>\n",
       "      <td>marslovebug</td>\n",
       "      <td>2</td>\n",
       "      <td>1</td>\n",
       "      <td>1.00</td>\n",
       "    </tr>\n",
       "    <tr>\n",
       "      <th>17</th>\n",
       "      <td>What should I do?</td>\n",
       "      <td>11ux1lp</td>\n",
       "      <td>About three weeks ago a friend started a spoti...</td>\n",
       "      <td>p3ta1s</td>\n",
       "      <td>0</td>\n",
       "      <td>1</td>\n",
       "      <td>1.00</td>\n",
       "    </tr>\n",
       "    <tr>\n",
       "      <th>192</th>\n",
       "      <td>Senior year schedule</td>\n",
       "      <td>112nknd</td>\n",
       "      <td>So I have to sort of have an idea for my sched...</td>\n",
       "      <td>Impossible-Search-73</td>\n",
       "      <td>5</td>\n",
       "      <td>1</td>\n",
       "      <td>0.67</td>\n",
       "    </tr>\n",
       "    <tr>\n",
       "      <th>295</th>\n",
       "      <td>Virtual Marijuana and Depression Study at Mass...</td>\n",
       "      <td>11g89hd</td>\n",
       "      <td>Are you or do you know someone between the age...</td>\n",
       "      <td>Project_ARCHES</td>\n",
       "      <td>0</td>\n",
       "      <td>1</td>\n",
       "      <td>0.67</td>\n",
       "    </tr>\n",
       "    <tr>\n",
       "      <th>323</th>\n",
       "      <td>im tired of this</td>\n",
       "      <td>10wbssv</td>\n",
       "      <td>i want to be fucking done with high school. im...</td>\n",
       "      <td>whoviangirl126</td>\n",
       "      <td>12</td>\n",
       "      <td>18</td>\n",
       "      <td>0.80</td>\n",
       "    </tr>\n",
       "    <tr>\n",
       "      <th>11</th>\n",
       "      <td>Research about books!</td>\n",
       "      <td>11viati</td>\n",
       "      <td>Hello everyone, \\n\\nI hope this community will...</td>\n",
       "      <td>BootJustice</td>\n",
       "      <td>1</td>\n",
       "      <td>1</td>\n",
       "      <td>1.00</td>\n",
       "    </tr>\n",
       "    <tr>\n",
       "      <th>801</th>\n",
       "      <td>Yo</td>\n",
       "      <td>10qi1wj</td>\n",
       "      <td>&amp;#x200B;\\n\\nhttps://preview.redd.it/edhh1gs5nh...</td>\n",
       "      <td>Various-Tangerine824</td>\n",
       "      <td>0</td>\n",
       "      <td>0</td>\n",
       "      <td>0.50</td>\n",
       "    </tr>\n",
       "  </tbody>\n",
       "</table>\n",
       "</div>"
      ],
      "text/plain": [
       "                                                 Title       Id  \\\n",
       "360                                  Best Lunch Period  11cxp7n   \n",
       "264  Is it too much to make a pull tab origami enve...  11inmlm   \n",
       "313                                             Sports  11fm888   \n",
       "567                       What is y'all HS pet peeves?  112o9n0   \n",
       "17                                   What should I do?  11ux1lp   \n",
       "192                               Senior year schedule  112nknd   \n",
       "295  Virtual Marijuana and Depression Study at Mass...  11g89hd   \n",
       "323                                   im tired of this  10wbssv   \n",
       "11                               Research about books!  11viati   \n",
       "801                                                 Yo  10qi1wj   \n",
       "\n",
       "                                                  Text                Author  \\\n",
       "360  If you had to pick what period lunch to have (...        BadRedditPosts   \n",
       "264  i’m planning to ask a girl out for prom (we’re...           StaySaucey_   \n",
       "313  How important is it for my to do a sport fresh...       Cute-Count-6143   \n",
       "567  I truly dislike those who do tiktoks in the ha...           marslovebug   \n",
       "17   About three weeks ago a friend started a spoti...                p3ta1s   \n",
       "192  So I have to sort of have an idea for my sched...  Impossible-Search-73   \n",
       "295  Are you or do you know someone between the age...        Project_ARCHES   \n",
       "323  i want to be fucking done with high school. im...        whoviangirl126   \n",
       "11   Hello everyone, \\n\\nI hope this community will...           BootJustice   \n",
       "801  &#x200B;\\n\\nhttps://preview.redd.it/edhh1gs5nh...  Various-Tangerine824   \n",
       "\n",
       "     Number of Comments  Number of upvotes  Ratio of Upvotes  \n",
       "360                   7                  1              0.67  \n",
       "264                   1                  1              1.00  \n",
       "313                   1                  1              1.00  \n",
       "567                   2                  1              1.00  \n",
       "17                    0                  1              1.00  \n",
       "192                   5                  1              0.67  \n",
       "295                   0                  1              0.67  \n",
       "323                  12                 18              0.80  \n",
       "11                    1                  1              1.00  \n",
       "801                   0                  0              0.50  "
      ]
     },
     "execution_count": 165,
     "metadata": {},
     "output_type": "execute_result"
    }
   ],
   "source": [
    "hsData.sample(10)"
   ]
  },
  {
   "cell_type": "code",
   "execution_count": 166,
   "id": "f6add9e7",
   "metadata": {},
   "outputs": [
    {
     "data": {
      "text/html": [
       "<div>\n",
       "<style scoped>\n",
       "    .dataframe tbody tr th:only-of-type {\n",
       "        vertical-align: middle;\n",
       "    }\n",
       "\n",
       "    .dataframe tbody tr th {\n",
       "        vertical-align: top;\n",
       "    }\n",
       "\n",
       "    .dataframe thead th {\n",
       "        text-align: right;\n",
       "    }\n",
       "</style>\n",
       "<table border=\"1\" class=\"dataframe\">\n",
       "  <thead>\n",
       "    <tr style=\"text-align: right;\">\n",
       "      <th></th>\n",
       "      <th>Title</th>\n",
       "      <th>Id</th>\n",
       "      <th>Text</th>\n",
       "      <th>Author</th>\n",
       "      <th>Number of Comments</th>\n",
       "      <th>Number of upvotes</th>\n",
       "      <th>Ratio of Upvotes</th>\n",
       "    </tr>\n",
       "  </thead>\n",
       "  <tbody>\n",
       "    <tr>\n",
       "      <th>23</th>\n",
       "      <td>Is there any renewed interest for intense gluc...</td>\n",
       "      <td>117mqj5</td>\n",
       "      <td>I haven’t religiously kept up with T2DM litera...</td>\n",
       "      <td>PharmDist</td>\n",
       "      <td>11</td>\n",
       "      <td>33</td>\n",
       "      <td>0.98</td>\n",
       "    </tr>\n",
       "    <tr>\n",
       "      <th>363</th>\n",
       "      <td>Pediatric semaglutide</td>\n",
       "      <td>10qw06j</td>\n",
       "      <td>Anyone in general peds managing patients with ...</td>\n",
       "      <td>pasafa</td>\n",
       "      <td>26</td>\n",
       "      <td>56</td>\n",
       "      <td>0.97</td>\n",
       "    </tr>\n",
       "    <tr>\n",
       "      <th>478</th>\n",
       "      <td>Primary care market is awful</td>\n",
       "      <td>zflqw3</td>\n",
       "      <td>U wud think after a year out of covid -for the...</td>\n",
       "      <td>jay1982k</td>\n",
       "      <td>95</td>\n",
       "      <td>93</td>\n",
       "      <td>0.82</td>\n",
       "    </tr>\n",
       "    <tr>\n",
       "      <th>234</th>\n",
       "      <td>How to approach patient's who are bleeding and...</td>\n",
       "      <td>112y547</td>\n",
       "      <td>Hey everyone. Pharm.D here.\\n\\nI had a unique ...</td>\n",
       "      <td>jkoce729</td>\n",
       "      <td>87</td>\n",
       "      <td>131</td>\n",
       "      <td>0.96</td>\n",
       "    </tr>\n",
       "    <tr>\n",
       "      <th>650</th>\n",
       "      <td>Florida high court OKs grand jury probe of COV...</td>\n",
       "      <td>zud4qm</td>\n",
       "      <td>NaN</td>\n",
       "      <td>Dependent-Juice5361</td>\n",
       "      <td>24</td>\n",
       "      <td>53</td>\n",
       "      <td>0.90</td>\n",
       "    </tr>\n",
       "    <tr>\n",
       "      <th>360</th>\n",
       "      <td>How screwed are you legally if you tell patien...</td>\n",
       "      <td>zx1f22</td>\n",
       "      <td>And the patient has an accident during the per...</td>\n",
       "      <td>princetonwu</td>\n",
       "      <td>26</td>\n",
       "      <td>129</td>\n",
       "      <td>0.95</td>\n",
       "    </tr>\n",
       "    <tr>\n",
       "      <th>922</th>\n",
       "      <td>'Theranostics' - who does it in your community...</td>\n",
       "      <td>yykuwl</td>\n",
       "      <td>Diagnostic rads here. Our group (private pract...</td>\n",
       "      <td>somethingofaraddad</td>\n",
       "      <td>10</td>\n",
       "      <td>26</td>\n",
       "      <td>0.96</td>\n",
       "    </tr>\n",
       "    <tr>\n",
       "      <th>521</th>\n",
       "      <td>What warning signs/symptoms do you wish were m...</td>\n",
       "      <td>z8mknl</td>\n",
       "      <td>Last week one of our admin staff presented to ...</td>\n",
       "      <td>Micromoo_</td>\n",
       "      <td>253</td>\n",
       "      <td>416</td>\n",
       "      <td>0.97</td>\n",
       "    </tr>\n",
       "    <tr>\n",
       "      <th>214</th>\n",
       "      <td>Entering the Medico-Legal Realm</td>\n",
       "      <td>10ik93j</td>\n",
       "      <td>MD about 10 years post MD graduation, about 5 ...</td>\n",
       "      <td>Bucket_Handle_Tear</td>\n",
       "      <td>14</td>\n",
       "      <td>29</td>\n",
       "      <td>0.90</td>\n",
       "    </tr>\n",
       "    <tr>\n",
       "      <th>210</th>\n",
       "      <td>Internal review found ‘falsified data’ in Stan...</td>\n",
       "      <td>11686ap</td>\n",
       "      <td>NaN</td>\n",
       "      <td>shaokim</td>\n",
       "      <td>53</td>\n",
       "      <td>615</td>\n",
       "      <td>0.99</td>\n",
       "    </tr>\n",
       "  </tbody>\n",
       "</table>\n",
       "</div>"
      ],
      "text/plain": [
       "                                                 Title       Id  \\\n",
       "23   Is there any renewed interest for intense gluc...  117mqj5   \n",
       "363                              Pediatric semaglutide  10qw06j   \n",
       "478                       Primary care market is awful   zflqw3   \n",
       "234  How to approach patient's who are bleeding and...  112y547   \n",
       "650  Florida high court OKs grand jury probe of COV...   zud4qm   \n",
       "360  How screwed are you legally if you tell patien...   zx1f22   \n",
       "922  'Theranostics' - who does it in your community...   yykuwl   \n",
       "521  What warning signs/symptoms do you wish were m...   z8mknl   \n",
       "214                    Entering the Medico-Legal Realm  10ik93j   \n",
       "210  Internal review found ‘falsified data’ in Stan...  11686ap   \n",
       "\n",
       "                                                  Text               Author  \\\n",
       "23   I haven’t religiously kept up with T2DM litera...            PharmDist   \n",
       "363  Anyone in general peds managing patients with ...               pasafa   \n",
       "478  U wud think after a year out of covid -for the...             jay1982k   \n",
       "234  Hey everyone. Pharm.D here.\\n\\nI had a unique ...             jkoce729   \n",
       "650                                                NaN  Dependent-Juice5361   \n",
       "360  And the patient has an accident during the per...          princetonwu   \n",
       "922  Diagnostic rads here. Our group (private pract...   somethingofaraddad   \n",
       "521  Last week one of our admin staff presented to ...            Micromoo_   \n",
       "214  MD about 10 years post MD graduation, about 5 ...   Bucket_Handle_Tear   \n",
       "210                                                NaN              shaokim   \n",
       "\n",
       "     Number of Comments  Number of upvotes  Ratio of Upvotes  \n",
       "23                   11                 33              0.98  \n",
       "363                  26                 56              0.97  \n",
       "478                  95                 93              0.82  \n",
       "234                  87                131              0.96  \n",
       "650                  24                 53              0.90  \n",
       "360                  26                129              0.95  \n",
       "922                  10                 26              0.96  \n",
       "521                 253                416              0.97  \n",
       "214                  14                 29              0.90  \n",
       "210                  53                615              0.99  "
      ]
     },
     "execution_count": 166,
     "metadata": {},
     "output_type": "execute_result"
    }
   ],
   "source": [
    "medData.sample(10)"
   ]
  },
  {
   "cell_type": "code",
   "execution_count": 167,
   "id": "945221b7",
   "metadata": {},
   "outputs": [
    {
     "data": {
      "text/html": [
       "<div>\n",
       "<style scoped>\n",
       "    .dataframe tbody tr th:only-of-type {\n",
       "        vertical-align: middle;\n",
       "    }\n",
       "\n",
       "    .dataframe tbody tr th {\n",
       "        vertical-align: top;\n",
       "    }\n",
       "\n",
       "    .dataframe thead th {\n",
       "        text-align: right;\n",
       "    }\n",
       "</style>\n",
       "<table border=\"1\" class=\"dataframe\">\n",
       "  <thead>\n",
       "    <tr style=\"text-align: right;\">\n",
       "      <th></th>\n",
       "      <th>Title</th>\n",
       "      <th>Id</th>\n",
       "      <th>Text</th>\n",
       "      <th>Author</th>\n",
       "      <th>Number of Comments</th>\n",
       "      <th>Number of upvotes</th>\n",
       "      <th>Ratio of Upvotes</th>\n",
       "    </tr>\n",
       "  </thead>\n",
       "  <tbody>\n",
       "    <tr>\n",
       "      <th>189</th>\n",
       "      <td>Getting an autism report from GP?</td>\n",
       "      <td>1132aj5</td>\n",
       "      <td>Hi, I know this isn't the best subreddit to as...</td>\n",
       "      <td>alasfinallyaname</td>\n",
       "      <td>5</td>\n",
       "      <td>2</td>\n",
       "      <td>0.75</td>\n",
       "    </tr>\n",
       "    <tr>\n",
       "      <th>111</th>\n",
       "      <td>How often do you guys do laundry?</td>\n",
       "      <td>11qxcfz</td>\n",
       "      <td>My dad complains everyone uses too much water,...</td>\n",
       "      <td>WhitePinoy</td>\n",
       "      <td>28</td>\n",
       "      <td>11</td>\n",
       "      <td>1.00</td>\n",
       "    </tr>\n",
       "    <tr>\n",
       "      <th>37</th>\n",
       "      <td>How can I make friends. Girls, real, kind hear...</td>\n",
       "      <td>11ttsz3</td>\n",
       "      <td>I (24f) need new friends in my life. I am marr...</td>\n",
       "      <td>Ok_Tackle_498</td>\n",
       "      <td>31</td>\n",
       "      <td>51</td>\n",
       "      <td>0.92</td>\n",
       "    </tr>\n",
       "    <tr>\n",
       "      <th>680</th>\n",
       "      <td>Middle age is weird</td>\n",
       "      <td>11017kc</td>\n",
       "      <td>Unloading groceries,  4 hours later... how do ...</td>\n",
       "      <td>Semi-LethalPoison</td>\n",
       "      <td>101</td>\n",
       "      <td>262</td>\n",
       "      <td>0.98</td>\n",
       "    </tr>\n",
       "    <tr>\n",
       "      <th>648</th>\n",
       "      <td>Always make sure your appreciated</td>\n",
       "      <td>112k6u0</td>\n",
       "      <td>I think this is something a lot of people feel...</td>\n",
       "      <td>Farigo</td>\n",
       "      <td>1</td>\n",
       "      <td>8</td>\n",
       "      <td>0.90</td>\n",
       "    </tr>\n",
       "    <tr>\n",
       "      <th>541</th>\n",
       "      <td>26, no drivers license</td>\n",
       "      <td>117m3ho</td>\n",
       "      <td>I am 26 and I have yet to take a drivers permi...</td>\n",
       "      <td>No_Loan4161</td>\n",
       "      <td>15</td>\n",
       "      <td>10</td>\n",
       "      <td>1.00</td>\n",
       "    </tr>\n",
       "    <tr>\n",
       "      <th>362</th>\n",
       "      <td>Just moved into a newly renovated town home aa...</td>\n",
       "      <td>11evn1u</td>\n",
       "      <td>Totally on me. \\n\\nI went to the dumpster litt...</td>\n",
       "      <td>PuzzleheadedLeek8601</td>\n",
       "      <td>3</td>\n",
       "      <td>5</td>\n",
       "      <td>1.00</td>\n",
       "    </tr>\n",
       "    <tr>\n",
       "      <th>124</th>\n",
       "      <td>moving to a new city?</td>\n",
       "      <td>11qebfy</td>\n",
       "      <td>i (26f) have been living in chicago for almost...</td>\n",
       "      <td>madittle</td>\n",
       "      <td>3</td>\n",
       "      <td>2</td>\n",
       "      <td>1.00</td>\n",
       "    </tr>\n",
       "    <tr>\n",
       "      <th>364</th>\n",
       "      <td>Feel as if I’m constantly being scammed</td>\n",
       "      <td>11dy4a8</td>\n",
       "      <td>I’ve grown a little bit wiser now that I’m alm...</td>\n",
       "      <td>BrianArmstro</td>\n",
       "      <td>182</td>\n",
       "      <td>336</td>\n",
       "      <td>0.96</td>\n",
       "    </tr>\n",
       "    <tr>\n",
       "      <th>590</th>\n",
       "      <td>Moving to a new apartment. Packing feels overw...</td>\n",
       "      <td>115iulh</td>\n",
       "      <td>This is definitely not my first time having to...</td>\n",
       "      <td>StolenVelvet</td>\n",
       "      <td>6</td>\n",
       "      <td>4</td>\n",
       "      <td>0.75</td>\n",
       "    </tr>\n",
       "  </tbody>\n",
       "</table>\n",
       "</div>"
      ],
      "text/plain": [
       "                                                 Title       Id  \\\n",
       "189                  Getting an autism report from GP?  1132aj5   \n",
       "111                  How often do you guys do laundry?  11qxcfz   \n",
       "37   How can I make friends. Girls, real, kind hear...  11ttsz3   \n",
       "680                                Middle age is weird  11017kc   \n",
       "648                  Always make sure your appreciated  112k6u0   \n",
       "541                             26, no drivers license  117m3ho   \n",
       "362  Just moved into a newly renovated town home aa...  11evn1u   \n",
       "124                              moving to a new city?  11qebfy   \n",
       "364            Feel as if I’m constantly being scammed  11dy4a8   \n",
       "590  Moving to a new apartment. Packing feels overw...  115iulh   \n",
       "\n",
       "                                                  Text                Author  \\\n",
       "189  Hi, I know this isn't the best subreddit to as...      alasfinallyaname   \n",
       "111  My dad complains everyone uses too much water,...            WhitePinoy   \n",
       "37   I (24f) need new friends in my life. I am marr...         Ok_Tackle_498   \n",
       "680  Unloading groceries,  4 hours later... how do ...     Semi-LethalPoison   \n",
       "648  I think this is something a lot of people feel...                Farigo   \n",
       "541  I am 26 and I have yet to take a drivers permi...           No_Loan4161   \n",
       "362  Totally on me. \\n\\nI went to the dumpster litt...  PuzzleheadedLeek8601   \n",
       "124  i (26f) have been living in chicago for almost...              madittle   \n",
       "364  I’ve grown a little bit wiser now that I’m alm...          BrianArmstro   \n",
       "590  This is definitely not my first time having to...          StolenVelvet   \n",
       "\n",
       "     Number of Comments  Number of upvotes  Ratio of Upvotes  \n",
       "189                   5                  2              0.75  \n",
       "111                  28                 11              1.00  \n",
       "37                   31                 51              0.92  \n",
       "680                 101                262              0.98  \n",
       "648                   1                  8              0.90  \n",
       "541                  15                 10              1.00  \n",
       "362                   3                  5              1.00  \n",
       "124                   3                  2              1.00  \n",
       "364                 182                336              0.96  \n",
       "590                   6                  4              0.75  "
      ]
     },
     "execution_count": 167,
     "metadata": {},
     "output_type": "execute_result"
    }
   ],
   "source": [
    "adData.sample(10)"
   ]
  },
  {
   "cell_type": "code",
   "execution_count": 168,
   "id": "57c7fcde",
   "metadata": {
    "scrolled": true
   },
   "outputs": [
    {
     "data": {
      "text/html": [
       "<div>\n",
       "<style scoped>\n",
       "    .dataframe tbody tr th:only-of-type {\n",
       "        vertical-align: middle;\n",
       "    }\n",
       "\n",
       "    .dataframe tbody tr th {\n",
       "        vertical-align: top;\n",
       "    }\n",
       "\n",
       "    .dataframe thead th {\n",
       "        text-align: right;\n",
       "    }\n",
       "</style>\n",
       "<table border=\"1\" class=\"dataframe\">\n",
       "  <thead>\n",
       "    <tr style=\"text-align: right;\">\n",
       "      <th></th>\n",
       "      <th>Title</th>\n",
       "      <th>Id</th>\n",
       "      <th>Text</th>\n",
       "      <th>Author</th>\n",
       "      <th>Number of Comments</th>\n",
       "      <th>Number of upvotes</th>\n",
       "      <th>Ratio of Upvotes</th>\n",
       "    </tr>\n",
       "  </thead>\n",
       "  <tbody>\n",
       "    <tr>\n",
       "      <th>261</th>\n",
       "      <td>Labeled Part-Time, Work 30+ hours a week with ...</td>\n",
       "      <td>11v5mch</td>\n",
       "      <td>I work in Tennessee, and I am labeled as a par...</td>\n",
       "      <td>CosmoFroggy</td>\n",
       "      <td>2</td>\n",
       "      <td>0</td>\n",
       "      <td>0.33</td>\n",
       "    </tr>\n",
       "    <tr>\n",
       "      <th>112</th>\n",
       "      <td>Landlord wants to force me into a worse apartm...</td>\n",
       "      <td>11uw8x3</td>\n",
       "      <td>Me and my two prospective roommates signed a l...</td>\n",
       "      <td>iwashedmyanustoday</td>\n",
       "      <td>32</td>\n",
       "      <td>80</td>\n",
       "      <td>0.87</td>\n",
       "    </tr>\n",
       "    <tr>\n",
       "      <th>140</th>\n",
       "      <td>Tips for finding an attorney?</td>\n",
       "      <td>11vnu5u</td>\n",
       "      <td>Sorry if this isn’t the best place to post thi...</td>\n",
       "      <td>Gudspeed</td>\n",
       "      <td>5</td>\n",
       "      <td>1</td>\n",
       "      <td>0.67</td>\n",
       "    </tr>\n",
       "    <tr>\n",
       "      <th>296</th>\n",
       "      <td>[CA] Requesting holding deposit for an Apt Uni...</td>\n",
       "      <td>11v2gkg</td>\n",
       "      <td>Hello,\\n\\nI have a legal advice question regar...</td>\n",
       "      <td>Pettysaurus_Rex</td>\n",
       "      <td>0</td>\n",
       "      <td>0</td>\n",
       "      <td>0.50</td>\n",
       "    </tr>\n",
       "    <tr>\n",
       "      <th>464</th>\n",
       "      <td>Can an adjective be copyrighted? Lucid?</td>\n",
       "      <td>11ufs2f</td>\n",
       "      <td>I am looking to start something an online acco...</td>\n",
       "      <td>BananaBeach007</td>\n",
       "      <td>1</td>\n",
       "      <td>0</td>\n",
       "      <td>0.20</td>\n",
       "    </tr>\n",
       "    <tr>\n",
       "      <th>336</th>\n",
       "      <td>Is my employer restricting my access to drinki...</td>\n",
       "      <td>11vbg25</td>\n",
       "      <td>Hi. I live in Washington State, USA. Bear with...</td>\n",
       "      <td>ContractSouth5574</td>\n",
       "      <td>9</td>\n",
       "      <td>0</td>\n",
       "      <td>0.18</td>\n",
       "    </tr>\n",
       "    <tr>\n",
       "      <th>417</th>\n",
       "      <td>My parents refuse to sign over the title to my...</td>\n",
       "      <td>11up6qi</td>\n",
       "      <td>Hi friends. Title basically explains what is h...</td>\n",
       "      <td>ascending_dawn</td>\n",
       "      <td>6</td>\n",
       "      <td>0</td>\n",
       "      <td>0.41</td>\n",
       "    </tr>\n",
       "    <tr>\n",
       "      <th>905</th>\n",
       "      <td>3 Months into new 12 month apartment lease. It...</td>\n",
       "      <td>11tit4u</td>\n",
       "      <td>New apartment is right next to snowmobile trai...</td>\n",
       "      <td>GrayJay85</td>\n",
       "      <td>1</td>\n",
       "      <td>0</td>\n",
       "      <td>0.36</td>\n",
       "    </tr>\n",
       "    <tr>\n",
       "      <th>149</th>\n",
       "      <td>Saved a man's life now I need to pay insurance...</td>\n",
       "      <td>11vn46o</td>\n",
       "      <td>I went to my mom's house to pick up a package....</td>\n",
       "      <td>Thekingfalmer</td>\n",
       "      <td>14</td>\n",
       "      <td>0</td>\n",
       "      <td>0.43</td>\n",
       "    </tr>\n",
       "    <tr>\n",
       "      <th>265</th>\n",
       "      <td>Labeled Part-Time, Work 30+ hours a week with ...</td>\n",
       "      <td>11v5mch</td>\n",
       "      <td>I work in Tennessee, and I am labeled as a par...</td>\n",
       "      <td>CosmoFroggy</td>\n",
       "      <td>2</td>\n",
       "      <td>0</td>\n",
       "      <td>0.33</td>\n",
       "    </tr>\n",
       "  </tbody>\n",
       "</table>\n",
       "</div>"
      ],
      "text/plain": [
       "                                                 Title       Id  \\\n",
       "261  Labeled Part-Time, Work 30+ hours a week with ...  11v5mch   \n",
       "112  Landlord wants to force me into a worse apartm...  11uw8x3   \n",
       "140                      Tips for finding an attorney?  11vnu5u   \n",
       "296  [CA] Requesting holding deposit for an Apt Uni...  11v2gkg   \n",
       "464            Can an adjective be copyrighted? Lucid?  11ufs2f   \n",
       "336  Is my employer restricting my access to drinki...  11vbg25   \n",
       "417  My parents refuse to sign over the title to my...  11up6qi   \n",
       "905  3 Months into new 12 month apartment lease. It...  11tit4u   \n",
       "149  Saved a man's life now I need to pay insurance...  11vn46o   \n",
       "265  Labeled Part-Time, Work 30+ hours a week with ...  11v5mch   \n",
       "\n",
       "                                                  Text              Author  \\\n",
       "261  I work in Tennessee, and I am labeled as a par...         CosmoFroggy   \n",
       "112  Me and my two prospective roommates signed a l...  iwashedmyanustoday   \n",
       "140  Sorry if this isn’t the best place to post thi...            Gudspeed   \n",
       "296  Hello,\\n\\nI have a legal advice question regar...     Pettysaurus_Rex   \n",
       "464  I am looking to start something an online acco...      BananaBeach007   \n",
       "336  Hi. I live in Washington State, USA. Bear with...   ContractSouth5574   \n",
       "417  Hi friends. Title basically explains what is h...      ascending_dawn   \n",
       "905  New apartment is right next to snowmobile trai...           GrayJay85   \n",
       "149  I went to my mom's house to pick up a package....       Thekingfalmer   \n",
       "265  I work in Tennessee, and I am labeled as a par...         CosmoFroggy   \n",
       "\n",
       "     Number of Comments  Number of upvotes  Ratio of Upvotes  \n",
       "261                   2                  0              0.33  \n",
       "112                  32                 80              0.87  \n",
       "140                   5                  1              0.67  \n",
       "296                   0                  0              0.50  \n",
       "464                   1                  0              0.20  \n",
       "336                   9                  0              0.18  \n",
       "417                   6                  0              0.41  \n",
       "905                   1                  0              0.36  \n",
       "149                  14                  0              0.43  \n",
       "265                   2                  0              0.33  "
      ]
     },
     "execution_count": 168,
     "metadata": {},
     "output_type": "execute_result"
    }
   ],
   "source": [
    "legalData.sample(10)"
   ]
  },
  {
   "cell_type": "markdown",
   "id": "99e47c6b",
   "metadata": {},
   "source": [
    "## New CSV Files"
   ]
  },
  {
   "cell_type": "code",
   "execution_count": 169,
   "id": "b90f47f0",
   "metadata": {},
   "outputs": [],
   "source": [
    "legalData.to_csv('finalLegalData.csv',  index=False)\n",
    "adData.to_csv('finalAdData.csv',  index=False)\n",
    "medData.to_csv('finalMedData.csv',  index=False)\n",
    "hsData.to_csv('finalHsData.csv',  index=False)\n",
    "bwayData.to_csv('finalBwayData.csv',  index=False)\n",
    "pghData.to_csv('finalPghData.csv',  index=False)\n",
    "rantData.to_csv('finalRantData.csv',  index=False)\n",
    "ccqData.to_csv('finalCcqData.csv',  index=False)\n",
    "animeData.to_csv('finalAnimeData.csv',  index=False)\n",
    "elifData.to_csv('finalElifData.csv',  index=False)\n",
    "collegeData.to_csv('finalCollegeData.csv',  index=False)\n",
    "sportsData.to_csv('finalSportsData.csv',  index=False)\n",
    "cryptoData.to_csv('finalCryptoData.csv',  index=False)\n",
    "lawyerData.to_csv('finalLawyerData.csv', index=False)\n",
    "gamingData.to_csv('finalGamingData.csv',  index=False)"
   ]
  },
  {
   "cell_type": "code",
   "execution_count": null,
   "id": "7ad46e93",
   "metadata": {},
   "outputs": [],
   "source": []
  }
 ],
 "metadata": {
  "kernelspec": {
   "display_name": "Python 3 (ipykernel)",
   "language": "python",
   "name": "python3"
  },
  "language_info": {
   "codemirror_mode": {
    "name": "ipython",
    "version": 3
   },
   "file_extension": ".py",
   "mimetype": "text/x-python",
   "name": "python",
   "nbconvert_exporter": "python",
   "pygments_lexer": "ipython3",
   "version": "3.9.13"
  }
 },
 "nbformat": 4,
 "nbformat_minor": 5
}
