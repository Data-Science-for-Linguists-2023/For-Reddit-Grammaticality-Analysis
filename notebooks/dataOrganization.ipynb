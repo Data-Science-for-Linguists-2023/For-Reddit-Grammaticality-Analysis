{
 "cells": [
  {
   "cell_type": "markdown",
   "id": "d60b83da",
   "metadata": {},
   "source": [
    "# Data Organization"
   ]
  },
  {
   "cell_type": "markdown",
   "id": "49c1cea7",
   "metadata": {},
   "source": [
    "Outline\n",
    "1. [Legal Talk](#Legal-Talk)\n",
    "2. [Adulting](#Adulting)\n",
    "3. [Medicine](#Medicine)\n",
    "4. [High School](#High-School)\n",
    "5. [Broadway](#Broadway)\n",
    "6. [Pittsburgh](#Pittsburgh)\n",
    "7. [Rant](#Rant)\n",
    "8. [CS Career Questions](#CS-Career-Questions)\n",
    "9. [Anime](#Anime)\n",
    "10. [Explain Like I'm Five](#Explain-Like-I'm-Five)\n",
    "11. [College](#College)\n",
    "12. [NBA](#NBA)\n",
    "13. [Cryptocurrency](#Cryptocurrency)\n",
    "14. [Lawyer Talk](#Lawyer-Talk)\n",
    "15. [Gaming](#Gaming)"
   ]
  },
  {
   "cell_type": "markdown",
   "id": "eb7b3af2",
   "metadata": {},
   "source": [
    "## Purpose\n"
   ]
  },
  {
   "cell_type": "markdown",
   "id": "20765a41",
   "metadata": {},
   "source": [
    "The purpose of this notebook is to combine the two .csv files per subreddit and ensure equal posts across all subreddits for analysis purposes. One .csv file corresponds to 'hot' posts and one .csv file corresponds to 'new' posts."
   ]
  },
  {
   "cell_type": "code",
   "execution_count": 1,
   "id": "1c8ba38d",
   "metadata": {},
   "outputs": [],
   "source": [
    "import pandas as pd"
   ]
  },
  {
   "cell_type": "code",
   "execution_count": 2,
   "id": "a59dd2d0",
   "metadata": {},
   "outputs": [],
   "source": [
    "# This will keep track of the size of all of the combined csv files\n",
    "entriesCount = []"
   ]
  },
  {
   "cell_type": "markdown",
   "id": "eb6459ce",
   "metadata": {},
   "source": [
    "## Legal Talk"
   ]
  },
  {
   "cell_type": "code",
   "execution_count": 3,
   "id": "9ad720ce",
   "metadata": {},
   "outputs": [],
   "source": [
    "legalDataNew = pd.read_csv(\"../data/legalData.csv\")\n",
    "legalDataHot = pd.read_csv(\"../data/legalData2.csv\")"
   ]
  },
  {
   "cell_type": "code",
   "execution_count": 4,
   "id": "a4c611c0",
   "metadata": {},
   "outputs": [
    {
     "data": {
      "text/plain": [
       "(986, 8)"
      ]
     },
     "execution_count": 4,
     "metadata": {},
     "output_type": "execute_result"
    }
   ],
   "source": [
    "legalDataNew.shape"
   ]
  },
  {
   "cell_type": "code",
   "execution_count": 5,
   "id": "863692c0",
   "metadata": {
    "scrolled": true
   },
   "outputs": [
    {
     "data": {
      "text/plain": [
       "(990, 8)"
      ]
     },
     "execution_count": 5,
     "metadata": {},
     "output_type": "execute_result"
    }
   ],
   "source": [
    "legalDataHot.shape"
   ]
  },
  {
   "cell_type": "code",
   "execution_count": 6,
   "id": "8f65d729",
   "metadata": {
    "scrolled": true
   },
   "outputs": [
    {
     "data": {
      "text/plain": [
       "(1976, 8)"
      ]
     },
     "execution_count": 6,
     "metadata": {},
     "output_type": "execute_result"
    }
   ],
   "source": [
    "legalData = pd.concat([legalDataHot, legalDataNew])\n",
    "legalData.shape"
   ]
  },
  {
   "cell_type": "code",
   "execution_count": 7,
   "id": "afa0888a",
   "metadata": {},
   "outputs": [],
   "source": [
    "legalData = legalData.drop_duplicates(keep=False)"
   ]
  },
  {
   "cell_type": "code",
   "execution_count": 8,
   "id": "e0158076",
   "metadata": {},
   "outputs": [
    {
     "data": {
      "text/plain": [
       "(1962, 8)"
      ]
     },
     "execution_count": 8,
     "metadata": {},
     "output_type": "execute_result"
    }
   ],
   "source": [
    "legalData.shape"
   ]
  },
  {
   "cell_type": "code",
   "execution_count": 9,
   "id": "ae364d4d",
   "metadata": {},
   "outputs": [],
   "source": [
    "entriesCount.append(legalData.shape[0])"
   ]
  },
  {
   "cell_type": "markdown",
   "id": "085022fe",
   "metadata": {},
   "source": [
    "## Adulting"
   ]
  },
  {
   "cell_type": "code",
   "execution_count": 10,
   "id": "703da63f",
   "metadata": {},
   "outputs": [],
   "source": [
    "adDataNew = pd.read_csv(\"../data/adData.csv\")\n",
    "adDataHot = pd.read_csv(\"../data/adData2.csv\")"
   ]
  },
  {
   "cell_type": "code",
   "execution_count": 11,
   "id": "1dcec6a6",
   "metadata": {},
   "outputs": [
    {
     "data": {
      "text/plain": [
       "(823, 8)"
      ]
     },
     "execution_count": 11,
     "metadata": {},
     "output_type": "execute_result"
    }
   ],
   "source": [
    "adDataNew.shape"
   ]
  },
  {
   "cell_type": "code",
   "execution_count": 12,
   "id": "d6aa1f0a",
   "metadata": {},
   "outputs": [
    {
     "data": {
      "text/plain": [
       "(847, 8)"
      ]
     },
     "execution_count": 12,
     "metadata": {},
     "output_type": "execute_result"
    }
   ],
   "source": [
    "adDataHot.shape"
   ]
  },
  {
   "cell_type": "code",
   "execution_count": 13,
   "id": "8fc903fb",
   "metadata": {},
   "outputs": [
    {
     "data": {
      "text/plain": [
       "(1670, 8)"
      ]
     },
     "execution_count": 13,
     "metadata": {},
     "output_type": "execute_result"
    }
   ],
   "source": [
    "adData = pd.concat([adDataHot, adDataNew])\n",
    "adData.shape"
   ]
  },
  {
   "cell_type": "code",
   "execution_count": 14,
   "id": "fb074ce6",
   "metadata": {},
   "outputs": [],
   "source": [
    "adData = adData.drop_duplicates(keep=False)"
   ]
  },
  {
   "cell_type": "code",
   "execution_count": 15,
   "id": "f9a88759",
   "metadata": {},
   "outputs": [
    {
     "data": {
      "text/plain": [
       "(1670, 8)"
      ]
     },
     "execution_count": 15,
     "metadata": {},
     "output_type": "execute_result"
    }
   ],
   "source": [
    "adData.shape"
   ]
  },
  {
   "cell_type": "code",
   "execution_count": 16,
   "id": "8e62eec5",
   "metadata": {},
   "outputs": [],
   "source": [
    "entriesCount.append(adData.shape[0])"
   ]
  },
  {
   "cell_type": "markdown",
   "id": "0f4b751a",
   "metadata": {},
   "source": [
    "## Medicine"
   ]
  },
  {
   "cell_type": "code",
   "execution_count": 17,
   "id": "7e5522f7",
   "metadata": {},
   "outputs": [],
   "source": [
    "medDataNew = pd.read_csv(\"../data/medData.csv\")\n",
    "medDataHot = pd.read_csv(\"../data/medData2.csv\")"
   ]
  },
  {
   "cell_type": "code",
   "execution_count": 18,
   "id": "57d843f1",
   "metadata": {},
   "outputs": [
    {
     "data": {
      "text/plain": [
       "(759, 8)"
      ]
     },
     "execution_count": 18,
     "metadata": {},
     "output_type": "execute_result"
    }
   ],
   "source": [
    "medDataNew.shape"
   ]
  },
  {
   "cell_type": "code",
   "execution_count": 19,
   "id": "88ed0969",
   "metadata": {},
   "outputs": [
    {
     "data": {
      "text/plain": [
       "(973, 8)"
      ]
     },
     "execution_count": 19,
     "metadata": {},
     "output_type": "execute_result"
    }
   ],
   "source": [
    "medDataHot.shape"
   ]
  },
  {
   "cell_type": "code",
   "execution_count": 20,
   "id": "6710eced",
   "metadata": {},
   "outputs": [
    {
     "data": {
      "text/plain": [
       "(1732, 8)"
      ]
     },
     "execution_count": 20,
     "metadata": {},
     "output_type": "execute_result"
    }
   ],
   "source": [
    "medData = pd.concat([medDataHot, medDataNew])\n",
    "medData.shape"
   ]
  },
  {
   "cell_type": "code",
   "execution_count": 21,
   "id": "bffc8241",
   "metadata": {},
   "outputs": [],
   "source": [
    "medData = medData.drop_duplicates(keep=False)"
   ]
  },
  {
   "cell_type": "code",
   "execution_count": 22,
   "id": "e047e53e",
   "metadata": {},
   "outputs": [
    {
     "data": {
      "text/plain": [
       "(1732, 8)"
      ]
     },
     "execution_count": 22,
     "metadata": {},
     "output_type": "execute_result"
    }
   ],
   "source": [
    "medData.shape"
   ]
  },
  {
   "cell_type": "code",
   "execution_count": 23,
   "id": "4ac76d8a",
   "metadata": {},
   "outputs": [],
   "source": [
    "entriesCount.append(medData.shape[0])"
   ]
  },
  {
   "cell_type": "markdown",
   "id": "0ed4c224",
   "metadata": {},
   "source": [
    "## High School"
   ]
  },
  {
   "cell_type": "code",
   "execution_count": 24,
   "id": "9657b542",
   "metadata": {},
   "outputs": [],
   "source": [
    "hsDataNew = pd.read_csv(\"../data/hsData.csv\")\n",
    "hsDataHot = pd.read_csv(\"../data/hsData2.csv\")"
   ]
  },
  {
   "cell_type": "code",
   "execution_count": 25,
   "id": "bf834684",
   "metadata": {},
   "outputs": [
    {
     "data": {
      "text/plain": [
       "(774, 8)"
      ]
     },
     "execution_count": 25,
     "metadata": {},
     "output_type": "execute_result"
    }
   ],
   "source": [
    "hsDataNew.shape"
   ]
  },
  {
   "cell_type": "code",
   "execution_count": 26,
   "id": "ac38433d",
   "metadata": {},
   "outputs": [
    {
     "data": {
      "text/plain": [
       "(805, 8)"
      ]
     },
     "execution_count": 26,
     "metadata": {},
     "output_type": "execute_result"
    }
   ],
   "source": [
    "hsDataHot.shape"
   ]
  },
  {
   "cell_type": "code",
   "execution_count": 27,
   "id": "491ca460",
   "metadata": {},
   "outputs": [
    {
     "data": {
      "text/plain": [
       "(1579, 8)"
      ]
     },
     "execution_count": 27,
     "metadata": {},
     "output_type": "execute_result"
    }
   ],
   "source": [
    "hsData = pd.concat([hsDataHot, hsDataNew])\n",
    "hsData.shape"
   ]
  },
  {
   "cell_type": "code",
   "execution_count": 28,
   "id": "72ce4ad2",
   "metadata": {},
   "outputs": [],
   "source": [
    "hsData = hsData.drop_duplicates(keep=False)"
   ]
  },
  {
   "cell_type": "code",
   "execution_count": 29,
   "id": "1ee0b475",
   "metadata": {
    "scrolled": true
   },
   "outputs": [
    {
     "data": {
      "text/plain": [
       "(1579, 8)"
      ]
     },
     "execution_count": 29,
     "metadata": {},
     "output_type": "execute_result"
    }
   ],
   "source": [
    "hsData.shape"
   ]
  },
  {
   "cell_type": "code",
   "execution_count": 30,
   "id": "32020fbc",
   "metadata": {},
   "outputs": [],
   "source": [
    "entriesCount.append(hsData.shape[0])"
   ]
  },
  {
   "cell_type": "markdown",
   "id": "dc546133",
   "metadata": {},
   "source": [
    "## Broadway"
   ]
  },
  {
   "cell_type": "code",
   "execution_count": 31,
   "id": "bfa06351",
   "metadata": {},
   "outputs": [],
   "source": [
    "bwayDataNew = pd.read_csv(\"../data/bwayData.csv\")\n",
    "bwayDataHot = pd.read_csv(\"../data/bwayData2.csv\")"
   ]
  },
  {
   "cell_type": "code",
   "execution_count": 32,
   "id": "0d14acab",
   "metadata": {},
   "outputs": [
    {
     "data": {
      "text/plain": [
       "(642, 8)"
      ]
     },
     "execution_count": 32,
     "metadata": {},
     "output_type": "execute_result"
    }
   ],
   "source": [
    "bwayDataNew.shape"
   ]
  },
  {
   "cell_type": "code",
   "execution_count": 33,
   "id": "459c1fc2",
   "metadata": {},
   "outputs": [
    {
     "data": {
      "text/plain": [
       "(633, 8)"
      ]
     },
     "execution_count": 33,
     "metadata": {},
     "output_type": "execute_result"
    }
   ],
   "source": [
    "bwayDataHot.shape"
   ]
  },
  {
   "cell_type": "code",
   "execution_count": 34,
   "id": "d5360dde",
   "metadata": {},
   "outputs": [
    {
     "data": {
      "text/plain": [
       "(1275, 8)"
      ]
     },
     "execution_count": 34,
     "metadata": {},
     "output_type": "execute_result"
    }
   ],
   "source": [
    "bwayData = pd.concat([bwayDataHot, bwayDataNew])\n",
    "bwayData.shape"
   ]
  },
  {
   "cell_type": "code",
   "execution_count": 35,
   "id": "6c9ba97e",
   "metadata": {},
   "outputs": [],
   "source": [
    "bwayData = bwayData.drop_duplicates(keep=False)"
   ]
  },
  {
   "cell_type": "code",
   "execution_count": 36,
   "id": "b577cd4d",
   "metadata": {
    "scrolled": true
   },
   "outputs": [
    {
     "data": {
      "text/plain": [
       "(1275, 8)"
      ]
     },
     "execution_count": 36,
     "metadata": {},
     "output_type": "execute_result"
    }
   ],
   "source": [
    "bwayData.shape"
   ]
  },
  {
   "cell_type": "code",
   "execution_count": 37,
   "id": "a46a8c1e",
   "metadata": {},
   "outputs": [],
   "source": [
    "entriesCount.append(bwayData.shape[0])"
   ]
  },
  {
   "cell_type": "markdown",
   "id": "c696c302",
   "metadata": {},
   "source": [
    "## Pittsburgh"
   ]
  },
  {
   "cell_type": "code",
   "execution_count": 38,
   "id": "6d4d44be",
   "metadata": {},
   "outputs": [],
   "source": [
    "pghDataNew = pd.read_csv(\"../data/pghData.csv\")\n",
    "pghDataHot = pd.read_csv(\"../data/pghData2.csv\")"
   ]
  },
  {
   "cell_type": "code",
   "execution_count": 39,
   "id": "72acb617",
   "metadata": {},
   "outputs": [
    {
     "data": {
      "text/plain": [
       "(624, 8)"
      ]
     },
     "execution_count": 39,
     "metadata": {},
     "output_type": "execute_result"
    }
   ],
   "source": [
    "pghDataNew.shape"
   ]
  },
  {
   "cell_type": "code",
   "execution_count": 40,
   "id": "de9bb30c",
   "metadata": {},
   "outputs": [
    {
     "data": {
      "text/plain": [
       "(549, 8)"
      ]
     },
     "execution_count": 40,
     "metadata": {},
     "output_type": "execute_result"
    }
   ],
   "source": [
    "pghDataHot.shape"
   ]
  },
  {
   "cell_type": "code",
   "execution_count": 41,
   "id": "0e91357f",
   "metadata": {},
   "outputs": [
    {
     "data": {
      "text/plain": [
       "(1173, 8)"
      ]
     },
     "execution_count": 41,
     "metadata": {},
     "output_type": "execute_result"
    }
   ],
   "source": [
    "pghData = pd.concat([pghDataHot, pghDataNew])\n",
    "pghData.shape"
   ]
  },
  {
   "cell_type": "code",
   "execution_count": 42,
   "id": "a437dd4b",
   "metadata": {},
   "outputs": [],
   "source": [
    "pghData = pghData.drop_duplicates(keep=False)"
   ]
  },
  {
   "cell_type": "code",
   "execution_count": 43,
   "id": "4fc2dbba",
   "metadata": {
    "scrolled": true
   },
   "outputs": [
    {
     "data": {
      "text/plain": [
       "(1173, 8)"
      ]
     },
     "execution_count": 43,
     "metadata": {},
     "output_type": "execute_result"
    }
   ],
   "source": [
    "pghData.shape"
   ]
  },
  {
   "cell_type": "code",
   "execution_count": 44,
   "id": "62c1c1ef",
   "metadata": {},
   "outputs": [],
   "source": [
    "entriesCount.append(pghData.shape[0])"
   ]
  },
  {
   "cell_type": "markdown",
   "id": "0b5c546a",
   "metadata": {},
   "source": [
    "## Rant"
   ]
  },
  {
   "cell_type": "code",
   "execution_count": 45,
   "id": "6ff5c9fa",
   "metadata": {},
   "outputs": [],
   "source": [
    "rantDataNew = pd.read_csv(\"../data/rantData.csv\")\n",
    "rantDataHot = pd.read_csv(\"../data/rantData2.csv\")"
   ]
  },
  {
   "cell_type": "code",
   "execution_count": 46,
   "id": "9ee5f72c",
   "metadata": {},
   "outputs": [
    {
     "data": {
      "text/plain": [
       "(936, 8)"
      ]
     },
     "execution_count": 46,
     "metadata": {},
     "output_type": "execute_result"
    }
   ],
   "source": [
    "rantDataNew.shape"
   ]
  },
  {
   "cell_type": "code",
   "execution_count": 47,
   "id": "940ed574",
   "metadata": {},
   "outputs": [
    {
     "data": {
      "text/plain": [
       "(537, 8)"
      ]
     },
     "execution_count": 47,
     "metadata": {},
     "output_type": "execute_result"
    }
   ],
   "source": [
    "rantDataHot.shape"
   ]
  },
  {
   "cell_type": "code",
   "execution_count": 48,
   "id": "097c2544",
   "metadata": {},
   "outputs": [
    {
     "data": {
      "text/plain": [
       "(1473, 8)"
      ]
     },
     "execution_count": 48,
     "metadata": {},
     "output_type": "execute_result"
    }
   ],
   "source": [
    "rantData = pd.concat([rantDataHot, rantDataNew])\n",
    "rantData.shape"
   ]
  },
  {
   "cell_type": "code",
   "execution_count": 49,
   "id": "855284f0",
   "metadata": {},
   "outputs": [],
   "source": [
    "rantData = rantData.drop_duplicates(keep=False)"
   ]
  },
  {
   "cell_type": "code",
   "execution_count": 50,
   "id": "4bd4e932",
   "metadata": {},
   "outputs": [
    {
     "data": {
      "text/plain": [
       "(1461, 8)"
      ]
     },
     "execution_count": 50,
     "metadata": {},
     "output_type": "execute_result"
    }
   ],
   "source": [
    "rantData.shape"
   ]
  },
  {
   "cell_type": "code",
   "execution_count": 51,
   "id": "318b8bea",
   "metadata": {},
   "outputs": [],
   "source": [
    "entriesCount.append(rantData.shape[0])"
   ]
  },
  {
   "cell_type": "markdown",
   "id": "927cb9c1",
   "metadata": {},
   "source": [
    "## CS Career Questions"
   ]
  },
  {
   "cell_type": "code",
   "execution_count": 52,
   "id": "ed28e376",
   "metadata": {},
   "outputs": [],
   "source": [
    "ccqDataNew = pd.read_csv(\"../data/ccqData.csv\")\n",
    "ccqDataHot = pd.read_csv(\"../data/ccqData2.csv\")"
   ]
  },
  {
   "cell_type": "code",
   "execution_count": 53,
   "id": "176035c2",
   "metadata": {},
   "outputs": [
    {
     "data": {
      "text/plain": [
       "(990, 8)"
      ]
     },
     "execution_count": 53,
     "metadata": {},
     "output_type": "execute_result"
    }
   ],
   "source": [
    "ccqDataNew.shape"
   ]
  },
  {
   "cell_type": "code",
   "execution_count": 54,
   "id": "84af3389",
   "metadata": {},
   "outputs": [
    {
     "data": {
      "text/plain": [
       "(581, 8)"
      ]
     },
     "execution_count": 54,
     "metadata": {},
     "output_type": "execute_result"
    }
   ],
   "source": [
    "ccqDataHot.shape"
   ]
  },
  {
   "cell_type": "code",
   "execution_count": 55,
   "id": "a7b23e54",
   "metadata": {},
   "outputs": [
    {
     "data": {
      "text/plain": [
       "(1571, 8)"
      ]
     },
     "execution_count": 55,
     "metadata": {},
     "output_type": "execute_result"
    }
   ],
   "source": [
    "ccqData = pd.concat([ccqDataHot, ccqDataNew])\n",
    "ccqData.shape"
   ]
  },
  {
   "cell_type": "code",
   "execution_count": 56,
   "id": "80685be9",
   "metadata": {},
   "outputs": [],
   "source": [
    "ccqData = ccqData.drop_duplicates(keep=False)"
   ]
  },
  {
   "cell_type": "code",
   "execution_count": 57,
   "id": "3e1e4cdc",
   "metadata": {},
   "outputs": [
    {
     "data": {
      "text/plain": [
       "(1565, 8)"
      ]
     },
     "execution_count": 57,
     "metadata": {},
     "output_type": "execute_result"
    }
   ],
   "source": [
    "ccqData.shape"
   ]
  },
  {
   "cell_type": "code",
   "execution_count": 58,
   "id": "6cc9eef5",
   "metadata": {},
   "outputs": [],
   "source": [
    "entriesCount.append(ccqData.shape[0])"
   ]
  },
  {
   "cell_type": "markdown",
   "id": "0a4bce6c",
   "metadata": {},
   "source": [
    "## Anime"
   ]
  },
  {
   "cell_type": "code",
   "execution_count": 59,
   "id": "6afa7fab",
   "metadata": {},
   "outputs": [],
   "source": [
    "animeDataNew = pd.read_csv(\"../data/animeData.csv\")\n",
    "animeDataNew2 = pd.read_csv(\"../data/animeData3.csv\")\n",
    "animeDataHot = pd.read_csv(\"../data/animeData2.csv\")"
   ]
  },
  {
   "cell_type": "code",
   "execution_count": 60,
   "id": "2e98ca72",
   "metadata": {},
   "outputs": [
    {
     "data": {
      "text/plain": [
       "(761, 8)"
      ]
     },
     "execution_count": 60,
     "metadata": {},
     "output_type": "execute_result"
    }
   ],
   "source": [
    "animeDataNew.shape"
   ]
  },
  {
   "cell_type": "code",
   "execution_count": 61,
   "id": "d03629af",
   "metadata": {},
   "outputs": [
    {
     "data": {
      "text/plain": [
       "(593, 8)"
      ]
     },
     "execution_count": 61,
     "metadata": {},
     "output_type": "execute_result"
    }
   ],
   "source": [
    "animeDataNew2.shape"
   ]
  },
  {
   "cell_type": "code",
   "execution_count": 62,
   "id": "93f5516e",
   "metadata": {
    "scrolled": true
   },
   "outputs": [
    {
     "data": {
      "text/plain": [
       "(194, 8)"
      ]
     },
     "execution_count": 62,
     "metadata": {},
     "output_type": "execute_result"
    }
   ],
   "source": [
    "animeDataHot.shape"
   ]
  },
  {
   "cell_type": "code",
   "execution_count": 63,
   "id": "14bca906",
   "metadata": {},
   "outputs": [
    {
     "data": {
      "text/plain": [
       "(1548, 8)"
      ]
     },
     "execution_count": 63,
     "metadata": {},
     "output_type": "execute_result"
    }
   ],
   "source": [
    "animeData = pd.concat([animeDataHot, animeDataNew, animeDataNew2])\n",
    "animeData.shape"
   ]
  },
  {
   "cell_type": "code",
   "execution_count": 64,
   "id": "5d80a31d",
   "metadata": {},
   "outputs": [],
   "source": [
    "animeData = animeData.drop_duplicates(keep=False)"
   ]
  },
  {
   "cell_type": "code",
   "execution_count": 65,
   "id": "91119408",
   "metadata": {},
   "outputs": [
    {
     "data": {
      "text/plain": [
       "(1548, 8)"
      ]
     },
     "execution_count": 65,
     "metadata": {},
     "output_type": "execute_result"
    }
   ],
   "source": [
    "animeData.shape"
   ]
  },
  {
   "cell_type": "code",
   "execution_count": 66,
   "id": "63beb3aa",
   "metadata": {},
   "outputs": [],
   "source": [
    "entriesCount.append(animeData.shape[0])"
   ]
  },
  {
   "cell_type": "markdown",
   "id": "08429502",
   "metadata": {},
   "source": [
    "## Explain Like I'm Five"
   ]
  },
  {
   "cell_type": "code",
   "execution_count": 67,
   "id": "40bc666f",
   "metadata": {},
   "outputs": [],
   "source": [
    "elifDataNew = pd.read_csv(\"../data/elifData.csv\")\n",
    "elifDataNew2 = pd.read_csv(\"../data/elifData3.csv\")\n",
    "elifDataHot = pd.read_csv(\"../data/elifData2.csv\")"
   ]
  },
  {
   "cell_type": "code",
   "execution_count": 68,
   "id": "980156af",
   "metadata": {
    "scrolled": true
   },
   "outputs": [
    {
     "data": {
      "text/plain": [
       "(588, 8)"
      ]
     },
     "execution_count": 68,
     "metadata": {},
     "output_type": "execute_result"
    }
   ],
   "source": [
    "elifDataNew.shape"
   ]
  },
  {
   "cell_type": "code",
   "execution_count": 69,
   "id": "c2c6644b",
   "metadata": {},
   "outputs": [
    {
     "data": {
      "text/plain": [
       "(589, 8)"
      ]
     },
     "execution_count": 69,
     "metadata": {},
     "output_type": "execute_result"
    }
   ],
   "source": [
    "elifDataNew2.shape"
   ]
  },
  {
   "cell_type": "code",
   "execution_count": 70,
   "id": "f1398763",
   "metadata": {},
   "outputs": [
    {
     "data": {
      "text/plain": [
       "(316, 8)"
      ]
     },
     "execution_count": 70,
     "metadata": {},
     "output_type": "execute_result"
    }
   ],
   "source": [
    "elifDataHot.shape"
   ]
  },
  {
   "cell_type": "code",
   "execution_count": 71,
   "id": "2dbe8742",
   "metadata": {},
   "outputs": [
    {
     "data": {
      "text/plain": [
       "(1493, 8)"
      ]
     },
     "execution_count": 71,
     "metadata": {},
     "output_type": "execute_result"
    }
   ],
   "source": [
    "elifData = pd.concat([elifDataHot, elifDataNew, elifDataNew2])\n",
    "elifData.shape"
   ]
  },
  {
   "cell_type": "code",
   "execution_count": 72,
   "id": "09b1daf8",
   "metadata": {},
   "outputs": [],
   "source": [
    "elifData = elifData.drop_duplicates(keep=False)"
   ]
  },
  {
   "cell_type": "code",
   "execution_count": 73,
   "id": "0008066f",
   "metadata": {},
   "outputs": [
    {
     "data": {
      "text/plain": [
       "(1487, 8)"
      ]
     },
     "execution_count": 73,
     "metadata": {},
     "output_type": "execute_result"
    }
   ],
   "source": [
    "elifData.shape"
   ]
  },
  {
   "cell_type": "code",
   "execution_count": 74,
   "id": "76bdf695",
   "metadata": {},
   "outputs": [],
   "source": [
    "entriesCount.append(elifData.shape[0])"
   ]
  },
  {
   "cell_type": "markdown",
   "id": "3d7f1133",
   "metadata": {},
   "source": [
    "## College"
   ]
  },
  {
   "cell_type": "code",
   "execution_count": 75,
   "id": "8ff941f2",
   "metadata": {},
   "outputs": [],
   "source": [
    "collegeDataNew = pd.read_csv(\"../data/collegeData.csv\")\n",
    "collegeDataHot = pd.read_csv(\"../data/collegeData2.csv\")"
   ]
  },
  {
   "cell_type": "code",
   "execution_count": 76,
   "id": "f504fe75",
   "metadata": {},
   "outputs": [
    {
     "data": {
      "text/plain": [
       "(934, 8)"
      ]
     },
     "execution_count": 76,
     "metadata": {},
     "output_type": "execute_result"
    }
   ],
   "source": [
    "collegeDataNew.shape"
   ]
  },
  {
   "cell_type": "code",
   "execution_count": 77,
   "id": "f8e8f906",
   "metadata": {},
   "outputs": [
    {
     "data": {
      "text/plain": [
       "(749, 8)"
      ]
     },
     "execution_count": 77,
     "metadata": {},
     "output_type": "execute_result"
    }
   ],
   "source": [
    "collegeDataHot.shape"
   ]
  },
  {
   "cell_type": "code",
   "execution_count": 78,
   "id": "b9d9912b",
   "metadata": {},
   "outputs": [
    {
     "data": {
      "text/plain": [
       "(1683, 8)"
      ]
     },
     "execution_count": 78,
     "metadata": {},
     "output_type": "execute_result"
    }
   ],
   "source": [
    "collegeData = pd.concat([collegeDataHot, collegeDataNew])\n",
    "collegeData.shape"
   ]
  },
  {
   "cell_type": "code",
   "execution_count": 79,
   "id": "374d6f65",
   "metadata": {},
   "outputs": [],
   "source": [
    "collegeData = collegeData.drop_duplicates(keep=False)"
   ]
  },
  {
   "cell_type": "code",
   "execution_count": 80,
   "id": "7e3ae282",
   "metadata": {},
   "outputs": [
    {
     "data": {
      "text/plain": [
       "(1683, 8)"
      ]
     },
     "execution_count": 80,
     "metadata": {},
     "output_type": "execute_result"
    }
   ],
   "source": [
    "collegeData.shape"
   ]
  },
  {
   "cell_type": "code",
   "execution_count": 81,
   "id": "2f897f1b",
   "metadata": {},
   "outputs": [],
   "source": [
    "sportsDataNew = pd.read_csv(\"../data/sportsData.csv\")\n",
    "sportsDataNew2 = pd.read_csv(\"../data/sportsData3.csv\")\n",
    "sportsDataHot = pd.read_csv(\"../data/sportsData2.csv\")"
   ]
  },
  {
   "cell_type": "code",
   "execution_count": 82,
   "id": "d176e059",
   "metadata": {},
   "outputs": [],
   "source": [
    "entriesCount.append(collegeData.shape[0])"
   ]
  },
  {
   "cell_type": "markdown",
   "id": "f031cd87",
   "metadata": {},
   "source": [
    "## NBA"
   ]
  },
  {
   "cell_type": "code",
   "execution_count": 83,
   "id": "6263eba7",
   "metadata": {
    "scrolled": true
   },
   "outputs": [
    {
     "data": {
      "text/plain": [
       "(639, 8)"
      ]
     },
     "execution_count": 83,
     "metadata": {},
     "output_type": "execute_result"
    }
   ],
   "source": [
    "sportsDataNew.shape"
   ]
  },
  {
   "cell_type": "code",
   "execution_count": 84,
   "id": "0199ae2d",
   "metadata": {},
   "outputs": [
    {
     "data": {
      "text/plain": [
       "(68, 8)"
      ]
     },
     "execution_count": 84,
     "metadata": {},
     "output_type": "execute_result"
    }
   ],
   "source": [
    "sportsDataHot.shape"
   ]
  },
  {
   "cell_type": "code",
   "execution_count": 85,
   "id": "a13dcfd3",
   "metadata": {},
   "outputs": [
    {
     "data": {
      "text/plain": [
       "(641, 8)"
      ]
     },
     "execution_count": 85,
     "metadata": {},
     "output_type": "execute_result"
    }
   ],
   "source": [
    "sportsDataNew2.shape"
   ]
  },
  {
   "cell_type": "code",
   "execution_count": 86,
   "id": "ac52ff66",
   "metadata": {},
   "outputs": [
    {
     "data": {
      "text/plain": [
       "(1348, 8)"
      ]
     },
     "execution_count": 86,
     "metadata": {},
     "output_type": "execute_result"
    }
   ],
   "source": [
    "sportsData = pd.concat([sportsDataHot, sportsDataNew, sportsDataNew2])\n",
    "sportsData.shape"
   ]
  },
  {
   "cell_type": "code",
   "execution_count": 87,
   "id": "22982ad8",
   "metadata": {},
   "outputs": [],
   "source": [
    "sportsData = sportsData.drop_duplicates(keep=False)"
   ]
  },
  {
   "cell_type": "code",
   "execution_count": 88,
   "id": "18d5157f",
   "metadata": {},
   "outputs": [
    {
     "data": {
      "text/plain": [
       "(1348, 8)"
      ]
     },
     "execution_count": 88,
     "metadata": {},
     "output_type": "execute_result"
    }
   ],
   "source": [
    "sportsData.shape"
   ]
  },
  {
   "cell_type": "code",
   "execution_count": 89,
   "id": "5738d242",
   "metadata": {},
   "outputs": [],
   "source": [
    "entriesCount.append(sportsData.shape[0])"
   ]
  },
  {
   "cell_type": "markdown",
   "id": "6ccc8455",
   "metadata": {},
   "source": [
    "## Cryptocurrency"
   ]
  },
  {
   "cell_type": "code",
   "execution_count": 90,
   "id": "a95167ba",
   "metadata": {},
   "outputs": [],
   "source": [
    "cryptoDataNew = pd.read_csv(\"../data/cryptoData.csv\")\n",
    "cryptoDataNew2 = pd.read_csv(\"../data/cryptoData3.csv\")\n",
    "cryptoDataHot = pd.read_csv(\"../data/cryptoData2.csv\")"
   ]
  },
  {
   "cell_type": "code",
   "execution_count": 91,
   "id": "e28a2acd",
   "metadata": {},
   "outputs": [
    {
     "data": {
      "text/plain": [
       "(323, 8)"
      ]
     },
     "execution_count": 91,
     "metadata": {},
     "output_type": "execute_result"
    }
   ],
   "source": [
    "cryptoDataNew.shape"
   ]
  },
  {
   "cell_type": "code",
   "execution_count": 92,
   "id": "1c5a8560",
   "metadata": {},
   "outputs": [
    {
     "data": {
      "text/plain": [
       "(309, 8)"
      ]
     },
     "execution_count": 92,
     "metadata": {},
     "output_type": "execute_result"
    }
   ],
   "source": [
    "cryptoDataHot.shape"
   ]
  },
  {
   "cell_type": "code",
   "execution_count": 93,
   "id": "0f98c330",
   "metadata": {},
   "outputs": [
    {
     "data": {
      "text/plain": [
       "(445, 8)"
      ]
     },
     "execution_count": 93,
     "metadata": {},
     "output_type": "execute_result"
    }
   ],
   "source": [
    "cryptoDataNew2.shape"
   ]
  },
  {
   "cell_type": "code",
   "execution_count": 94,
   "id": "9fb239cf",
   "metadata": {},
   "outputs": [
    {
     "data": {
      "text/plain": [
       "(1077, 8)"
      ]
     },
     "execution_count": 94,
     "metadata": {},
     "output_type": "execute_result"
    }
   ],
   "source": [
    "cryptoData = pd.concat([cryptoDataHot, cryptoDataNew, cryptoDataNew2])\n",
    "cryptoData.shape"
   ]
  },
  {
   "cell_type": "code",
   "execution_count": 95,
   "id": "8ee78eb0",
   "metadata": {},
   "outputs": [],
   "source": [
    "cryptoData = cryptoData.drop_duplicates(keep=False)"
   ]
  },
  {
   "cell_type": "code",
   "execution_count": 96,
   "id": "8794199b",
   "metadata": {},
   "outputs": [
    {
     "data": {
      "text/plain": [
       "(1077, 8)"
      ]
     },
     "execution_count": 96,
     "metadata": {},
     "output_type": "execute_result"
    }
   ],
   "source": [
    "cryptoData.shape"
   ]
  },
  {
   "cell_type": "code",
   "execution_count": 97,
   "id": "6697a656",
   "metadata": {},
   "outputs": [],
   "source": [
    "entriesCount.append(cryptoData.shape[0])"
   ]
  },
  {
   "cell_type": "markdown",
   "id": "440138fd",
   "metadata": {},
   "source": [
    "## Lawyer Talk"
   ]
  },
  {
   "cell_type": "code",
   "execution_count": 98,
   "id": "07d2fd3d",
   "metadata": {},
   "outputs": [],
   "source": [
    "lawyerDataNew = pd.read_csv(\"../data/lawyerData.csv\")\n",
    "lawyerDataHot = pd.read_csv(\"../data/lawyerData2.csv\")"
   ]
  },
  {
   "cell_type": "code",
   "execution_count": 99,
   "id": "570712fe",
   "metadata": {},
   "outputs": [
    {
     "data": {
      "text/plain": [
       "(719, 8)"
      ]
     },
     "execution_count": 99,
     "metadata": {},
     "output_type": "execute_result"
    }
   ],
   "source": [
    "lawyerDataNew.shape"
   ]
  },
  {
   "cell_type": "code",
   "execution_count": 100,
   "id": "de88c588",
   "metadata": {},
   "outputs": [
    {
     "data": {
      "text/plain": [
       "(799, 8)"
      ]
     },
     "execution_count": 100,
     "metadata": {},
     "output_type": "execute_result"
    }
   ],
   "source": [
    "lawyerDataHot.shape"
   ]
  },
  {
   "cell_type": "code",
   "execution_count": 101,
   "id": "94065840",
   "metadata": {},
   "outputs": [
    {
     "data": {
      "text/plain": [
       "(1518, 8)"
      ]
     },
     "execution_count": 101,
     "metadata": {},
     "output_type": "execute_result"
    }
   ],
   "source": [
    "lawyerData = pd.concat([lawyerDataHot, lawyerDataNew])\n",
    "lawyerData.shape"
   ]
  },
  {
   "cell_type": "code",
   "execution_count": 102,
   "id": "84c5234b",
   "metadata": {},
   "outputs": [],
   "source": [
    "lawyerData = lawyerData.drop_duplicates(keep=False)"
   ]
  },
  {
   "cell_type": "code",
   "execution_count": 103,
   "id": "b96b089a",
   "metadata": {},
   "outputs": [
    {
     "data": {
      "text/plain": [
       "(1518, 8)"
      ]
     },
     "execution_count": 103,
     "metadata": {},
     "output_type": "execute_result"
    }
   ],
   "source": [
    "lawyerData.shape"
   ]
  },
  {
   "cell_type": "code",
   "execution_count": 104,
   "id": "4a8b7b57",
   "metadata": {},
   "outputs": [],
   "source": [
    "entriesCount.append(lawyerData.shape[0])"
   ]
  },
  {
   "cell_type": "markdown",
   "id": "7f59e734",
   "metadata": {},
   "source": [
    "## Gaming"
   ]
  },
  {
   "cell_type": "code",
   "execution_count": 105,
   "id": "e849afaf",
   "metadata": {},
   "outputs": [],
   "source": [
    "gamingDataNew = pd.read_csv(\"../data/gamingData.csv\")\n",
    "gamingDataNew2 = pd.read_csv(\"../data/gamingData3.csv\")\n",
    "gamingDataNew3 = pd.read_csv(\"../data/gamingData4.csv\")\n",
    "gamingDataHot = pd.read_csv(\"../data/gamingData2.csv\")"
   ]
  },
  {
   "cell_type": "code",
   "execution_count": 106,
   "id": "f8a599a5",
   "metadata": {},
   "outputs": [
    {
     "data": {
      "text/plain": [
       "(463, 8)"
      ]
     },
     "execution_count": 106,
     "metadata": {},
     "output_type": "execute_result"
    }
   ],
   "source": [
    "gamingDataNew.shape"
   ]
  },
  {
   "cell_type": "code",
   "execution_count": 107,
   "id": "5ae0c2df",
   "metadata": {},
   "outputs": [
    {
     "data": {
      "text/plain": [
       "(368, 8)"
      ]
     },
     "execution_count": 107,
     "metadata": {},
     "output_type": "execute_result"
    }
   ],
   "source": [
    "gamingDataNew2.shape"
   ]
  },
  {
   "cell_type": "code",
   "execution_count": 108,
   "id": "b5dc75c9",
   "metadata": {},
   "outputs": [
    {
     "data": {
      "text/plain": [
       "(89, 8)"
      ]
     },
     "execution_count": 108,
     "metadata": {},
     "output_type": "execute_result"
    }
   ],
   "source": [
    "gamingDataHot.shape"
   ]
  },
  {
   "cell_type": "code",
   "execution_count": 109,
   "id": "b27ec263",
   "metadata": {},
   "outputs": [
    {
     "data": {
      "text/plain": [
       "(1288, 8)"
      ]
     },
     "execution_count": 109,
     "metadata": {},
     "output_type": "execute_result"
    }
   ],
   "source": [
    "gamingData = pd.concat([gamingDataHot, gamingDataNew, gamingDataNew2, gamingDataNew3])\n",
    "gamingData.shape"
   ]
  },
  {
   "cell_type": "code",
   "execution_count": 110,
   "id": "bda7d804",
   "metadata": {},
   "outputs": [],
   "source": [
    "gamingData = gamingData.drop_duplicates(keep=False)"
   ]
  },
  {
   "cell_type": "code",
   "execution_count": 111,
   "id": "6e84b1c8",
   "metadata": {},
   "outputs": [
    {
     "data": {
      "text/plain": [
       "(1088, 8)"
      ]
     },
     "execution_count": 111,
     "metadata": {},
     "output_type": "execute_result"
    }
   ],
   "source": [
    "gamingData.shape"
   ]
  },
  {
   "cell_type": "code",
   "execution_count": 112,
   "id": "1f8ab801",
   "metadata": {},
   "outputs": [],
   "source": [
    "entriesCount.append(gamingData.shape[0])"
   ]
  },
  {
   "cell_type": "markdown",
   "id": "219dbd14",
   "metadata": {},
   "source": [
    "## Calculations"
   ]
  },
  {
   "cell_type": "code",
   "execution_count": 113,
   "id": "68906600",
   "metadata": {},
   "outputs": [
    {
     "data": {
      "text/plain": [
       "[1962,\n",
       " 1670,\n",
       " 1732,\n",
       " 1579,\n",
       " 1275,\n",
       " 1173,\n",
       " 1461,\n",
       " 1565,\n",
       " 1548,\n",
       " 1487,\n",
       " 1683,\n",
       " 1348,\n",
       " 1077,\n",
       " 1518,\n",
       " 1088]"
      ]
     },
     "execution_count": 113,
     "metadata": {},
     "output_type": "execute_result"
    }
   ],
   "source": [
    "entriesCount"
   ]
  },
  {
   "cell_type": "code",
   "execution_count": 114,
   "id": "50169b54",
   "metadata": {},
   "outputs": [
    {
     "data": {
      "text/plain": [
       "15"
      ]
     },
     "execution_count": 114,
     "metadata": {},
     "output_type": "execute_result"
    }
   ],
   "source": [
    "len(entriesCount)"
   ]
  },
  {
   "cell_type": "code",
   "execution_count": 115,
   "id": "0fde214b",
   "metadata": {},
   "outputs": [
    {
     "data": {
      "text/plain": [
       "1077"
      ]
     },
     "execution_count": 115,
     "metadata": {},
     "output_type": "execute_result"
    }
   ],
   "source": [
    "min(entriesCount)"
   ]
  },
  {
   "cell_type": "code",
   "execution_count": null,
   "id": "6f355e0e",
   "metadata": {},
   "outputs": [],
   "source": []
  }
 ],
 "metadata": {
  "kernelspec": {
   "display_name": "Python 3 (ipykernel)",
   "language": "python",
   "name": "python3"
  },
  "language_info": {
   "codemirror_mode": {
    "name": "ipython",
    "version": 3
   },
   "file_extension": ".py",
   "mimetype": "text/x-python",
   "name": "python",
   "nbconvert_exporter": "python",
   "pygments_lexer": "ipython3",
   "version": "3.9.13"
  }
 },
 "nbformat": 4,
 "nbformat_minor": 5
}
